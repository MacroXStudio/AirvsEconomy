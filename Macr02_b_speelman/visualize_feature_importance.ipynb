{
 "cells": [
  {
   "cell_type": "code",
   "execution_count": 1,
   "metadata": {},
   "outputs": [],
   "source": [
    "import pandas as pd\n",
    "import numpy as np\n",
    "import matplotlib.pyplot as plt\n"
   ]
  },
  {
   "cell_type": "code",
   "execution_count": 2,
   "metadata": {},
   "outputs": [],
   "source": [
    "from sklearn.feature_selection import mutual_info_regression"
   ]
  },
  {
   "cell_type": "code",
   "execution_count": 3,
   "metadata": {},
   "outputs": [],
   "source": [
    "import seaborn as sns"
   ]
  },
  {
   "cell_type": "code",
   "execution_count": 4,
   "metadata": {},
   "outputs": [
    {
     "data": {
      "text/html": [
       "<div>\n",
       "<style scoped>\n",
       "    .dataframe tbody tr th:only-of-type {\n",
       "        vertical-align: middle;\n",
       "    }\n",
       "\n",
       "    .dataframe tbody tr th {\n",
       "        vertical-align: top;\n",
       "    }\n",
       "\n",
       "    .dataframe thead th {\n",
       "        text-align: right;\n",
       "    }\n",
       "</style>\n",
       "<table border=\"1\" class=\"dataframe\">\n",
       "  <thead>\n",
       "    <tr style=\"text-align: right;\">\n",
       "      <th></th>\n",
       "      <th>rate_Agartala</th>\n",
       "      <th>rate_Agra</th>\n",
       "      <th>rate_Aizwal</th>\n",
       "      <th>rate_Amritsar</th>\n",
       "      <th>rate_Asansol</th>\n",
       "      <th>rate_Aurangabad</th>\n",
       "      <th>rate_Bareilly</th>\n",
       "      <th>rate_Belgaum</th>\n",
       "      <th>rate_Bengaluru</th>\n",
       "      <th>rate_Bhilai</th>\n",
       "      <th>...</th>\n",
       "      <th>rate_Patna</th>\n",
       "      <th>rate_Prayagraj</th>\n",
       "      <th>rate_Puducherry</th>\n",
       "      <th>rate_Pune</th>\n",
       "      <th>rate_Shillong</th>\n",
       "      <th>rate_Solapur</th>\n",
       "      <th>rate_Thiruvananthapuram</th>\n",
       "      <th>rate_Varanasi</th>\n",
       "      <th>rate_Vijayawada</th>\n",
       "      <th>rate_Visakhapatnam</th>\n",
       "    </tr>\n",
       "  </thead>\n",
       "  <tbody>\n",
       "    <tr>\n",
       "      <th>0</th>\n",
       "      <td>31.11</td>\n",
       "      <td>4.03</td>\n",
       "      <td>5.01</td>\n",
       "      <td>6.69</td>\n",
       "      <td>8.63</td>\n",
       "      <td>3.47</td>\n",
       "      <td>4.03</td>\n",
       "      <td>1.79</td>\n",
       "      <td>1.79</td>\n",
       "      <td>6.72</td>\n",
       "      <td>...</td>\n",
       "      <td>4.07</td>\n",
       "      <td>4.03</td>\n",
       "      <td>4.44</td>\n",
       "      <td>3.47</td>\n",
       "      <td>10.86</td>\n",
       "      <td>3.47</td>\n",
       "      <td>6.88</td>\n",
       "      <td>4.03</td>\n",
       "      <td>5.79</td>\n",
       "      <td>5.79</td>\n",
       "    </tr>\n",
       "    <tr>\n",
       "      <th>1</th>\n",
       "      <td>30.23</td>\n",
       "      <td>3.93</td>\n",
       "      <td>5.87</td>\n",
       "      <td>9.64</td>\n",
       "      <td>8.83</td>\n",
       "      <td>3.83</td>\n",
       "      <td>3.93</td>\n",
       "      <td>3.32</td>\n",
       "      <td>3.32</td>\n",
       "      <td>2.61</td>\n",
       "      <td>...</td>\n",
       "      <td>7.05</td>\n",
       "      <td>3.93</td>\n",
       "      <td>2.02</td>\n",
       "      <td>3.83</td>\n",
       "      <td>7.92</td>\n",
       "      <td>3.83</td>\n",
       "      <td>8.27</td>\n",
       "      <td>3.93</td>\n",
       "      <td>3.97</td>\n",
       "      <td>3.97</td>\n",
       "    </tr>\n",
       "    <tr>\n",
       "      <th>2</th>\n",
       "      <td>15.19</td>\n",
       "      <td>3.14</td>\n",
       "      <td>6.00</td>\n",
       "      <td>9.01</td>\n",
       "      <td>7.92</td>\n",
       "      <td>3.36</td>\n",
       "      <td>3.14</td>\n",
       "      <td>3.97</td>\n",
       "      <td>3.97</td>\n",
       "      <td>3.20</td>\n",
       "      <td>...</td>\n",
       "      <td>10.21</td>\n",
       "      <td>3.14</td>\n",
       "      <td>3.94</td>\n",
       "      <td>3.36</td>\n",
       "      <td>6.72</td>\n",
       "      <td>3.36</td>\n",
       "      <td>9.80</td>\n",
       "      <td>3.14</td>\n",
       "      <td>4.22</td>\n",
       "      <td>4.22</td>\n",
       "    </tr>\n",
       "    <tr>\n",
       "      <th>3</th>\n",
       "      <td>13.55</td>\n",
       "      <td>5.56</td>\n",
       "      <td>5.57</td>\n",
       "      <td>7.16</td>\n",
       "      <td>6.24</td>\n",
       "      <td>4.88</td>\n",
       "      <td>5.56</td>\n",
       "      <td>2.28</td>\n",
       "      <td>2.28</td>\n",
       "      <td>2.06</td>\n",
       "      <td>...</td>\n",
       "      <td>7.97</td>\n",
       "      <td>5.56</td>\n",
       "      <td>1.65</td>\n",
       "      <td>4.88</td>\n",
       "      <td>4.04</td>\n",
       "      <td>4.88</td>\n",
       "      <td>6.67</td>\n",
       "      <td>5.56</td>\n",
       "      <td>3.65</td>\n",
       "      <td>3.65</td>\n",
       "    </tr>\n",
       "    <tr>\n",
       "      <th>4</th>\n",
       "      <td>23.68</td>\n",
       "      <td>5.21</td>\n",
       "      <td>5.14</td>\n",
       "      <td>7.26</td>\n",
       "      <td>7.37</td>\n",
       "      <td>3.74</td>\n",
       "      <td>5.21</td>\n",
       "      <td>1.64</td>\n",
       "      <td>1.64</td>\n",
       "      <td>4.34</td>\n",
       "      <td>...</td>\n",
       "      <td>5.07</td>\n",
       "      <td>5.21</td>\n",
       "      <td>2.27</td>\n",
       "      <td>3.74</td>\n",
       "      <td>10.54</td>\n",
       "      <td>3.74</td>\n",
       "      <td>5.67</td>\n",
       "      <td>5.21</td>\n",
       "      <td>4.01</td>\n",
       "      <td>4.01</td>\n",
       "    </tr>\n",
       "  </tbody>\n",
       "</table>\n",
       "<p>5 rows × 51 columns</p>\n",
       "</div>"
      ],
      "text/plain": [
       "   rate_Agartala  rate_Agra  rate_Aizwal  rate_Amritsar  rate_Asansol  \\\n",
       "0          31.11       4.03         5.01           6.69          8.63   \n",
       "1          30.23       3.93         5.87           9.64          8.83   \n",
       "2          15.19       3.14         6.00           9.01          7.92   \n",
       "3          13.55       5.56         5.57           7.16          6.24   \n",
       "4          23.68       5.21         5.14           7.26          7.37   \n",
       "\n",
       "   rate_Aurangabad  rate_Bareilly  rate_Belgaum  rate_Bengaluru  rate_Bhilai  \\\n",
       "0             3.47           4.03          1.79            1.79         6.72   \n",
       "1             3.83           3.93          3.32            3.32         2.61   \n",
       "2             3.36           3.14          3.97            3.97         3.20   \n",
       "3             4.88           5.56          2.28            2.28         2.06   \n",
       "4             3.74           5.21          1.64            1.64         4.34   \n",
       "\n",
       "   ...  rate_Patna  rate_Prayagraj  rate_Puducherry  rate_Pune  rate_Shillong  \\\n",
       "0  ...        4.07            4.03             4.44       3.47          10.86   \n",
       "1  ...        7.05            3.93             2.02       3.83           7.92   \n",
       "2  ...       10.21            3.14             3.94       3.36           6.72   \n",
       "3  ...        7.97            5.56             1.65       4.88           4.04   \n",
       "4  ...        5.07            5.21             2.27       3.74          10.54   \n",
       "\n",
       "   rate_Solapur  rate_Thiruvananthapuram  rate_Varanasi  rate_Vijayawada  \\\n",
       "0          3.47                     6.88           4.03             5.79   \n",
       "1          3.83                     8.27           3.93             3.97   \n",
       "2          3.36                     9.80           3.14             4.22   \n",
       "3          4.88                     6.67           5.56             3.65   \n",
       "4          3.74                     5.67           5.21             4.01   \n",
       "\n",
       "   rate_Visakhapatnam  \n",
       "0                5.79  \n",
       "1                3.97  \n",
       "2                4.22  \n",
       "3                3.65  \n",
       "4                4.01  \n",
       "\n",
       "[5 rows x 51 columns]"
      ]
     },
     "execution_count": 4,
     "metadata": {},
     "output_type": "execute_result"
    }
   ],
   "source": [
    "# load consolidated unemployment rate data exported by mx4.ipynb\n",
    "# Cities with incomplete data (not every month represented) were removed\n",
    "# removed cities: Dehradun, Gangtok, and Srinagar\n",
    "# Data is monthly from January 2018 to July 2022\n",
    "df = pd.read_csv('air_quality_macrox/unemployment_IN/city_unemployment_rates.csv')\n",
    "df.head()"
   ]
  },
  {
   "cell_type": "code",
   "execution_count": 5,
   "metadata": {},
   "outputs": [],
   "source": [
    "# function to help make list of all 51 city names\n",
    "def pull_out_city_name_after_(city):\n",
    "    i = city.find('_')\n",
    "    return city[i+1:]"
   ]
  },
  {
   "cell_type": "code",
   "execution_count": 6,
   "metadata": {},
   "outputs": [],
   "source": [
    "# make list of cities using columns of the dataframe\n",
    "city_list = [pull_out_city_name_after_(city) for city in list(df.columns)]"
   ]
  },
  {
   "cell_type": "code",
   "execution_count": 7,
   "metadata": {},
   "outputs": [],
   "source": [
    "city_series = pd.Series(city_list, name='city')"
   ]
  },
  {
   "cell_type": "code",
   "execution_count": 8,
   "metadata": {},
   "outputs": [],
   "source": [
    "date = pd.date_range(start='1/31/2018', end='7/31/2018', freq='M', name='date')"
   ]
  },
  {
   "cell_type": "code",
   "execution_count": 9,
   "metadata": {},
   "outputs": [],
   "source": [
    "# load data for NO2, SO2, PM2.5 and CO (January 2018 to July 2022) that has had\n",
    "# January 2018 to November 2020 Openweathermap.org data backfilled and output as csv's\n",
    "# using jupyter notebook code from mx3.ipynb\n",
    "df_no2 = pd.read_csv('no2_api_backfill.csv')\n",
    "df_so2 = pd.read_csv('so2_api_backfill.csv')\n",
    "df_pm = pd.read_csv('pm_api_backfill.csv')\n",
    "df_co = pd.read_csv('co_api_backfill.csv')"
   ]
  },
  {
   "cell_type": "code",
   "execution_count": 10,
   "metadata": {},
   "outputs": [],
   "source": [
    "# resolve different name in economic data csv file\n",
    "df_no2 = df_no2.rename(columns={'NO2_Vijaywada': 'NO2_Vijayawada'})\n",
    "df_so2 = df_so2.rename(columns={'SO2_Vijaywada': 'SO2_Vijayawada'})\n",
    "df_pm = df_pm.rename(columns={'PM2_5_Vijaywada': 'PM2_5_Vijayawada'})\n",
    "df_co = df_co.rename(columns={'CO_Vijaywada': 'CO_Vijayawada'})"
   ]
  },
  {
   "cell_type": "code",
   "execution_count": 11,
   "metadata": {},
   "outputs": [],
   "source": [
    "# pull out dates of pollutants as series\n",
    "pollutant_dates = pd.to_datetime(df_no2['date'])"
   ]
  },
  {
   "cell_type": "code",
   "execution_count": 12,
   "metadata": {},
   "outputs": [],
   "source": [
    "# define thresholds for pollutants\n",
    "threshold_no2 = 40\n",
    "threshold_so2 = 40\n",
    "threshold_pm = 30\n",
    "threshold_co = 1000\n",
    "\n",
    "mi_city_arr = np.zeros((51,8))\n",
    "\n",
    "for ii, city in enumerate(city_list):\n",
    "    # create X (feature matrix)\n",
    "    X = np.hstack((df_no2.filter(like=city, axis=1).to_numpy(),\n",
    "                   df_so2.filter(like=city, axis=1).to_numpy(),\n",
    "                   df_pm.filter(like= city, axis=1).to_numpy(),\n",
    "                   df_co.filter(like= city, axis=1).to_numpy()))\n",
    "    # apply thresholds to each column of feature matrix X\n",
    "    X[:,0][X[:,0] < threshold_no2] = 0.0\n",
    "    X[:,1][X[:,1] < threshold_so2] = 0.0\n",
    "    X[:,2][X[:,2] < threshold_pm] = 0.0\n",
    "    X[:,3][X[:,3] < threshold_co] = 0.0\n",
    "    # scale all elements to units of corresponding thresholds\n",
    "    # therefore divide each column by its threshold\n",
    "    # note: zero elements should remain zero\n",
    "    X[:,0] = X[:,0] / threshold_no2\n",
    "    X[:,1] = X[:,1] / threshold_so2\n",
    "    X[:,2] = X[:,2] / threshold_pm\n",
    "    X[:,3] = X[:,3] / threshold_co\n",
    "    \n",
    "    \n",
    "    \n",
    "    # Make X into dataframe so that pandas groupby can be used\n",
    "    df_X = pd.DataFrame(X)\n",
    "    # insert the date so that it can be a key used for Grouper\n",
    "    df_X.insert(0,'date',pollutant_dates)\n",
    "    # for each month, sum up the over threshold days scaled by\n",
    "    # the thresholds themselves. If the threshold is 80 and an entry\n",
    "    # is 120, that days entry will be 1.5\n",
    "    df_X = df_X.groupby(pd.Grouper(key='date', freq='1M')).sum()\n",
    "    # create new feature matrix X with monthly data points\n",
    "    X = df_X.to_numpy()\n",
    "    assert X.shape == (55,4), f'for {city} matrix shape: {X.shape} not equal to (55,4)'\n",
    "    # Add new features: the one month change in the pollutant concentration\n",
    "    # This will result in one less row for the overall feature data matrix\n",
    "    X_delta = X[1:,:] - X[:54,:]\n",
    "    # combine new difference features with original features\n",
    "    X_e = np.hstack((X[1:,:], X_delta))\n",
    "    assert X_e.shape == (54,8), f'for {city} matrix shape: {X_e.shape} not equal to (54,8)'\n",
    "    # create response, y - monthly unemployment data\n",
    "    y = df.filter(like=city, axis=1).to_numpy().flatten()\n",
    "    # remove 1st data point of y to be compatible with X_e containing the difference features\n",
    "    y_e = y[1:]\n",
    "    \n",
    "    # Investigate mutual information between the response, unemployment rate\n",
    "    # and each feature. The reported mutual information for each city will be scaled\n",
    "    # by the feature with the maximum value--the highest mutual information value will be one\n",
    "    # https://scikit-learn.org/stable/modules/generated/sklearn.feature_selection.mutual_info_regression.html\n",
    "    mi = mutual_info_regression(X_e, y_e, random_state=37)\n",
    "    \n",
    "    if np.max(mi) != 0.0:\n",
    "        mi_scaled = mi / np.max(mi)\n",
    "    else:\n",
    "        mi_scaled = mi\n",
    "    mi_city_arr[ii] = mi_scaled"
   ]
  },
  {
   "cell_type": "code",
   "execution_count": 13,
   "metadata": {},
   "outputs": [
    {
     "data": {
      "text/plain": [
       "(51, 8)"
      ]
     },
     "execution_count": 13,
     "metadata": {},
     "output_type": "execute_result"
    }
   ],
   "source": [
    "mi_city_arr.shape"
   ]
  },
  {
   "cell_type": "code",
   "execution_count": 14,
   "metadata": {},
   "outputs": [
    {
     "data": {
      "text/html": [
       "<div>\n",
       "<style scoped>\n",
       "    .dataframe tbody tr th:only-of-type {\n",
       "        vertical-align: middle;\n",
       "    }\n",
       "\n",
       "    .dataframe tbody tr th {\n",
       "        vertical-align: top;\n",
       "    }\n",
       "\n",
       "    .dataframe thead th {\n",
       "        text-align: right;\n",
       "    }\n",
       "</style>\n",
       "<table border=\"1\" class=\"dataframe\">\n",
       "  <thead>\n",
       "    <tr style=\"text-align: right;\">\n",
       "      <th></th>\n",
       "      <th>city</th>\n",
       "      <th>NO2</th>\n",
       "      <th>SO2</th>\n",
       "      <th>PM2_5</th>\n",
       "      <th>CO</th>\n",
       "      <th>delta_NO2</th>\n",
       "      <th>delta_SO2</th>\n",
       "      <th>delta_PM2_5</th>\n",
       "      <th>delta_CO</th>\n",
       "    </tr>\n",
       "  </thead>\n",
       "  <tbody>\n",
       "    <tr>\n",
       "      <th>0</th>\n",
       "      <td>Agartala</td>\n",
       "      <td>0.000000</td>\n",
       "      <td>0.0</td>\n",
       "      <td>1.0</td>\n",
       "      <td>0.346672</td>\n",
       "      <td>0.0</td>\n",
       "      <td>0.000000</td>\n",
       "      <td>0.088454</td>\n",
       "      <td>0.165304</td>\n",
       "    </tr>\n",
       "    <tr>\n",
       "      <th>1</th>\n",
       "      <td>Agra</td>\n",
       "      <td>0.000000</td>\n",
       "      <td>0.0</td>\n",
       "      <td>1.0</td>\n",
       "      <td>0.000000</td>\n",
       "      <td>0.0</td>\n",
       "      <td>0.000000</td>\n",
       "      <td>0.000000</td>\n",
       "      <td>0.000000</td>\n",
       "    </tr>\n",
       "    <tr>\n",
       "      <th>2</th>\n",
       "      <td>Aizwal</td>\n",
       "      <td>0.000000</td>\n",
       "      <td>0.0</td>\n",
       "      <td>1.0</td>\n",
       "      <td>0.000000</td>\n",
       "      <td>0.0</td>\n",
       "      <td>0.000000</td>\n",
       "      <td>0.353297</td>\n",
       "      <td>0.000000</td>\n",
       "    </tr>\n",
       "    <tr>\n",
       "      <th>3</th>\n",
       "      <td>Amritsar</td>\n",
       "      <td>0.480647</td>\n",
       "      <td>0.0</td>\n",
       "      <td>0.0</td>\n",
       "      <td>0.000000</td>\n",
       "      <td>1.0</td>\n",
       "      <td>0.000000</td>\n",
       "      <td>0.481382</td>\n",
       "      <td>0.000000</td>\n",
       "    </tr>\n",
       "    <tr>\n",
       "      <th>4</th>\n",
       "      <td>Asansol</td>\n",
       "      <td>0.125915</td>\n",
       "      <td>0.0</td>\n",
       "      <td>1.0</td>\n",
       "      <td>0.796477</td>\n",
       "      <td>0.0</td>\n",
       "      <td>0.492561</td>\n",
       "      <td>0.516533</td>\n",
       "      <td>0.000000</td>\n",
       "    </tr>\n",
       "  </tbody>\n",
       "</table>\n",
       "</div>"
      ],
      "text/plain": [
       "       city       NO2  SO2  PM2_5        CO  delta_NO2  delta_SO2  \\\n",
       "0  Agartala  0.000000  0.0    1.0  0.346672        0.0   0.000000   \n",
       "1      Agra  0.000000  0.0    1.0  0.000000        0.0   0.000000   \n",
       "2    Aizwal  0.000000  0.0    1.0  0.000000        0.0   0.000000   \n",
       "3  Amritsar  0.480647  0.0    0.0  0.000000        1.0   0.000000   \n",
       "4   Asansol  0.125915  0.0    1.0  0.796477        0.0   0.492561   \n",
       "\n",
       "   delta_PM2_5  delta_CO  \n",
       "0     0.088454  0.165304  \n",
       "1     0.000000  0.000000  \n",
       "2     0.353297  0.000000  \n",
       "3     0.481382  0.000000  \n",
       "4     0.516533  0.000000  "
      ]
     },
     "execution_count": 14,
     "metadata": {},
     "output_type": "execute_result"
    }
   ],
   "source": [
    "df_mi = pd.DataFrame(mi_city_arr,\n",
    "                     columns=['NO2','SO2','PM2_5','CO','delta_NO2','delta_SO2','delta_PM2_5','delta_CO'])\n",
    "df_mi.insert(loc=0, column='city', value=city_series)\n",
    "df_mi.head()"
   ]
  },
  {
   "cell_type": "code",
   "execution_count": 15,
   "metadata": {},
   "outputs": [],
   "source": [
    "df_mi.set_index('city', inplace=True)"
   ]
  },
  {
   "cell_type": "code",
   "execution_count": 16,
   "metadata": {},
   "outputs": [
    {
     "data": {
      "text/html": [
       "<div>\n",
       "<style scoped>\n",
       "    .dataframe tbody tr th:only-of-type {\n",
       "        vertical-align: middle;\n",
       "    }\n",
       "\n",
       "    .dataframe tbody tr th {\n",
       "        vertical-align: top;\n",
       "    }\n",
       "\n",
       "    .dataframe thead th {\n",
       "        text-align: right;\n",
       "    }\n",
       "</style>\n",
       "<table border=\"1\" class=\"dataframe\">\n",
       "  <thead>\n",
       "    <tr style=\"text-align: right;\">\n",
       "      <th></th>\n",
       "      <th>NO2</th>\n",
       "      <th>SO2</th>\n",
       "      <th>PM2_5</th>\n",
       "      <th>CO</th>\n",
       "      <th>delta_NO2</th>\n",
       "      <th>delta_SO2</th>\n",
       "      <th>delta_PM2_5</th>\n",
       "      <th>delta_CO</th>\n",
       "    </tr>\n",
       "    <tr>\n",
       "      <th>city</th>\n",
       "      <th></th>\n",
       "      <th></th>\n",
       "      <th></th>\n",
       "      <th></th>\n",
       "      <th></th>\n",
       "      <th></th>\n",
       "      <th></th>\n",
       "      <th></th>\n",
       "    </tr>\n",
       "  </thead>\n",
       "  <tbody>\n",
       "    <tr>\n",
       "      <th>Agartala</th>\n",
       "      <td>0.000000</td>\n",
       "      <td>0.0</td>\n",
       "      <td>1.0</td>\n",
       "      <td>0.346672</td>\n",
       "      <td>0.0</td>\n",
       "      <td>0.000000</td>\n",
       "      <td>0.088454</td>\n",
       "      <td>0.165304</td>\n",
       "    </tr>\n",
       "    <tr>\n",
       "      <th>Agra</th>\n",
       "      <td>0.000000</td>\n",
       "      <td>0.0</td>\n",
       "      <td>1.0</td>\n",
       "      <td>0.000000</td>\n",
       "      <td>0.0</td>\n",
       "      <td>0.000000</td>\n",
       "      <td>0.000000</td>\n",
       "      <td>0.000000</td>\n",
       "    </tr>\n",
       "    <tr>\n",
       "      <th>Aizwal</th>\n",
       "      <td>0.000000</td>\n",
       "      <td>0.0</td>\n",
       "      <td>1.0</td>\n",
       "      <td>0.000000</td>\n",
       "      <td>0.0</td>\n",
       "      <td>0.000000</td>\n",
       "      <td>0.353297</td>\n",
       "      <td>0.000000</td>\n",
       "    </tr>\n",
       "    <tr>\n",
       "      <th>Amritsar</th>\n",
       "      <td>0.480647</td>\n",
       "      <td>0.0</td>\n",
       "      <td>0.0</td>\n",
       "      <td>0.000000</td>\n",
       "      <td>1.0</td>\n",
       "      <td>0.000000</td>\n",
       "      <td>0.481382</td>\n",
       "      <td>0.000000</td>\n",
       "    </tr>\n",
       "    <tr>\n",
       "      <th>Asansol</th>\n",
       "      <td>0.125915</td>\n",
       "      <td>0.0</td>\n",
       "      <td>1.0</td>\n",
       "      <td>0.796477</td>\n",
       "      <td>0.0</td>\n",
       "      <td>0.492561</td>\n",
       "      <td>0.516533</td>\n",
       "      <td>0.000000</td>\n",
       "    </tr>\n",
       "  </tbody>\n",
       "</table>\n",
       "</div>"
      ],
      "text/plain": [
       "               NO2  SO2  PM2_5        CO  delta_NO2  delta_SO2  delta_PM2_5  \\\n",
       "city                                                                          \n",
       "Agartala  0.000000  0.0    1.0  0.346672        0.0   0.000000     0.088454   \n",
       "Agra      0.000000  0.0    1.0  0.000000        0.0   0.000000     0.000000   \n",
       "Aizwal    0.000000  0.0    1.0  0.000000        0.0   0.000000     0.353297   \n",
       "Amritsar  0.480647  0.0    0.0  0.000000        1.0   0.000000     0.481382   \n",
       "Asansol   0.125915  0.0    1.0  0.796477        0.0   0.492561     0.516533   \n",
       "\n",
       "          delta_CO  \n",
       "city                \n",
       "Agartala  0.165304  \n",
       "Agra      0.000000  \n",
       "Aizwal    0.000000  \n",
       "Amritsar  0.000000  \n",
       "Asansol   0.000000  "
      ]
     },
     "execution_count": 16,
     "metadata": {},
     "output_type": "execute_result"
    }
   ],
   "source": [
    "df_mi.head()"
   ]
  },
  {
   "cell_type": "code",
   "execution_count": 17,
   "metadata": {},
   "outputs": [
    {
     "data": {
      "text/plain": [
       "<AxesSubplot:ylabel='city'>"
      ]
     },
     "execution_count": 17,
     "metadata": {},
     "output_type": "execute_result"
    },
    {
     "data": {
      "image/png": "[encoded data removed]",
      "text/plain": [
       "<Figure size 1080x1080 with 2 Axes>"
      ]
     },
     "metadata": {
      "needs_background": "light"
     },
     "output_type": "display_data"
    }
   ],
   "source": [
    "plt.subplots(figsize=(15,15))\n",
    "sns.heatmap(df_mi, cmap=sns.cubehelix_palette(as_cmap=True))"
   ]
  },
  {
   "cell_type": "code",
   "execution_count": 18,
   "metadata": {},
   "outputs": [],
   "source": [
    "# Load random forest importance data for the 51 cities\n",
    "df_rf = pd.read_csv('random_forest_importance.csv')"
   ]
  },
  {
   "cell_type": "code",
   "execution_count": 19,
   "metadata": {},
   "outputs": [],
   "source": [
    "df_rf.set_index('city', inplace=True)"
   ]
  },
  {
   "cell_type": "code",
   "execution_count": 20,
   "metadata": {},
   "outputs": [
    {
     "data": {
      "text/plain": [
       "<AxesSubplot:ylabel='city'>"
      ]
     },
     "execution_count": 20,
     "metadata": {},
     "output_type": "execute_result"
    },
    {
     "data": {
      "image/png": "[encoded data removed]",
      "text/plain": [
       "<Figure size 1080x1080 with 2 Axes>"
      ]
     },
     "metadata": {
      "needs_background": "light"
     },
     "output_type": "display_data"
    }
   ],
   "source": [
    "plt.subplots(figsize=(15,15))\n",
    "sns.heatmap(df_rf, cmap=sns.cubehelix_palette(as_cmap=True))"
   ]
  },
  {
   "cell_type": "code",
   "execution_count": 23,
   "metadata": {},
   "outputs": [
    {
     "data": {
      "text/plain": [
       "array([30, 15, 51, 40, 29, 15, 51, 40], dtype=int64)"
      ]
     },
     "execution_count": 23,
     "metadata": {},
     "output_type": "execute_result"
    }
   ],
   "source": [
    "np.count_nonzero(df_rf.to_numpy(), axis=0)"
   ]
  },
  {
   "cell_type": "code",
   "execution_count": 24,
   "metadata": {},
   "outputs": [],
   "source": [
    "import plotly.express as px"
   ]
  },
  {
   "cell_type": "code",
   "execution_count": 27,
   "metadata": {},
   "outputs": [],
   "source": [
    "fig = px.imshow(df_mi, aspect='auto')"
   ]
  },
  {
   "cell_type": "code",
   "execution_count": 28,
   "metadata": {},
   "outputs": [
    {
     "data": {
      "application/vnd.plotly.v1+json": {
       "config": {
        "plotlyServerURL": "https://plot.ly"
       },
       "data": [
        {
         "coloraxis": "coloraxis",
         "hovertemplate": "x: %{x}<br>city: %{y}<br>color: %{z}<extra></extra>",
         "name": "0",
         "type": "heatmap",
         "x": [
          "NO2",
          "SO2",
          "PM2_5",
          "CO",
          "delta_NO2",
          "delta_SO2",
          "delta_PM2_5",
          "delta_CO"
         ],
         "xaxis": "x",
         "y": [
          "Agartala",
          "Agra",
          "Aizwal",
          "Amritsar",
          "Asansol",
          "Aurangabad",
          "Bareilly",
          "Belgaum",
          "Bengaluru",
          "Bhilai",
          "Bhopal",
          "Chandigarh",
          "Chennai",
          "Coimbatore",
          "Delhi",
          "Faridabad",
          "Gandhinagar",
          "Ghaziabad",
          "Gorakhpur",
          "Gwalior",
          "Hyderabad",
          "Imphal",
          "Indore",
          "Jabalpur",
          "Jaipur",
          "Jalandhar",
          "Jodhpur",
          "Kanpur",
          "Kochi",
          "Kohima",
          "Kolkata",
          "Kota",
          "Kozhikode",
          "Lucknow",
          "Ludhiana",
          "Mangalore",
          "Meerut",
          "Moradabad",
          "Mumbai",
          "Mysuru",
          "Nashik",
          "Patna",
          "Prayagraj",
          "Puducherry",
          "Pune",
          "Shillong",
          "Solapur",
          "Thiruvananthapuram",
          "Varanasi",
          "Vijayawada",
          "Visakhapatnam"
         ],
         "yaxis": "y",
         "z": [
          [
           0,
           0,
           1,
           0.3466716699017379,
           0,
           0,
           0.0884542897116177,
           0.16530444450280038
          ],
          [
           0,
           0,
           1,
           0,
           0,
           0,
           0,
           0
          ],
          [
           0,
           0,
           1,
           0,
           0,
           0,
           0.3532966412212811,
           0
          ],
          [
           0.48064661938217207,
           0,
           0,
           0,
           1,
           0,
           0.481382406013216,
           0
          ],
          [
           0.12591455099876733,
           0,
           1,
           0.7964774412424163,
           0,
           0.49256117976919783,
           0.5165332779654599,
           0
          ],
          [
           0,
           0,
           0,
           0,
           0,
           0,
           1,
           0
          ],
          [
           0.00237291860570579,
           0,
           1,
           0,
           0,
           0,
           0.02915782981095619,
           0
          ],
          [
           0,
           0,
           0.13100260835992023,
           0.22555736566854206,
           0,
           0,
           1,
           0.1058943015291607
          ],
          [
           0.03490545450720523,
           0,
           0,
           0.8858154819530256,
           1,
           0,
           0,
           0
          ],
          [
           0.2220483190232509,
           0,
           0,
           0,
           0.6405047581580475,
           0.4849196660351869,
           0.2835021699699761,
           1
          ],
          [
           0,
           0,
           0.0957969677889393,
           0.455360438716536,
           0,
           0,
           1,
           0
          ],
          [
           0.9072454837751676,
           0.09062422362690332,
           0,
           0,
           1,
           0.14106600847583842,
           0,
           0
          ],
          [
           0,
           0.4808185158523006,
           1,
           0.13817213641356502,
           0,
           0.5819059197418783,
           0.020976640490294025,
           0
          ],
          [
           0,
           0,
           1,
           0,
           0,
           0,
           0,
           0
          ],
          [
           0.8471792480482797,
           1,
           0,
           0,
           0,
           0,
           0,
           0.9525955613982532
          ],
          [
           0.1709727554929101,
           1,
           0,
           0,
           0,
           0,
           0,
           0
          ],
          [
           0.28156979511646213,
           0.3021375338680827,
           1,
           0.3329153721156801,
           0.15225296822713602,
           0.48852798120259466,
           0.28146328929130865,
           0.5611391639277689
          ],
          [
           0,
           0,
           0,
           0,
           0,
           0,
           0,
           0
          ],
          [
           0.16285424212709,
           3.5160430453094107e-15,
           1,
           0,
           0.20684898351719963,
           0,
           0.036523539165259154,
           0
          ],
          [
           0,
           0,
           0.2116004276502161,
           0,
           0,
           0,
           1,
           0.32347590756158484
          ],
          [
           0,
           0,
           0.7511982785476081,
           0,
           0,
           1,
           0.1409351625687087,
           0.820088860078027
          ],
          [
           0,
           0,
           0,
           0,
           0,
           0,
           0,
           1
          ],
          [
           0,
           0,
           0.9263506428761926,
           1,
           0,
           0,
           0,
           0.31556516093380194
          ],
          [
           0,
           0,
           1,
           0.1370132226200342,
           0,
           0,
           0.31577960471887484,
           0
          ],
          [
           0,
           0,
           1,
           0.2812287210649846,
           0.020100521069001523,
           0,
           0,
           0
          ],
          [
           0.5807290508018812,
           0,
           1,
           0,
           0.825357407317293,
           0,
           0,
           0
          ],
          [
           0.06388424251549245,
           0,
           1,
           0.01534347967874278,
           0.12055205851477187,
           0,
           0,
           0.04676333015992103
          ],
          [
           0,
           0,
           0,
           0,
           0,
           0,
           0,
           0
          ],
          [
           0,
           0,
           1,
           0,
           0,
           0,
           0.36367244804675525,
           0
          ],
          [
           0,
           0,
           0,
           0,
           0,
           0,
           0,
           0
          ],
          [
           0.5659837607046935,
           0,
           0,
           1,
           0.11398454891174332,
           0.7062627660854045,
           0,
           0.4151634150488586
          ],
          [
           5.9888269576154814e-15,
           0.46349265449310145,
           0,
           0,
           0,
           1,
           0,
           0.13073954405775307
          ],
          [
           0,
           0,
           1,
           0.2577519575794374,
           0,
           0,
           0,
           0.5243386061019704
          ],
          [
           1,
           0,
           0,
           0,
           0.8953099687187117,
           0,
           0,
           0
          ],
          [
           0.6508278193009377,
           0,
           0.30284131707938067,
           1,
           0.08034860348482864,
           0,
           0,
           0
          ],
          [
           0,
           0,
           0,
           0,
           0,
           0,
           0,
           0
          ],
          [
           0,
           3.4813361047655156e-15,
           1,
           0,
           0,
           0.04565147910602997,
           0.021069347461589148,
           0
          ],
          [
           0.11653134936761844,
           0,
           0.3756361942355339,
           0.4510901346305057,
           0,
           0,
           1,
           0
          ],
          [
           0.21870026068616855,
           0.26486656139649517,
           0,
           1,
           0,
           0.2544377664013529,
           0,
           0.12210872874605437
          ],
          [
           0.31597391029206207,
           0,
           0,
           0.14295951328934406,
           0,
           0,
           0,
           1
          ],
          [
           5.1142283260135985e-15,
           0,
           0,
           1,
           0.10014880502105589,
           0,
           0.41620181879014684,
           0.03433668606063547
          ],
          [
           0,
           0,
           0,
           0,
           0,
           0,
           0,
           0
          ],
          [
           0.09245434669811509,
           0,
           0.24046122500657743,
           0.4100613806267237,
           0,
           0,
           1,
           0.07402113514205892
          ],
          [
           0,
           0,
           0,
           0.40926640926642427,
           0,
           0,
           0,
           1
          ],
          [
           0,
           0.02812884784079875,
           1,
           0,
           0,
           0,
           0,
           0.5192548814046404
          ],
          [
           0,
           0,
           0,
           0,
           0,
           0,
           1,
           0
          ],
          [
           0,
           0,
           1,
           0,
           0,
           0,
           0.8517245775240452,
           0
          ],
          [
           0,
           0,
           0,
           0,
           0,
           0,
           0,
           0
          ],
          [
           0,
           0,
           0,
           0,
           1,
           0,
           0,
           0
          ],
          [
           0,
           0,
           0.6807773213032083,
           0.08065820674087394,
           0,
           0,
           0,
           1
          ],
          [
           0,
           0,
           0.6384354336073675,
           0,
           1,
           0,
           0.5836703646673094,
           0
          ]
         ]
        }
       ],
       "layout": {
        "coloraxis": {
         "colorscale": [
          [
           0,
           "#0d0887"
          ],
          [
           0.1111111111111111,
           "#46039f"
          ],
          [
           0.2222222222222222,
           "#7201a8"
          ],
          [
           0.3333333333333333,
           "#9c179e"
          ],
          [
           0.4444444444444444,
           "#bd3786"
          ],
          [
           0.5555555555555556,
           "#d8576b"
          ],
          [
           0.6666666666666666,
           "#ed7953"
          ],
          [
           0.7777777777777778,
           "#fb9f3a"
          ],
          [
           0.8888888888888888,
           "#fdca26"
          ],
          [
           1,
           "#f0f921"
          ]
         ]
        },
        "margin": {
         "t": 60
        },
        "template": {
         "data": {
          "bar": [
           {
            "error_x": {
             "color": "#2a3f5f"
            },
            "error_y": {
             "color": "#2a3f5f"
            },
            "marker": {
             "line": {
              "color": "#E5ECF6",
              "width": 0.5
             },
             "pattern": {
              "fillmode": "overlay",
              "size": 10,
              "solidity": 0.2
             }
            },
            "type": "bar"
           }
          ],
          "barpolar": [
           {
            "marker": {
             "line": {
              "color": "#E5ECF6",
              "width": 0.5
             },
             "pattern": {
              "fillmode": "overlay",
              "size": 10,
              "solidity": 0.2
             }
            },
            "type": "barpolar"
           }
          ],
          "carpet": [
           {
            "aaxis": {
             "endlinecolor": "#2a3f5f",
             "gridcolor": "white",
             "linecolor": "white",
             "minorgridcolor": "white",
             "startlinecolor": "#2a3f5f"
            },
            "baxis": {
             "endlinecolor": "#2a3f5f",
             "gridcolor": "white",
             "linecolor": "white",
             "minorgridcolor": "white",
             "startlinecolor": "#2a3f5f"
            },
            "type": "carpet"
           }
          ],
          "choropleth": [
           {
            "colorbar": {
             "outlinewidth": 0,
             "ticks": ""
            },
            "type": "choropleth"
           }
          ],
          "contour": [
           {
            "colorbar": {
             "outlinewidth": 0,
             "ticks": ""
            },
            "colorscale": [
             [
              0,
              "#0d0887"
             ],
             [
              0.1111111111111111,
              "#46039f"
             ],
             [
              0.2222222222222222,
              "#7201a8"
             ],
             [
              0.3333333333333333,
              "#9c179e"
             ],
             [
              0.4444444444444444,
              "#bd3786"
             ],
             [
              0.5555555555555556,
              "#d8576b"
             ],
             [
              0.6666666666666666,
              "#ed7953"
             ],
             [
              0.7777777777777778,
              "#fb9f3a"
             ],
             [
              0.8888888888888888,
              "#fdca26"
             ],
             [
              1,
              "#f0f921"
             ]
            ],
            "type": "contour"
           }
          ],
          "contourcarpet": [
           {
            "colorbar": {
             "outlinewidth": 0,
             "ticks": ""
            },
            "type": "contourcarpet"
           }
          ],
          "heatmap": [
           {
            "colorbar": {
             "outlinewidth": 0,
             "ticks": ""
            },
            "colorscale": [
             [
              0,
              "#0d0887"
             ],
             [
              0.1111111111111111,
              "#46039f"
             ],
             [
              0.2222222222222222,
              "#7201a8"
             ],
             [
              0.3333333333333333,
              "#9c179e"
             ],
             [
              0.4444444444444444,
              "#bd3786"
             ],
             [
              0.5555555555555556,
              "#d8576b"
             ],
             [
              0.6666666666666666,
              "#ed7953"
             ],
             [
              0.7777777777777778,
              "#fb9f3a"
             ],
             [
              0.8888888888888888,
              "#fdca26"
             ],
             [
              1,
              "#f0f921"
             ]
            ],
            "type": "heatmap"
           }
          ],
          "heatmapgl": [
           {
            "colorbar": {
             "outlinewidth": 0,
             "ticks": ""
            },
            "colorscale": [
             [
              0,
              "#0d0887"
             ],
             [
              0.1111111111111111,
              "#46039f"
             ],
             [
              0.2222222222222222,
              "#7201a8"
             ],
             [
              0.3333333333333333,
              "#9c179e"
             ],
             [
              0.4444444444444444,
              "#bd3786"
             ],
             [
              0.5555555555555556,
              "#d8576b"
             ],
             [
              0.6666666666666666,
              "#ed7953"
             ],
             [
              0.7777777777777778,
              "#fb9f3a"
             ],
             [
              0.8888888888888888,
              "#fdca26"
             ],
             [
              1,
              "#f0f921"
             ]
            ],
            "type": "heatmapgl"
           }
          ],
          "histogram": [
           {
            "marker": {
             "pattern": {
              "fillmode": "overlay",
              "size": 10,
              "solidity": 0.2
             }
            },
            "type": "histogram"
           }
          ],
          "histogram2d": [
           {
            "colorbar": {
             "outlinewidth": 0,
             "ticks": ""
            },
            "colorscale": [
             [
              0,
              "#0d0887"
             ],
             [
              0.1111111111111111,
              "#46039f"
             ],
             [
              0.2222222222222222,
              "#7201a8"
             ],
             [
              0.3333333333333333,
              "#9c179e"
             ],
             [
              0.4444444444444444,
              "#bd3786"
             ],
             [
              0.5555555555555556,
              "#d8576b"
             ],
             [
              0.6666666666666666,
              "#ed7953"
             ],
             [
              0.7777777777777778,
              "#fb9f3a"
             ],
             [
              0.8888888888888888,
              "#fdca26"
             ],
             [
              1,
              "#f0f921"
             ]
            ],
            "type": "histogram2d"
           }
          ],
          "histogram2dcontour": [
           {
            "colorbar": {
             "outlinewidth": 0,
             "ticks": ""
            },
            "colorscale": [
             [
              0,
              "#0d0887"
             ],
             [
              0.1111111111111111,
              "#46039f"
             ],
             [
              0.2222222222222222,
              "#7201a8"
             ],
             [
              0.3333333333333333,
              "#9c179e"
             ],
             [
              0.4444444444444444,
              "#bd3786"
             ],
             [
              0.5555555555555556,
              "#d8576b"
             ],
             [
              0.6666666666666666,
              "#ed7953"
             ],
             [
              0.7777777777777778,
              "#fb9f3a"
             ],
             [
              0.8888888888888888,
              "#fdca26"
             ],
             [
              1,
              "#f0f921"
             ]
            ],
            "type": "histogram2dcontour"
           }
          ],
          "mesh3d": [
           {
            "colorbar": {
             "outlinewidth": 0,
             "ticks": ""
            },
            "type": "mesh3d"
           }
          ],
          "parcoords": [
           {
            "line": {
             "colorbar": {
              "outlinewidth": 0,
              "ticks": ""
             }
            },
            "type": "parcoords"
           }
          ],
          "pie": [
           {
            "automargin": true,
            "type": "pie"
           }
          ],
          "scatter": [
           {
            "fillpattern": {
             "fillmode": "overlay",
             "size": 10,
             "solidity": 0.2
            },
            "type": "scatter"
           }
          ],
          "scatter3d": [
           {
            "line": {
             "colorbar": {
              "outlinewidth": 0,
              "ticks": ""
             }
            },
            "marker": {
             "colorbar": {
              "outlinewidth": 0,
              "ticks": ""
             }
            },
            "type": "scatter3d"
           }
          ],
          "scattercarpet": [
           {
            "marker": {
             "colorbar": {
              "outlinewidth": 0,
              "ticks": ""
             }
            },
            "type": "scattercarpet"
           }
          ],
          "scattergeo": [
           {
            "marker": {
             "colorbar": {
              "outlinewidth": 0,
              "ticks": ""
             }
            },
            "type": "scattergeo"
           }
          ],
          "scattergl": [
           {
            "marker": {
             "colorbar": {
              "outlinewidth": 0,
              "ticks": ""
             }
            },
            "type": "scattergl"
           }
          ],
          "scattermapbox": [
           {
            "marker": {
             "colorbar": {
              "outlinewidth": 0,
              "ticks": ""
             }
            },
            "type": "scattermapbox"
           }
          ],
          "scatterpolar": [
           {
            "marker": {
             "colorbar": {
              "outlinewidth": 0,
              "ticks": ""
             }
            },
            "type": "scatterpolar"
           }
          ],
          "scatterpolargl": [
           {
            "marker": {
             "colorbar": {
              "outlinewidth": 0,
              "ticks": ""
             }
            },
            "type": "scatterpolargl"
           }
          ],
          "scatterternary": [
           {
            "marker": {
             "colorbar": {
              "outlinewidth": 0,
              "ticks": ""
             }
            },
            "type": "scatterternary"
           }
          ],
          "surface": [
           {
            "colorbar": {
             "outlinewidth": 0,
             "ticks": ""
            },
            "colorscale": [
             [
              0,
              "#0d0887"
             ],
             [
              0.1111111111111111,
              "#46039f"
             ],
             [
              0.2222222222222222,
              "#7201a8"
             ],
             [
              0.3333333333333333,
              "#9c179e"
             ],
             [
              0.4444444444444444,
              "#bd3786"
             ],
             [
              0.5555555555555556,
              "#d8576b"
             ],
             [
              0.6666666666666666,
              "#ed7953"
             ],
             [
              0.7777777777777778,
              "#fb9f3a"
             ],
             [
              0.8888888888888888,
              "#fdca26"
             ],
             [
              1,
              "#f0f921"
             ]
            ],
            "type": "surface"
           }
          ],
          "table": [
           {
            "cells": {
             "fill": {
              "color": "#EBF0F8"
             },
             "line": {
              "color": "white"
             }
            },
            "header": {
             "fill": {
              "color": "#C8D4E3"
             },
             "line": {
              "color": "white"
             }
            },
            "type": "table"
           }
          ]
         },
         "layout": {
          "annotationdefaults": {
           "arrowcolor": "#2a3f5f",
           "arrowhead": 0,
           "arrowwidth": 1
          },
          "autotypenumbers": "strict",
          "coloraxis": {
           "colorbar": {
            "outlinewidth": 0,
            "ticks": ""
           }
          },
          "colorscale": {
           "diverging": [
            [
             0,
             "#8e0152"
            ],
            [
             0.1,
             "#c51b7d"
            ],
            [
             0.2,
             "#de77ae"
            ],
            [
             0.3,
             "#f1b6da"
            ],
            [
             0.4,
             "#fde0ef"
            ],
            [
             0.5,
             "#f7f7f7"
            ],
            [
             0.6,
             "#e6f5d0"
            ],
            [
             0.7,
             "#b8e186"
            ],
            [
             0.8,
             "#7fbc41"
            ],
            [
             0.9,
             "#4d9221"
            ],
            [
             1,
             "#276419"
            ]
           ],
           "sequential": [
            [
             0,
             "#0d0887"
            ],
            [
             0.1111111111111111,
             "#46039f"
            ],
            [
             0.2222222222222222,
             "#7201a8"
            ],
            [
             0.3333333333333333,
             "#9c179e"
            ],
            [
             0.4444444444444444,
             "#bd3786"
            ],
            [
             0.5555555555555556,
             "#d8576b"
            ],
            [
             0.6666666666666666,
             "#ed7953"
            ],
            [
             0.7777777777777778,
             "#fb9f3a"
            ],
            [
             0.8888888888888888,
             "#fdca26"
            ],
            [
             1,
             "#f0f921"
            ]
           ],
           "sequentialminus": [
            [
             0,
             "#0d0887"
            ],
            [
             0.1111111111111111,
             "#46039f"
            ],
            [
             0.2222222222222222,
             "#7201a8"
            ],
            [
             0.3333333333333333,
             "#9c179e"
            ],
            [
             0.4444444444444444,
             "#bd3786"
            ],
            [
             0.5555555555555556,
             "#d8576b"
            ],
            [
             0.6666666666666666,
             "#ed7953"
            ],
            [
             0.7777777777777778,
             "#fb9f3a"
            ],
            [
             0.8888888888888888,
             "#fdca26"
            ],
            [
             1,
             "#f0f921"
            ]
           ]
          },
          "colorway": [
           "#636efa",
           "#EF553B",
           "#00cc96",
           "#ab63fa",
           "#FFA15A",
           "#19d3f3",
           "#FF6692",
           "#B6E880",
           "#FF97FF",
           "#FECB52"
          ],
          "font": {
           "color": "#2a3f5f"
          },
          "geo": {
           "bgcolor": "white",
           "lakecolor": "white",
           "landcolor": "#E5ECF6",
           "showlakes": true,
           "showland": true,
           "subunitcolor": "white"
          },
          "hoverlabel": {
           "align": "left"
          },
          "hovermode": "closest",
          "mapbox": {
           "style": "light"
          },
          "paper_bgcolor": "white",
          "plot_bgcolor": "#E5ECF6",
          "polar": {
           "angularaxis": {
            "gridcolor": "white",
            "linecolor": "white",
            "ticks": ""
           },
           "bgcolor": "#E5ECF6",
           "radialaxis": {
            "gridcolor": "white",
            "linecolor": "white",
            "ticks": ""
           }
          },
          "scene": {
           "xaxis": {
            "backgroundcolor": "#E5ECF6",
            "gridcolor": "white",
            "gridwidth": 2,
            "linecolor": "white",
            "showbackground": true,
            "ticks": "",
            "zerolinecolor": "white"
           },
           "yaxis": {
            "backgroundcolor": "#E5ECF6",
            "gridcolor": "white",
            "gridwidth": 2,
            "linecolor": "white",
            "showbackground": true,
            "ticks": "",
            "zerolinecolor": "white"
           },
           "zaxis": {
            "backgroundcolor": "#E5ECF6",
            "gridcolor": "white",
            "gridwidth": 2,
            "linecolor": "white",
            "showbackground": true,
            "ticks": "",
            "zerolinecolor": "white"
           }
          },
          "shapedefaults": {
           "line": {
            "color": "#2a3f5f"
           }
          },
          "ternary": {
           "aaxis": {
            "gridcolor": "white",
            "linecolor": "white",
            "ticks": ""
           },
           "baxis": {
            "gridcolor": "white",
            "linecolor": "white",
            "ticks": ""
           },
           "bgcolor": "#E5ECF6",
           "caxis": {
            "gridcolor": "white",
            "linecolor": "white",
            "ticks": ""
           }
          },
          "title": {
           "x": 0.05
          },
          "xaxis": {
           "automargin": true,
           "gridcolor": "white",
           "linecolor": "white",
           "ticks": "",
           "title": {
            "standoff": 15
           },
           "zerolinecolor": "white",
           "zerolinewidth": 2
          },
          "yaxis": {
           "automargin": true,
           "gridcolor": "white",
           "linecolor": "white",
           "ticks": "",
           "title": {
            "standoff": 15
           },
           "zerolinecolor": "white",
           "zerolinewidth": 2
          }
         }
        },
        "xaxis": {
         "anchor": "y",
         "domain": [
          0,
          1
         ]
        },
        "yaxis": {
         "anchor": "x",
         "autorange": "reversed",
         "domain": [
          0,
          1
         ],
         "title": {
          "text": "city"
         }
        }
       }
      },
      "text/html": [
       "<div>                            <div id=\"df65eb78-aad0-46f4-9ea1-bff698dc01f9\" class=\"plotly-graph-div\" style=\"height:525px; width:100%;\"></div>            <script type=\"text/javascript\">                require([\"plotly\"], function(Plotly) {                    window.PLOTLYENV=window.PLOTLYENV || {};                                    if (document.getElementById(\"df65eb78-aad0-46f4-9ea1-bff698dc01f9\")) {                    Plotly.newPlot(                        \"df65eb78-aad0-46f4-9ea1-bff698dc01f9\",                        [{\"coloraxis\":\"coloraxis\",\"name\":\"0\",\"x\":[\"NO2\",\"SO2\",\"PM2_5\",\"CO\",\"delta_NO2\",\"delta_SO2\",\"delta_PM2_5\",\"delta_CO\"],\"y\":[\"Agartala\",\"Agra\",\"Aizwal\",\"Amritsar\",\"Asansol\",\"Aurangabad\",\"Bareilly\",\"Belgaum\",\"Bengaluru\",\"Bhilai\",\"Bhopal\",\"Chandigarh\",\"Chennai\",\"Coimbatore\",\"Delhi\",\"Faridabad\",\"Gandhinagar\",\"Ghaziabad\",\"Gorakhpur\",\"Gwalior\",\"Hyderabad\",\"Imphal\",\"Indore\",\"Jabalpur\",\"Jaipur\",\"Jalandhar\",\"Jodhpur\",\"Kanpur\",\"Kochi\",\"Kohima\",\"Kolkata\",\"Kota\",\"Kozhikode\",\"Lucknow\",\"Ludhiana\",\"Mangalore\",\"Meerut\",\"Moradabad\",\"Mumbai\",\"Mysuru\",\"Nashik\",\"Patna\",\"Prayagraj\",\"Puducherry\",\"Pune\",\"Shillong\",\"Solapur\",\"Thiruvananthapuram\",\"Varanasi\",\"Vijayawada\",\"Visakhapatnam\"],\"z\":[[0.0,0.0,1.0,0.3466716699017379,0.0,0.0,0.0884542897116177,0.16530444450280038],[0.0,0.0,1.0,0.0,0.0,0.0,0.0,0.0],[0.0,0.0,1.0,0.0,0.0,0.0,0.3532966412212811,0.0],[0.48064661938217207,0.0,0.0,0.0,1.0,0.0,0.481382406013216,0.0],[0.12591455099876733,0.0,1.0,0.7964774412424163,0.0,0.49256117976919783,0.5165332779654599,0.0],[0.0,0.0,0.0,0.0,0.0,0.0,1.0,0.0],[0.00237291860570579,0.0,1.0,0.0,0.0,0.0,0.02915782981095619,0.0],[0.0,0.0,0.13100260835992023,0.22555736566854206,0.0,0.0,1.0,0.1058943015291607],[0.03490545450720523,0.0,0.0,0.8858154819530256,1.0,0.0,0.0,0.0],[0.2220483190232509,0.0,0.0,0.0,0.6405047581580475,0.4849196660351869,0.2835021699699761,1.0],[0.0,0.0,0.0957969677889393,0.455360438716536,0.0,0.0,1.0,0.0],[0.9072454837751676,0.09062422362690332,0.0,0.0,1.0,0.14106600847583842,0.0,0.0],[0.0,0.4808185158523006,1.0,0.13817213641356502,0.0,0.5819059197418783,0.020976640490294025,0.0],[0.0,0.0,1.0,0.0,0.0,0.0,0.0,0.0],[0.8471792480482797,1.0,0.0,0.0,0.0,0.0,0.0,0.9525955613982532],[0.1709727554929101,1.0,0.0,0.0,0.0,0.0,0.0,0.0],[0.28156979511646213,0.3021375338680827,1.0,0.3329153721156801,0.15225296822713602,0.48852798120259466,0.28146328929130865,0.5611391639277689],[0.0,0.0,0.0,0.0,0.0,0.0,0.0,0.0],[0.16285424212709,3.5160430453094107e-15,1.0,0.0,0.20684898351719963,0.0,0.036523539165259154,0.0],[0.0,0.0,0.2116004276502161,0.0,0.0,0.0,1.0,0.32347590756158484],[0.0,0.0,0.7511982785476081,0.0,0.0,1.0,0.1409351625687087,0.820088860078027],[0.0,0.0,0.0,0.0,0.0,0.0,0.0,1.0],[0.0,0.0,0.9263506428761926,1.0,0.0,0.0,0.0,0.31556516093380194],[0.0,0.0,1.0,0.1370132226200342,0.0,0.0,0.31577960471887484,0.0],[0.0,0.0,1.0,0.2812287210649846,0.020100521069001523,0.0,0.0,0.0],[0.5807290508018812,0.0,1.0,0.0,0.825357407317293,0.0,0.0,0.0],[0.06388424251549245,0.0,1.0,0.01534347967874278,0.12055205851477187,0.0,0.0,0.04676333015992103],[0.0,0.0,0.0,0.0,0.0,0.0,0.0,0.0],[0.0,0.0,1.0,0.0,0.0,0.0,0.36367244804675525,0.0],[0.0,0.0,0.0,0.0,0.0,0.0,0.0,0.0],[0.5659837607046935,0.0,0.0,1.0,0.11398454891174332,0.7062627660854045,0.0,0.4151634150488586],[5.9888269576154814e-15,0.46349265449310145,0.0,0.0,0.0,1.0,0.0,0.13073954405775307],[0.0,0.0,1.0,0.2577519575794374,0.0,0.0,0.0,0.5243386061019704],[1.0,0.0,0.0,0.0,0.8953099687187117,0.0,0.0,0.0],[0.6508278193009377,0.0,0.30284131707938067,1.0,0.08034860348482864,0.0,0.0,0.0],[0.0,0.0,0.0,0.0,0.0,0.0,0.0,0.0],[0.0,3.4813361047655156e-15,1.0,0.0,0.0,0.04565147910602997,0.021069347461589148,0.0],[0.11653134936761844,0.0,0.3756361942355339,0.4510901346305057,0.0,0.0,1.0,0.0],[0.21870026068616855,0.26486656139649517,0.0,1.0,0.0,0.2544377664013529,0.0,0.12210872874605437],[0.31597391029206207,0.0,0.0,0.14295951328934406,0.0,0.0,0.0,1.0],[5.1142283260135985e-15,0.0,0.0,1.0,0.10014880502105589,0.0,0.41620181879014684,0.03433668606063547],[0.0,0.0,0.0,0.0,0.0,0.0,0.0,0.0],[0.09245434669811509,0.0,0.24046122500657743,0.4100613806267237,0.0,0.0,1.0,0.07402113514205892],[0.0,0.0,0.0,0.40926640926642427,0.0,0.0,0.0,1.0],[0.0,0.02812884784079875,1.0,0.0,0.0,0.0,0.0,0.5192548814046404],[0.0,0.0,0.0,0.0,0.0,0.0,1.0,0.0],[0.0,0.0,1.0,0.0,0.0,0.0,0.8517245775240452,0.0],[0.0,0.0,0.0,0.0,0.0,0.0,0.0,0.0],[0.0,0.0,0.0,0.0,1.0,0.0,0.0,0.0],[0.0,0.0,0.6807773213032083,0.08065820674087394,0.0,0.0,0.0,1.0],[0.0,0.0,0.6384354336073675,0.0,1.0,0.0,0.5836703646673094,0.0]],\"type\":\"heatmap\",\"xaxis\":\"x\",\"yaxis\":\"y\",\"hovertemplate\":\"x: %{x}<br>city: %{y}<br>color: %{z}<extra></extra>\"}],                        {\"template\":{\"data\":{\"histogram2dcontour\":[{\"type\":\"histogram2dcontour\",\"colorbar\":{\"outlinewidth\":0,\"ticks\":\"\"},\"colorscale\":[[0.0,\"#0d0887\"],[0.1111111111111111,\"#46039f\"],[0.2222222222222222,\"#7201a8\"],[0.3333333333333333,\"#9c179e\"],[0.4444444444444444,\"#bd3786\"],[0.5555555555555556,\"#d8576b\"],[0.6666666666666666,\"#ed7953\"],[0.7777777777777778,\"#fb9f3a\"],[0.8888888888888888,\"#fdca26\"],[1.0,\"#f0f921\"]]}],\"choropleth\":[{\"type\":\"choropleth\",\"colorbar\":{\"outlinewidth\":0,\"ticks\":\"\"}}],\"histogram2d\":[{\"type\":\"histogram2d\",\"colorbar\":{\"outlinewidth\":0,\"ticks\":\"\"},\"colorscale\":[[0.0,\"#0d0887\"],[0.1111111111111111,\"#46039f\"],[0.2222222222222222,\"#7201a8\"],[0.3333333333333333,\"#9c179e\"],[0.4444444444444444,\"#bd3786\"],[0.5555555555555556,\"#d8576b\"],[0.6666666666666666,\"#ed7953\"],[0.7777777777777778,\"#fb9f3a\"],[0.8888888888888888,\"#fdca26\"],[1.0,\"#f0f921\"]]}],\"heatmap\":[{\"type\":\"heatmap\",\"colorbar\":{\"outlinewidth\":0,\"ticks\":\"\"},\"colorscale\":[[0.0,\"#0d0887\"],[0.1111111111111111,\"#46039f\"],[0.2222222222222222,\"#7201a8\"],[0.3333333333333333,\"#9c179e\"],[0.4444444444444444,\"#bd3786\"],[0.5555555555555556,\"#d8576b\"],[0.6666666666666666,\"#ed7953\"],[0.7777777777777778,\"#fb9f3a\"],[0.8888888888888888,\"#fdca26\"],[1.0,\"#f0f921\"]]}],\"heatmapgl\":[{\"type\":\"heatmapgl\",\"colorbar\":{\"outlinewidth\":0,\"ticks\":\"\"},\"colorscale\":[[0.0,\"#0d0887\"],[0.1111111111111111,\"#46039f\"],[0.2222222222222222,\"#7201a8\"],[0.3333333333333333,\"#9c179e\"],[0.4444444444444444,\"#bd3786\"],[0.5555555555555556,\"#d8576b\"],[0.6666666666666666,\"#ed7953\"],[0.7777777777777778,\"#fb9f3a\"],[0.8888888888888888,\"#fdca26\"],[1.0,\"#f0f921\"]]}],\"contourcarpet\":[{\"type\":\"contourcarpet\",\"colorbar\":{\"outlinewidth\":0,\"ticks\":\"\"}}],\"contour\":[{\"type\":\"contour\",\"colorbar\":{\"outlinewidth\":0,\"ticks\":\"\"},\"colorscale\":[[0.0,\"#0d0887\"],[0.1111111111111111,\"#46039f\"],[0.2222222222222222,\"#7201a8\"],[0.3333333333333333,\"#9c179e\"],[0.4444444444444444,\"#bd3786\"],[0.5555555555555556,\"#d8576b\"],[0.6666666666666666,\"#ed7953\"],[0.7777777777777778,\"#fb9f3a\"],[0.8888888888888888,\"#fdca26\"],[1.0,\"#f0f921\"]]}],\"surface\":[{\"type\":\"surface\",\"colorbar\":{\"outlinewidth\":0,\"ticks\":\"\"},\"colorscale\":[[0.0,\"#0d0887\"],[0.1111111111111111,\"#46039f\"],[0.2222222222222222,\"#7201a8\"],[0.3333333333333333,\"#9c179e\"],[0.4444444444444444,\"#bd3786\"],[0.5555555555555556,\"#d8576b\"],[0.6666666666666666,\"#ed7953\"],[0.7777777777777778,\"#fb9f3a\"],[0.8888888888888888,\"#fdca26\"],[1.0,\"#f0f921\"]]}],\"mesh3d\":[{\"type\":\"mesh3d\",\"colorbar\":{\"outlinewidth\":0,\"ticks\":\"\"}}],\"scatter\":[{\"fillpattern\":{\"fillmode\":\"overlay\",\"size\":10,\"solidity\":0.2},\"type\":\"scatter\"}],\"parcoords\":[{\"type\":\"parcoords\",\"line\":{\"colorbar\":{\"outlinewidth\":0,\"ticks\":\"\"}}}],\"scatterpolargl\":[{\"type\":\"scatterpolargl\",\"marker\":{\"colorbar\":{\"outlinewidth\":0,\"ticks\":\"\"}}}],\"bar\":[{\"error_x\":{\"color\":\"#2a3f5f\"},\"error_y\":{\"color\":\"#2a3f5f\"},\"marker\":{\"line\":{\"color\":\"#E5ECF6\",\"width\":0.5},\"pattern\":{\"fillmode\":\"overlay\",\"size\":10,\"solidity\":0.2}},\"type\":\"bar\"}],\"scattergeo\":[{\"type\":\"scattergeo\",\"marker\":{\"colorbar\":{\"outlinewidth\":0,\"ticks\":\"\"}}}],\"scatterpolar\":[{\"type\":\"scatterpolar\",\"marker\":{\"colorbar\":{\"outlinewidth\":0,\"ticks\":\"\"}}}],\"histogram\":[{\"marker\":{\"pattern\":{\"fillmode\":\"overlay\",\"size\":10,\"solidity\":0.2}},\"type\":\"histogram\"}],\"scattergl\":[{\"type\":\"scattergl\",\"marker\":{\"colorbar\":{\"outlinewidth\":0,\"ticks\":\"\"}}}],\"scatter3d\":[{\"type\":\"scatter3d\",\"line\":{\"colorbar\":{\"outlinewidth\":0,\"ticks\":\"\"}},\"marker\":{\"colorbar\":{\"outlinewidth\":0,\"ticks\":\"\"}}}],\"scattermapbox\":[{\"type\":\"scattermapbox\",\"marker\":{\"colorbar\":{\"outlinewidth\":0,\"ticks\":\"\"}}}],\"scatterternary\":[{\"type\":\"scatterternary\",\"marker\":{\"colorbar\":{\"outlinewidth\":0,\"ticks\":\"\"}}}],\"scattercarpet\":[{\"type\":\"scattercarpet\",\"marker\":{\"colorbar\":{\"outlinewidth\":0,\"ticks\":\"\"}}}],\"carpet\":[{\"aaxis\":{\"endlinecolor\":\"#2a3f5f\",\"gridcolor\":\"white\",\"linecolor\":\"white\",\"minorgridcolor\":\"white\",\"startlinecolor\":\"#2a3f5f\"},\"baxis\":{\"endlinecolor\":\"#2a3f5f\",\"gridcolor\":\"white\",\"linecolor\":\"white\",\"minorgridcolor\":\"white\",\"startlinecolor\":\"#2a3f5f\"},\"type\":\"carpet\"}],\"table\":[{\"cells\":{\"fill\":{\"color\":\"#EBF0F8\"},\"line\":{\"color\":\"white\"}},\"header\":{\"fill\":{\"color\":\"#C8D4E3\"},\"line\":{\"color\":\"white\"}},\"type\":\"table\"}],\"barpolar\":[{\"marker\":{\"line\":{\"color\":\"#E5ECF6\",\"width\":0.5},\"pattern\":{\"fillmode\":\"overlay\",\"size\":10,\"solidity\":0.2}},\"type\":\"barpolar\"}],\"pie\":[{\"automargin\":true,\"type\":\"pie\"}]},\"layout\":{\"autotypenumbers\":\"strict\",\"colorway\":[\"#636efa\",\"#EF553B\",\"#00cc96\",\"#ab63fa\",\"#FFA15A\",\"#19d3f3\",\"#FF6692\",\"#B6E880\",\"#FF97FF\",\"#FECB52\"],\"font\":{\"color\":\"#2a3f5f\"},\"hovermode\":\"closest\",\"hoverlabel\":{\"align\":\"left\"},\"paper_bgcolor\":\"white\",\"plot_bgcolor\":\"#E5ECF6\",\"polar\":{\"bgcolor\":\"#E5ECF6\",\"angularaxis\":{\"gridcolor\":\"white\",\"linecolor\":\"white\",\"ticks\":\"\"},\"radialaxis\":{\"gridcolor\":\"white\",\"linecolor\":\"white\",\"ticks\":\"\"}},\"ternary\":{\"bgcolor\":\"#E5ECF6\",\"aaxis\":{\"gridcolor\":\"white\",\"linecolor\":\"white\",\"ticks\":\"\"},\"baxis\":{\"gridcolor\":\"white\",\"linecolor\":\"white\",\"ticks\":\"\"},\"caxis\":{\"gridcolor\":\"white\",\"linecolor\":\"white\",\"ticks\":\"\"}},\"coloraxis\":{\"colorbar\":{\"outlinewidth\":0,\"ticks\":\"\"}},\"colorscale\":{\"sequential\":[[0.0,\"#0d0887\"],[0.1111111111111111,\"#46039f\"],[0.2222222222222222,\"#7201a8\"],[0.3333333333333333,\"#9c179e\"],[0.4444444444444444,\"#bd3786\"],[0.5555555555555556,\"#d8576b\"],[0.6666666666666666,\"#ed7953\"],[0.7777777777777778,\"#fb9f3a\"],[0.8888888888888888,\"#fdca26\"],[1.0,\"#f0f921\"]],\"sequentialminus\":[[0.0,\"#0d0887\"],[0.1111111111111111,\"#46039f\"],[0.2222222222222222,\"#7201a8\"],[0.3333333333333333,\"#9c179e\"],[0.4444444444444444,\"#bd3786\"],[0.5555555555555556,\"#d8576b\"],[0.6666666666666666,\"#ed7953\"],[0.7777777777777778,\"#fb9f3a\"],[0.8888888888888888,\"#fdca26\"],[1.0,\"#f0f921\"]],\"diverging\":[[0,\"#8e0152\"],[0.1,\"#c51b7d\"],[0.2,\"#de77ae\"],[0.3,\"#f1b6da\"],[0.4,\"#fde0ef\"],[0.5,\"#f7f7f7\"],[0.6,\"#e6f5d0\"],[0.7,\"#b8e186\"],[0.8,\"#7fbc41\"],[0.9,\"#4d9221\"],[1,\"#276419\"]]},\"xaxis\":{\"gridcolor\":\"white\",\"linecolor\":\"white\",\"ticks\":\"\",\"title\":{\"standoff\":15},\"zerolinecolor\":\"white\",\"automargin\":true,\"zerolinewidth\":2},\"yaxis\":{\"gridcolor\":\"white\",\"linecolor\":\"white\",\"ticks\":\"\",\"title\":{\"standoff\":15},\"zerolinecolor\":\"white\",\"automargin\":true,\"zerolinewidth\":2},\"scene\":{\"xaxis\":{\"backgroundcolor\":\"#E5ECF6\",\"gridcolor\":\"white\",\"linecolor\":\"white\",\"showbackground\":true,\"ticks\":\"\",\"zerolinecolor\":\"white\",\"gridwidth\":2},\"yaxis\":{\"backgroundcolor\":\"#E5ECF6\",\"gridcolor\":\"white\",\"linecolor\":\"white\",\"showbackground\":true,\"ticks\":\"\",\"zerolinecolor\":\"white\",\"gridwidth\":2},\"zaxis\":{\"backgroundcolor\":\"#E5ECF6\",\"gridcolor\":\"white\",\"linecolor\":\"white\",\"showbackground\":true,\"ticks\":\"\",\"zerolinecolor\":\"white\",\"gridwidth\":2}},\"shapedefaults\":{\"line\":{\"color\":\"#2a3f5f\"}},\"annotationdefaults\":{\"arrowcolor\":\"#2a3f5f\",\"arrowhead\":0,\"arrowwidth\":1},\"geo\":{\"bgcolor\":\"white\",\"landcolor\":\"#E5ECF6\",\"subunitcolor\":\"white\",\"showland\":true,\"showlakes\":true,\"lakecolor\":\"white\"},\"title\":{\"x\":0.05},\"mapbox\":{\"style\":\"light\"}}},\"xaxis\":{\"anchor\":\"y\",\"domain\":[0.0,1.0]},\"yaxis\":{\"anchor\":\"x\",\"domain\":[0.0,1.0],\"autorange\":\"reversed\",\"title\":{\"text\":\"city\"}},\"coloraxis\":{\"colorscale\":[[0.0,\"#0d0887\"],[0.1111111111111111,\"#46039f\"],[0.2222222222222222,\"#7201a8\"],[0.3333333333333333,\"#9c179e\"],[0.4444444444444444,\"#bd3786\"],[0.5555555555555556,\"#d8576b\"],[0.6666666666666666,\"#ed7953\"],[0.7777777777777778,\"#fb9f3a\"],[0.8888888888888888,\"#fdca26\"],[1.0,\"#f0f921\"]]},\"margin\":{\"t\":60}},                        {\"responsive\": true}                    ).then(function(){\n",
       "                            \n",
       "var gd = document.getElementById('df65eb78-aad0-46f4-9ea1-bff698dc01f9');\n",
       "var x = new MutationObserver(function (mutations, observer) {{\n",
       "        var display = window.getComputedStyle(gd).display;\n",
       "        if (!display || display === 'none') {{\n",
       "            console.log([gd, 'removed!']);\n",
       "            Plotly.purge(gd);\n",
       "            observer.disconnect();\n",
       "        }}\n",
       "}});\n",
       "\n",
       "// Listen for the removal of the full notebook cells\n",
       "var notebookContainer = gd.closest('#notebook-container');\n",
       "if (notebookContainer) {{\n",
       "    x.observe(notebookContainer, {childList: true});\n",
       "}}\n",
       "\n",
       "// Listen for the clearing of the current output cell\n",
       "var outputEl = gd.closest('.output');\n",
       "if (outputEl) {{\n",
       "    x.observe(outputEl, {childList: true});\n",
       "}}\n",
       "\n",
       "                        })                };                });            </script>        </div>"
      ]
     },
     "metadata": {},
     "output_type": "display_data"
    }
   ],
   "source": [
    "fig.show()"
   ]
  },
  {
   "cell_type": "code",
   "execution_count": 34,
   "metadata": {},
   "outputs": [],
   "source": [
    "fig = px.imshow(mi_city_arr, aspect='auto')"
   ]
  },
  {
   "cell_type": "code",
   "execution_count": 35,
   "metadata": {},
   "outputs": [
    {
     "data": {
      "application/vnd.plotly.v1+json": {
       "config": {
        "plotlyServerURL": "https://plot.ly"
       },
       "data": [
        {
         "coloraxis": "coloraxis",
         "hovertemplate": "x: %{x}<br>y: %{y}<br>color: %{z}<extra></extra>",
         "name": "0",
         "type": "heatmap",
         "xaxis": "x",
         "yaxis": "y",
         "z": [
          [
           0,
           0,
           1,
           0.3466716699017379,
           0,
           0,
           0.0884542897116177,
           0.16530444450280038
          ],
          [
           0,
           0,
           1,
           0,
           0,
           0,
           0,
           0
          ],
          [
           0,
           0,
           1,
           0,
           0,
           0,
           0.3532966412212811,
           0
          ],
          [
           0.48064661938217207,
           0,
           0,
           0,
           1,
           0,
           0.481382406013216,
           0
          ],
          [
           0.12591455099876733,
           0,
           1,
           0.7964774412424163,
           0,
           0.49256117976919783,
           0.5165332779654599,
           0
          ],
          [
           0,
           0,
           0,
           0,
           0,
           0,
           1,
           0
          ],
          [
           0.00237291860570579,
           0,
           1,
           0,
           0,
           0,
           0.02915782981095619,
           0
          ],
          [
           0,
           0,
           0.13100260835992023,
           0.22555736566854206,
           0,
           0,
           1,
           0.1058943015291607
          ],
          [
           0.03490545450720523,
           0,
           0,
           0.8858154819530256,
           1,
           0,
           0,
           0
          ],
          [
           0.2220483190232509,
           0,
           0,
           0,
           0.6405047581580475,
           0.4849196660351869,
           0.2835021699699761,
           1
          ],
          [
           0,
           0,
           0.0957969677889393,
           0.455360438716536,
           0,
           0,
           1,
           0
          ],
          [
           0.9072454837751676,
           0.09062422362690332,
           0,
           0,
           1,
           0.14106600847583842,
           0,
           0
          ],
          [
           0,
           0.4808185158523006,
           1,
           0.13817213641356502,
           0,
           0.5819059197418783,
           0.020976640490294025,
           0
          ],
          [
           0,
           0,
           1,
           0,
           0,
           0,
           0,
           0
          ],
          [
           0.8471792480482797,
           1,
           0,
           0,
           0,
           0,
           0,
           0.9525955613982532
          ],
          [
           0.1709727554929101,
           1,
           0,
           0,
           0,
           0,
           0,
           0
          ],
          [
           0.28156979511646213,
           0.3021375338680827,
           1,
           0.3329153721156801,
           0.15225296822713602,
           0.48852798120259466,
           0.28146328929130865,
           0.5611391639277689
          ],
          [
           0,
           0,
           0,
           0,
           0,
           0,
           0,
           0
          ],
          [
           0.16285424212709,
           3.5160430453094107e-15,
           1,
           0,
           0.20684898351719963,
           0,
           0.036523539165259154,
           0
          ],
          [
           0,
           0,
           0.2116004276502161,
           0,
           0,
           0,
           1,
           0.32347590756158484
          ],
          [
           0,
           0,
           0.7511982785476081,
           0,
           0,
           1,
           0.1409351625687087,
           0.820088860078027
          ],
          [
           0,
           0,
           0,
           0,
           0,
           0,
           0,
           1
          ],
          [
           0,
           0,
           0.9263506428761926,
           1,
           0,
           0,
           0,
           0.31556516093380194
          ],
          [
           0,
           0,
           1,
           0.1370132226200342,
           0,
           0,
           0.31577960471887484,
           0
          ],
          [
           0,
           0,
           1,
           0.2812287210649846,
           0.020100521069001523,
           0,
           0,
           0
          ],
          [
           0.5807290508018812,
           0,
           1,
           0,
           0.825357407317293,
           0,
           0,
           0
          ],
          [
           0.06388424251549245,
           0,
           1,
           0.01534347967874278,
           0.12055205851477187,
           0,
           0,
           0.04676333015992103
          ],
          [
           0,
           0,
           0,
           0,
           0,
           0,
           0,
           0
          ],
          [
           0,
           0,
           1,
           0,
           0,
           0,
           0.36367244804675525,
           0
          ],
          [
           0,
           0,
           0,
           0,
           0,
           0,
           0,
           0
          ],
          [
           0.5659837607046935,
           0,
           0,
           1,
           0.11398454891174332,
           0.7062627660854045,
           0,
           0.4151634150488586
          ],
          [
           5.9888269576154814e-15,
           0.46349265449310145,
           0,
           0,
           0,
           1,
           0,
           0.13073954405775307
          ],
          [
           0,
           0,
           1,
           0.2577519575794374,
           0,
           0,
           0,
           0.5243386061019704
          ],
          [
           1,
           0,
           0,
           0,
           0.8953099687187117,
           0,
           0,
           0
          ],
          [
           0.6508278193009377,
           0,
           0.30284131707938067,
           1,
           0.08034860348482864,
           0,
           0,
           0
          ],
          [
           0,
           0,
           0,
           0,
           0,
           0,
           0,
           0
          ],
          [
           0,
           3.4813361047655156e-15,
           1,
           0,
           0,
           0.04565147910602997,
           0.021069347461589148,
           0
          ],
          [
           0.11653134936761844,
           0,
           0.3756361942355339,
           0.4510901346305057,
           0,
           0,
           1,
           0
          ],
          [
           0.21870026068616855,
           0.26486656139649517,
           0,
           1,
           0,
           0.2544377664013529,
           0,
           0.12210872874605437
          ],
          [
           0.31597391029206207,
           0,
           0,
           0.14295951328934406,
           0,
           0,
           0,
           1
          ],
          [
           5.1142283260135985e-15,
           0,
           0,
           1,
           0.10014880502105589,
           0,
           0.41620181879014684,
           0.03433668606063547
          ],
          [
           0,
           0,
           0,
           0,
           0,
           0,
           0,
           0
          ],
          [
           0.09245434669811509,
           0,
           0.24046122500657743,
           0.4100613806267237,
           0,
           0,
           1,
           0.07402113514205892
          ],
          [
           0,
           0,
           0,
           0.40926640926642427,
           0,
           0,
           0,
           1
          ],
          [
           0,
           0.02812884784079875,
           1,
           0,
           0,
           0,
           0,
           0.5192548814046404
          ],
          [
           0,
           0,
           0,
           0,
           0,
           0,
           1,
           0
          ],
          [
           0,
           0,
           1,
           0,
           0,
           0,
           0.8517245775240452,
           0
          ],
          [
           0,
           0,
           0,
           0,
           0,
           0,
           0,
           0
          ],
          [
           0,
           0,
           0,
           0,
           1,
           0,
           0,
           0
          ],
          [
           0,
           0,
           0.6807773213032083,
           0.08065820674087394,
           0,
           0,
           0,
           1
          ],
          [
           0,
           0,
           0.6384354336073675,
           0,
           1,
           0,
           0.5836703646673094,
           0
          ]
         ]
        }
       ],
       "layout": {
        "coloraxis": {
         "colorscale": [
          [
           0,
           "#0d0887"
          ],
          [
           0.1111111111111111,
           "#46039f"
          ],
          [
           0.2222222222222222,
           "#7201a8"
          ],
          [
           0.3333333333333333,
           "#9c179e"
          ],
          [
           0.4444444444444444,
           "#bd3786"
          ],
          [
           0.5555555555555556,
           "#d8576b"
          ],
          [
           0.6666666666666666,
           "#ed7953"
          ],
          [
           0.7777777777777778,
           "#fb9f3a"
          ],
          [
           0.8888888888888888,
           "#fdca26"
          ],
          [
           1,
           "#f0f921"
          ]
         ]
        },
        "margin": {
         "t": 60
        },
        "template": {
         "data": {
          "bar": [
           {
            "error_x": {
             "color": "#2a3f5f"
            },
            "error_y": {
             "color": "#2a3f5f"
            },
            "marker": {
             "line": {
              "color": "#E5ECF6",
              "width": 0.5
             },
             "pattern": {
              "fillmode": "overlay",
              "size": 10,
              "solidity": 0.2
             }
            },
            "type": "bar"
           }
          ],
          "barpolar": [
           {
            "marker": {
             "line": {
              "color": "#E5ECF6",
              "width": 0.5
             },
             "pattern": {
              "fillmode": "overlay",
              "size": 10,
              "solidity": 0.2
             }
            },
            "type": "barpolar"
           }
          ],
          "carpet": [
           {
            "aaxis": {
             "endlinecolor": "#2a3f5f",
             "gridcolor": "white",
             "linecolor": "white",
             "minorgridcolor": "white",
             "startlinecolor": "#2a3f5f"
            },
            "baxis": {
             "endlinecolor": "#2a3f5f",
             "gridcolor": "white",
             "linecolor": "white",
             "minorgridcolor": "white",
             "startlinecolor": "#2a3f5f"
            },
            "type": "carpet"
           }
          ],
          "choropleth": [
           {
            "colorbar": {
             "outlinewidth": 0,
             "ticks": ""
            },
            "type": "choropleth"
           }
          ],
          "contour": [
           {
            "colorbar": {
             "outlinewidth": 0,
             "ticks": ""
            },
            "colorscale": [
             [
              0,
              "#0d0887"
             ],
             [
              0.1111111111111111,
              "#46039f"
             ],
             [
              0.2222222222222222,
              "#7201a8"
             ],
             [
              0.3333333333333333,
              "#9c179e"
             ],
             [
              0.4444444444444444,
              "#bd3786"
             ],
             [
              0.5555555555555556,
              "#d8576b"
             ],
             [
              0.6666666666666666,
              "#ed7953"
             ],
             [
              0.7777777777777778,
              "#fb9f3a"
             ],
             [
              0.8888888888888888,
              "#fdca26"
             ],
             [
              1,
              "#f0f921"
             ]
            ],
            "type": "contour"
           }
          ],
          "contourcarpet": [
           {
            "colorbar": {
             "outlinewidth": 0,
             "ticks": ""
            },
            "type": "contourcarpet"
           }
          ],
          "heatmap": [
           {
            "colorbar": {
             "outlinewidth": 0,
             "ticks": ""
            },
            "colorscale": [
             [
              0,
              "#0d0887"
             ],
             [
              0.1111111111111111,
              "#46039f"
             ],
             [
              0.2222222222222222,
              "#7201a8"
             ],
             [
              0.3333333333333333,
              "#9c179e"
             ],
             [
              0.4444444444444444,
              "#bd3786"
             ],
             [
              0.5555555555555556,
              "#d8576b"
             ],
             [
              0.6666666666666666,
              "#ed7953"
             ],
             [
              0.7777777777777778,
              "#fb9f3a"
             ],
             [
              0.8888888888888888,
              "#fdca26"
             ],
             [
              1,
              "#f0f921"
             ]
            ],
            "type": "heatmap"
           }
          ],
          "heatmapgl": [
           {
            "colorbar": {
             "outlinewidth": 0,
             "ticks": ""
            },
            "colorscale": [
             [
              0,
              "#0d0887"
             ],
             [
              0.1111111111111111,
              "#46039f"
             ],
             [
              0.2222222222222222,
              "#7201a8"
             ],
             [
              0.3333333333333333,
              "#9c179e"
             ],
             [
              0.4444444444444444,
              "#bd3786"
             ],
             [
              0.5555555555555556,
              "#d8576b"
             ],
             [
              0.6666666666666666,
              "#ed7953"
             ],
             [
              0.7777777777777778,
              "#fb9f3a"
             ],
             [
              0.8888888888888888,
              "#fdca26"
             ],
             [
              1,
              "#f0f921"
             ]
            ],
            "type": "heatmapgl"
           }
          ],
          "histogram": [
           {
            "marker": {
             "pattern": {
              "fillmode": "overlay",
              "size": 10,
              "solidity": 0.2
             }
            },
            "type": "histogram"
           }
          ],
          "histogram2d": [
           {
            "colorbar": {
             "outlinewidth": 0,
             "ticks": ""
            },
            "colorscale": [
             [
              0,
              "#0d0887"
             ],
             [
              0.1111111111111111,
              "#46039f"
             ],
             [
              0.2222222222222222,
              "#7201a8"
             ],
             [
              0.3333333333333333,
              "#9c179e"
             ],
             [
              0.4444444444444444,
              "#bd3786"
             ],
             [
              0.5555555555555556,
              "#d8576b"
             ],
             [
              0.6666666666666666,
              "#ed7953"
             ],
             [
              0.7777777777777778,
              "#fb9f3a"
             ],
             [
              0.8888888888888888,
              "#fdca26"
             ],
             [
              1,
              "#f0f921"
             ]
            ],
            "type": "histogram2d"
           }
          ],
          "histogram2dcontour": [
           {
            "colorbar": {
             "outlinewidth": 0,
             "ticks": ""
            },
            "colorscale": [
             [
              0,
              "#0d0887"
             ],
             [
              0.1111111111111111,
              "#46039f"
             ],
             [
              0.2222222222222222,
              "#7201a8"
             ],
             [
              0.3333333333333333,
              "#9c179e"
             ],
             [
              0.4444444444444444,
              "#bd3786"
             ],
             [
              0.5555555555555556,
              "#d8576b"
             ],
             [
              0.6666666666666666,
              "#ed7953"
             ],
             [
              0.7777777777777778,
              "#fb9f3a"
             ],
             [
              0.8888888888888888,
              "#fdca26"
             ],
             [
              1,
              "#f0f921"
             ]
            ],
            "type": "histogram2dcontour"
           }
          ],
          "mesh3d": [
           {
            "colorbar": {
             "outlinewidth": 0,
             "ticks": ""
            },
            "type": "mesh3d"
           }
          ],
          "parcoords": [
           {
            "line": {
             "colorbar": {
              "outlinewidth": 0,
              "ticks": ""
             }
            },
            "type": "parcoords"
           }
          ],
          "pie": [
           {
            "automargin": true,
            "type": "pie"
           }
          ],
          "scatter": [
           {
            "fillpattern": {
             "fillmode": "overlay",
             "size": 10,
             "solidity": 0.2
            },
            "type": "scatter"
           }
          ],
          "scatter3d": [
           {
            "line": {
             "colorbar": {
              "outlinewidth": 0,
              "ticks": ""
             }
            },
            "marker": {
             "colorbar": {
              "outlinewidth": 0,
              "ticks": ""
             }
            },
            "type": "scatter3d"
           }
          ],
          "scattercarpet": [
           {
            "marker": {
             "colorbar": {
              "outlinewidth": 0,
              "ticks": ""
             }
            },
            "type": "scattercarpet"
           }
          ],
          "scattergeo": [
           {
            "marker": {
             "colorbar": {
              "outlinewidth": 0,
              "ticks": ""
             }
            },
            "type": "scattergeo"
           }
          ],
          "scattergl": [
           {
            "marker": {
             "colorbar": {
              "outlinewidth": 0,
              "ticks": ""
             }
            },
            "type": "scattergl"
           }
          ],
          "scattermapbox": [
           {
            "marker": {
             "colorbar": {
              "outlinewidth": 0,
              "ticks": ""
             }
            },
            "type": "scattermapbox"
           }
          ],
          "scatterpolar": [
           {
            "marker": {
             "colorbar": {
              "outlinewidth": 0,
              "ticks": ""
             }
            },
            "type": "scatterpolar"
           }
          ],
          "scatterpolargl": [
           {
            "marker": {
             "colorbar": {
              "outlinewidth": 0,
              "ticks": ""
             }
            },
            "type": "scatterpolargl"
           }
          ],
          "scatterternary": [
           {
            "marker": {
             "colorbar": {
              "outlinewidth": 0,
              "ticks": ""
             }
            },
            "type": "scatterternary"
           }
          ],
          "surface": [
           {
            "colorbar": {
             "outlinewidth": 0,
             "ticks": ""
            },
            "colorscale": [
             [
              0,
              "#0d0887"
             ],
             [
              0.1111111111111111,
              "#46039f"
             ],
             [
              0.2222222222222222,
              "#7201a8"
             ],
             [
              0.3333333333333333,
              "#9c179e"
             ],
             [
              0.4444444444444444,
              "#bd3786"
             ],
             [
              0.5555555555555556,
              "#d8576b"
             ],
             [
              0.6666666666666666,
              "#ed7953"
             ],
             [
              0.7777777777777778,
              "#fb9f3a"
             ],
             [
              0.8888888888888888,
              "#fdca26"
             ],
             [
              1,
              "#f0f921"
             ]
            ],
            "type": "surface"
           }
          ],
          "table": [
           {
            "cells": {
             "fill": {
              "color": "#EBF0F8"
             },
             "line": {
              "color": "white"
             }
            },
            "header": {
             "fill": {
              "color": "#C8D4E3"
             },
             "line": {
              "color": "white"
             }
            },
            "type": "table"
           }
          ]
         },
         "layout": {
          "annotationdefaults": {
           "arrowcolor": "#2a3f5f",
           "arrowhead": 0,
           "arrowwidth": 1
          },
          "autotypenumbers": "strict",
          "coloraxis": {
           "colorbar": {
            "outlinewidth": 0,
            "ticks": ""
           }
          },
          "colorscale": {
           "diverging": [
            [
             0,
             "#8e0152"
            ],
            [
             0.1,
             "#c51b7d"
            ],
            [
             0.2,
             "#de77ae"
            ],
            [
             0.3,
             "#f1b6da"
            ],
            [
             0.4,
             "#fde0ef"
            ],
            [
             0.5,
             "#f7f7f7"
            ],
            [
             0.6,
             "#e6f5d0"
            ],
            [
             0.7,
             "#b8e186"
            ],
            [
             0.8,
             "#7fbc41"
            ],
            [
             0.9,
             "#4d9221"
            ],
            [
             1,
             "#276419"
            ]
           ],
           "sequential": [
            [
             0,
             "#0d0887"
            ],
            [
             0.1111111111111111,
             "#46039f"
            ],
            [
             0.2222222222222222,
             "#7201a8"
            ],
            [
             0.3333333333333333,
             "#9c179e"
            ],
            [
             0.4444444444444444,
             "#bd3786"
            ],
            [
             0.5555555555555556,
             "#d8576b"
            ],
            [
             0.6666666666666666,
             "#ed7953"
            ],
            [
             0.7777777777777778,
             "#fb9f3a"
            ],
            [
             0.8888888888888888,
             "#fdca26"
            ],
            [
             1,
             "#f0f921"
            ]
           ],
           "sequentialminus": [
            [
             0,
             "#0d0887"
            ],
            [
             0.1111111111111111,
             "#46039f"
            ],
            [
             0.2222222222222222,
             "#7201a8"
            ],
            [
             0.3333333333333333,
             "#9c179e"
            ],
            [
             0.4444444444444444,
             "#bd3786"
            ],
            [
             0.5555555555555556,
             "#d8576b"
            ],
            [
             0.6666666666666666,
             "#ed7953"
            ],
            [
             0.7777777777777778,
             "#fb9f3a"
            ],
            [
             0.8888888888888888,
             "#fdca26"
            ],
            [
             1,
             "#f0f921"
            ]
           ]
          },
          "colorway": [
           "#636efa",
           "#EF553B",
           "#00cc96",
           "#ab63fa",
           "#FFA15A",
           "#19d3f3",
           "#FF6692",
           "#B6E880",
           "#FF97FF",
           "#FECB52"
          ],
          "font": {
           "color": "#2a3f5f"
          },
          "geo": {
           "bgcolor": "white",
           "lakecolor": "white",
           "landcolor": "#E5ECF6",
           "showlakes": true,
           "showland": true,
           "subunitcolor": "white"
          },
          "hoverlabel": {
           "align": "left"
          },
          "hovermode": "closest",
          "mapbox": {
           "style": "light"
          },
          "paper_bgcolor": "white",
          "plot_bgcolor": "#E5ECF6",
          "polar": {
           "angularaxis": {
            "gridcolor": "white",
            "linecolor": "white",
            "ticks": ""
           },
           "bgcolor": "#E5ECF6",
           "radialaxis": {
            "gridcolor": "white",
            "linecolor": "white",
            "ticks": ""
           }
          },
          "scene": {
           "xaxis": {
            "backgroundcolor": "#E5ECF6",
            "gridcolor": "white",
            "gridwidth": 2,
            "linecolor": "white",
            "showbackground": true,
            "ticks": "",
            "zerolinecolor": "white"
           },
           "yaxis": {
            "backgroundcolor": "#E5ECF6",
            "gridcolor": "white",
            "gridwidth": 2,
            "linecolor": "white",
            "showbackground": true,
            "ticks": "",
            "zerolinecolor": "white"
           },
           "zaxis": {
            "backgroundcolor": "#E5ECF6",
            "gridcolor": "white",
            "gridwidth": 2,
            "linecolor": "white",
            "showbackground": true,
            "ticks": "",
            "zerolinecolor": "white"
           }
          },
          "shapedefaults": {
           "line": {
            "color": "#2a3f5f"
           }
          },
          "ternary": {
           "aaxis": {
            "gridcolor": "white",
            "linecolor": "white",
            "ticks": ""
           },
           "baxis": {
            "gridcolor": "white",
            "linecolor": "white",
            "ticks": ""
           },
           "bgcolor": "#E5ECF6",
           "caxis": {
            "gridcolor": "white",
            "linecolor": "white",
            "ticks": ""
           }
          },
          "title": {
           "x": 0.05
          },
          "xaxis": {
           "automargin": true,
           "gridcolor": "white",
           "linecolor": "white",
           "ticks": "",
           "title": {
            "standoff": 15
           },
           "zerolinecolor": "white",
           "zerolinewidth": 2
          },
          "yaxis": {
           "automargin": true,
           "gridcolor": "white",
           "linecolor": "white",
           "ticks": "",
           "title": {
            "standoff": 15
           },
           "zerolinecolor": "white",
           "zerolinewidth": 2
          }
         }
        },
        "xaxis": {
         "anchor": "y",
         "domain": [
          0,
          1
         ]
        },
        "yaxis": {
         "anchor": "x",
         "autorange": "reversed",
         "domain": [
          0,
          1
         ]
        }
       }
      },
      "text/html": [
       "<div>                            <div id=\"fc9d325b-9ab3-4b44-9962-9341f23f0d88\" class=\"plotly-graph-div\" style=\"height:525px; width:100%;\"></div>            <script type=\"text/javascript\">                require([\"plotly\"], function(Plotly) {                    window.PLOTLYENV=window.PLOTLYENV || {};                                    if (document.getElementById(\"fc9d325b-9ab3-4b44-9962-9341f23f0d88\")) {                    Plotly.newPlot(                        \"fc9d325b-9ab3-4b44-9962-9341f23f0d88\",                        [{\"coloraxis\":\"coloraxis\",\"name\":\"0\",\"z\":[[0.0,0.0,1.0,0.3466716699017379,0.0,0.0,0.0884542897116177,0.16530444450280038],[0.0,0.0,1.0,0.0,0.0,0.0,0.0,0.0],[0.0,0.0,1.0,0.0,0.0,0.0,0.3532966412212811,0.0],[0.48064661938217207,0.0,0.0,0.0,1.0,0.0,0.481382406013216,0.0],[0.12591455099876733,0.0,1.0,0.7964774412424163,0.0,0.49256117976919783,0.5165332779654599,0.0],[0.0,0.0,0.0,0.0,0.0,0.0,1.0,0.0],[0.00237291860570579,0.0,1.0,0.0,0.0,0.0,0.02915782981095619,0.0],[0.0,0.0,0.13100260835992023,0.22555736566854206,0.0,0.0,1.0,0.1058943015291607],[0.03490545450720523,0.0,0.0,0.8858154819530256,1.0,0.0,0.0,0.0],[0.2220483190232509,0.0,0.0,0.0,0.6405047581580475,0.4849196660351869,0.2835021699699761,1.0],[0.0,0.0,0.0957969677889393,0.455360438716536,0.0,0.0,1.0,0.0],[0.9072454837751676,0.09062422362690332,0.0,0.0,1.0,0.14106600847583842,0.0,0.0],[0.0,0.4808185158523006,1.0,0.13817213641356502,0.0,0.5819059197418783,0.020976640490294025,0.0],[0.0,0.0,1.0,0.0,0.0,0.0,0.0,0.0],[0.8471792480482797,1.0,0.0,0.0,0.0,0.0,0.0,0.9525955613982532],[0.1709727554929101,1.0,0.0,0.0,0.0,0.0,0.0,0.0],[0.28156979511646213,0.3021375338680827,1.0,0.3329153721156801,0.15225296822713602,0.48852798120259466,0.28146328929130865,0.5611391639277689],[0.0,0.0,0.0,0.0,0.0,0.0,0.0,0.0],[0.16285424212709,3.5160430453094107e-15,1.0,0.0,0.20684898351719963,0.0,0.036523539165259154,0.0],[0.0,0.0,0.2116004276502161,0.0,0.0,0.0,1.0,0.32347590756158484],[0.0,0.0,0.7511982785476081,0.0,0.0,1.0,0.1409351625687087,0.820088860078027],[0.0,0.0,0.0,0.0,0.0,0.0,0.0,1.0],[0.0,0.0,0.9263506428761926,1.0,0.0,0.0,0.0,0.31556516093380194],[0.0,0.0,1.0,0.1370132226200342,0.0,0.0,0.31577960471887484,0.0],[0.0,0.0,1.0,0.2812287210649846,0.020100521069001523,0.0,0.0,0.0],[0.5807290508018812,0.0,1.0,0.0,0.825357407317293,0.0,0.0,0.0],[0.06388424251549245,0.0,1.0,0.01534347967874278,0.12055205851477187,0.0,0.0,0.04676333015992103],[0.0,0.0,0.0,0.0,0.0,0.0,0.0,0.0],[0.0,0.0,1.0,0.0,0.0,0.0,0.36367244804675525,0.0],[0.0,0.0,0.0,0.0,0.0,0.0,0.0,0.0],[0.5659837607046935,0.0,0.0,1.0,0.11398454891174332,0.7062627660854045,0.0,0.4151634150488586],[5.9888269576154814e-15,0.46349265449310145,0.0,0.0,0.0,1.0,0.0,0.13073954405775307],[0.0,0.0,1.0,0.2577519575794374,0.0,0.0,0.0,0.5243386061019704],[1.0,0.0,0.0,0.0,0.8953099687187117,0.0,0.0,0.0],[0.6508278193009377,0.0,0.30284131707938067,1.0,0.08034860348482864,0.0,0.0,0.0],[0.0,0.0,0.0,0.0,0.0,0.0,0.0,0.0],[0.0,3.4813361047655156e-15,1.0,0.0,0.0,0.04565147910602997,0.021069347461589148,0.0],[0.11653134936761844,0.0,0.3756361942355339,0.4510901346305057,0.0,0.0,1.0,0.0],[0.21870026068616855,0.26486656139649517,0.0,1.0,0.0,0.2544377664013529,0.0,0.12210872874605437],[0.31597391029206207,0.0,0.0,0.14295951328934406,0.0,0.0,0.0,1.0],[5.1142283260135985e-15,0.0,0.0,1.0,0.10014880502105589,0.0,0.41620181879014684,0.03433668606063547],[0.0,0.0,0.0,0.0,0.0,0.0,0.0,0.0],[0.09245434669811509,0.0,0.24046122500657743,0.4100613806267237,0.0,0.0,1.0,0.07402113514205892],[0.0,0.0,0.0,0.40926640926642427,0.0,0.0,0.0,1.0],[0.0,0.02812884784079875,1.0,0.0,0.0,0.0,0.0,0.5192548814046404],[0.0,0.0,0.0,0.0,0.0,0.0,1.0,0.0],[0.0,0.0,1.0,0.0,0.0,0.0,0.8517245775240452,0.0],[0.0,0.0,0.0,0.0,0.0,0.0,0.0,0.0],[0.0,0.0,0.0,0.0,1.0,0.0,0.0,0.0],[0.0,0.0,0.6807773213032083,0.08065820674087394,0.0,0.0,0.0,1.0],[0.0,0.0,0.6384354336073675,0.0,1.0,0.0,0.5836703646673094,0.0]],\"type\":\"heatmap\",\"xaxis\":\"x\",\"yaxis\":\"y\",\"hovertemplate\":\"x: %{x}<br>y: %{y}<br>color: %{z}<extra></extra>\"}],                        {\"template\":{\"data\":{\"histogram2dcontour\":[{\"type\":\"histogram2dcontour\",\"colorbar\":{\"outlinewidth\":0,\"ticks\":\"\"},\"colorscale\":[[0.0,\"#0d0887\"],[0.1111111111111111,\"#46039f\"],[0.2222222222222222,\"#7201a8\"],[0.3333333333333333,\"#9c179e\"],[0.4444444444444444,\"#bd3786\"],[0.5555555555555556,\"#d8576b\"],[0.6666666666666666,\"#ed7953\"],[0.7777777777777778,\"#fb9f3a\"],[0.8888888888888888,\"#fdca26\"],[1.0,\"#f0f921\"]]}],\"choropleth\":[{\"type\":\"choropleth\",\"colorbar\":{\"outlinewidth\":0,\"ticks\":\"\"}}],\"histogram2d\":[{\"type\":\"histogram2d\",\"colorbar\":{\"outlinewidth\":0,\"ticks\":\"\"},\"colorscale\":[[0.0,\"#0d0887\"],[0.1111111111111111,\"#46039f\"],[0.2222222222222222,\"#7201a8\"],[0.3333333333333333,\"#9c179e\"],[0.4444444444444444,\"#bd3786\"],[0.5555555555555556,\"#d8576b\"],[0.6666666666666666,\"#ed7953\"],[0.7777777777777778,\"#fb9f3a\"],[0.8888888888888888,\"#fdca26\"],[1.0,\"#f0f921\"]]}],\"heatmap\":[{\"type\":\"heatmap\",\"colorbar\":{\"outlinewidth\":0,\"ticks\":\"\"},\"colorscale\":[[0.0,\"#0d0887\"],[0.1111111111111111,\"#46039f\"],[0.2222222222222222,\"#7201a8\"],[0.3333333333333333,\"#9c179e\"],[0.4444444444444444,\"#bd3786\"],[0.5555555555555556,\"#d8576b\"],[0.6666666666666666,\"#ed7953\"],[0.7777777777777778,\"#fb9f3a\"],[0.8888888888888888,\"#fdca26\"],[1.0,\"#f0f921\"]]}],\"heatmapgl\":[{\"type\":\"heatmapgl\",\"colorbar\":{\"outlinewidth\":0,\"ticks\":\"\"},\"colorscale\":[[0.0,\"#0d0887\"],[0.1111111111111111,\"#46039f\"],[0.2222222222222222,\"#7201a8\"],[0.3333333333333333,\"#9c179e\"],[0.4444444444444444,\"#bd3786\"],[0.5555555555555556,\"#d8576b\"],[0.6666666666666666,\"#ed7953\"],[0.7777777777777778,\"#fb9f3a\"],[0.8888888888888888,\"#fdca26\"],[1.0,\"#f0f921\"]]}],\"contourcarpet\":[{\"type\":\"contourcarpet\",\"colorbar\":{\"outlinewidth\":0,\"ticks\":\"\"}}],\"contour\":[{\"type\":\"contour\",\"colorbar\":{\"outlinewidth\":0,\"ticks\":\"\"},\"colorscale\":[[0.0,\"#0d0887\"],[0.1111111111111111,\"#46039f\"],[0.2222222222222222,\"#7201a8\"],[0.3333333333333333,\"#9c179e\"],[0.4444444444444444,\"#bd3786\"],[0.5555555555555556,\"#d8576b\"],[0.6666666666666666,\"#ed7953\"],[0.7777777777777778,\"#fb9f3a\"],[0.8888888888888888,\"#fdca26\"],[1.0,\"#f0f921\"]]}],\"surface\":[{\"type\":\"surface\",\"colorbar\":{\"outlinewidth\":0,\"ticks\":\"\"},\"colorscale\":[[0.0,\"#0d0887\"],[0.1111111111111111,\"#46039f\"],[0.2222222222222222,\"#7201a8\"],[0.3333333333333333,\"#9c179e\"],[0.4444444444444444,\"#bd3786\"],[0.5555555555555556,\"#d8576b\"],[0.6666666666666666,\"#ed7953\"],[0.7777777777777778,\"#fb9f3a\"],[0.8888888888888888,\"#fdca26\"],[1.0,\"#f0f921\"]]}],\"mesh3d\":[{\"type\":\"mesh3d\",\"colorbar\":{\"outlinewidth\":0,\"ticks\":\"\"}}],\"scatter\":[{\"fillpattern\":{\"fillmode\":\"overlay\",\"size\":10,\"solidity\":0.2},\"type\":\"scatter\"}],\"parcoords\":[{\"type\":\"parcoords\",\"line\":{\"colorbar\":{\"outlinewidth\":0,\"ticks\":\"\"}}}],\"scatterpolargl\":[{\"type\":\"scatterpolargl\",\"marker\":{\"colorbar\":{\"outlinewidth\":0,\"ticks\":\"\"}}}],\"bar\":[{\"error_x\":{\"color\":\"#2a3f5f\"},\"error_y\":{\"color\":\"#2a3f5f\"},\"marker\":{\"line\":{\"color\":\"#E5ECF6\",\"width\":0.5},\"pattern\":{\"fillmode\":\"overlay\",\"size\":10,\"solidity\":0.2}},\"type\":\"bar\"}],\"scattergeo\":[{\"type\":\"scattergeo\",\"marker\":{\"colorbar\":{\"outlinewidth\":0,\"ticks\":\"\"}}}],\"scatterpolar\":[{\"type\":\"scatterpolar\",\"marker\":{\"colorbar\":{\"outlinewidth\":0,\"ticks\":\"\"}}}],\"histogram\":[{\"marker\":{\"pattern\":{\"fillmode\":\"overlay\",\"size\":10,\"solidity\":0.2}},\"type\":\"histogram\"}],\"scattergl\":[{\"type\":\"scattergl\",\"marker\":{\"colorbar\":{\"outlinewidth\":0,\"ticks\":\"\"}}}],\"scatter3d\":[{\"type\":\"scatter3d\",\"line\":{\"colorbar\":{\"outlinewidth\":0,\"ticks\":\"\"}},\"marker\":{\"colorbar\":{\"outlinewidth\":0,\"ticks\":\"\"}}}],\"scattermapbox\":[{\"type\":\"scattermapbox\",\"marker\":{\"colorbar\":{\"outlinewidth\":0,\"ticks\":\"\"}}}],\"scatterternary\":[{\"type\":\"scatterternary\",\"marker\":{\"colorbar\":{\"outlinewidth\":0,\"ticks\":\"\"}}}],\"scattercarpet\":[{\"type\":\"scattercarpet\",\"marker\":{\"colorbar\":{\"outlinewidth\":0,\"ticks\":\"\"}}}],\"carpet\":[{\"aaxis\":{\"endlinecolor\":\"#2a3f5f\",\"gridcolor\":\"white\",\"linecolor\":\"white\",\"minorgridcolor\":\"white\",\"startlinecolor\":\"#2a3f5f\"},\"baxis\":{\"endlinecolor\":\"#2a3f5f\",\"gridcolor\":\"white\",\"linecolor\":\"white\",\"minorgridcolor\":\"white\",\"startlinecolor\":\"#2a3f5f\"},\"type\":\"carpet\"}],\"table\":[{\"cells\":{\"fill\":{\"color\":\"#EBF0F8\"},\"line\":{\"color\":\"white\"}},\"header\":{\"fill\":{\"color\":\"#C8D4E3\"},\"line\":{\"color\":\"white\"}},\"type\":\"table\"}],\"barpolar\":[{\"marker\":{\"line\":{\"color\":\"#E5ECF6\",\"width\":0.5},\"pattern\":{\"fillmode\":\"overlay\",\"size\":10,\"solidity\":0.2}},\"type\":\"barpolar\"}],\"pie\":[{\"automargin\":true,\"type\":\"pie\"}]},\"layout\":{\"autotypenumbers\":\"strict\",\"colorway\":[\"#636efa\",\"#EF553B\",\"#00cc96\",\"#ab63fa\",\"#FFA15A\",\"#19d3f3\",\"#FF6692\",\"#B6E880\",\"#FF97FF\",\"#FECB52\"],\"font\":{\"color\":\"#2a3f5f\"},\"hovermode\":\"closest\",\"hoverlabel\":{\"align\":\"left\"},\"paper_bgcolor\":\"white\",\"plot_bgcolor\":\"#E5ECF6\",\"polar\":{\"bgcolor\":\"#E5ECF6\",\"angularaxis\":{\"gridcolor\":\"white\",\"linecolor\":\"white\",\"ticks\":\"\"},\"radialaxis\":{\"gridcolor\":\"white\",\"linecolor\":\"white\",\"ticks\":\"\"}},\"ternary\":{\"bgcolor\":\"#E5ECF6\",\"aaxis\":{\"gridcolor\":\"white\",\"linecolor\":\"white\",\"ticks\":\"\"},\"baxis\":{\"gridcolor\":\"white\",\"linecolor\":\"white\",\"ticks\":\"\"},\"caxis\":{\"gridcolor\":\"white\",\"linecolor\":\"white\",\"ticks\":\"\"}},\"coloraxis\":{\"colorbar\":{\"outlinewidth\":0,\"ticks\":\"\"}},\"colorscale\":{\"sequential\":[[0.0,\"#0d0887\"],[0.1111111111111111,\"#46039f\"],[0.2222222222222222,\"#7201a8\"],[0.3333333333333333,\"#9c179e\"],[0.4444444444444444,\"#bd3786\"],[0.5555555555555556,\"#d8576b\"],[0.6666666666666666,\"#ed7953\"],[0.7777777777777778,\"#fb9f3a\"],[0.8888888888888888,\"#fdca26\"],[1.0,\"#f0f921\"]],\"sequentialminus\":[[0.0,\"#0d0887\"],[0.1111111111111111,\"#46039f\"],[0.2222222222222222,\"#7201a8\"],[0.3333333333333333,\"#9c179e\"],[0.4444444444444444,\"#bd3786\"],[0.5555555555555556,\"#d8576b\"],[0.6666666666666666,\"#ed7953\"],[0.7777777777777778,\"#fb9f3a\"],[0.8888888888888888,\"#fdca26\"],[1.0,\"#f0f921\"]],\"diverging\":[[0,\"#8e0152\"],[0.1,\"#c51b7d\"],[0.2,\"#de77ae\"],[0.3,\"#f1b6da\"],[0.4,\"#fde0ef\"],[0.5,\"#f7f7f7\"],[0.6,\"#e6f5d0\"],[0.7,\"#b8e186\"],[0.8,\"#7fbc41\"],[0.9,\"#4d9221\"],[1,\"#276419\"]]},\"xaxis\":{\"gridcolor\":\"white\",\"linecolor\":\"white\",\"ticks\":\"\",\"title\":{\"standoff\":15},\"zerolinecolor\":\"white\",\"automargin\":true,\"zerolinewidth\":2},\"yaxis\":{\"gridcolor\":\"white\",\"linecolor\":\"white\",\"ticks\":\"\",\"title\":{\"standoff\":15},\"zerolinecolor\":\"white\",\"automargin\":true,\"zerolinewidth\":2},\"scene\":{\"xaxis\":{\"backgroundcolor\":\"#E5ECF6\",\"gridcolor\":\"white\",\"linecolor\":\"white\",\"showbackground\":true,\"ticks\":\"\",\"zerolinecolor\":\"white\",\"gridwidth\":2},\"yaxis\":{\"backgroundcolor\":\"#E5ECF6\",\"gridcolor\":\"white\",\"linecolor\":\"white\",\"showbackground\":true,\"ticks\":\"\",\"zerolinecolor\":\"white\",\"gridwidth\":2},\"zaxis\":{\"backgroundcolor\":\"#E5ECF6\",\"gridcolor\":\"white\",\"linecolor\":\"white\",\"showbackground\":true,\"ticks\":\"\",\"zerolinecolor\":\"white\",\"gridwidth\":2}},\"shapedefaults\":{\"line\":{\"color\":\"#2a3f5f\"}},\"annotationdefaults\":{\"arrowcolor\":\"#2a3f5f\",\"arrowhead\":0,\"arrowwidth\":1},\"geo\":{\"bgcolor\":\"white\",\"landcolor\":\"#E5ECF6\",\"subunitcolor\":\"white\",\"showland\":true,\"showlakes\":true,\"lakecolor\":\"white\"},\"title\":{\"x\":0.05},\"mapbox\":{\"style\":\"light\"}}},\"xaxis\":{\"anchor\":\"y\",\"domain\":[0.0,1.0]},\"yaxis\":{\"anchor\":\"x\",\"domain\":[0.0,1.0],\"autorange\":\"reversed\"},\"coloraxis\":{\"colorscale\":[[0.0,\"#0d0887\"],[0.1111111111111111,\"#46039f\"],[0.2222222222222222,\"#7201a8\"],[0.3333333333333333,\"#9c179e\"],[0.4444444444444444,\"#bd3786\"],[0.5555555555555556,\"#d8576b\"],[0.6666666666666666,\"#ed7953\"],[0.7777777777777778,\"#fb9f3a\"],[0.8888888888888888,\"#fdca26\"],[1.0,\"#f0f921\"]]},\"margin\":{\"t\":60}},                        {\"responsive\": true}                    ).then(function(){\n",
       "                            \n",
       "var gd = document.getElementById('fc9d325b-9ab3-4b44-9962-9341f23f0d88');\n",
       "var x = new MutationObserver(function (mutations, observer) {{\n",
       "        var display = window.getComputedStyle(gd).display;\n",
       "        if (!display || display === 'none') {{\n",
       "            console.log([gd, 'removed!']);\n",
       "            Plotly.purge(gd);\n",
       "            observer.disconnect();\n",
       "        }}\n",
       "}});\n",
       "\n",
       "// Listen for the removal of the full notebook cells\n",
       "var notebookContainer = gd.closest('#notebook-container');\n",
       "if (notebookContainer) {{\n",
       "    x.observe(notebookContainer, {childList: true});\n",
       "}}\n",
       "\n",
       "// Listen for the clearing of the current output cell\n",
       "var outputEl = gd.closest('.output');\n",
       "if (outputEl) {{\n",
       "    x.observe(outputEl, {childList: true});\n",
       "}}\n",
       "\n",
       "                        })                };                });            </script>        </div>"
      ]
     },
     "metadata": {},
     "output_type": "display_data"
    }
   ],
   "source": [
    "fig.show()"
   ]
  },
  {
   "cell_type": "code",
   "execution_count": 39,
   "metadata": {},
   "outputs": [],
   "source": [
    "# Check different threshold fractions and their effect on mutual information\n",
    "mi_animation_arr = np.zeros((40,51,8))\n",
    "ii = 0\n",
    "for threshold_fraction in np.arange(0.2,0.6,0.01):\n",
    "    # define thresholds for pollutants\n",
    "    threshold_no2 = 80 * threshold_fraction\n",
    "    threshold_so2 = 80 * threshold_fraction\n",
    "    threshold_pm = 60 * threshold_fraction\n",
    "    threshold_co = 2000 * threshold_fraction\n",
    "\n",
    "    mi_city_arr = np.zeros((51,8))\n",
    "\n",
    "    for jj, city in enumerate(city_list):\n",
    "        # create X (feature matrix)\n",
    "        X = np.hstack((df_no2.filter(like=city, axis=1).to_numpy(),\n",
    "                       df_so2.filter(like=city, axis=1).to_numpy(),\n",
    "                       df_pm.filter(like= city, axis=1).to_numpy(),\n",
    "                       df_co.filter(like= city, axis=1).to_numpy()))\n",
    "        # apply thresholds to each column of feature matrix X\n",
    "        X[:,0][X[:,0] < threshold_no2] = 0.0\n",
    "        X[:,1][X[:,1] < threshold_so2] = 0.0\n",
    "        X[:,2][X[:,2] < threshold_pm] = 0.0\n",
    "        X[:,3][X[:,3] < threshold_co] = 0.0\n",
    "        # scale all elements to units of corresponding thresholds\n",
    "        # therefore divide each column by its threshold\n",
    "        # note: zero elements should remain zero\n",
    "        X[:,0] = X[:,0] / threshold_no2\n",
    "        X[:,1] = X[:,1] / threshold_so2\n",
    "        X[:,2] = X[:,2] / threshold_pm\n",
    "        X[:,3] = X[:,3] / threshold_co\n",
    "\n",
    "\n",
    "\n",
    "        # Make X into dataframe so that pandas groupby can be used\n",
    "        df_X = pd.DataFrame(X)\n",
    "        # insert the date so that it can be a key used for Grouper\n",
    "        df_X.insert(0,'date',pollutant_dates)\n",
    "        # for each month, sum up the over threshold days scaled by\n",
    "        # the thresholds themselves. If the threshold is 80 and an entry\n",
    "        # is 120, that days entry will be 1.5\n",
    "        df_X = df_X.groupby(pd.Grouper(key='date', freq='1M')).sum()\n",
    "        # create new feature matrix X with monthly data points\n",
    "        X = df_X.to_numpy()\n",
    "        assert X.shape == (55,4), f'for {city} matrix shape: {X.shape} not equal to (55,4)'\n",
    "        # Add new features: the one month change in the pollutant concentration\n",
    "        # This will result in one less row for the overall feature data matrix\n",
    "        X_delta = X[1:,:] - X[:54,:]\n",
    "        # combine new difference features with original features\n",
    "        X_e = np.hstack((X[1:,:], X_delta))\n",
    "        assert X_e.shape == (54,8), f'for {city} matrix shape: {X_e.shape} not equal to (54,8)'\n",
    "        # create response, y - monthly unemployment data\n",
    "        y = df.filter(like=city, axis=1).to_numpy().flatten()\n",
    "        # remove 1st data point of y to be compatible with X_e containing the difference features\n",
    "        y_e = y[1:]\n",
    "\n",
    "        # Investigate mutual information between the response, unemployment rate\n",
    "        # and each feature. The reported mutual information for each city will be scaled\n",
    "        # by the feature with the maximum value--the highest mutual information value will be one\n",
    "        # https://scikit-learn.org/stable/modules/generated/sklearn.feature_selection.mutual_info_regression.html\n",
    "        mi = mutual_info_regression(X_e, y_e, random_state=37)\n",
    "\n",
    "        if np.max(mi) != 0.0:\n",
    "            mi_scaled = mi / np.max(mi)\n",
    "        else:\n",
    "            mi_scaled = mi\n",
    "        mi_city_arr[jj] = mi_scaled\n",
    "        \n",
    "    mi_animation_arr[[ii]] = mi_city_arr\n",
    "    ii += 1"
   ]
  },
  {
   "cell_type": "code",
   "execution_count": 54,
   "metadata": {},
   "outputs": [
    {
     "data": {
      "application/vnd.plotly.v1+json": {
       "config": {
        "plotlyServerURL": "https://plot.ly"
       },
       "data": [
        {
         "hovertemplate": "x: %{x}<br>y: %{y}<extra></extra>",
         "name": "0",
         "source": "data:image/png;base64,iVBORw0KGgoAAAANSUhEUgAAAAgAAAAzCAAAAACP2RY5AAABTklEQVR4Xj3Ov0vUARzG8df3y0kmcS5234grLkQQw7yKfg0GJxEoXKFxYVRC3B9gww0llLQURERDETRFHSS0BYVcEE01NfQPNESCQ4MmZJTwafCr65vneT+P8cLnqBV2lB0RT8y4gACuhrnR+Y40Sz7G2TtvguTTD24Hk/Hi6Kozajgh+HpwXkyMnfaUw79inLWpTP+1WNDOfQbj5mOvndJwPWczRNUBheAYe9NqshjrXYealLePRANVKpV25l6YtOLtPkGWJ3qdDHo4Jy4P+N5JN2a/tYv1/R2RvLQn9+hGKk2Ku8OASyXNKNncCRjjePQY1LdFgueGLW0ZuBH1BXOmNgkSol56tzat9b5BvPpLI75UHriouN1rIeuPgp9YTh5JjTzr/b0Rrty/FSxKuv7F6K6hh7QIavmJ7rIU/BkmJjiPdGSn+NDErLsC/wGGjHOx9K5LTAAAAABJRU5ErkJggg==",
         "type": "image",
         "xaxis": "x",
         "yaxis": "y"
        }
       ],
       "frames": [
        {
         "data": [
          {
           "name": "0",
           "source": "data:image/png;base64,iVBORw0KGgoAAAANSUhEUgAAAAgAAAAzCAAAAACP2RY5AAABTklEQVR4Xj3Ov0vUARzG8df3y0kmcS5234grLkQQw7yKfg0GJxEoXKFxYVRC3B9gww0llLQURERDETRFHSS0BYVcEE01NfQPNESCQ4MmZJTwafCr65vneT+P8cLnqBV2lB0RT8y4gACuhrnR+Y40Sz7G2TtvguTTD24Hk/Hi6Kozajgh+HpwXkyMnfaUw79inLWpTP+1WNDOfQbj5mOvndJwPWczRNUBheAYe9NqshjrXYealLePRANVKpV25l6YtOLtPkGWJ3qdDHo4Jy4P+N5JN2a/tYv1/R2RvLQn9+hGKk2Ku8OASyXNKNncCRjjePQY1LdFgueGLW0ZuBH1BXOmNgkSol56tzat9b5BvPpLI75UHriouN1rIeuPgp9YTh5JjTzr/b0Rrty/FSxKuv7F6K6hh7QIavmJ7rIU/BkmJjiPdGSn+NDErLsC/wGGjHOx9K5LTAAAAABJRU5ErkJggg==",
           "type": "image"
          }
         ],
         "layout": {
          "height": 700,
          "margin": {
           "t": 60
          },
          "width": 700
         },
         "name": "0"
        },
        {
         "data": [
          {
           "name": "1",
           "source": "data:image/png;base64,iVBORw0KGgoAAAANSUhEUgAAAAgAAAAzCAAAAACP2RY5AAABRElEQVR4Xj3NTWjOAQDH8c//ydS0x7L0iLZnWVvPWAsHJ8zmpSkHxYraQ2rlMuG5kgt5uTg4oJSQlwMHS7TTLl4u5CrKxfSUCy678nN4nva7fr99f0525M90Rxeb5Mm2a3ZZ3pnY6c1xpc3F4x5vl4Iv6fUZjTw/v2C/SQzKnPiNHUovV/VUX2c1SzZWJy5kRh62g9359unQKddd9j6HwVWy1xYrwxBVxu7dVRsNfQQllUwXZZOsW3+rTz1olE7HMy0D74zlAHTK3AkfOHL0awy5I9VZ/d0gKi3dsJi1ttyfqbLRFoM9bE2nQb/aYY2qm8tYKI3k4H2LxtsCTGXf/MWuhpHs5uelF2zP094rznmFGmkVJgaoBSucLWYq88d+/LvdJHUV3yEN9YJHhHEFGV4s1mzA3zDwUZqty1JzQSv6wA3Bf0XWchONPxzdAAAAAElFTkSuQmCC",
           "type": "image"
          }
         ],
         "layout": {
          "height": 700,
          "margin": {
           "t": 60
          },
          "width": 700
         },
         "name": "1"
        },
        {
         "data": [
          {
           "name": "2",
           "source": "data:image/png;base64,iVBORw0KGgoAAAANSUhEUgAAAAgAAAAzCAAAAACP2RY5AAABUklEQVR4Xi3PvWuTARzE8c8TnkdtLRJpsSpGU6uWSsQliSIiiqSKxEgdBCtYCgVBRJA6RXBq/wBftoggbroGcdShUHDROlgIVKWDpeBWdBF+Dk9vveN7d2az6HWy3RwRT8cfqkEJURDujr1dTNLB5M3n5MnecFq84+dauvSMhfKhy+pcHBPTXtiDYDFzYCUahGEtG0NiXq7D8bHXqrrvtuuxC0wRN53UHxynnJjfMZecc4ZRAgVZzCRVNYx0aUdKuVn5mvzJC+GVaiwZgGg+8umUyefLcWnaeWFGqwRCfx53RXhMcSCuFaW5B3XGY7uDjgZ6sE3Uj/lGShb49eHOqtCATULqy8qcKJaT4fWr3fT13xK16IwubGHvkZ8VG3iAdZH0/avc+tFq/C6cXZ24sDzhvZET8VJfyiSxjwqis9NQG9FmP9+D0g0Km02x1kR3a/t/1kZysdkcf8gAAAAASUVORK5CYII=",
           "type": "image"
          }
         ],
         "layout": {
          "height": 700,
          "margin": {
           "t": 60
          },
          "width": 700
         },
         "name": "2"
        },
        {
         "data": [
          {
           "name": "3",
           "source": "data:image/png;base64,iVBORw0KGgoAAAANSUhEUgAAAAgAAAAzCAAAAACP2RY5AAABU0lEQVR4XjXPP0jUcRjH8df9/B2FdYhd4EFknATZXRF05BRFaCAHaXL9oSmHmsqWo38gjQVORgUKBjkVNrgl0VaDbV0QBEFLRhBRLREFxdPwtfF5nvf78/AxVvwT54tlKuLKrgmnINBwmYvivsLEcvzNrxXfYam9SXRYjJX+mULDVhwRxEat7h0LBJX2hxFCv0/epDTIbsbcma4DLqkbjBIYJobVCAbZl/WtTsfPh3sOUU9mZjLapzsOYtuFbscD7Z7H4ZVwNSW/tBad9CVWW77PunXuS9ipKQbusD+dEiEcc9tvqjeir7q+BEPUojcxox7opSTu9rj335Sf2Px+/BH19Znct7fXRblcaDyZXImZLRnb4+TXBUwnpukpNAO/MCusze2efxEfnxdqAxuqS5/PzhtvxaiuUlKmvN6LyEsWIaYYkeofJV8+bGgse8YPUVHlH8lvdoTunhBWAAAAAElFTkSuQmCC",
           "type": "image"
          }
         ],
         "layout": {
          "height": 700,
          "margin": {
           "t": 60
          },
          "width": 700
         },
         "name": "3"
        },
        {
         "data": [
          {
           "name": "4",
           "source": "data:image/png;base64,iVBORw0KGgoAAAANSUhEUgAAAAgAAAAzCAAAAACP2RY5AAABRklEQVR4XkXMTWjOAQAG8N//v729dniHw8petmls1hA7DNMo0cRKPmpxWBQuk522m1xEXHaglDhwmnBSKG05uDsod5+lcbDLkMPjsI3b0/P0e5ys5NuJyirIhGF7IbggCw7enxtTkLfbTK6x2qu1XYLTebHlRnFcJ9O9Qnimfa7FdzqmcqTBXa3r4tbS3UqKfH76pv/T1WMG1dLBeYbJYb2aQhc9Zd/zxzn0YeQJZxZhaeHKYDVWqNg01m48GJUpD8WQJpT7/U6b5o3IL2aYHVpIZbcB8wLUlwM2I9TLqOv8V9vKhjRT/oj5oy9tp1VUnVrcQ7nj5sXs+ejsf+X9g1Gp9rg8M2Fy6mdoy7ld9xYBKN3xlYZ9yyQl3dfdfqes+TOw8zXWSzdVwrU+YxoLKWr6S6TGiMZLLYUUj8i0L8ZpPDCbQoW/WzJvkMc3lqEAAAAASUVORK5CYII=",
           "type": "image"
          }
         ],
         "layout": {
          "height": 700,
          "margin": {
           "t": 60
          },
          "width": 700
         },
         "name": "4"
        },
        {
         "data": [
          {
           "name": "5",
           "source": "data:image/png;base64,iVBORw0KGgoAAAANSUhEUgAAAAgAAAAzCAAAAACP2RY5AAABW0lEQVR4Xj3OT2jPcRzH8cfn67s/P7L2m7WEfiKMZZts2gErIsuBlJZI7VeilpMcdnJRQ1YKZSFJTjtQXJaUHZX6HVj55c+Ji5RdtAzzdvj9eB1f9Xw9X841xNezDSsgLqvohIAkUnnf7Nwk6xffX4/zG3Wb3lMQ8m+XDvx6UkwjdqBP8JEPDkfJfJP8TQx15IWF7v1/0uwFXYEFTMfdXfcfq9hNrLS8xDhxSpe2YCudecvv+P68UBljqP7DVIxoVUTvLWYCx5ZWwquM9qvVpD8bl0bXWZu0ihd8vp3PHfrU6Myafn3CEmQnsaiWMiIz7IvhSPUSm9hek/50Y3OQPVitWk31J4J8b2/HWLrj9D8mtD+b6DkRjTsdnSqbGX0ZbIkrbtYA87CNYMPT/1TWfHxgsvlgRKLpR/L2oSPFGKSlRj0yAe/altXkcZEm7tVHDfQIJbJVryNdG+QvO2Z23bI4EaAAAAAASUVORK5CYII=",
           "type": "image"
          }
         ],
         "layout": {
          "height": 700,
          "margin": {
           "t": 60
          },
          "width": 700
         },
         "name": "5"
        },
        {
         "data": [
          {
           "name": "6",
           "source": "data:image/png;base64,iVBORw0KGgoAAAANSUhEUgAAAAgAAAAzCAAAAACP2RY5AAABTElEQVR4XjXMPUiUARzH8c/z+Mh56VEUGpTSdVlg0L1UV3pQcmFUtBYtDcE1SVJItNrS6N4a5tJSDRY2NPcyXS1HRK+0FAmBcdjyb9Abv19+v689/dEZ658YRyw4YxRmEdnLZvLP8p8k4eOBpFofw7xBIWuUFytPPyXX1FARl9ILrLQvOuT1dp7E2VTka9ML6e95978hSDvd2wdbPFMxtDauGNwlTqnaFgyQz0obb4+vrK/uZ4ZA6kTsbQD7bmRmQ9GUYDn9bPdUQsdzV94EOQPiOu8fZt3Gh5xzRwpaw0GRdMcvCl82Q7f6moKSUNo0gVcmOR2ga3QycHQaOZtSkPa1Wy8w0nvJLOXOP7o8dCw93Hi3+n1xfc6uajx2FQ+2NjBnpAdNgfISG2GYryfzUedOFNRwk4nwE2Jm0A8p1v66V7dTr1gT5SLaW/wf74NsXiDADC4AAAAASUVORK5CYII=",
           "type": "image"
          }
         ],
         "layout": {
          "height": 700,
          "margin": {
           "t": 60
          },
          "width": 700
         },
         "name": "6"
        },
        {
         "data": [
          {
           "name": "7",
           "source": "data:image/png;base64,iVBORw0KGgoAAAANSUhEUgAAAAgAAAAzCAAAAACP2RY5AAABUUlEQVR4Xi3OPUhVcRyH8c/5ewVvinQUQ4TIu2gS9iKIBS0RvUDUUESgVENZk0uQEkQ2lWRCYEtTLUEhvRBBCQVNUdAQ4SIFN9wy0HALuvwazvnuz/d5aI4XmvdDTGbsgoDkMNyT5RvztaPZkXY8Qqic+Xa+5e3f7KS9OCHupAof850mrea8id2y2DS4Xlle/+7KUnk5YE6saaTLOl4Od2xPXCLGHNMf1JClxquHfy4s9nG17GirRl4baYKRX1s9jULJkmfuQ6TM82hoHdcihvhMvP553Q3durqCXiwITYrdPj4vXMzVd+SFJfDAHg4FbAudm79ippu+soRQTa7dik/Tekqqf40fXw6+i/azbv6eVp+NJybyWDaIf8RKwZorgPIpOTX0uHdmhYG2fdGTRoc5F6n6Ae8Z3VAPhFaLMH6AmLJlgbtBWj0tGhnGzEYF/wHHPXcBT6WWdgAAAABJRU5ErkJggg==",
           "type": "image"
          }
         ],
         "layout": {
          "height": 700,
          "margin": {
           "t": 60
          },
          "width": 700
         },
         "name": "7"
        },
        {
         "data": [
          {
           "name": "8",
           "source": "data:image/png;base64,iVBORw0KGgoAAAANSUhEUgAAAAgAAAAzCAAAAACP2RY5AAABUklEQVR4XjXOT2jPcRzH8cfnu++v+dlE2tRa5rdaKDP8TltWNIepuaBGORD6hcP8uEppZ0cZJSVpB1f/FomUQrlMscOP2oEDsYNY+/3ydthvz/vr+XwlhaXZgcJgOTfqtvqrhmVCLtK9rrtVWIjjLsKhYIDh3pjpXpWPZRu/pF+nFutHE753VDdvFy3MNoamXW/tPzORvQjPA5Pkl+sfin/uC6PiZQ+oEMccVgr6kVoXP179unptKLwhQEeUH61pWdes//wkVxbsccBZ44QlB2NGO0UxwrfJ/MFr+z9XutAZ25RwTthkmdPBVBb0necp4iZkO6WHAe3B8DXr1TG18kQ4ktl6IcZ6zSVEcqKUdT5+O/gvnvymUsknRt6F97sasdCNZ24MBeMrgh9Umya1HbfSpVrYZ0swvQFRBCeZz8wH/mprbu8wF/oCV0Ax9kJNsJv/GQB+VKhlUPcAAAAASUVORK5CYII=",
           "type": "image"
          }
         ],
         "layout": {
          "height": 700,
          "margin": {
           "t": 60
          },
          "width": 700
         },
         "name": "8"
        },
        {
         "data": [
          {
           "name": "9",
           "source": "data:image/png;base64,iVBORw0KGgoAAAANSUhEUgAAAAgAAAAzCAAAAACP2RY5AAABVklEQVR4XkXQT2jOcRwH8Nfv+zz786g9NlOkrU09etBDWP5E27Ic9CQ5ryhyXaZlShHFFaeVg5tSTsrCQdMOywFDSytPlHqSlVLzSLl8dnieeNf79P5T77ezbfF+d9uxk2yP0/qBgCTULdySnIlORxr/FGn9mCcHNjuaqnPZt8HvsQfiscuzKTbKVr7ObXBl3b7547mY4j7DQXZnZPHXxczb9HLofKPCb3YRO2xVCRLbsq7VG/dK5c9dLgRLSJ1ZDP3I5WDyL3EtsdIek1kvblcQKSwefq29oSBq1Gfy438MG+uTX67Jd3/BhNCjiRMx6JwajzQ3RQnSuKwnoDs4eN2AoK9OlemWVWkipjrAQJDr5eG76nQUb+a3vFl+uqm4+km/53FolHRJwci8j63jtDpyMLP/lbuxoKwcOy1h9Kco6nCK2azpfKHwPxstPkN44ANcFXthDR0UdWr2AIZxAAAAAElFTkSuQmCC",
           "type": "image"
          }
         ],
         "layout": {
          "height": 700,
          "margin": {
           "t": 60
          },
          "width": 700
         },
         "name": "9"
        },
        {
         "data": [
          {
           "name": "10",
           "source": "data:image/png;base64,iVBORw0KGgoAAAANSUhEUgAAAAgAAAAzCAAAAACP2RY5AAABSklEQVR4Xk3OwYuMcRgH8M/vfQez2lkapLds3p1SOxuxMty29rSbHaUQR3ExSu0Ff4KTHCyy2+ZgrVonB7mtEy6UGqGmnJSSk/ZC8ji8Dr6X5/Lt83wVYu2gE2cRl7X8nw8WY3VedvhbTKYLeyBwmtZwPOls0cr2baQvxc8Yhdthjthp5PrriWVH6uOPZR/D3XDGgNT48ax/oOuXJLp1tnOUmDWmHWymljUsjD56ebzkSvXNnby/O5o5zN8kuuqmxCGr6ESOLGxayKWBIdHj/VhtasRb0/uxK7Yp0as4PHfrZDhmBcQ9REvlDJ17x1UpSCtyDxE0qzHfobwYmpUUkGbaneWZa8XebPBmsP6n/fW83x6EOcyKxR7Tyn/l6uxQWF/q9PuvYslWlzZuiBLhaaNqaasFwrDPcGqCWONTRdQmx4uIJNyv4Bd/Afytccwvk/tsAAAAAElFTkSuQmCC",
           "type": "image"
          }
         ],
         "layout": {
          "height": 700,
          "margin": {
           "t": 60
          },
          "width": 700
         },
         "name": "10"
        },
        {
         "data": [
          {
           "name": "11",
           "source": "data:image/png;base64,iVBORw0KGgoAAAANSUhEUgAAAAgAAAAzCAAAAACP2RY5AAABSUlEQVR4Xj3OT2jOAQDG8c/v51222zTGQW2ZbRlWaMuyHZYdFLbSIqXNZctlHIhYDjug5Ca5vImUpPxpZWbaXe0ioXZYSrmgXLiQHod3PLfnqe+3xwGZ6TN8h7FM95zVqZZgUZyeVmbu+5JbvxQkpZ5GpNpZZ1O5X/Gp9Xf2QSZ9VqZOsW1l5I2D+t+ttZKa6zYat19oT7/HOmUUAxwnl+zREVBf2aD6tLvl5SzhBiptzTm0w5q9GDxJvlT0b75b/VAE0cRz0Tt6k7GCtzsLC18Nn8qIE7i2PrRiSGwEPzzaHVcVWkbqzIfaR+6rPxPOGwp9r1b3FzQwv9qqbVPRxD/qY3nxyJ/DWdzyU2/XjK7BXFeRhWPw0Hhec8/R0PCfYbl8MNnxJLPLS7gS5sYRl2tizd2yC+8RJc9aMMC3VUW7refWEYsmTJC/8XJ35VyVJA4AAAAASUVORK5CYII=",
           "type": "image"
          }
         ],
         "layout": {
          "height": 700,
          "margin": {
           "t": 60
          },
          "width": 700
         },
         "name": "11"
        },
        {
         "data": [
          {
           "name": "12",
           "source": "data:image/png;base64,iVBORw0KGgoAAAANSUhEUgAAAAgAAAAzCAAAAACP2RY5AAABQElEQVR4Xk3OwWvOAQDG8c/vRxbZhvaG17tsrDAlWdpaWDtok71zcEQ57CBtpixKiBLS+AMcpFbvjbmtJTvLRRyWOLFwcHZbPQ4v8Ryfnuf5Pi7KyAHHLtObKd3+Kkr3ZN4TZk7kA1OwP6BNnu9hshxQXB2U7ZCDZpmn9jbHe21ydHGb0BK7Oifg5sKltDiMPNgBzpO7diubu/vKPh9PNr5fOcIFAt2V1O9bA8P1pvdw3OicIB6jjKFXX4A74dQL1/pyxljLZjpCF7pED7S+My3O6ifjPhXIVgrlexu6I4MGZqiFIsXG9nIFvmnCUz29rL0Ja74e2vtjOo2dc3rW3WjrlEdrP1e3jP5aKbhtdXbRrfgaWv/rXC8mKwtPX9bOvcFIP3mNGKtQUuj8maU/6WX+4VepBx2qWQ9Lnh1qDMtvxMxwS0OG5ecAAAAASUVORK5CYII=",
           "type": "image"
          }
         ],
         "layout": {
          "height": 700,
          "margin": {
           "t": 60
          },
          "width": 700
         },
         "name": "12"
        },
        {
         "data": [
          {
           "name": "13",
           "source": "data:image/png;base64,iVBORw0KGgoAAAANSUhEUgAAAAgAAAAzCAAAAACP2RY5AAABRElEQVR4XkXOz2vPARzH8cf3E5uyduC7IZqv2mWk9M3P0DCzHXyzlV9tbaWsb6HFQS5SC4Uc5DBSKxcH/4KTxcEOjlzHcnCUlULt5fD54nV59+r1fj9fb1NyfL8zI8h1/xWMexRNhUOZ2KRrGhdSxqvzqoNTxeDvSmNCtkDe6lDcW6vnR/re22U4k37dJtarU1SOTdaz7A3S3MA2hsglm1VLbnsx7mNtZv7GTxrlE/Z1pn9W5SUGzpEZHpzWVqajLzpJ8UX32AHdFWSa2WLVyLJvNl5boRq2oiq2g73mHBUNXC5LWnqqrRaeGbxDX+wR5surJyWKWjO968r9QKV/8fG7wwvPPztf3OzplSWf3H+dHTghZ68YO2LqX00cBN9Hdy8+vJi7BlwdPmkpf3ntoFGa4CustMyH1typni7mDLm1wJr8AaMubb/VRmE3AAAAAElFTkSuQmCC",
           "type": "image"
          }
         ],
         "layout": {
          "height": 700,
          "margin": {
           "t": 60
          },
          "width": 700
         },
         "name": "13"
        },
        {
         "data": [
          {
           "name": "14",
           "source": "data:image/png;base64,iVBORw0KGgoAAAANSUhEUgAAAAgAAAAzCAAAAACP2RY5AAABT0lEQVR4Xi3PPUjUcRwG8M/v/HPXqSWFQiq9IVJQQwQRFhEuDYYiUQ6BQxQpaAdFELeZBhFESUMEoqGIZEOkoNDQVkMFLdFQUBANNQgFBzU0fB3+9yzPy/A8PIbFsT5jD7gci/19yriHoPOWF2EGPsZ5V+QxClmyjvHCWKSry+I/xE+fmduq/OrriVDUE/u86U0iDW38+SBd7377d3lbbTdiogGMEud0ac+Lm7Ml7y++XPrRSEt97ZTwmIfofUZMZ0bODFQ6U6AiUAi/Bk8rQFzi9R03DkS/7hJaQ8cejAjDoGLl6H5hSHNUbagjGNd0MBgwfZ9HkYfzT7nLbO5MdFUiawVpBZEOf7/5+92hJzUn09njrAZmYrZKKv+LnU3fJr9Yyw9iXqiStSwcqV0oxpSSBe0CxUAxn7nmNrnc24DRuvlU5x3aYgvblTwXdtkE6V12NNcc8BIAAAAASUVORK5CYII=",
           "type": "image"
          }
         ],
         "layout": {
          "height": 700,
          "margin": {
           "t": 60
          },
          "width": 700
         },
         "name": "14"
        },
        {
         "data": [
          {
           "name": "15",
           "source": "data:image/png;base64,iVBORw0KGgoAAAANSUhEUgAAAAgAAAAzCAAAAACP2RY5AAABN0lEQVR4XkXOzYuNARgF8N97e2+zoDGuaWRurq8yiVyT4RYrkQg1IwlzZzayEUsWNw3ysbHFYorNbMSGNAvZsBD2Uv4AG0XZuuVYvBdncZ56znPOeczLgZa5eW7ltdtK/7D/knMZv6h89yX7CkP/FYeLvDrEVK2eYmazTEJAG08XJ4Lp7dWyPxC3Dp1sp6OGXC1ps0iO2KlVmZue5KUz1y6jHCQ2xSg9bAvLyqlPx4tu81jwTWwkTpgFMs3djrkteWh8BYZfyBguiC4K9f7uXz++Bk7/fbviBSOd1D229MCe5WABB0l1cQU3d9yLdZVpDIo1v3t5M/r8p6NmP/A+6MVHaiutam3qpCFL4DpnxXnKmc+7TA5/f4S+UzJir7Bh9VrBfbqq1mcGCN4O5oT1aXDDHT0pGv4AzP5pEoGW/n0AAAAASUVORK5CYII=",
           "type": "image"
          }
         ],
         "layout": {
          "height": 700,
          "margin": {
           "t": 60
          },
          "width": 700
         },
         "name": "15"
        },
        {
         "data": [
          {
           "name": "16",
           "source": "data:image/png;base64,iVBORw0KGgoAAAANSUhEUgAAAAgAAAAzCAAAAACP2RY5AAABQ0lEQVR4Xi3PMUhVcRiG8d//cLp04d4KU0uQEk0TQQ5CSZQhXLDlLkUkQjREtkQYNungXRoSpMawQIIakoaWhraItjsKpTS0RNDkILW09DWcM718vDzfy2NRDE6bP89WfD1yyX0E2vIiS2Pfmj8gmiw38GEYYSbF5lUG8xOR8ilxQQBPFU3i8Yh8x/X+JFLes58sTSUcrJ0M1hDyEiDu4GHJr7sW7y4Wj25WFYyX0cXkCsGYc4ThRKSJ3fYxoX2rWTFv6XZ0+uK52uGjHjS2xHHcELUrzqDXwuhA+bWXkBE9JNmcei1YtfeF95WTVcJ04DXune2E/nKrjsLobMz9fDmwrWV5vyFeZfPx70V3L31CzJ6iELdxl+zJkPCGNNT3Z/fy782P6sIvf6mEP5uwaLy8viMqNYFnVbYcitNsCDsOtPwH27lsY+Znfx8AAAAASUVORK5CYII=",
           "type": "image"
          }
         ],
         "layout": {
          "height": 700,
          "margin": {
           "t": 60
          },
          "width": 700
         },
         "name": "16"
        },
        {
         "data": [
          {
           "name": "17",
           "source": "data:image/png;base64,iVBORw0KGgoAAAANSUhEUgAAAAgAAAAzCAAAAACP2RY5AAABM0lEQVR4Xj3PT2jOAQDG8c/v95K8Y9mfUu9Ei1yQpb0iSm2aPxFaGkXZtOUqB6RWDtqV3eQoizO77KRcuDAtDnLgYMrBiTnxOPzed7envs+3p8cpaZ41iQtZdtcVBLjGoWxrQj5MuDnVRk8MFJkeYfea9Sl2Rra2HWpdZGYz/UYrofnG0Ra/6uG4IGrUQBr4BX+kvD+fO50vbhcVgr1+KKs8MkY45rRv8Up7tkhx/uvPz5XzmIUxM/IIyr8bZifTg3EZOqOXIzvsNyuon1h9SziuvieFk+XwysrS9D/DBlqsPBi8dsl7N6KjbaDsG+Ld3GHOuf50oyhy+VP3vqXn2zGYezRkEy6i/0GlFT1l/cvg8rPSOt+9FG6tDTrY4qNGVQsWu1a3+N3Ku3Qu9hLxVs3ogf82L2zzSMHrfgAAAABJRU5ErkJggg==",
           "type": "image"
          }
         ],
         "layout": {
          "height": 700,
          "margin": {
           "t": 60
          },
          "width": 700
         },
         "name": "17"
        },
        {
         "data": [
          {
           "name": "18",
           "source": "data:image/png;base64,iVBORw0KGgoAAAANSUhEUgAAAAgAAAAzCAAAAACP2RY5AAABMklEQVR4Xj3PMWuTARjE8d9b38SmlsSoWAsmS6EOFQqCaBQtOkkLShUXRWgnxUmXCCLoJDoIgoIg/QKCBd1KCw4dLDhYKAiCg1BwF1yFc0h8t+N47v7PuSpnLjnB6OV88sgOAjzjSJxmWl7Rh/dBS7/IyiRj5UaKbl26/zM4Sn4cWyxnvl0bLaQoFw6sdqSAl+qD+rRwCrwLzrUQH0d6V/K4+/PFNoaPzIo9bGLuLeGs+27/kgo6ws3JzkCnzZtF92SNgi/ND3IYT+TBDQqdcVvDaG2CTKkmL5uYTuGupe+VWb8+kK+Hzop+Pu+jOigPjnNrd++6OU+ft4UszDzcmXUS6U3pkU0cQjsaapS1sc7u+a3VQsOfC8vSpBHH7R/0/lYhLjYrFndoxDz8RWz4Kpb8A9XLY4ZnAW0dAAAAAElFTkSuQmCC",
           "type": "image"
          }
         ],
         "layout": {
          "height": 700,
          "margin": {
           "t": 60
          },
          "width": 700
         },
         "name": "18"
        },
        {
         "data": [
          {
           "name": "19",
           "source": "data:image/png;base64,iVBORw0KGgoAAAANSUhEUgAAAAgAAAAzCAAAAACP2RY5AAABPklEQVR4Xk3PP0iUARjH8c+93uCZhwaJg0pYXjgcUXGHVKAJIoLQEE39Ga4kCgyUIHByEIcMgmgJXaJJ3KRBaFBxE50sLioomvqz1FIpFE/D21s+y/PA7/t9Hh594kqXk9c5Ew+cUscWgvv0hQEaPFOOC5Lf6hMvc+dDKRdrHZQdoqcgjrmTOmldjMqcXrVgkeWgdxJuxbS75jL0UkJOLPhgZBhhJ3l1OJ4c3Zl6TEZ1C21sYuAhcTXfv3Hwk9nGXSVj6c15ca4odWrMj6qJVRqIlqe223FEXOtXQsGBbHlCdKQiVLWcDgZ9fUTP33/2tWU3jbsXz5v3JfmhL0y8f1t31uyvVtGlWdPC53AbYsl3Vv7xoQKOV0ovxgvvIv96L6qdP9+Uk71OJ6ou/xD4RqbcKGYuZv7PgY/COor+AIvtb+66hOGQAAAAAElFTkSuQmCC",
           "type": "image"
          }
         ],
         "layout": {
          "height": 700,
          "margin": {
           "t": 60
          },
          "width": 700
         },
         "name": "19"
        },
        {
         "data": [
          {
           "name": "20",
           "source": "data:image/png;base64,iVBORw0KGgoAAAANSUhEUgAAAAgAAAAzCAAAAACP2RY5AAABK0lEQVR4Xk3OT2jPAQAF8M/319ZvS36y38TUmoPYQrHfRlF8d5GllD+FklD2J3LZDr/bSnLi4rIUWw5T1GrLxcHFESc3R5wJB+X2HPb1y7u813uv13NYxoe1SgbyyGkvEKDNUJyCnyZz5zVyHzuMFfkxQFMfO3ukdIZsAls5ntFVx2xbJMyH1lPwLVOz9nfRLNAH8pvam1Asu9J1rszC1xNT+2hUR/ql+wDvUE6TodpdY3tmepqfUd/4es3zmzb6mWTxo+uy0lAnmx/61Y9BubjXUVxCPIOCNHTQ5nLmXJUnjH5wRLVa0Tpeup0LvR2LWvcIn1q7GHRvdlwOusVKDllC/rQ9mBC2e/vfnHo58visvEd286XOcNaqsIPg5JZKwA3E+X/Z9xop8OovUjJhODFUdJkAAAAASUVORK5CYII=",
           "type": "image"
          }
         ],
         "layout": {
          "height": 700,
          "margin": {
           "t": 60
          },
          "width": 700
         },
         "name": "20"
        },
        {
         "data": [
          {
           "name": "21",
           "source": "data:image/png;base64,iVBORw0KGgoAAAANSUhEUgAAAAgAAAAzCAAAAACP2RY5AAABIElEQVR4Xk3Pv0vUAQAF8M99sQvj/EGaIJegXghmWHFNN1RgkxSIi0uSQz8GcTAcHAz0H4ggaM4tqa2hwU2ipcjFxZYcq628Tew13FW+6fF+8Hh6ZI5LW8VP6uy9h4AHiDuQ+qbZf061GKo0U1MaKo6bXRe++10TDoABvJuKa1bCIXnK9jd05xncVJFHZ1ppXkSv3MIgHVNfs//w7pcRtNcmxNlW9EYvUcwoT1+8dyrIZ7ArTbxC6ryuWpCX3U6TyroPfeiSK/36MY/4hJK/ZxEdz5c8OddZirebNKIM6WzbbHhs2WLm/ksUxti6PEDVqroQ5R2TFrD2Y1Z+uc/1RlqlcXB1dPxNISvYRc4XhmuhNOgEgkZPm5wUcYSIj3D7D0+NYalPrRwSAAAAAElFTkSuQmCC",
           "type": "image"
          }
         ],
         "layout": {
          "height": 700,
          "margin": {
           "t": 60
          },
          "width": 700
         },
         "name": "21"
        },
        {
         "data": [
          {
           "name": "22",
           "source": "data:image/png;base64,iVBORw0KGgoAAAANSUhEUgAAAAgAAAAzCAAAAACP2RY5AAABJElEQVR4Xm3NsUuUARgG8N/3eYXk1RlXIcKJeFQkgVFCYC6CWmT/QEtLTg1RSUk1VNzcEkFQzUGbOIZLCuoiLjU0W4sidNDU8jScGkTv9r7P8+NFHnJ2s8QQ395A2GYacQWy2Hj9aC9xdUit52ua9JhgdEC++LgXUqM9Pxpc2yXdMmXj/U/t0sT0wux5bx2TZxfgMvKdSpFCMU6lazgryyd6X9j/ZkwuVVnD9SPkXqWx9bu69KmxdVApT3vsvgPzuemdtO44TE7uWBrEORnp142L+05ZJf0dCC95+iPusspkpxOnGC77UtjecEtdK63qX0P9TMyOoOmJGSEOLXtuoeO5LQ90fdDZ61D0VXqPridzaCODyA3/TDBX+8+RV8Evbobj/AHkemEv8YzpvAAAAABJRU5ErkJggg==",
           "type": "image"
          }
         ],
         "layout": {
          "height": 700,
          "margin": {
           "t": 60
          },
          "width": 700
         },
         "name": "22"
        },
        {
         "data": [
          {
           "name": "23",
           "source": "data:image/png;base64,iVBORw0KGgoAAAANSUhEUgAAAAgAAAAzCAAAAACP2RY5AAABG0lEQVR4Xl3OPyzcARjG8c/v50QuQZPikl7V+ZMgF05zzloxNRqxSLoS0YVETDYTi4GVUQwsJFhvNDbpeu1CQmIXm+Xt4Hci3un7vnme530Ql4wep3jk7x0E+IUw3TxsSoiEXK/ujqiPapXzlHR+8rwnmHuA2Q5ivnyC4WCfmOToEvcjG1H8aEOXOP0GfYgSzl5eSs/LcT15UK6znPX4KtpwiLkKUSBfVdAXmk2x3qRo4S61K/4sau3xrxBuhjAmBkvUWHk1DrS/icCa9Gd8N8VOpvksxjFOA1fCou2otZMJSA3zY6JHMvV7NdeoRyLkL1RJuO1P1CbELCeZaQnS/t6ZJC++ZDlbg6RR8G4ClQ9vloxSSgsvXAx0+g+9dVfupE/3QAAAAABJRU5ErkJggg==",
           "type": "image"
          }
         ],
         "layout": {
          "height": 700,
          "margin": {
           "t": 60
          },
          "width": 700
         },
         "name": "23"
        },
        {
         "data": [
          {
           "name": "24",
           "source": "data:image/png;base64,iVBORw0KGgoAAAANSUhEUgAAAAgAAAAzCAAAAACP2RY5AAABIklEQVR4Xl3OPUiVARjF8d9rKtE1UcH8wIJSrJQrtykzJBSDcigiuRC0RBecpBCagkChpKUlaGpyaG0OXB1aosXJBMFoLxpaLqfhvZk4PYeH8z/nIN8YHEfe4T0WA1YQjyEmizelwG09cuc62gtFV7+seouGqRQ5vz9Tbe724mZOmyeX+L6BuF89deCFirRdZNBkmfnQ67KS+XP5PL1c+8TZVtu98kB9gQwXtfqXr7/+VH5oOeDBP5VO9iDPRnQs+tj/Wy5QnGjmRnO75zKNQzAT/FxpkRhS3M1TU2wiBpDZbja41qIeeZXZrkMkGI+52hmuqmfUAXMqW0+CYS+D59bGdC79n4s+C7cqMoAd5ApSPWJAGb/UffwLPqwj9KXDSf4C/3Rbq7YHNaIAAAAASUVORK5CYII=",
           "type": "image"
          }
         ],
         "layout": {
          "height": 700,
          "margin": {
           "t": 60
          },
          "width": 700
         },
         "name": "24"
        },
        {
         "data": [
          {
           "name": "25",
           "source": "data:image/png;base64,iVBORw0KGgoAAAANSUhEUgAAAAgAAAAzCAAAAACP2RY5AAABL0lEQVR4Xl3OsUuUARzG8c/7endhQyHXpUFm4nJIDYEHTkFYONRkJRSFQw055NBykYuTQYO0GBHNTYWbf4BCQ1ODWC61FZQUhBG0PA3vGdEz/fg9z/PlQdZp9ZfY4Guzhjf8bniPWFa2pXHar0d6igNy8pT6eDmi+Djs9g3BGs9KF9h9e+sbljJkZ0rGWV5Bhp7U5+o6jkntMhPu7gPzuLpqMz+ztD79+hUvCPSJZuVeb5MJMuvh1aktDZuTqtjN4AxSsEApK9MOHfFyMHbHMCIXm5zjXq9D2ozdqeBwgku55iCriCtIiXeVHyx6Ghz9WypG6zvF2R+fvpgxuzkoyPF5CxoGZA0Pat3vxf1q3IbgeTGw1xne/rBX9Cg5b3/Vvwq6h///gnTx2ehcmG/5AwtRYM45i8OBAAAAAElFTkSuQmCC",
           "type": "image"
          }
         ],
         "layout": {
          "height": 700,
          "margin": {
           "t": 60
          },
          "width": 700
         },
         "name": "25"
        },
        {
         "data": [
          {
           "name": "26",
           "source": "data:image/png;base64,iVBORw0KGgoAAAANSUhEUgAAAAgAAAAzCAAAAACP2RY5AAABH0lEQVR4XmXPMUjUARTH8c9fjzjo4joT7pSsCBWxGvTQKdCGlgrBRWgry6ZGwY7agsDJJWhocGi7UQdBByFdpLWDNqcmbWpp+zXcnQ295fF+v/f7Ph6yyI0WsjIM5C6DdBA7sKaS+10TUZGpMeVF7/kdFnxHINd5uzr3FWsfr0pDq8peXeyfhjcq6nLyBC7BPelGUbw7PvxU/tlpcqcHrIrprruM3CZfjE6MH7l8kbMazCMFrxiU1lPYvXYqNzEiM49pMKOHFnwe7zN4xna2POLAkPhQ8jBFtXD+b6dt+1vvbLcNFJO8nK2zZOV5WQyc/WjX/swXUZMH2Cht/iqWSYetXuxWqdmYHrp44HWQ0f7Yr+BF7X8N7QnE7HpwpfkX+kZbU+llt34AAAAASUVORK5CYII=",
           "type": "image"
          }
         ],
         "layout": {
          "height": 700,
          "margin": {
           "t": 60
          },
          "width": 700
         },
         "name": "26"
        },
        {
         "data": [
          {
           "name": "27",
           "source": "data:image/png;base64,iVBORw0KGgoAAAANSUhEUgAAAAgAAAAzCAAAAACP2RY5AAABHUlEQVR4Xk2QPUsDYRCEn/e4SDASj7vgGbmQQosELfwkIhIQLFIEKzu7sxESRBCCrZVIKklla2GjtYVa+w9S2tiJXxgREYuxuDfGLXaZ2d1hdgFVIJ8HFFb4H+eAOIGMOQLVI/eTcTCaZAQFBdKBE2DWi3wVaIIOKeE++q/Z3nO37V6w43nvqvIRgWYA1F212krKjW9RzxLu3oPapytDMQjmAKL+MNQB4SB/onRmdvFQ1ba2BbkGIAMxuKixBvCEuAMIUWoMcnYBSGwshgNcI1SuyUHS+WEDEEW4Gsy8cazbAQRAzGcMTLHZAuG0ti5TlI3IomFg2Q1GjZOY6x8/zUJcS+veWImOA1oCc/0natOsJfph//FSBoT4Bvb5BTcLVlo1j10/AAAAAElFTkSuQmCC",
           "type": "image"
          }
         ],
         "layout": {
          "height": 700,
          "margin": {
           "t": 60
          },
          "width": 700
         },
         "name": "27"
        },
        {
         "data": [
          {
           "name": "28",
           "source": "data:image/png;base64,iVBORw0KGgoAAAANSUhEUgAAAAgAAAAzCAAAAACP2RY5AAABFUlEQVR4Xl3OP0uWcRTG8c/vThARhCRzMP/H0yIk5RRECIIpQqCBSEhD0dCQIDTl0uQYtDRGDjU0NLkIvgXfQIGCBC4GmRFCcDXcz3MPneFw8eXLdQ4yzdAUYh8I3qjWFXGkOmxF2R2HSeRmxTfjursrnn84dDFsh6l4r1z79VPu/VjH470BmfW0j1y1xedwqzmBS+2D1bPgQKn+LGfnxqfl7UYxI2bquIio5C9PylttaaKL7ykWzpDCKmQDfBEfYUBcYbSuQqnlyfOGuKsna8c2eaHzwf2FJgbeeZmtWq9pBXp7ue7hazIoi07MY0mr1RFPV2SuK8XvMYUhdx5clum6Sm4jLXztkGb9N22WfrziUXA28g8sWFn60hyVmAAAAABJRU5ErkJggg==",
           "type": "image"
          }
         ],
         "layout": {
          "height": 700,
          "margin": {
           "t": 60
          },
          "width": 700
         },
         "name": "28"
        },
        {
         "data": [
          {
           "name": "29",
           "source": "data:image/png;base64,iVBORw0KGgoAAAANSUhEUgAAAAgAAAAzCAAAAACP2RY5AAAA+UlEQVR4Xk3QLyxFARTH8c+9/o03Np7Nw9izNxMw4isCU9682dgUyhtTZJMUkxVVYLPZ0CRJpAiapokq8Qj3Xs8J55zf+Z3zDQdRZRhCD1nDq/RWIlzA053YLCyPiK6SbhiYJcqWiRoSiJ2PJhYfiDmH/cQwkrXgxh+Hz71cLeWDdHwn9mvnq5eZhAVhJWsbiInUZDcxM6LgpDjAICJhC2I7hRPhHUaFClP+RcBQWzf1xemVdY4QxpIMWN/wlq+n91rR0T6JPJVKjGnNEcS8XXcSDaZlDCK5fha8gIpqmbPMIr4LWBEhzSb/npEbWelFvVO8/HyVj4d+ATAYTu1LX0MnAAAAAElFTkSuQmCC",
           "type": "image"
          }
         ],
         "layout": {
          "height": 700,
          "margin": {
           "t": 60
          },
          "width": 700
         },
         "name": "29"
        },
        {
         "data": [
          {
           "name": "30",
           "source": "data:image/png;base64,iVBORw0KGgoAAAANSUhEUgAAAAgAAAAzCAAAAACP2RY5AAAA+0lEQVR4Xk3MvS+dARiG8d95OT5ikUYcUp89Fu1KMEgqBhYiEiJNk65tV2IgtnY3nP+g0c1mNxhZmMQmkYiERWK+De/xMd25n+u+HmSD3s8IKIBvih0VMaL1v5xV9tpK0NwF7TA6Qz7q4DowjX+7i0HfFuG2Ruqwk7pG9fUHl2U++tI8tA4sZ+1i/XSxrDAuJnTCJLKKY1I/f1kE98EK8qlMWahCQ1xAt7QM0dWUUJrf3/V9MnjkF9uIUWQOfwU3cGApPe8cCF1VBv3YJEzNi6+GrTBWctLvd8ebUzP7k3wo7pyg8kB74E9zEEVpXr06LwAc9iAFT/fRqDwDwUpPxDKgNbkAAAAASUVORK5CYII=",
           "type": "image"
          }
         ],
         "layout": {
          "height": 700,
          "margin": {
           "t": 60
          },
          "width": 700
         },
         "name": "30"
        },
        {
         "data": [
          {
           "name": "31",
           "source": "data:image/png;base64,iVBORw0KGgoAAAANSUhEUgAAAAgAAAAzCAAAAACP2RY5AAAA9klEQVR4Xk3NO0ubARgF4CcfqZdIi5AiCCkZmqEVK0ooRHAQxcFSxC2UIkgQuuikIAjq6h/I4Bg6dXXr1FkKgov/opOLnY5DvyQ98MLh3F5kDz0mo0RJrvgSA14J7T50h3ZQBW/IqhrXgemCrz+Xg40f5L00eVyhqDxFo9oY1nETC7iwUgrV+mY69wcPr0cRb8WimRY+Igo+k8oh0sIc7oJtpMIupPsBvos/MCu1pjFSXu0/7Zyc7Tpmq3T5vYMI/sKlT+mNKyDMvID9JfKNuAWDfyvrkHlH9VHFO2vz5Y/s4BcTgUYZiIL+MD4Sx3QKHac5QfvlM9Q5TPfetjfdAAAAAElFTkSuQmCC",
           "type": "image"
          }
         ],
         "layout": {
          "height": 700,
          "margin": {
           "t": 60
          },
          "width": 700
         },
         "name": "31"
        },
        {
         "data": [
          {
           "name": "32",
           "source": "data:image/png;base64,iVBORw0KGgoAAAANSUhEUgAAAAgAAAAzCAAAAACP2RY5AAAA+ElEQVR4Xk3PPyjEARQH8M/vOo4jiztJKXU6q1LceBFGpE5nkCyGGyxWMRhFWW0mZrEr4y2YLZLFYpWrZ/j9XPeW9/r+7SF2Ke5RCNlkxwFx7kT+WiSUYeWfDuRgY5SoKnLUJSYf6yVMfxPc0Eojh85irKb9n0E8qWHfRAbkl9dj7Wv19hRcpmioSmABIccskUxZ8LktDbsPLCESZiCmx6Et3MGg6B+Bi9RSyZy980H8HmrQlPaWhTlXFccYILzbia1eU0IkhqKJFuIlL5J6aTyBeO4KH0RPZcXiMNHIvSn34ZVCbHfF2aedHgDO0xWIUeRzfmwy3/kDhplTaYrDup4AAAAASUVORK5CYII=",
           "type": "image"
          }
         ],
         "layout": {
          "height": 700,
          "margin": {
           "t": 60
          },
          "width": 700
         },
         "name": "32"
        },
        {
         "data": [
          {
           "name": "33",
           "source": "data:image/png;base64,iVBORw0KGgoAAAANSUhEUgAAAAgAAAAzCAAAAACP2RY5AAAA/klEQVR4Xl3OvyuFARTG8c/7drmF0hUlyeDmR0LhTmy6i0GRhcWPUqIMBslik0lGCqNsisFikFL8B1b8FzIcw33fLp7pOef5nqeDaKejl2LIlJl1ompZeiGSqs56lOZkykmZqFoirpBEwmHT3SNG54hnZ5wG3XZajmNwrFDv8bGgHMzmi7bC9mWsfE6+7dU2E2pwn8IRyvnldah0wUpgCe+BQ0TCEMRIO9JXZl6gUTSUkN5KvrdrRYGCPwqtzlnN0h5hht38YzYsxn3OQsoNRZHyxFdsGmD/oJZGJWOS0nC9BGXTW1nFfCcxlSrerJH0/4IEHv7NuW1GidcYZ84P9p9Q2fGyErAAAAAASUVORK5CYII=",
           "type": "image"
          }
         ],
         "layout": {
          "height": 700,
          "margin": {
           "t": 60
          },
          "width": 700
         },
         "name": "33"
        },
        {
         "data": [
          {
           "name": "34",
           "source": "data:image/png;base64,iVBORw0KGgoAAAANSUhEUgAAAAgAAAAzCAAAAACP2RY5AAAA+ElEQVR4Xk3RsSvEARjG8c/9HNdJXWTASDcJJ2WQogxnMTmDRYfJeiF/A1mskslgPJPLbDSwySyD1aKuXsPv97vzTk/P+33ennoR84zVKIVsMrFBzFpjSKx8OuyvkhQogQliwS7RzonO7RZEi9+F5FohCaXX4od4265+/fTuiI6Zc05MZkbRTRy8177PWOxhoaq4hCpCQjOM17Ide3jO28cI0yOIzTLce4o7KIjiKANJQ6G7QzdL17IglIgrpmiaFGjghcgbX2o7iq9/GQiGQQtx6njZYF6+3qPW8yNgzmqd2MeFtEr6gscMCElqP2RGavZlGRVEhcQf9AtRL6Kq8bAAAAAASUVORK5CYII=",
           "type": "image"
          }
         ],
         "layout": {
          "height": 700,
          "margin": {
           "t": 60
          },
          "width": 700
         },
         "name": "34"
        },
        {
         "data": [
          {
           "name": "35",
           "source": "data:image/png;base64,iVBORw0KGgoAAAANSUhEUgAAAAgAAAAzCAAAAACP2RY5AAABA0lEQVR4Xl3NvUuVARiG8d85J/EL8QsspEGHVNT8gCM1HcjNIVyEcFAMxEFEBMFNxCFBEHFwa3JOSNwbor+gKXBpCScd/APkbnhfBb2HZ3ju6+JG5nj9ieYoE/ziHRlXHzYg9C4/1OgQtPTAJFlyyt+gkgoLU7+/IVvsf3TPSfBi0U3v2+p8TTGB7Bk55qvmcLhCtesojfOx0TPCekl5owP6EVU+RHsfZLpAXAbbSCdLncjnGqq3NK6gIi+74Q9SwqX9kCbyj++slO08fhLBD6asWc31E4vQBnY3C21L/X0MIl2P1OyTvQmzd2QDXxDGW6NelAfFpzgXpfEseYUdMzLHkP8Fp0+OvWVrDQAAAABJRU5ErkJggg==",
           "type": "image"
          }
         ],
         "layout": {
          "height": 700,
          "margin": {
           "t": 60
          },
          "width": 700
         },
         "name": "35"
        },
        {
         "data": [
          {
           "name": "36",
           "source": "data:image/png;base64,iVBORw0KGgoAAAANSUhEUgAAAAgAAAAzCAAAAACP2RY5AAAA90lEQVR4Xl3QvyvuARTH8df3QVwhMZiebpRnUYpHIgbLrSuFiYWySGYZDVbEZrPwDxjvYnSz2IUum+WuFoOP4flV3tP58TmnzznIKKUJOqNOPSiTsom1emW70UavoAuyR/urA56CIm2fzh6eb3CK6zjiKrDo3FRtWdDN/z8qVeJXsET7/XqW/71XJ2uSLRCjfsAYosRGhn5OQ35DQcdHYWcA6We5H5kfhguPeWFTIQZQmlSYbdmY0WKeLLHfeAG7CG+CG5RW7WWoOVEjdPfB4Rxh7M64WEB6mqqKVJqJspW/5FbNxiu6Aic4Vr90pDXwnYzgUocMwhc7D0/Izk7eEwAAAABJRU5ErkJggg==",
           "type": "image"
          }
         ],
         "layout": {
          "height": 700,
          "margin": {
           "t": 60
          },
          "width": 700
         },
         "name": "36"
        },
        {
         "data": [
          {
           "name": "37",
           "source": "data:image/png;base64,iVBORw0KGgoAAAANSUhEUgAAAAgAAAAzCAAAAACP2RY5AAAA50lEQVR4XkXOvyrFcQAF8A+J6yJumDC4wxURKSIrZZGSUkqyqPsW/gz+LBYiiwdQPALlQbyA1XwMvy/Odv52kDG6tujJrApBmxbZ1jpARsyMFlcYEPRDxrEinLyhI81PD99fF7jGZOywHGhoD01V86mm6rGKe/NFYDebNvsPq8gZ+kRTL8z9Nl/DOuSu1BbDI6TBUQNZW4Jz73nnBVFD54YOg/839ssC1Crp8vcfC6LNjTeV1/XkqvVXKAj1bjidIUycaoph1Z+CYzn+I+q2F8lzoUEtcIupogg+SuT/VcUmcOtQ9qbxA5uMTCbUnTGhAAAAAElFTkSuQmCC",
           "type": "image"
          }
         ],
         "layout": {
          "height": 700,
          "margin": {
           "t": 60
          },
          "width": 700
         },
         "name": "37"
        },
        {
         "data": [
          {
           "name": "38",
           "source": "data:image/png;base64,iVBORw0KGgoAAAANSUhEUgAAAAgAAAAzCAAAAACP2RY5AAAA6klEQVR4Xk3OL0uDcRTF8c+GougGTlQcK/7BsDkRQVcmCgOLTRBEs8E1m8HkS1jUZjGsWjT4IkS7xWDTZjBcw+95tl24cL/ncs+5iFUcMhFwhwC2iCObLURda2ED5bQuCoxDr0RUfdELFN6bxGv/D32ch22nS5lllOepJY8kaONRfOAWjqNtfWZ5TLUgCn5MCytKUM8vP4NuLRmgiN9sDvSZFRc7cOAhuqTVJHRySr2fMK/AzRDrdp0N/xX2XN0PcKCaAj1Ew+V1sTm8yasjsmxoOEE8ZRgszo3EUMmHtxF1xDTW8OxbvFDxD/IvTFGo2VqWAAAAAElFTkSuQmCC",
           "type": "image"
          }
         ],
         "layout": {
          "height": 700,
          "margin": {
           "t": 60
          },
          "width": 700
         },
         "name": "38"
        },
        {
         "data": [
          {
           "name": "39",
           "source": "data:image/png;base64,iVBORw0KGgoAAAANSUhEUgAAAAgAAAAzCAAAAACP2RY5AAAA6UlEQVR4Xl3OPS+DYRiG4eN900RbQlKRMKnFIixopNGNmakGIUw+piZU0hgtJp0lBpP4DQZ/xOoPVFfJbXj6gWc7r/O5ct2IKvYVigElBFAjmuodRJvSHN6GOrapZgPqcaq8sy5kkfH0+fWABcRmvqGxFrI+3ZeYP2I8sRdmcGFlEHAZdas3a2k+RYGsiZMBiHd2C0MnT//u5URGj5K4wrE70T9LPhSR12QmUjNQTxIspuh1nKyraI0ugY7HuB0jCMqgm6D9PTn7u5NeQzTGNO1gqSzOcYhgqjKqPCPkf4b/gVhGy7WPLcEP93BJk6tshH8AAAAASUVORK5CYII=",
           "type": "image"
          }
         ],
         "layout": {
          "height": 700,
          "margin": {
           "t": 60
          },
          "width": 700
         },
         "name": "39"
        }
       ],
       "layout": {
        "height": 700,
        "margin": {
         "t": 60
        },
        "sliders": [
         {
          "active": 0,
          "currentvalue": {
           "prefix": "Threshold fraction="
          },
          "len": 0.9,
          "pad": {
           "b": 10,
           "t": 60
          },
          "steps": [
           {
            "args": [
             [
              "0"
             ],
             {
              "frame": {
               "duration": 0,
               "redraw": true
              },
              "fromcurrent": true,
              "mode": "immediate",
              "transition": {
               "duration": 0,
               "easing": "linear"
              }
             }
            ],
            "label": "0",
            "method": "animate"
           },
           {
            "args": [
             [
              "1"
             ],
             {
              "frame": {
               "duration": 0,
               "redraw": true
              },
              "fromcurrent": true,
              "mode": "immediate",
              "transition": {
               "duration": 0,
               "easing": "linear"
              }
             }
            ],
            "label": "1",
            "method": "animate"
           },
           {
            "args": [
             [
              "2"
             ],
             {
              "frame": {
               "duration": 0,
               "redraw": true
              },
              "fromcurrent": true,
              "mode": "immediate",
              "transition": {
               "duration": 0,
               "easing": "linear"
              }
             }
            ],
            "label": "2",
            "method": "animate"
           },
           {
            "args": [
             [
              "3"
             ],
             {
              "frame": {
               "duration": 0,
               "redraw": true
              },
              "fromcurrent": true,
              "mode": "immediate",
              "transition": {
               "duration": 0,
               "easing": "linear"
              }
             }
            ],
            "label": "3",
            "method": "animate"
           },
           {
            "args": [
             [
              "4"
             ],
             {
              "frame": {
               "duration": 0,
               "redraw": true
              },
              "fromcurrent": true,
              "mode": "immediate",
              "transition": {
               "duration": 0,
               "easing": "linear"
              }
             }
            ],
            "label": "4",
            "method": "animate"
           },
           {
            "args": [
             [
              "5"
             ],
             {
              "frame": {
               "duration": 0,
               "redraw": true
              },
              "fromcurrent": true,
              "mode": "immediate",
              "transition": {
               "duration": 0,
               "easing": "linear"
              }
             }
            ],
            "label": "5",
            "method": "animate"
           },
           {
            "args": [
             [
              "6"
             ],
             {
              "frame": {
               "duration": 0,
               "redraw": true
              },
              "fromcurrent": true,
              "mode": "immediate",
              "transition": {
               "duration": 0,
               "easing": "linear"
              }
             }
            ],
            "label": "6",
            "method": "animate"
           },
           {
            "args": [
             [
              "7"
             ],
             {
              "frame": {
               "duration": 0,
               "redraw": true
              },
              "fromcurrent": true,
              "mode": "immediate",
              "transition": {
               "duration": 0,
               "easing": "linear"
              }
             }
            ],
            "label": "7",
            "method": "animate"
           },
           {
            "args": [
             [
              "8"
             ],
             {
              "frame": {
               "duration": 0,
               "redraw": true
              },
              "fromcurrent": true,
              "mode": "immediate",
              "transition": {
               "duration": 0,
               "easing": "linear"
              }
             }
            ],
            "label": "8",
            "method": "animate"
           },
           {
            "args": [
             [
              "9"
             ],
             {
              "frame": {
               "duration": 0,
               "redraw": true
              },
              "fromcurrent": true,
              "mode": "immediate",
              "transition": {
               "duration": 0,
               "easing": "linear"
              }
             }
            ],
            "label": "9",
            "method": "animate"
           },
           {
            "args": [
             [
              "10"
             ],
             {
              "frame": {
               "duration": 0,
               "redraw": true
              },
              "fromcurrent": true,
              "mode": "immediate",
              "transition": {
               "duration": 0,
               "easing": "linear"
              }
             }
            ],
            "label": "10",
            "method": "animate"
           },
           {
            "args": [
             [
              "11"
             ],
             {
              "frame": {
               "duration": 0,
               "redraw": true
              },
              "fromcurrent": true,
              "mode": "immediate",
              "transition": {
               "duration": 0,
               "easing": "linear"
              }
             }
            ],
            "label": "11",
            "method": "animate"
           },
           {
            "args": [
             [
              "12"
             ],
             {
              "frame": {
               "duration": 0,
               "redraw": true
              },
              "fromcurrent": true,
              "mode": "immediate",
              "transition": {
               "duration": 0,
               "easing": "linear"
              }
             }
            ],
            "label": "12",
            "method": "animate"
           },
           {
            "args": [
             [
              "13"
             ],
             {
              "frame": {
               "duration": 0,
               "redraw": true
              },
              "fromcurrent": true,
              "mode": "immediate",
              "transition": {
               "duration": 0,
               "easing": "linear"
              }
             }
            ],
            "label": "13",
            "method": "animate"
           },
           {
            "args": [
             [
              "14"
             ],
             {
              "frame": {
               "duration": 0,
               "redraw": true
              },
              "fromcurrent": true,
              "mode": "immediate",
              "transition": {
               "duration": 0,
               "easing": "linear"
              }
             }
            ],
            "label": "14",
            "method": "animate"
           },
           {
            "args": [
             [
              "15"
             ],
             {
              "frame": {
               "duration": 0,
               "redraw": true
              },
              "fromcurrent": true,
              "mode": "immediate",
              "transition": {
               "duration": 0,
               "easing": "linear"
              }
             }
            ],
            "label": "15",
            "method": "animate"
           },
           {
            "args": [
             [
              "16"
             ],
             {
              "frame": {
               "duration": 0,
               "redraw": true
              },
              "fromcurrent": true,
              "mode": "immediate",
              "transition": {
               "duration": 0,
               "easing": "linear"
              }
             }
            ],
            "label": "16",
            "method": "animate"
           },
           {
            "args": [
             [
              "17"
             ],
             {
              "frame": {
               "duration": 0,
               "redraw": true
              },
              "fromcurrent": true,
              "mode": "immediate",
              "transition": {
               "duration": 0,
               "easing": "linear"
              }
             }
            ],
            "label": "17",
            "method": "animate"
           },
           {
            "args": [
             [
              "18"
             ],
             {
              "frame": {
               "duration": 0,
               "redraw": true
              },
              "fromcurrent": true,
              "mode": "immediate",
              "transition": {
               "duration": 0,
               "easing": "linear"
              }
             }
            ],
            "label": "18",
            "method": "animate"
           },
           {
            "args": [
             [
              "19"
             ],
             {
              "frame": {
               "duration": 0,
               "redraw": true
              },
              "fromcurrent": true,
              "mode": "immediate",
              "transition": {
               "duration": 0,
               "easing": "linear"
              }
             }
            ],
            "label": "19",
            "method": "animate"
           },
           {
            "args": [
             [
              "20"
             ],
             {
              "frame": {
               "duration": 0,
               "redraw": true
              },
              "fromcurrent": true,
              "mode": "immediate",
              "transition": {
               "duration": 0,
               "easing": "linear"
              }
             }
            ],
            "label": "20",
            "method": "animate"
           },
           {
            "args": [
             [
              "21"
             ],
             {
              "frame": {
               "duration": 0,
               "redraw": true
              },
              "fromcurrent": true,
              "mode": "immediate",
              "transition": {
               "duration": 0,
               "easing": "linear"
              }
             }
            ],
            "label": "21",
            "method": "animate"
           },
           {
            "args": [
             [
              "22"
             ],
             {
              "frame": {
               "duration": 0,
               "redraw": true
              },
              "fromcurrent": true,
              "mode": "immediate",
              "transition": {
               "duration": 0,
               "easing": "linear"
              }
             }
            ],
            "label": "22",
            "method": "animate"
           },
           {
            "args": [
             [
              "23"
             ],
             {
              "frame": {
               "duration": 0,
               "redraw": true
              },
              "fromcurrent": true,
              "mode": "immediate",
              "transition": {
               "duration": 0,
               "easing": "linear"
              }
             }
            ],
            "label": "23",
            "method": "animate"
           },
           {
            "args": [
             [
              "24"
             ],
             {
              "frame": {
               "duration": 0,
               "redraw": true
              },
              "fromcurrent": true,
              "mode": "immediate",
              "transition": {
               "duration": 0,
               "easing": "linear"
              }
             }
            ],
            "label": "24",
            "method": "animate"
           },
           {
            "args": [
             [
              "25"
             ],
             {
              "frame": {
               "duration": 0,
               "redraw": true
              },
              "fromcurrent": true,
              "mode": "immediate",
              "transition": {
               "duration": 0,
               "easing": "linear"
              }
             }
            ],
            "label": "25",
            "method": "animate"
           },
           {
            "args": [
             [
              "26"
             ],
             {
              "frame": {
               "duration": 0,
               "redraw": true
              },
              "fromcurrent": true,
              "mode": "immediate",
              "transition": {
               "duration": 0,
               "easing": "linear"
              }
             }
            ],
            "label": "26",
            "method": "animate"
           },
           {
            "args": [
             [
              "27"
             ],
             {
              "frame": {
               "duration": 0,
               "redraw": true
              },
              "fromcurrent": true,
              "mode": "immediate",
              "transition": {
               "duration": 0,
               "easing": "linear"
              }
             }
            ],
            "label": "27",
            "method": "animate"
           },
           {
            "args": [
             [
              "28"
             ],
             {
              "frame": {
               "duration": 0,
               "redraw": true
              },
              "fromcurrent": true,
              "mode": "immediate",
              "transition": {
               "duration": 0,
               "easing": "linear"
              }
             }
            ],
            "label": "28",
            "method": "animate"
           },
           {
            "args": [
             [
              "29"
             ],
             {
              "frame": {
               "duration": 0,
               "redraw": true
              },
              "fromcurrent": true,
              "mode": "immediate",
              "transition": {
               "duration": 0,
               "easing": "linear"
              }
             }
            ],
            "label": "29",
            "method": "animate"
           },
           {
            "args": [
             [
              "30"
             ],
             {
              "frame": {
               "duration": 0,
               "redraw": true
              },
              "fromcurrent": true,
              "mode": "immediate",
              "transition": {
               "duration": 0,
               "easing": "linear"
              }
             }
            ],
            "label": "30",
            "method": "animate"
           },
           {
            "args": [
             [
              "31"
             ],
             {
              "frame": {
               "duration": 0,
               "redraw": true
              },
              "fromcurrent": true,
              "mode": "immediate",
              "transition": {
               "duration": 0,
               "easing": "linear"
              }
             }
            ],
            "label": "31",
            "method": "animate"
           },
           {
            "args": [
             [
              "32"
             ],
             {
              "frame": {
               "duration": 0,
               "redraw": true
              },
              "fromcurrent": true,
              "mode": "immediate",
              "transition": {
               "duration": 0,
               "easing": "linear"
              }
             }
            ],
            "label": "32",
            "method": "animate"
           },
           {
            "args": [
             [
              "33"
             ],
             {
              "frame": {
               "duration": 0,
               "redraw": true
              },
              "fromcurrent": true,
              "mode": "immediate",
              "transition": {
               "duration": 0,
               "easing": "linear"
              }
             }
            ],
            "label": "33",
            "method": "animate"
           },
           {
            "args": [
             [
              "34"
             ],
             {
              "frame": {
               "duration": 0,
               "redraw": true
              },
              "fromcurrent": true,
              "mode": "immediate",
              "transition": {
               "duration": 0,
               "easing": "linear"
              }
             }
            ],
            "label": "34",
            "method": "animate"
           },
           {
            "args": [
             [
              "35"
             ],
             {
              "frame": {
               "duration": 0,
               "redraw": true
              },
              "fromcurrent": true,
              "mode": "immediate",
              "transition": {
               "duration": 0,
               "easing": "linear"
              }
             }
            ],
            "label": "35",
            "method": "animate"
           },
           {
            "args": [
             [
              "36"
             ],
             {
              "frame": {
               "duration": 0,
               "redraw": true
              },
              "fromcurrent": true,
              "mode": "immediate",
              "transition": {
               "duration": 0,
               "easing": "linear"
              }
             }
            ],
            "label": "36",
            "method": "animate"
           },
           {
            "args": [
             [
              "37"
             ],
             {
              "frame": {
               "duration": 0,
               "redraw": true
              },
              "fromcurrent": true,
              "mode": "immediate",
              "transition": {
               "duration": 0,
               "easing": "linear"
              }
             }
            ],
            "label": "37",
            "method": "animate"
           },
           {
            "args": [
             [
              "38"
             ],
             {
              "frame": {
               "duration": 0,
               "redraw": true
              },
              "fromcurrent": true,
              "mode": "immediate",
              "transition": {
               "duration": 0,
               "easing": "linear"
              }
             }
            ],
            "label": "38",
            "method": "animate"
           },
           {
            "args": [
             [
              "39"
             ],
             {
              "frame": {
               "duration": 0,
               "redraw": true
              },
              "fromcurrent": true,
              "mode": "immediate",
              "transition": {
               "duration": 0,
               "easing": "linear"
              }
             }
            ],
            "label": "39",
            "method": "animate"
           }
          ],
          "x": 0.1,
          "xanchor": "left",
          "y": 0,
          "yanchor": "top"
         }
        ],
        "template": {
         "data": {
          "bar": [
           {
            "error_x": {
             "color": "#2a3f5f"
            },
            "error_y": {
             "color": "#2a3f5f"
            },
            "marker": {
             "line": {
              "color": "#E5ECF6",
              "width": 0.5
             },
             "pattern": {
              "fillmode": "overlay",
              "size": 10,
              "solidity": 0.2
             }
            },
            "type": "bar"
           }
          ],
          "barpolar": [
           {
            "marker": {
             "line": {
              "color": "#E5ECF6",
              "width": 0.5
             },
             "pattern": {
              "fillmode": "overlay",
              "size": 10,
              "solidity": 0.2
             }
            },
            "type": "barpolar"
           }
          ],
          "carpet": [
           {
            "aaxis": {
             "endlinecolor": "#2a3f5f",
             "gridcolor": "white",
             "linecolor": "white",
             "minorgridcolor": "white",
             "startlinecolor": "#2a3f5f"
            },
            "baxis": {
             "endlinecolor": "#2a3f5f",
             "gridcolor": "white",
             "linecolor": "white",
             "minorgridcolor": "white",
             "startlinecolor": "#2a3f5f"
            },
            "type": "carpet"
           }
          ],
          "choropleth": [
           {
            "colorbar": {
             "outlinewidth": 0,
             "ticks": ""
            },
            "type": "choropleth"
           }
          ],
          "contour": [
           {
            "colorbar": {
             "outlinewidth": 0,
             "ticks": ""
            },
            "colorscale": [
             [
              0,
              "#0d0887"
             ],
             [
              0.1111111111111111,
              "#46039f"
             ],
             [
              0.2222222222222222,
              "#7201a8"
             ],
             [
              0.3333333333333333,
              "#9c179e"
             ],
             [
              0.4444444444444444,
              "#bd3786"
             ],
             [
              0.5555555555555556,
              "#d8576b"
             ],
             [
              0.6666666666666666,
              "#ed7953"
             ],
             [
              0.7777777777777778,
              "#fb9f3a"
             ],
             [
              0.8888888888888888,
              "#fdca26"
             ],
             [
              1,
              "#f0f921"
             ]
            ],
            "type": "contour"
           }
          ],
          "contourcarpet": [
           {
            "colorbar": {
             "outlinewidth": 0,
             "ticks": ""
            },
            "type": "contourcarpet"
           }
          ],
          "heatmap": [
           {
            "colorbar": {
             "outlinewidth": 0,
             "ticks": ""
            },
            "colorscale": [
             [
              0,
              "#0d0887"
             ],
             [
              0.1111111111111111,
              "#46039f"
             ],
             [
              0.2222222222222222,
              "#7201a8"
             ],
             [
              0.3333333333333333,
              "#9c179e"
             ],
             [
              0.4444444444444444,
              "#bd3786"
             ],
             [
              0.5555555555555556,
              "#d8576b"
             ],
             [
              0.6666666666666666,
              "#ed7953"
             ],
             [
              0.7777777777777778,
              "#fb9f3a"
             ],
             [
              0.8888888888888888,
              "#fdca26"
             ],
             [
              1,
              "#f0f921"
             ]
            ],
            "type": "heatmap"
           }
          ],
          "heatmapgl": [
           {
            "colorbar": {
             "outlinewidth": 0,
             "ticks": ""
            },
            "colorscale": [
             [
              0,
              "#0d0887"
             ],
             [
              0.1111111111111111,
              "#46039f"
             ],
             [
              0.2222222222222222,
              "#7201a8"
             ],
             [
              0.3333333333333333,
              "#9c179e"
             ],
             [
              0.4444444444444444,
              "#bd3786"
             ],
             [
              0.5555555555555556,
              "#d8576b"
             ],
             [
              0.6666666666666666,
              "#ed7953"
             ],
             [
              0.7777777777777778,
              "#fb9f3a"
             ],
             [
              0.8888888888888888,
              "#fdca26"
             ],
             [
              1,
              "#f0f921"
             ]
            ],
            "type": "heatmapgl"
           }
          ],
          "histogram": [
           {
            "marker": {
             "pattern": {
              "fillmode": "overlay",
              "size": 10,
              "solidity": 0.2
             }
            },
            "type": "histogram"
           }
          ],
          "histogram2d": [
           {
            "colorbar": {
             "outlinewidth": 0,
             "ticks": ""
            },
            "colorscale": [
             [
              0,
              "#0d0887"
             ],
             [
              0.1111111111111111,
              "#46039f"
             ],
             [
              0.2222222222222222,
              "#7201a8"
             ],
             [
              0.3333333333333333,
              "#9c179e"
             ],
             [
              0.4444444444444444,
              "#bd3786"
             ],
             [
              0.5555555555555556,
              "#d8576b"
             ],
             [
              0.6666666666666666,
              "#ed7953"
             ],
             [
              0.7777777777777778,
              "#fb9f3a"
             ],
             [
              0.8888888888888888,
              "#fdca26"
             ],
             [
              1,
              "#f0f921"
             ]
            ],
            "type": "histogram2d"
           }
          ],
          "histogram2dcontour": [
           {
            "colorbar": {
             "outlinewidth": 0,
             "ticks": ""
            },
            "colorscale": [
             [
              0,
              "#0d0887"
             ],
             [
              0.1111111111111111,
              "#46039f"
             ],
             [
              0.2222222222222222,
              "#7201a8"
             ],
             [
              0.3333333333333333,
              "#9c179e"
             ],
             [
              0.4444444444444444,
              "#bd3786"
             ],
             [
              0.5555555555555556,
              "#d8576b"
             ],
             [
              0.6666666666666666,
              "#ed7953"
             ],
             [
              0.7777777777777778,
              "#fb9f3a"
             ],
             [
              0.8888888888888888,
              "#fdca26"
             ],
             [
              1,
              "#f0f921"
             ]
            ],
            "type": "histogram2dcontour"
           }
          ],
          "mesh3d": [
           {
            "colorbar": {
             "outlinewidth": 0,
             "ticks": ""
            },
            "type": "mesh3d"
           }
          ],
          "parcoords": [
           {
            "line": {
             "colorbar": {
              "outlinewidth": 0,
              "ticks": ""
             }
            },
            "type": "parcoords"
           }
          ],
          "pie": [
           {
            "automargin": true,
            "type": "pie"
           }
          ],
          "scatter": [
           {
            "fillpattern": {
             "fillmode": "overlay",
             "size": 10,
             "solidity": 0.2
            },
            "type": "scatter"
           }
          ],
          "scatter3d": [
           {
            "line": {
             "colorbar": {
              "outlinewidth": 0,
              "ticks": ""
             }
            },
            "marker": {
             "colorbar": {
              "outlinewidth": 0,
              "ticks": ""
             }
            },
            "type": "scatter3d"
           }
          ],
          "scattercarpet": [
           {
            "marker": {
             "colorbar": {
              "outlinewidth": 0,
              "ticks": ""
             }
            },
            "type": "scattercarpet"
           }
          ],
          "scattergeo": [
           {
            "marker": {
             "colorbar": {
              "outlinewidth": 0,
              "ticks": ""
             }
            },
            "type": "scattergeo"
           }
          ],
          "scattergl": [
           {
            "marker": {
             "colorbar": {
              "outlinewidth": 0,
              "ticks": ""
             }
            },
            "type": "scattergl"
           }
          ],
          "scattermapbox": [
           {
            "marker": {
             "colorbar": {
              "outlinewidth": 0,
              "ticks": ""
             }
            },
            "type": "scattermapbox"
           }
          ],
          "scatterpolar": [
           {
            "marker": {
             "colorbar": {
              "outlinewidth": 0,
              "ticks": ""
             }
            },
            "type": "scatterpolar"
           }
          ],
          "scatterpolargl": [
           {
            "marker": {
             "colorbar": {
              "outlinewidth": 0,
              "ticks": ""
             }
            },
            "type": "scatterpolargl"
           }
          ],
          "scatterternary": [
           {
            "marker": {
             "colorbar": {
              "outlinewidth": 0,
              "ticks": ""
             }
            },
            "type": "scatterternary"
           }
          ],
          "surface": [
           {
            "colorbar": {
             "outlinewidth": 0,
             "ticks": ""
            },
            "colorscale": [
             [
              0,
              "#0d0887"
             ],
             [
              0.1111111111111111,
              "#46039f"
             ],
             [
              0.2222222222222222,
              "#7201a8"
             ],
             [
              0.3333333333333333,
              "#9c179e"
             ],
             [
              0.4444444444444444,
              "#bd3786"
             ],
             [
              0.5555555555555556,
              "#d8576b"
             ],
             [
              0.6666666666666666,
              "#ed7953"
             ],
             [
              0.7777777777777778,
              "#fb9f3a"
             ],
             [
              0.8888888888888888,
              "#fdca26"
             ],
             [
              1,
              "#f0f921"
             ]
            ],
            "type": "surface"
           }
          ],
          "table": [
           {
            "cells": {
             "fill": {
              "color": "#EBF0F8"
             },
             "line": {
              "color": "white"
             }
            },
            "header": {
             "fill": {
              "color": "#C8D4E3"
             },
             "line": {
              "color": "white"
             }
            },
            "type": "table"
           }
          ]
         },
         "layout": {
          "annotationdefaults": {
           "arrowcolor": "#2a3f5f",
           "arrowhead": 0,
           "arrowwidth": 1
          },
          "autotypenumbers": "strict",
          "coloraxis": {
           "colorbar": {
            "outlinewidth": 0,
            "ticks": ""
           }
          },
          "colorscale": {
           "diverging": [
            [
             0,
             "#8e0152"
            ],
            [
             0.1,
             "#c51b7d"
            ],
            [
             0.2,
             "#de77ae"
            ],
            [
             0.3,
             "#f1b6da"
            ],
            [
             0.4,
             "#fde0ef"
            ],
            [
             0.5,
             "#f7f7f7"
            ],
            [
             0.6,
             "#e6f5d0"
            ],
            [
             0.7,
             "#b8e186"
            ],
            [
             0.8,
             "#7fbc41"
            ],
            [
             0.9,
             "#4d9221"
            ],
            [
             1,
             "#276419"
            ]
           ],
           "sequential": [
            [
             0,
             "#0d0887"
            ],
            [
             0.1111111111111111,
             "#46039f"
            ],
            [
             0.2222222222222222,
             "#7201a8"
            ],
            [
             0.3333333333333333,
             "#9c179e"
            ],
            [
             0.4444444444444444,
             "#bd3786"
            ],
            [
             0.5555555555555556,
             "#d8576b"
            ],
            [
             0.6666666666666666,
             "#ed7953"
            ],
            [
             0.7777777777777778,
             "#fb9f3a"
            ],
            [
             0.8888888888888888,
             "#fdca26"
            ],
            [
             1,
             "#f0f921"
            ]
           ],
           "sequentialminus": [
            [
             0,
             "#0d0887"
            ],
            [
             0.1111111111111111,
             "#46039f"
            ],
            [
             0.2222222222222222,
             "#7201a8"
            ],
            [
             0.3333333333333333,
             "#9c179e"
            ],
            [
             0.4444444444444444,
             "#bd3786"
            ],
            [
             0.5555555555555556,
             "#d8576b"
            ],
            [
             0.6666666666666666,
             "#ed7953"
            ],
            [
             0.7777777777777778,
             "#fb9f3a"
            ],
            [
             0.8888888888888888,
             "#fdca26"
            ],
            [
             1,
             "#f0f921"
            ]
           ]
          },
          "colorway": [
           "#636efa",
           "#EF553B",
           "#00cc96",
           "#ab63fa",
           "#FFA15A",
           "#19d3f3",
           "#FF6692",
           "#B6E880",
           "#FF97FF",
           "#FECB52"
          ],
          "font": {
           "color": "#2a3f5f"
          },
          "geo": {
           "bgcolor": "white",
           "lakecolor": "white",
           "landcolor": "#E5ECF6",
           "showlakes": true,
           "showland": true,
           "subunitcolor": "white"
          },
          "hoverlabel": {
           "align": "left"
          },
          "hovermode": "closest",
          "mapbox": {
           "style": "light"
          },
          "paper_bgcolor": "white",
          "plot_bgcolor": "#E5ECF6",
          "polar": {
           "angularaxis": {
            "gridcolor": "white",
            "linecolor": "white",
            "ticks": ""
           },
           "bgcolor": "#E5ECF6",
           "radialaxis": {
            "gridcolor": "white",
            "linecolor": "white",
            "ticks": ""
           }
          },
          "scene": {
           "xaxis": {
            "backgroundcolor": "#E5ECF6",
            "gridcolor": "white",
            "gridwidth": 2,
            "linecolor": "white",
            "showbackground": true,
            "ticks": "",
            "zerolinecolor": "white"
           },
           "yaxis": {
            "backgroundcolor": "#E5ECF6",
            "gridcolor": "white",
            "gridwidth": 2,
            "linecolor": "white",
            "showbackground": true,
            "ticks": "",
            "zerolinecolor": "white"
           },
           "zaxis": {
            "backgroundcolor": "#E5ECF6",
            "gridcolor": "white",
            "gridwidth": 2,
            "linecolor": "white",
            "showbackground": true,
            "ticks": "",
            "zerolinecolor": "white"
           }
          },
          "shapedefaults": {
           "line": {
            "color": "#2a3f5f"
           }
          },
          "ternary": {
           "aaxis": {
            "gridcolor": "white",
            "linecolor": "white",
            "ticks": ""
           },
           "baxis": {
            "gridcolor": "white",
            "linecolor": "white",
            "ticks": ""
           },
           "bgcolor": "#E5ECF6",
           "caxis": {
            "gridcolor": "white",
            "linecolor": "white",
            "ticks": ""
           }
          },
          "title": {
           "x": 0.05
          },
          "xaxis": {
           "automargin": true,
           "gridcolor": "white",
           "linecolor": "white",
           "ticks": "",
           "title": {
            "standoff": 15
           },
           "zerolinecolor": "white",
           "zerolinewidth": 2
          },
          "yaxis": {
           "automargin": true,
           "gridcolor": "white",
           "linecolor": "white",
           "ticks": "",
           "title": {
            "standoff": 15
           },
           "zerolinecolor": "white",
           "zerolinewidth": 2
          }
         }
        },
        "updatemenus": [
         {
          "buttons": [
           {
            "args": [
             null,
             {
              "frame": {
               "duration": 500,
               "redraw": true
              },
              "fromcurrent": true,
              "mode": "immediate",
              "transition": {
               "duration": 500,
               "easing": "linear"
              }
             }
            ],
            "label": "&#9654;",
            "method": "animate"
           },
           {
            "args": [
             [
              null
             ],
             {
              "frame": {
               "duration": 0,
               "redraw": true
              },
              "fromcurrent": true,
              "mode": "immediate",
              "transition": {
               "duration": 0,
               "easing": "linear"
              }
             }
            ],
            "label": "&#9724;",
            "method": "animate"
           }
          ],
          "direction": "left",
          "pad": {
           "r": 10,
           "t": 70
          },
          "showactive": false,
          "type": "buttons",
          "x": 0.1,
          "xanchor": "right",
          "y": 0,
          "yanchor": "top"
         }
        ],
        "width": 700,
        "xaxis": {
         "anchor": "y",
         "domain": [
          0,
          1
         ]
        },
        "yaxis": {
         "anchor": "x",
         "domain": [
          0,
          1
         ]
        }
       }
      },
      "text/html": [
       "<div>                            <div id=\"54063125-8013-472a-9a9b-8c6e95aee9b3\" class=\"plotly-graph-div\" style=\"height:700px; width:700px;\"></div>            <script type=\"text/javascript\">                require([\"plotly\"], function(Plotly) {                    window.PLOTLYENV=window.PLOTLYENV || {};                                    if (document.getElementById(\"54063125-8013-472a-9a9b-8c6e95aee9b3\")) {                    Plotly.newPlot(                        \"54063125-8013-472a-9a9b-8c6e95aee9b3\",                        [{\"name\":\"0\",\"source\":\"data:image/png;base64,iVBORw0KGgoAAAANSUhEUgAAAAgAAAAzCAAAAACP2RY5AAABTklEQVR4Xj3Ov0vUARzG8df3y0kmcS5234grLkQQw7yKfg0GJxEoXKFxYVRC3B9gww0llLQURERDETRFHSS0BYVcEE01NfQPNESCQ4MmZJTwafCr65vneT+P8cLnqBV2lB0RT8y4gACuhrnR+Y40Sz7G2TtvguTTD24Hk/Hi6Kozajgh+HpwXkyMnfaUw79inLWpTP+1WNDOfQbj5mOvndJwPWczRNUBheAYe9NqshjrXYealLePRANVKpV25l6YtOLtPkGWJ3qdDHo4Jy4P+N5JN2a/tYv1/R2RvLQn9+hGKk2Ku8OASyXNKNncCRjjePQY1LdFgueGLW0ZuBH1BXOmNgkSol56tzat9b5BvPpLI75UHriouN1rIeuPgp9YTh5JjTzr/b0Rrty/FSxKuv7F6K6hh7QIavmJ7rIU/BkmJjiPdGSn+NDErLsC/wGGjHOx9K5LTAAAAABJRU5ErkJggg==\",\"type\":\"image\",\"xaxis\":\"x\",\"yaxis\":\"y\",\"hovertemplate\":\"x: %{x}<br>y: %{y}<extra></extra>\"}],                        {\"template\":{\"data\":{\"histogram2dcontour\":[{\"type\":\"histogram2dcontour\",\"colorbar\":{\"outlinewidth\":0,\"ticks\":\"\"},\"colorscale\":[[0.0,\"#0d0887\"],[0.1111111111111111,\"#46039f\"],[0.2222222222222222,\"#7201a8\"],[0.3333333333333333,\"#9c179e\"],[0.4444444444444444,\"#bd3786\"],[0.5555555555555556,\"#d8576b\"],[0.6666666666666666,\"#ed7953\"],[0.7777777777777778,\"#fb9f3a\"],[0.8888888888888888,\"#fdca26\"],[1.0,\"#f0f921\"]]}],\"choropleth\":[{\"type\":\"choropleth\",\"colorbar\":{\"outlinewidth\":0,\"ticks\":\"\"}}],\"histogram2d\":[{\"type\":\"histogram2d\",\"colorbar\":{\"outlinewidth\":0,\"ticks\":\"\"},\"colorscale\":[[0.0,\"#0d0887\"],[0.1111111111111111,\"#46039f\"],[0.2222222222222222,\"#7201a8\"],[0.3333333333333333,\"#9c179e\"],[0.4444444444444444,\"#bd3786\"],[0.5555555555555556,\"#d8576b\"],[0.6666666666666666,\"#ed7953\"],[0.7777777777777778,\"#fb9f3a\"],[0.8888888888888888,\"#fdca26\"],[1.0,\"#f0f921\"]]}],\"heatmap\":[{\"type\":\"heatmap\",\"colorbar\":{\"outlinewidth\":0,\"ticks\":\"\"},\"colorscale\":[[0.0,\"#0d0887\"],[0.1111111111111111,\"#46039f\"],[0.2222222222222222,\"#7201a8\"],[0.3333333333333333,\"#9c179e\"],[0.4444444444444444,\"#bd3786\"],[0.5555555555555556,\"#d8576b\"],[0.6666666666666666,\"#ed7953\"],[0.7777777777777778,\"#fb9f3a\"],[0.8888888888888888,\"#fdca26\"],[1.0,\"#f0f921\"]]}],\"heatmapgl\":[{\"type\":\"heatmapgl\",\"colorbar\":{\"outlinewidth\":0,\"ticks\":\"\"},\"colorscale\":[[0.0,\"#0d0887\"],[0.1111111111111111,\"#46039f\"],[0.2222222222222222,\"#7201a8\"],[0.3333333333333333,\"#9c179e\"],[0.4444444444444444,\"#bd3786\"],[0.5555555555555556,\"#d8576b\"],[0.6666666666666666,\"#ed7953\"],[0.7777777777777778,\"#fb9f3a\"],[0.8888888888888888,\"#fdca26\"],[1.0,\"#f0f921\"]]}],\"contourcarpet\":[{\"type\":\"contourcarpet\",\"colorbar\":{\"outlinewidth\":0,\"ticks\":\"\"}}],\"contour\":[{\"type\":\"contour\",\"colorbar\":{\"outlinewidth\":0,\"ticks\":\"\"},\"colorscale\":[[0.0,\"#0d0887\"],[0.1111111111111111,\"#46039f\"],[0.2222222222222222,\"#7201a8\"],[0.3333333333333333,\"#9c179e\"],[0.4444444444444444,\"#bd3786\"],[0.5555555555555556,\"#d8576b\"],[0.6666666666666666,\"#ed7953\"],[0.7777777777777778,\"#fb9f3a\"],[0.8888888888888888,\"#fdca26\"],[1.0,\"#f0f921\"]]}],\"surface\":[{\"type\":\"surface\",\"colorbar\":{\"outlinewidth\":0,\"ticks\":\"\"},\"colorscale\":[[0.0,\"#0d0887\"],[0.1111111111111111,\"#46039f\"],[0.2222222222222222,\"#7201a8\"],[0.3333333333333333,\"#9c179e\"],[0.4444444444444444,\"#bd3786\"],[0.5555555555555556,\"#d8576b\"],[0.6666666666666666,\"#ed7953\"],[0.7777777777777778,\"#fb9f3a\"],[0.8888888888888888,\"#fdca26\"],[1.0,\"#f0f921\"]]}],\"mesh3d\":[{\"type\":\"mesh3d\",\"colorbar\":{\"outlinewidth\":0,\"ticks\":\"\"}}],\"scatter\":[{\"fillpattern\":{\"fillmode\":\"overlay\",\"size\":10,\"solidity\":0.2},\"type\":\"scatter\"}],\"parcoords\":[{\"type\":\"parcoords\",\"line\":{\"colorbar\":{\"outlinewidth\":0,\"ticks\":\"\"}}}],\"scatterpolargl\":[{\"type\":\"scatterpolargl\",\"marker\":{\"colorbar\":{\"outlinewidth\":0,\"ticks\":\"\"}}}],\"bar\":[{\"error_x\":{\"color\":\"#2a3f5f\"},\"error_y\":{\"color\":\"#2a3f5f\"},\"marker\":{\"line\":{\"color\":\"#E5ECF6\",\"width\":0.5},\"pattern\":{\"fillmode\":\"overlay\",\"size\":10,\"solidity\":0.2}},\"type\":\"bar\"}],\"scattergeo\":[{\"type\":\"scattergeo\",\"marker\":{\"colorbar\":{\"outlinewidth\":0,\"ticks\":\"\"}}}],\"scatterpolar\":[{\"type\":\"scatterpolar\",\"marker\":{\"colorbar\":{\"outlinewidth\":0,\"ticks\":\"\"}}}],\"histogram\":[{\"marker\":{\"pattern\":{\"fillmode\":\"overlay\",\"size\":10,\"solidity\":0.2}},\"type\":\"histogram\"}],\"scattergl\":[{\"type\":\"scattergl\",\"marker\":{\"colorbar\":{\"outlinewidth\":0,\"ticks\":\"\"}}}],\"scatter3d\":[{\"type\":\"scatter3d\",\"line\":{\"colorbar\":{\"outlinewidth\":0,\"ticks\":\"\"}},\"marker\":{\"colorbar\":{\"outlinewidth\":0,\"ticks\":\"\"}}}],\"scattermapbox\":[{\"type\":\"scattermapbox\",\"marker\":{\"colorbar\":{\"outlinewidth\":0,\"ticks\":\"\"}}}],\"scatterternary\":[{\"type\":\"scatterternary\",\"marker\":{\"colorbar\":{\"outlinewidth\":0,\"ticks\":\"\"}}}],\"scattercarpet\":[{\"type\":\"scattercarpet\",\"marker\":{\"colorbar\":{\"outlinewidth\":0,\"ticks\":\"\"}}}],\"carpet\":[{\"aaxis\":{\"endlinecolor\":\"#2a3f5f\",\"gridcolor\":\"white\",\"linecolor\":\"white\",\"minorgridcolor\":\"white\",\"startlinecolor\":\"#2a3f5f\"},\"baxis\":{\"endlinecolor\":\"#2a3f5f\",\"gridcolor\":\"white\",\"linecolor\":\"white\",\"minorgridcolor\":\"white\",\"startlinecolor\":\"#2a3f5f\"},\"type\":\"carpet\"}],\"table\":[{\"cells\":{\"fill\":{\"color\":\"#EBF0F8\"},\"line\":{\"color\":\"white\"}},\"header\":{\"fill\":{\"color\":\"#C8D4E3\"},\"line\":{\"color\":\"white\"}},\"type\":\"table\"}],\"barpolar\":[{\"marker\":{\"line\":{\"color\":\"#E5ECF6\",\"width\":0.5},\"pattern\":{\"fillmode\":\"overlay\",\"size\":10,\"solidity\":0.2}},\"type\":\"barpolar\"}],\"pie\":[{\"automargin\":true,\"type\":\"pie\"}]},\"layout\":{\"autotypenumbers\":\"strict\",\"colorway\":[\"#636efa\",\"#EF553B\",\"#00cc96\",\"#ab63fa\",\"#FFA15A\",\"#19d3f3\",\"#FF6692\",\"#B6E880\",\"#FF97FF\",\"#FECB52\"],\"font\":{\"color\":\"#2a3f5f\"},\"hovermode\":\"closest\",\"hoverlabel\":{\"align\":\"left\"},\"paper_bgcolor\":\"white\",\"plot_bgcolor\":\"#E5ECF6\",\"polar\":{\"bgcolor\":\"#E5ECF6\",\"angularaxis\":{\"gridcolor\":\"white\",\"linecolor\":\"white\",\"ticks\":\"\"},\"radialaxis\":{\"gridcolor\":\"white\",\"linecolor\":\"white\",\"ticks\":\"\"}},\"ternary\":{\"bgcolor\":\"#E5ECF6\",\"aaxis\":{\"gridcolor\":\"white\",\"linecolor\":\"white\",\"ticks\":\"\"},\"baxis\":{\"gridcolor\":\"white\",\"linecolor\":\"white\",\"ticks\":\"\"},\"caxis\":{\"gridcolor\":\"white\",\"linecolor\":\"white\",\"ticks\":\"\"}},\"coloraxis\":{\"colorbar\":{\"outlinewidth\":0,\"ticks\":\"\"}},\"colorscale\":{\"sequential\":[[0.0,\"#0d0887\"],[0.1111111111111111,\"#46039f\"],[0.2222222222222222,\"#7201a8\"],[0.3333333333333333,\"#9c179e\"],[0.4444444444444444,\"#bd3786\"],[0.5555555555555556,\"#d8576b\"],[0.6666666666666666,\"#ed7953\"],[0.7777777777777778,\"#fb9f3a\"],[0.8888888888888888,\"#fdca26\"],[1.0,\"#f0f921\"]],\"sequentialminus\":[[0.0,\"#0d0887\"],[0.1111111111111111,\"#46039f\"],[0.2222222222222222,\"#7201a8\"],[0.3333333333333333,\"#9c179e\"],[0.4444444444444444,\"#bd3786\"],[0.5555555555555556,\"#d8576b\"],[0.6666666666666666,\"#ed7953\"],[0.7777777777777778,\"#fb9f3a\"],[0.8888888888888888,\"#fdca26\"],[1.0,\"#f0f921\"]],\"diverging\":[[0,\"#8e0152\"],[0.1,\"#c51b7d\"],[0.2,\"#de77ae\"],[0.3,\"#f1b6da\"],[0.4,\"#fde0ef\"],[0.5,\"#f7f7f7\"],[0.6,\"#e6f5d0\"],[0.7,\"#b8e186\"],[0.8,\"#7fbc41\"],[0.9,\"#4d9221\"],[1,\"#276419\"]]},\"xaxis\":{\"gridcolor\":\"white\",\"linecolor\":\"white\",\"ticks\":\"\",\"title\":{\"standoff\":15},\"zerolinecolor\":\"white\",\"automargin\":true,\"zerolinewidth\":2},\"yaxis\":{\"gridcolor\":\"white\",\"linecolor\":\"white\",\"ticks\":\"\",\"title\":{\"standoff\":15},\"zerolinecolor\":\"white\",\"automargin\":true,\"zerolinewidth\":2},\"scene\":{\"xaxis\":{\"backgroundcolor\":\"#E5ECF6\",\"gridcolor\":\"white\",\"linecolor\":\"white\",\"showbackground\":true,\"ticks\":\"\",\"zerolinecolor\":\"white\",\"gridwidth\":2},\"yaxis\":{\"backgroundcolor\":\"#E5ECF6\",\"gridcolor\":\"white\",\"linecolor\":\"white\",\"showbackground\":true,\"ticks\":\"\",\"zerolinecolor\":\"white\",\"gridwidth\":2},\"zaxis\":{\"backgroundcolor\":\"#E5ECF6\",\"gridcolor\":\"white\",\"linecolor\":\"white\",\"showbackground\":true,\"ticks\":\"\",\"zerolinecolor\":\"white\",\"gridwidth\":2}},\"shapedefaults\":{\"line\":{\"color\":\"#2a3f5f\"}},\"annotationdefaults\":{\"arrowcolor\":\"#2a3f5f\",\"arrowhead\":0,\"arrowwidth\":1},\"geo\":{\"bgcolor\":\"white\",\"landcolor\":\"#E5ECF6\",\"subunitcolor\":\"white\",\"showland\":true,\"showlakes\":true,\"lakecolor\":\"white\"},\"title\":{\"x\":0.05},\"mapbox\":{\"style\":\"light\"}}},\"xaxis\":{\"anchor\":\"y\",\"domain\":[0.0,1.0]},\"yaxis\":{\"anchor\":\"x\",\"domain\":[0.0,1.0]},\"margin\":{\"t\":60},\"height\":700,\"width\":700,\"updatemenus\":[{\"buttons\":[{\"args\":[null,{\"frame\":{\"duration\":500,\"redraw\":true},\"mode\":\"immediate\",\"fromcurrent\":true,\"transition\":{\"duration\":500,\"easing\":\"linear\"}}],\"label\":\"&#9654;\",\"method\":\"animate\"},{\"args\":[[null],{\"frame\":{\"duration\":0,\"redraw\":true},\"mode\":\"immediate\",\"fromcurrent\":true,\"transition\":{\"duration\":0,\"easing\":\"linear\"}}],\"label\":\"&#9724;\",\"method\":\"animate\"}],\"direction\":\"left\",\"pad\":{\"r\":10,\"t\":70},\"showactive\":false,\"type\":\"buttons\",\"x\":0.1,\"xanchor\":\"right\",\"y\":0,\"yanchor\":\"top\"}],\"sliders\":[{\"active\":0,\"currentvalue\":{\"prefix\":\"Threshold fraction=\"},\"len\":0.9,\"pad\":{\"b\":10,\"t\":60},\"steps\":[{\"args\":[[\"0\"],{\"frame\":{\"duration\":0,\"redraw\":true},\"mode\":\"immediate\",\"fromcurrent\":true,\"transition\":{\"duration\":0,\"easing\":\"linear\"}}],\"label\":\"0\",\"method\":\"animate\"},{\"args\":[[\"1\"],{\"frame\":{\"duration\":0,\"redraw\":true},\"mode\":\"immediate\",\"fromcurrent\":true,\"transition\":{\"duration\":0,\"easing\":\"linear\"}}],\"label\":\"1\",\"method\":\"animate\"},{\"args\":[[\"2\"],{\"frame\":{\"duration\":0,\"redraw\":true},\"mode\":\"immediate\",\"fromcurrent\":true,\"transition\":{\"duration\":0,\"easing\":\"linear\"}}],\"label\":\"2\",\"method\":\"animate\"},{\"args\":[[\"3\"],{\"frame\":{\"duration\":0,\"redraw\":true},\"mode\":\"immediate\",\"fromcurrent\":true,\"transition\":{\"duration\":0,\"easing\":\"linear\"}}],\"label\":\"3\",\"method\":\"animate\"},{\"args\":[[\"4\"],{\"frame\":{\"duration\":0,\"redraw\":true},\"mode\":\"immediate\",\"fromcurrent\":true,\"transition\":{\"duration\":0,\"easing\":\"linear\"}}],\"label\":\"4\",\"method\":\"animate\"},{\"args\":[[\"5\"],{\"frame\":{\"duration\":0,\"redraw\":true},\"mode\":\"immediate\",\"fromcurrent\":true,\"transition\":{\"duration\":0,\"easing\":\"linear\"}}],\"label\":\"5\",\"method\":\"animate\"},{\"args\":[[\"6\"],{\"frame\":{\"duration\":0,\"redraw\":true},\"mode\":\"immediate\",\"fromcurrent\":true,\"transition\":{\"duration\":0,\"easing\":\"linear\"}}],\"label\":\"6\",\"method\":\"animate\"},{\"args\":[[\"7\"],{\"frame\":{\"duration\":0,\"redraw\":true},\"mode\":\"immediate\",\"fromcurrent\":true,\"transition\":{\"duration\":0,\"easing\":\"linear\"}}],\"label\":\"7\",\"method\":\"animate\"},{\"args\":[[\"8\"],{\"frame\":{\"duration\":0,\"redraw\":true},\"mode\":\"immediate\",\"fromcurrent\":true,\"transition\":{\"duration\":0,\"easing\":\"linear\"}}],\"label\":\"8\",\"method\":\"animate\"},{\"args\":[[\"9\"],{\"frame\":{\"duration\":0,\"redraw\":true},\"mode\":\"immediate\",\"fromcurrent\":true,\"transition\":{\"duration\":0,\"easing\":\"linear\"}}],\"label\":\"9\",\"method\":\"animate\"},{\"args\":[[\"10\"],{\"frame\":{\"duration\":0,\"redraw\":true},\"mode\":\"immediate\",\"fromcurrent\":true,\"transition\":{\"duration\":0,\"easing\":\"linear\"}}],\"label\":\"10\",\"method\":\"animate\"},{\"args\":[[\"11\"],{\"frame\":{\"duration\":0,\"redraw\":true},\"mode\":\"immediate\",\"fromcurrent\":true,\"transition\":{\"duration\":0,\"easing\":\"linear\"}}],\"label\":\"11\",\"method\":\"animate\"},{\"args\":[[\"12\"],{\"frame\":{\"duration\":0,\"redraw\":true},\"mode\":\"immediate\",\"fromcurrent\":true,\"transition\":{\"duration\":0,\"easing\":\"linear\"}}],\"label\":\"12\",\"method\":\"animate\"},{\"args\":[[\"13\"],{\"frame\":{\"duration\":0,\"redraw\":true},\"mode\":\"immediate\",\"fromcurrent\":true,\"transition\":{\"duration\":0,\"easing\":\"linear\"}}],\"label\":\"13\",\"method\":\"animate\"},{\"args\":[[\"14\"],{\"frame\":{\"duration\":0,\"redraw\":true},\"mode\":\"immediate\",\"fromcurrent\":true,\"transition\":{\"duration\":0,\"easing\":\"linear\"}}],\"label\":\"14\",\"method\":\"animate\"},{\"args\":[[\"15\"],{\"frame\":{\"duration\":0,\"redraw\":true},\"mode\":\"immediate\",\"fromcurrent\":true,\"transition\":{\"duration\":0,\"easing\":\"linear\"}}],\"label\":\"15\",\"method\":\"animate\"},{\"args\":[[\"16\"],{\"frame\":{\"duration\":0,\"redraw\":true},\"mode\":\"immediate\",\"fromcurrent\":true,\"transition\":{\"duration\":0,\"easing\":\"linear\"}}],\"label\":\"16\",\"method\":\"animate\"},{\"args\":[[\"17\"],{\"frame\":{\"duration\":0,\"redraw\":true},\"mode\":\"immediate\",\"fromcurrent\":true,\"transition\":{\"duration\":0,\"easing\":\"linear\"}}],\"label\":\"17\",\"method\":\"animate\"},{\"args\":[[\"18\"],{\"frame\":{\"duration\":0,\"redraw\":true},\"mode\":\"immediate\",\"fromcurrent\":true,\"transition\":{\"duration\":0,\"easing\":\"linear\"}}],\"label\":\"18\",\"method\":\"animate\"},{\"args\":[[\"19\"],{\"frame\":{\"duration\":0,\"redraw\":true},\"mode\":\"immediate\",\"fromcurrent\":true,\"transition\":{\"duration\":0,\"easing\":\"linear\"}}],\"label\":\"19\",\"method\":\"animate\"},{\"args\":[[\"20\"],{\"frame\":{\"duration\":0,\"redraw\":true},\"mode\":\"immediate\",\"fromcurrent\":true,\"transition\":{\"duration\":0,\"easing\":\"linear\"}}],\"label\":\"20\",\"method\":\"animate\"},{\"args\":[[\"21\"],{\"frame\":{\"duration\":0,\"redraw\":true},\"mode\":\"immediate\",\"fromcurrent\":true,\"transition\":{\"duration\":0,\"easing\":\"linear\"}}],\"label\":\"21\",\"method\":\"animate\"},{\"args\":[[\"22\"],{\"frame\":{\"duration\":0,\"redraw\":true},\"mode\":\"immediate\",\"fromcurrent\":true,\"transition\":{\"duration\":0,\"easing\":\"linear\"}}],\"label\":\"22\",\"method\":\"animate\"},{\"args\":[[\"23\"],{\"frame\":{\"duration\":0,\"redraw\":true},\"mode\":\"immediate\",\"fromcurrent\":true,\"transition\":{\"duration\":0,\"easing\":\"linear\"}}],\"label\":\"23\",\"method\":\"animate\"},{\"args\":[[\"24\"],{\"frame\":{\"duration\":0,\"redraw\":true},\"mode\":\"immediate\",\"fromcurrent\":true,\"transition\":{\"duration\":0,\"easing\":\"linear\"}}],\"label\":\"24\",\"method\":\"animate\"},{\"args\":[[\"25\"],{\"frame\":{\"duration\":0,\"redraw\":true},\"mode\":\"immediate\",\"fromcurrent\":true,\"transition\":{\"duration\":0,\"easing\":\"linear\"}}],\"label\":\"25\",\"method\":\"animate\"},{\"args\":[[\"26\"],{\"frame\":{\"duration\":0,\"redraw\":true},\"mode\":\"immediate\",\"fromcurrent\":true,\"transition\":{\"duration\":0,\"easing\":\"linear\"}}],\"label\":\"26\",\"method\":\"animate\"},{\"args\":[[\"27\"],{\"frame\":{\"duration\":0,\"redraw\":true},\"mode\":\"immediate\",\"fromcurrent\":true,\"transition\":{\"duration\":0,\"easing\":\"linear\"}}],\"label\":\"27\",\"method\":\"animate\"},{\"args\":[[\"28\"],{\"frame\":{\"duration\":0,\"redraw\":true},\"mode\":\"immediate\",\"fromcurrent\":true,\"transition\":{\"duration\":0,\"easing\":\"linear\"}}],\"label\":\"28\",\"method\":\"animate\"},{\"args\":[[\"29\"],{\"frame\":{\"duration\":0,\"redraw\":true},\"mode\":\"immediate\",\"fromcurrent\":true,\"transition\":{\"duration\":0,\"easing\":\"linear\"}}],\"label\":\"29\",\"method\":\"animate\"},{\"args\":[[\"30\"],{\"frame\":{\"duration\":0,\"redraw\":true},\"mode\":\"immediate\",\"fromcurrent\":true,\"transition\":{\"duration\":0,\"easing\":\"linear\"}}],\"label\":\"30\",\"method\":\"animate\"},{\"args\":[[\"31\"],{\"frame\":{\"duration\":0,\"redraw\":true},\"mode\":\"immediate\",\"fromcurrent\":true,\"transition\":{\"duration\":0,\"easing\":\"linear\"}}],\"label\":\"31\",\"method\":\"animate\"},{\"args\":[[\"32\"],{\"frame\":{\"duration\":0,\"redraw\":true},\"mode\":\"immediate\",\"fromcurrent\":true,\"transition\":{\"duration\":0,\"easing\":\"linear\"}}],\"label\":\"32\",\"method\":\"animate\"},{\"args\":[[\"33\"],{\"frame\":{\"duration\":0,\"redraw\":true},\"mode\":\"immediate\",\"fromcurrent\":true,\"transition\":{\"duration\":0,\"easing\":\"linear\"}}],\"label\":\"33\",\"method\":\"animate\"},{\"args\":[[\"34\"],{\"frame\":{\"duration\":0,\"redraw\":true},\"mode\":\"immediate\",\"fromcurrent\":true,\"transition\":{\"duration\":0,\"easing\":\"linear\"}}],\"label\":\"34\",\"method\":\"animate\"},{\"args\":[[\"35\"],{\"frame\":{\"duration\":0,\"redraw\":true},\"mode\":\"immediate\",\"fromcurrent\":true,\"transition\":{\"duration\":0,\"easing\":\"linear\"}}],\"label\":\"35\",\"method\":\"animate\"},{\"args\":[[\"36\"],{\"frame\":{\"duration\":0,\"redraw\":true},\"mode\":\"immediate\",\"fromcurrent\":true,\"transition\":{\"duration\":0,\"easing\":\"linear\"}}],\"label\":\"36\",\"method\":\"animate\"},{\"args\":[[\"37\"],{\"frame\":{\"duration\":0,\"redraw\":true},\"mode\":\"immediate\",\"fromcurrent\":true,\"transition\":{\"duration\":0,\"easing\":\"linear\"}}],\"label\":\"37\",\"method\":\"animate\"},{\"args\":[[\"38\"],{\"frame\":{\"duration\":0,\"redraw\":true},\"mode\":\"immediate\",\"fromcurrent\":true,\"transition\":{\"duration\":0,\"easing\":\"linear\"}}],\"label\":\"38\",\"method\":\"animate\"},{\"args\":[[\"39\"],{\"frame\":{\"duration\":0,\"redraw\":true},\"mode\":\"immediate\",\"fromcurrent\":true,\"transition\":{\"duration\":0,\"easing\":\"linear\"}}],\"label\":\"39\",\"method\":\"animate\"}],\"x\":0.1,\"xanchor\":\"left\",\"y\":0,\"yanchor\":\"top\"}]},                        {\"responsive\": true}                    ).then(function(){\n",
       "                            Plotly.addFrames('54063125-8013-472a-9a9b-8c6e95aee9b3', [{\"data\":[{\"name\":\"0\",\"source\":\"data:image/png;base64,iVBORw0KGgoAAAANSUhEUgAAAAgAAAAzCAAAAACP2RY5AAABTklEQVR4Xj3Ov0vUARzG8df3y0kmcS5234grLkQQw7yKfg0GJxEoXKFxYVRC3B9gww0llLQURERDETRFHSS0BYVcEE01NfQPNESCQ4MmZJTwafCr65vneT+P8cLnqBV2lB0RT8y4gACuhrnR+Y40Sz7G2TtvguTTD24Hk/Hi6Kozajgh+HpwXkyMnfaUw79inLWpTP+1WNDOfQbj5mOvndJwPWczRNUBheAYe9NqshjrXYealLePRANVKpV25l6YtOLtPkGWJ3qdDHo4Jy4P+N5JN2a/tYv1/R2RvLQn9+hGKk2Ku8OASyXNKNncCRjjePQY1LdFgueGLW0ZuBH1BXOmNgkSol56tzat9b5BvPpLI75UHriouN1rIeuPgp9YTh5JjTzr/b0Rrty/FSxKuv7F6K6hh7QIavmJ7rIU/BkmJjiPdGSn+NDErLsC/wGGjHOx9K5LTAAAAABJRU5ErkJggg==\",\"type\":\"image\"}],\"layout\":{\"height\":700,\"margin\":{\"t\":60},\"width\":700},\"name\":\"0\"},{\"data\":[{\"name\":\"1\",\"source\":\"data:image/png;base64,iVBORw0KGgoAAAANSUhEUgAAAAgAAAAzCAAAAACP2RY5AAABRElEQVR4Xj3NTWjOAQDH8c//ydS0x7L0iLZnWVvPWAsHJ8zmpSkHxYraQ2rlMuG5kgt5uTg4oJSQlwMHS7TTLl4u5CrKxfSUCy678nN4nva7fr99f0525M90Rxeb5Mm2a3ZZ3pnY6c1xpc3F4x5vl4Iv6fUZjTw/v2C/SQzKnPiNHUovV/VUX2c1SzZWJy5kRh62g9359unQKddd9j6HwVWy1xYrwxBVxu7dVRsNfQQllUwXZZOsW3+rTz1olE7HMy0D74zlAHTK3AkfOHL0awy5I9VZ/d0gKi3dsJi1ttyfqbLRFoM9bE2nQb/aYY2qm8tYKI3k4H2LxtsCTGXf/MWuhpHs5uelF2zP094rznmFGmkVJgaoBSucLWYq88d+/LvdJHUV3yEN9YJHhHEFGV4s1mzA3zDwUZqty1JzQSv6wA3Bf0XWchONPxzdAAAAAElFTkSuQmCC\",\"type\":\"image\"}],\"layout\":{\"height\":700,\"margin\":{\"t\":60},\"width\":700},\"name\":\"1\"},{\"data\":[{\"name\":\"2\",\"source\":\"data:image/png;base64,iVBORw0KGgoAAAANSUhEUgAAAAgAAAAzCAAAAACP2RY5AAABUklEQVR4Xi3PvWuTARzE8c8TnkdtLRJpsSpGU6uWSsQliSIiiqSKxEgdBCtYCgVBRJA6RXBq/wBftoggbroGcdShUHDROlgIVKWDpeBWdBF+Dk9vveN7d2az6HWy3RwRT8cfqkEJURDujr1dTNLB5M3n5MnecFq84+dauvSMhfKhy+pcHBPTXtiDYDFzYCUahGEtG0NiXq7D8bHXqrrvtuuxC0wRN53UHxynnJjfMZecc4ZRAgVZzCRVNYx0aUdKuVn5mvzJC+GVaiwZgGg+8umUyefLcWnaeWFGqwRCfx53RXhMcSCuFaW5B3XGY7uDjgZ6sE3Uj/lGShb49eHOqtCATULqy8qcKJaT4fWr3fT13xK16IwubGHvkZ8VG3iAdZH0/avc+tFq/C6cXZ24sDzhvZET8VJfyiSxjwqis9NQG9FmP9+D0g0Km02x1kR3a/t/1kZysdkcf8gAAAAASUVORK5CYII=\",\"type\":\"image\"}],\"layout\":{\"height\":700,\"margin\":{\"t\":60},\"width\":700},\"name\":\"2\"},{\"data\":[{\"name\":\"3\",\"source\":\"data:image/png;base64,iVBORw0KGgoAAAANSUhEUgAAAAgAAAAzCAAAAACP2RY5AAABU0lEQVR4XjXPP0jUcRjH8df9/B2FdYhd4EFknATZXRF05BRFaCAHaXL9oSmHmsqWo38gjQVORgUKBjkVNrgl0VaDbV0QBEFLRhBRLREFxdPwtfF5nvf78/AxVvwT54tlKuLKrgmnINBwmYvivsLEcvzNrxXfYam9SXRYjJX+mULDVhwRxEat7h0LBJX2hxFCv0/epDTIbsbcma4DLqkbjBIYJobVCAbZl/WtTsfPh3sOUU9mZjLapzsOYtuFbscD7Z7H4ZVwNSW/tBad9CVWW77PunXuS9ipKQbusD+dEiEcc9tvqjeir7q+BEPUojcxox7opSTu9rj335Sf2Px+/BH19Znct7fXRblcaDyZXImZLRnb4+TXBUwnpukpNAO/MCusze2efxEfnxdqAxuqS5/PzhtvxaiuUlKmvN6LyEsWIaYYkeofJV8+bGgse8YPUVHlH8lvdoTunhBWAAAAAElFTkSuQmCC\",\"type\":\"image\"}],\"layout\":{\"height\":700,\"margin\":{\"t\":60},\"width\":700},\"name\":\"3\"},{\"data\":[{\"name\":\"4\",\"source\":\"data:image/png;base64,iVBORw0KGgoAAAANSUhEUgAAAAgAAAAzCAAAAACP2RY5AAABRklEQVR4XkXMTWjOAQAG8N//v729dniHw8petmls1hA7DNMo0cRKPmpxWBQuk522m1xEXHaglDhwmnBSKG05uDsod5+lcbDLkMPjsI3b0/P0e5ys5NuJyirIhGF7IbggCw7enxtTkLfbTK6x2qu1XYLTebHlRnFcJ9O9Qnimfa7FdzqmcqTBXa3r4tbS3UqKfH76pv/T1WMG1dLBeYbJYb2aQhc9Zd/zxzn0YeQJZxZhaeHKYDVWqNg01m48GJUpD8WQJpT7/U6b5o3IL2aYHVpIZbcB8wLUlwM2I9TLqOv8V9vKhjRT/oj5oy9tp1VUnVrcQ7nj5sXs+ejsf+X9g1Gp9rg8M2Fy6mdoy7ld9xYBKN3xlYZ9yyQl3dfdfqes+TOw8zXWSzdVwrU+YxoLKWr6S6TGiMZLLYUUj8i0L8ZpPDCbQoW/WzJvkMc3lqEAAAAASUVORK5CYII=\",\"type\":\"image\"}],\"layout\":{\"height\":700,\"margin\":{\"t\":60},\"width\":700},\"name\":\"4\"},{\"data\":[{\"name\":\"5\",\"source\":\"data:image/png;base64,iVBORw0KGgoAAAANSUhEUgAAAAgAAAAzCAAAAACP2RY5AAABW0lEQVR4Xj3OT2jPcRzH8cfn67s/P7L2m7WEfiKMZZts2gErIsuBlJZI7VeilpMcdnJRQ1YKZSFJTjtQXJaUHZX6HVj55c+Ji5RdtAzzdvj9eB1f9Xw9X841xNezDSsgLqvohIAkUnnf7Nwk6xffX4/zG3Wb3lMQ8m+XDvx6UkwjdqBP8JEPDkfJfJP8TQx15IWF7v1/0uwFXYEFTMfdXfcfq9hNrLS8xDhxSpe2YCudecvv+P68UBljqP7DVIxoVUTvLWYCx5ZWwquM9qvVpD8bl0bXWZu0ihd8vp3PHfrU6Myafn3CEmQnsaiWMiIz7IvhSPUSm9hek/50Y3OQPVitWk31J4J8b2/HWLrj9D8mtD+b6DkRjTsdnSqbGX0ZbIkrbtYA87CNYMPT/1TWfHxgsvlgRKLpR/L2oSPFGKSlRj0yAe/altXkcZEm7tVHDfQIJbJVryNdG+QvO2Z23bI4EaAAAAAASUVORK5CYII=\",\"type\":\"image\"}],\"layout\":{\"height\":700,\"margin\":{\"t\":60},\"width\":700},\"name\":\"5\"},{\"data\":[{\"name\":\"6\",\"source\":\"data:image/png;base64,iVBORw0KGgoAAAANSUhEUgAAAAgAAAAzCAAAAACP2RY5AAABTElEQVR4XjXMPUiUARzH8c/z+Mh56VEUGpTSdVlg0L1UV3pQcmFUtBYtDcE1SVJItNrS6N4a5tJSDRY2NPcyXS1HRK+0FAmBcdjyb9Abv19+v689/dEZ658YRyw4YxRmEdnLZvLP8p8k4eOBpFofw7xBIWuUFytPPyXX1FARl9ILrLQvOuT1dp7E2VTka9ML6e95978hSDvd2wdbPFMxtDauGNwlTqnaFgyQz0obb4+vrK/uZ4ZA6kTsbQD7bmRmQ9GUYDn9bPdUQsdzV94EOQPiOu8fZt3Gh5xzRwpaw0GRdMcvCl82Q7f6moKSUNo0gVcmOR2ga3QycHQaOZtSkPa1Wy8w0nvJLOXOP7o8dCw93Hi3+n1xfc6uajx2FQ+2NjBnpAdNgfISG2GYryfzUedOFNRwk4nwE2Jm0A8p1v66V7dTr1gT5SLaW/wf74NsXiDADC4AAAAASUVORK5CYII=\",\"type\":\"image\"}],\"layout\":{\"height\":700,\"margin\":{\"t\":60},\"width\":700},\"name\":\"6\"},{\"data\":[{\"name\":\"7\",\"source\":\"data:image/png;base64,iVBORw0KGgoAAAANSUhEUgAAAAgAAAAzCAAAAACP2RY5AAABUUlEQVR4Xi3OPUhVcRyH8c/5ewVvinQUQ4TIu2gS9iKIBS0RvUDUUESgVENZk0uQEkQ2lWRCYEtTLUEhvRBBCQVNUdAQ4SIFN9wy0HALuvwazvnuz/d5aI4XmvdDTGbsgoDkMNyT5RvztaPZkXY8Qqic+Xa+5e3f7KS9OCHupAof850mrea8id2y2DS4Xlle/+7KUnk5YE6saaTLOl4Od2xPXCLGHNMf1JClxquHfy4s9nG17GirRl4baYKRX1s9jULJkmfuQ6TM82hoHdcihvhMvP553Q3durqCXiwITYrdPj4vXMzVd+SFJfDAHg4FbAudm79ippu+soRQTa7dik/Tekqqf40fXw6+i/azbv6eVp+NJybyWDaIf8RKwZorgPIpOTX0uHdmhYG2fdGTRoc5F6n6Ae8Z3VAPhFaLMH6AmLJlgbtBWj0tGhnGzEYF/wHHPXcBT6WWdgAAAABJRU5ErkJggg==\",\"type\":\"image\"}],\"layout\":{\"height\":700,\"margin\":{\"t\":60},\"width\":700},\"name\":\"7\"},{\"data\":[{\"name\":\"8\",\"source\":\"data:image/png;base64,iVBORw0KGgoAAAANSUhEUgAAAAgAAAAzCAAAAACP2RY5AAABUklEQVR4XjXOT2jPcRzH8cfnu++v+dlE2tRa5rdaKDP8TltWNIepuaBGORD6hcP8uEppZ0cZJSVpB1f/FomUQrlMscOP2oEDsYNY+/3ydthvz/vr+XwlhaXZgcJgOTfqtvqrhmVCLtK9rrtVWIjjLsKhYIDh3pjpXpWPZRu/pF+nFutHE753VDdvFy3MNoamXW/tPzORvQjPA5Pkl+sfin/uC6PiZQ+oEMccVgr6kVoXP179unptKLwhQEeUH61pWdes//wkVxbsccBZ44QlB2NGO0UxwrfJ/MFr+z9XutAZ25RwTthkmdPBVBb0necp4iZkO6WHAe3B8DXr1TG18kQ4ktl6IcZ6zSVEcqKUdT5+O/gvnvymUsknRt6F97sasdCNZ24MBeMrgh9Umya1HbfSpVrYZ0swvQFRBCeZz8wH/mprbu8wF/oCV0Ax9kJNsJv/GQB+VKhlUPcAAAAASUVORK5CYII=\",\"type\":\"image\"}],\"layout\":{\"height\":700,\"margin\":{\"t\":60},\"width\":700},\"name\":\"8\"},{\"data\":[{\"name\":\"9\",\"source\":\"data:image/png;base64,iVBORw0KGgoAAAANSUhEUgAAAAgAAAAzCAAAAACP2RY5AAABVklEQVR4XkXQT2jOcRwH8Nfv+zz786g9NlOkrU09etBDWP5E27Ic9CQ5ryhyXaZlShHFFaeVg5tSTsrCQdMOywFDSytPlHqSlVLzSLl8dnieeNf79P5T77ezbfF+d9uxk2yP0/qBgCTULdySnIlORxr/FGn9mCcHNjuaqnPZt8HvsQfiscuzKTbKVr7ObXBl3b7547mY4j7DQXZnZPHXxczb9HLofKPCb3YRO2xVCRLbsq7VG/dK5c9dLgRLSJ1ZDP3I5WDyL3EtsdIek1kvblcQKSwefq29oSBq1Gfy438MG+uTX67Jd3/BhNCjiRMx6JwajzQ3RQnSuKwnoDs4eN2AoK9OlemWVWkipjrAQJDr5eG76nQUb+a3vFl+uqm4+km/53FolHRJwci8j63jtDpyMLP/lbuxoKwcOy1h9Kco6nCK2azpfKHwPxstPkN44ANcFXthDR0UdWr2AIZxAAAAAElFTkSuQmCC\",\"type\":\"image\"}],\"layout\":{\"height\":700,\"margin\":{\"t\":60},\"width\":700},\"name\":\"9\"},{\"data\":[{\"name\":\"10\",\"source\":\"data:image/png;base64,iVBORw0KGgoAAAANSUhEUgAAAAgAAAAzCAAAAACP2RY5AAABSklEQVR4Xk3OwYuMcRgH8M/vfQez2lkapLds3p1SOxuxMty29rSbHaUQR3ExSu0Ff4KTHCyy2+ZgrVonB7mtEy6UGqGmnJSSk/ZC8ji8Dr6X5/Lt83wVYu2gE2cRl7X8nw8WY3VedvhbTKYLeyBwmtZwPOls0cr2baQvxc8Yhdthjthp5PrriWVH6uOPZR/D3XDGgNT48ax/oOuXJLp1tnOUmDWmHWymljUsjD56ebzkSvXNnby/O5o5zN8kuuqmxCGr6ESOLGxayKWBIdHj/VhtasRb0/uxK7Yp0as4PHfrZDhmBcQ9REvlDJ17x1UpSCtyDxE0qzHfobwYmpUUkGbaneWZa8XebPBmsP6n/fW83x6EOcyKxR7Tyn/l6uxQWF/q9PuvYslWlzZuiBLhaaNqaasFwrDPcGqCWONTRdQmx4uIJNyv4Bd/Afytccwvk/tsAAAAAElFTkSuQmCC\",\"type\":\"image\"}],\"layout\":{\"height\":700,\"margin\":{\"t\":60},\"width\":700},\"name\":\"10\"},{\"data\":[{\"name\":\"11\",\"source\":\"data:image/png;base64,iVBORw0KGgoAAAANSUhEUgAAAAgAAAAzCAAAAACP2RY5AAABSUlEQVR4Xj3OT2jOAQDG8c/v51222zTGQW2ZbRlWaMuyHZYdFLbSIqXNZctlHIhYDjug5Ca5vImUpPxpZWbaXe0ioXZYSrmgXLiQHod3PLfnqe+3xwGZ6TN8h7FM95zVqZZgUZyeVmbu+5JbvxQkpZ5GpNpZZ1O5X/Gp9Xf2QSZ9VqZOsW1l5I2D+t+ttZKa6zYat19oT7/HOmUUAxwnl+zREVBf2aD6tLvl5SzhBiptzTm0w5q9GDxJvlT0b75b/VAE0cRz0Tt6k7GCtzsLC18Nn8qIE7i2PrRiSGwEPzzaHVcVWkbqzIfaR+6rPxPOGwp9r1b3FzQwv9qqbVPRxD/qY3nxyJ/DWdzyU2/XjK7BXFeRhWPw0Hhec8/R0PCfYbl8MNnxJLPLS7gS5sYRl2tizd2yC+8RJc9aMMC3VUW7refWEYsmTJC/8XJ35VyVJA4AAAAASUVORK5CYII=\",\"type\":\"image\"}],\"layout\":{\"height\":700,\"margin\":{\"t\":60},\"width\":700},\"name\":\"11\"},{\"data\":[{\"name\":\"12\",\"source\":\"data:image/png;base64,iVBORw0KGgoAAAANSUhEUgAAAAgAAAAzCAAAAACP2RY5AAABQElEQVR4Xk3OwWvOAQDG8c/vRxbZhvaG17tsrDAlWdpaWDtok71zcEQ57CBtpixKiBLS+AMcpFbvjbmtJTvLRRyWOLFwcHZbPQ4v8Ryfnuf5Pi7KyAHHLtObKd3+Kkr3ZN4TZk7kA1OwP6BNnu9hshxQXB2U7ZCDZpmn9jbHe21ydHGb0BK7Oifg5sKltDiMPNgBzpO7diubu/vKPh9PNr5fOcIFAt2V1O9bA8P1pvdw3OicIB6jjKFXX4A74dQL1/pyxljLZjpCF7pED7S+My3O6ifjPhXIVgrlexu6I4MGZqiFIsXG9nIFvmnCUz29rL0Ja74e2vtjOo2dc3rW3WjrlEdrP1e3jP5aKbhtdXbRrfgaWv/rXC8mKwtPX9bOvcFIP3mNGKtQUuj8maU/6WX+4VepBx2qWQ9Lnh1qDMtvxMxwS0OG5ecAAAAASUVORK5CYII=\",\"type\":\"image\"}],\"layout\":{\"height\":700,\"margin\":{\"t\":60},\"width\":700},\"name\":\"12\"},{\"data\":[{\"name\":\"13\",\"source\":\"data:image/png;base64,iVBORw0KGgoAAAANSUhEUgAAAAgAAAAzCAAAAACP2RY5AAABRElEQVR4XkXOz2vPARzH8cf3E5uyduC7IZqv2mWk9M3P0DCzHXyzlV9tbaWsb6HFQS5SC4Uc5DBSKxcH/4KTxcEOjlzHcnCUlULt5fD54nV59+r1fj9fb1NyfL8zI8h1/xWMexRNhUOZ2KRrGhdSxqvzqoNTxeDvSmNCtkDe6lDcW6vnR/re22U4k37dJtarU1SOTdaz7A3S3MA2hsglm1VLbnsx7mNtZv7GTxrlE/Z1pn9W5SUGzpEZHpzWVqajLzpJ8UX32AHdFWSa2WLVyLJvNl5boRq2oiq2g73mHBUNXC5LWnqqrRaeGbxDX+wR5surJyWKWjO968r9QKV/8fG7wwvPPztf3OzplSWf3H+dHTghZ68YO2LqX00cBN9Hdy8+vJi7BlwdPmkpf3ntoFGa4CustMyH1typni7mDLm1wJr8AaMubb/VRmE3AAAAAElFTkSuQmCC\",\"type\":\"image\"}],\"layout\":{\"height\":700,\"margin\":{\"t\":60},\"width\":700},\"name\":\"13\"},{\"data\":[{\"name\":\"14\",\"source\":\"data:image/png;base64,iVBORw0KGgoAAAANSUhEUgAAAAgAAAAzCAAAAACP2RY5AAABT0lEQVR4Xi3PPUjUcRwG8M/v/HPXqSWFQiq9IVJQQwQRFhEuDYYiUQ6BQxQpaAdFELeZBhFESUMEoqGIZEOkoNDQVkMFLdFQUBANNQgFBzU0fB3+9yzPy/A8PIbFsT5jD7gci/19yriHoPOWF2EGPsZ5V+QxClmyjvHCWKSry+I/xE+fmduq/OrriVDUE/u86U0iDW38+SBd7377d3lbbTdiogGMEud0ac+Lm7Ml7y++XPrRSEt97ZTwmIfofUZMZ0bODFQ6U6AiUAi/Bk8rQFzi9R03DkS/7hJaQ8cejAjDoGLl6H5hSHNUbagjGNd0MBgwfZ9HkYfzT7nLbO5MdFUiawVpBZEOf7/5+92hJzUn09njrAZmYrZKKv+LnU3fJr9Yyw9iXqiStSwcqV0oxpSSBe0CxUAxn7nmNrnc24DRuvlU5x3aYgvblTwXdtkE6V12NNcc8BIAAAAASUVORK5CYII=\",\"type\":\"image\"}],\"layout\":{\"height\":700,\"margin\":{\"t\":60},\"width\":700},\"name\":\"14\"},{\"data\":[{\"name\":\"15\",\"source\":\"data:image/png;base64,iVBORw0KGgoAAAANSUhEUgAAAAgAAAAzCAAAAACP2RY5AAABN0lEQVR4XkXOzYuNARgF8N97e2+zoDGuaWRurq8yiVyT4RYrkQg1IwlzZzayEUsWNw3ysbHFYorNbMSGNAvZsBD2Uv4AG0XZuuVYvBdncZ56znPOeczLgZa5eW7ltdtK/7D/knMZv6h89yX7CkP/FYeLvDrEVK2eYmazTEJAG08XJ4Lp7dWyPxC3Dp1sp6OGXC1ps0iO2KlVmZue5KUz1y6jHCQ2xSg9bAvLyqlPx4tu81jwTWwkTpgFMs3djrkteWh8BYZfyBguiC4K9f7uXz++Bk7/fbviBSOd1D229MCe5WABB0l1cQU3d9yLdZVpDIo1v3t5M/r8p6NmP/A+6MVHaiutam3qpCFL4DpnxXnKmc+7TA5/f4S+UzJir7Bh9VrBfbqq1mcGCN4O5oT1aXDDHT0pGv4AzP5pEoGW/n0AAAAASUVORK5CYII=\",\"type\":\"image\"}],\"layout\":{\"height\":700,\"margin\":{\"t\":60},\"width\":700},\"name\":\"15\"},{\"data\":[{\"name\":\"16\",\"source\":\"data:image/png;base64,iVBORw0KGgoAAAANSUhEUgAAAAgAAAAzCAAAAACP2RY5AAABQ0lEQVR4Xi3PMUhVcRiG8d//cLp04d4KU0uQEk0TQQ5CSZQhXLDlLkUkQjREtkQYNungXRoSpMawQIIakoaWhraItjsKpTS0RNDkILW09DWcM718vDzfy2NRDE6bP89WfD1yyX0E2vIiS2Pfmj8gmiw38GEYYSbF5lUG8xOR8ilxQQBPFU3i8Yh8x/X+JFLes58sTSUcrJ0M1hDyEiDu4GHJr7sW7y4Wj25WFYyX0cXkCsGYc4ThRKSJ3fYxoX2rWTFv6XZ0+uK52uGjHjS2xHHcELUrzqDXwuhA+bWXkBE9JNmcei1YtfeF95WTVcJ04DXune2E/nKrjsLobMz9fDmwrWV5vyFeZfPx70V3L31CzJ6iELdxl+zJkPCGNNT3Z/fy782P6sIvf6mEP5uwaLy8viMqNYFnVbYcitNsCDsOtPwH27lsY+Znfx8AAAAASUVORK5CYII=\",\"type\":\"image\"}],\"layout\":{\"height\":700,\"margin\":{\"t\":60},\"width\":700},\"name\":\"16\"},{\"data\":[{\"name\":\"17\",\"source\":\"data:image/png;base64,iVBORw0KGgoAAAANSUhEUgAAAAgAAAAzCAAAAACP2RY5AAABM0lEQVR4Xj3PT2jOAQDG8c/v95K8Y9mfUu9Ei1yQpb0iSm2aPxFaGkXZtOUqB6RWDtqV3eQoizO77KRcuDAtDnLgYMrBiTnxOPzed7envs+3p8cpaZ41iQtZdtcVBLjGoWxrQj5MuDnVRk8MFJkeYfea9Sl2Rra2HWpdZGYz/UYrofnG0Ra/6uG4IGrUQBr4BX+kvD+fO50vbhcVgr1+KKs8MkY45rRv8Up7tkhx/uvPz5XzmIUxM/IIyr8bZifTg3EZOqOXIzvsNyuon1h9SziuvieFk+XwysrS9D/DBlqsPBi8dsl7N6KjbaDsG+Ld3GHOuf50oyhy+VP3vqXn2zGYezRkEy6i/0GlFT1l/cvg8rPSOt+9FG6tDTrY4qNGVQsWu1a3+N3Ku3Qu9hLxVs3ogf82L2zzSMHrfgAAAABJRU5ErkJggg==\",\"type\":\"image\"}],\"layout\":{\"height\":700,\"margin\":{\"t\":60},\"width\":700},\"name\":\"17\"},{\"data\":[{\"name\":\"18\",\"source\":\"data:image/png;base64,iVBORw0KGgoAAAANSUhEUgAAAAgAAAAzCAAAAACP2RY5AAABMklEQVR4Xj3PMWuTARjE8d9b38SmlsSoWAsmS6EOFQqCaBQtOkkLShUXRWgnxUmXCCLoJDoIgoIg/QKCBd1KCw4dLDhYKAiCg1BwF1yFc0h8t+N47v7PuSpnLjnB6OV88sgOAjzjSJxmWl7Rh/dBS7/IyiRj5UaKbl26/zM4Sn4cWyxnvl0bLaQoFw6sdqSAl+qD+rRwCrwLzrUQH0d6V/K4+/PFNoaPzIo9bGLuLeGs+27/kgo6ws3JzkCnzZtF92SNgi/ND3IYT+TBDQqdcVvDaG2CTKkmL5uYTuGupe+VWb8+kK+Hzop+Pu+jOigPjnNrd++6OU+ft4UszDzcmXUS6U3pkU0cQjsaapS1sc7u+a3VQsOfC8vSpBHH7R/0/lYhLjYrFndoxDz8RWz4Kpb8A9XLY4ZnAW0dAAAAAElFTkSuQmCC\",\"type\":\"image\"}],\"layout\":{\"height\":700,\"margin\":{\"t\":60},\"width\":700},\"name\":\"18\"},{\"data\":[{\"name\":\"19\",\"source\":\"data:image/png;base64,iVBORw0KGgoAAAANSUhEUgAAAAgAAAAzCAAAAACP2RY5AAABPklEQVR4Xk3PP0iUARjH8c+93uCZhwaJg0pYXjgcUXGHVKAJIoLQEE39Ga4kCgyUIHByEIcMgmgJXaJJ3KRBaFBxE50sLioomvqz1FIpFE/D21s+y/PA7/t9Hh594kqXk9c5Ew+cUscWgvv0hQEaPFOOC5Lf6hMvc+dDKRdrHZQdoqcgjrmTOmldjMqcXrVgkeWgdxJuxbS75jL0UkJOLPhgZBhhJ3l1OJ4c3Zl6TEZ1C21sYuAhcTXfv3Hwk9nGXSVj6c15ca4odWrMj6qJVRqIlqe223FEXOtXQsGBbHlCdKQiVLWcDgZ9fUTP33/2tWU3jbsXz5v3JfmhL0y8f1t31uyvVtGlWdPC53AbYsl3Vv7xoQKOV0ovxgvvIv96L6qdP9+Uk71OJ6ou/xD4RqbcKGYuZv7PgY/COor+AIvtb+66hOGQAAAAAElFTkSuQmCC\",\"type\":\"image\"}],\"layout\":{\"height\":700,\"margin\":{\"t\":60},\"width\":700},\"name\":\"19\"},{\"data\":[{\"name\":\"20\",\"source\":\"data:image/png;base64,iVBORw0KGgoAAAANSUhEUgAAAAgAAAAzCAAAAACP2RY5AAABK0lEQVR4Xk3OT2jPAQAF8M/319ZvS36y38TUmoPYQrHfRlF8d5GllD+FklD2J3LZDr/bSnLi4rIUWw5T1GrLxcHFESc3R5wJB+X2HPb1y7u813uv13NYxoe1SgbyyGkvEKDNUJyCnyZz5zVyHzuMFfkxQFMfO3ukdIZsAls5ntFVx2xbJMyH1lPwLVOz9nfRLNAH8pvam1Asu9J1rszC1xNT+2hUR/ql+wDvUE6TodpdY3tmepqfUd/4es3zmzb6mWTxo+uy0lAnmx/61Y9BubjXUVxCPIOCNHTQ5nLmXJUnjH5wRLVa0Tpeup0LvR2LWvcIn1q7GHRvdlwOusVKDllC/rQ9mBC2e/vfnHo58visvEd286XOcNaqsIPg5JZKwA3E+X/Z9xop8OovUjJhODFUdJkAAAAASUVORK5CYII=\",\"type\":\"image\"}],\"layout\":{\"height\":700,\"margin\":{\"t\":60},\"width\":700},\"name\":\"20\"},{\"data\":[{\"name\":\"21\",\"source\":\"data:image/png;base64,iVBORw0KGgoAAAANSUhEUgAAAAgAAAAzCAAAAACP2RY5AAABIElEQVR4Xk3Pv0vUAQAF8M99sQvj/EGaIJegXghmWHFNN1RgkxSIi0uSQz8GcTAcHAz0H4ggaM4tqa2hwU2ipcjFxZYcq628Tew13FW+6fF+8Hh6ZI5LW8VP6uy9h4AHiDuQ+qbZf061GKo0U1MaKo6bXRe++10TDoABvJuKa1bCIXnK9jd05xncVJFHZ1ppXkSv3MIgHVNfs//w7pcRtNcmxNlW9EYvUcwoT1+8dyrIZ7ArTbxC6ryuWpCX3U6TyroPfeiSK/36MY/4hJK/ZxEdz5c8OddZirebNKIM6WzbbHhs2WLm/ksUxti6PEDVqroQ5R2TFrD2Y1Z+uc/1RlqlcXB1dPxNISvYRc4XhmuhNOgEgkZPm5wUcYSIj3D7D0+NYalPrRwSAAAAAElFTkSuQmCC\",\"type\":\"image\"}],\"layout\":{\"height\":700,\"margin\":{\"t\":60},\"width\":700},\"name\":\"21\"},{\"data\":[{\"name\":\"22\",\"source\":\"data:image/png;base64,iVBORw0KGgoAAAANSUhEUgAAAAgAAAAzCAAAAACP2RY5AAABJElEQVR4Xm3NsUuUARgG8N/3eYXk1RlXIcKJeFQkgVFCYC6CWmT/QEtLTg1RSUk1VNzcEkFQzUGbOIZLCuoiLjU0W4sidNDU8jScGkTv9r7P8+NFHnJ2s8QQ395A2GYacQWy2Hj9aC9xdUit52ua9JhgdEC++LgXUqM9Pxpc2yXdMmXj/U/t0sT0wux5bx2TZxfgMvKdSpFCMU6lazgryyd6X9j/ZkwuVVnD9SPkXqWx9bu69KmxdVApT3vsvgPzuemdtO44TE7uWBrEORnp142L+05ZJf0dCC95+iPusspkpxOnGC77UtjecEtdK63qX0P9TMyOoOmJGSEOLXtuoeO5LQ90fdDZ61D0VXqPridzaCODyA3/TDBX+8+RV8Evbobj/AHkemEv8YzpvAAAAABJRU5ErkJggg==\",\"type\":\"image\"}],\"layout\":{\"height\":700,\"margin\":{\"t\":60},\"width\":700},\"name\":\"22\"},{\"data\":[{\"name\":\"23\",\"source\":\"data:image/png;base64,iVBORw0KGgoAAAANSUhEUgAAAAgAAAAzCAAAAACP2RY5AAABG0lEQVR4Xl3OPyzcARjG8c/v50QuQZPikl7V+ZMgF05zzloxNRqxSLoS0YVETDYTi4GVUQwsJFhvNDbpeu1CQmIXm+Xt4Hci3un7vnme530Ql4wep3jk7x0E+IUw3TxsSoiEXK/ujqiPapXzlHR+8rwnmHuA2Q5ivnyC4WCfmOToEvcjG1H8aEOXOP0GfYgSzl5eSs/LcT15UK6znPX4KtpwiLkKUSBfVdAXmk2x3qRo4S61K/4sau3xrxBuhjAmBkvUWHk1DrS/icCa9Gd8N8VOpvksxjFOA1fCou2otZMJSA3zY6JHMvV7NdeoRyLkL1RJuO1P1CbELCeZaQnS/t6ZJC++ZDlbg6RR8G4ClQ9vloxSSgsvXAx0+g+9dVfupE/3QAAAAABJRU5ErkJggg==\",\"type\":\"image\"}],\"layout\":{\"height\":700,\"margin\":{\"t\":60},\"width\":700},\"name\":\"23\"},{\"data\":[{\"name\":\"24\",\"source\":\"data:image/png;base64,iVBORw0KGgoAAAANSUhEUgAAAAgAAAAzCAAAAACP2RY5AAABIklEQVR4Xl3OPUiVARjF8d9rKtE1UcH8wIJSrJQrtykzJBSDcigiuRC0RBecpBCagkChpKUlaGpyaG0OXB1aosXJBMFoLxpaLqfhvZk4PYeH8z/nIN8YHEfe4T0WA1YQjyEmizelwG09cuc62gtFV7+seouGqRQ5vz9Tbe724mZOmyeX+L6BuF89deCFirRdZNBkmfnQ67KS+XP5PL1c+8TZVtu98kB9gQwXtfqXr7/+VH5oOeDBP5VO9iDPRnQs+tj/Wy5QnGjmRnO75zKNQzAT/FxpkRhS3M1TU2wiBpDZbja41qIeeZXZrkMkGI+52hmuqmfUAXMqW0+CYS+D59bGdC79n4s+C7cqMoAd5ApSPWJAGb/UffwLPqwj9KXDSf4C/3Rbq7YHNaIAAAAASUVORK5CYII=\",\"type\":\"image\"}],\"layout\":{\"height\":700,\"margin\":{\"t\":60},\"width\":700},\"name\":\"24\"},{\"data\":[{\"name\":\"25\",\"source\":\"data:image/png;base64,iVBORw0KGgoAAAANSUhEUgAAAAgAAAAzCAAAAACP2RY5AAABL0lEQVR4Xl3OsUuUARzG8c/7endhQyHXpUFm4nJIDYEHTkFYONRkJRSFQw055NBykYuTQYO0GBHNTYWbf4BCQ1ODWC61FZQUhBG0PA3vGdEz/fg9z/PlQdZp9ZfY4Guzhjf8bniPWFa2pXHar0d6igNy8pT6eDmi+Djs9g3BGs9KF9h9e+sbljJkZ0rGWV5Bhp7U5+o6jkntMhPu7gPzuLpqMz+ztD79+hUvCPSJZuVeb5MJMuvh1aktDZuTqtjN4AxSsEApK9MOHfFyMHbHMCIXm5zjXq9D2ozdqeBwgku55iCriCtIiXeVHyx6Ghz9WypG6zvF2R+fvpgxuzkoyPF5CxoGZA0Pat3vxf1q3IbgeTGw1xne/rBX9Cg5b3/Vvwq6h///gnTx2ehcmG/5AwtRYM45i8OBAAAAAElFTkSuQmCC\",\"type\":\"image\"}],\"layout\":{\"height\":700,\"margin\":{\"t\":60},\"width\":700},\"name\":\"25\"},{\"data\":[{\"name\":\"26\",\"source\":\"data:image/png;base64,iVBORw0KGgoAAAANSUhEUgAAAAgAAAAzCAAAAACP2RY5AAABH0lEQVR4XmXPMUjUARTH8c9fjzjo4joT7pSsCBWxGvTQKdCGlgrBRWgry6ZGwY7agsDJJWhocGi7UQdBByFdpLWDNqcmbWpp+zXcnQ295fF+v/f7Ph6yyI0WsjIM5C6DdBA7sKaS+10TUZGpMeVF7/kdFnxHINd5uzr3FWsfr0pDq8peXeyfhjcq6nLyBC7BPelGUbw7PvxU/tlpcqcHrIrprruM3CZfjE6MH7l8kbMazCMFrxiU1lPYvXYqNzEiM49pMKOHFnwe7zN4xna2POLAkPhQ8jBFtXD+b6dt+1vvbLcNFJO8nK2zZOV5WQyc/WjX/swXUZMH2Cht/iqWSYetXuxWqdmYHrp44HWQ0f7Yr+BF7X8N7QnE7HpwpfkX+kZbU+llt34AAAAASUVORK5CYII=\",\"type\":\"image\"}],\"layout\":{\"height\":700,\"margin\":{\"t\":60},\"width\":700},\"name\":\"26\"},{\"data\":[{\"name\":\"27\",\"source\":\"data:image/png;base64,iVBORw0KGgoAAAANSUhEUgAAAAgAAAAzCAAAAACP2RY5AAABHUlEQVR4Xk2QPUsDYRCEn/e4SDASj7vgGbmQQosELfwkIhIQLFIEKzu7sxESRBCCrZVIKklla2GjtYVa+w9S2tiJXxgREYuxuDfGLXaZ2d1hdgFVIJ8HFFb4H+eAOIGMOQLVI/eTcTCaZAQFBdKBE2DWi3wVaIIOKeE++q/Z3nO37V6w43nvqvIRgWYA1F212krKjW9RzxLu3oPapytDMQjmAKL+MNQB4SB/onRmdvFQ1ba2BbkGIAMxuKixBvCEuAMIUWoMcnYBSGwshgNcI1SuyUHS+WEDEEW4Gsy8cazbAQRAzGcMTLHZAuG0ti5TlI3IomFg2Q1GjZOY6x8/zUJcS+veWImOA1oCc/0natOsJfph//FSBoT4Bvb5BTcLVlo1j10/AAAAAElFTkSuQmCC\",\"type\":\"image\"}],\"layout\":{\"height\":700,\"margin\":{\"t\":60},\"width\":700},\"name\":\"27\"},{\"data\":[{\"name\":\"28\",\"source\":\"data:image/png;base64,iVBORw0KGgoAAAANSUhEUgAAAAgAAAAzCAAAAACP2RY5AAABFUlEQVR4Xl3OP0uWcRTG8c/vThARhCRzMP/H0yIk5RRECIIpQqCBSEhD0dCQIDTl0uQYtDRGDjU0NLkIvgXfQIGCBC4GmRFCcDXcz3MPneFw8eXLdQ4yzdAUYh8I3qjWFXGkOmxF2R2HSeRmxTfjursrnn84dDFsh6l4r1z79VPu/VjH470BmfW0j1y1xedwqzmBS+2D1bPgQKn+LGfnxqfl7UYxI2bquIio5C9PylttaaKL7ykWzpDCKmQDfBEfYUBcYbSuQqnlyfOGuKsna8c2eaHzwf2FJgbeeZmtWq9pBXp7ue7hazIoi07MY0mr1RFPV2SuK8XvMYUhdx5clum6Sm4jLXztkGb9N22WfrziUXA28g8sWFn60hyVmAAAAABJRU5ErkJggg==\",\"type\":\"image\"}],\"layout\":{\"height\":700,\"margin\":{\"t\":60},\"width\":700},\"name\":\"28\"},{\"data\":[{\"name\":\"29\",\"source\":\"data:image/png;base64,iVBORw0KGgoAAAANSUhEUgAAAAgAAAAzCAAAAACP2RY5AAAA+UlEQVR4Xk3QLyxFARTH8c+9/o03Np7Nw9izNxMw4isCU9682dgUyhtTZJMUkxVVYLPZ0CRJpAiapokq8Qj3Xs8J55zf+Z3zDQdRZRhCD1nDq/RWIlzA053YLCyPiK6SbhiYJcqWiRoSiJ2PJhYfiDmH/cQwkrXgxh+Hz71cLeWDdHwn9mvnq5eZhAVhJWsbiInUZDcxM6LgpDjAICJhC2I7hRPhHUaFClP+RcBQWzf1xemVdY4QxpIMWN/wlq+n91rR0T6JPJVKjGnNEcS8XXcSDaZlDCK5fha8gIpqmbPMIr4LWBEhzSb/npEbWelFvVO8/HyVj4d+ATAYTu1LX0MnAAAAAElFTkSuQmCC\",\"type\":\"image\"}],\"layout\":{\"height\":700,\"margin\":{\"t\":60},\"width\":700},\"name\":\"29\"},{\"data\":[{\"name\":\"30\",\"source\":\"data:image/png;base64,iVBORw0KGgoAAAANSUhEUgAAAAgAAAAzCAAAAACP2RY5AAAA+0lEQVR4Xk3MvS+dARiG8d95OT5ikUYcUp89Fu1KMEgqBhYiEiJNk65tV2IgtnY3nP+g0c1mNxhZmMQmkYiERWK+De/xMd25n+u+HmSD3s8IKIBvih0VMaL1v5xV9tpK0NwF7TA6Qz7q4DowjX+7i0HfFuG2Ruqwk7pG9fUHl2U++tI8tA4sZ+1i/XSxrDAuJnTCJLKKY1I/f1kE98EK8qlMWahCQ1xAt7QM0dWUUJrf3/V9MnjkF9uIUWQOfwU3cGApPe8cCF1VBv3YJEzNi6+GrTBWctLvd8ebUzP7k3wo7pyg8kB74E9zEEVpXr06LwAc9iAFT/fRqDwDwUpPxDKgNbkAAAAASUVORK5CYII=\",\"type\":\"image\"}],\"layout\":{\"height\":700,\"margin\":{\"t\":60},\"width\":700},\"name\":\"30\"},{\"data\":[{\"name\":\"31\",\"source\":\"data:image/png;base64,iVBORw0KGgoAAAANSUhEUgAAAAgAAAAzCAAAAACP2RY5AAAA9klEQVR4Xk3NO0ubARgF4CcfqZdIi5AiCCkZmqEVK0ooRHAQxcFSxC2UIkgQuuikIAjq6h/I4Bg6dXXr1FkKgov/opOLnY5DvyQ98MLh3F5kDz0mo0RJrvgSA14J7T50h3ZQBW/IqhrXgemCrz+Xg40f5L00eVyhqDxFo9oY1nETC7iwUgrV+mY69wcPr0cRb8WimRY+Igo+k8oh0sIc7oJtpMIupPsBvos/MCu1pjFSXu0/7Zyc7Tpmq3T5vYMI/sKlT+mNKyDMvID9JfKNuAWDfyvrkHlH9VHFO2vz5Y/s4BcTgUYZiIL+MD4Sx3QKHac5QfvlM9Q5TPfetjfdAAAAAElFTkSuQmCC\",\"type\":\"image\"}],\"layout\":{\"height\":700,\"margin\":{\"t\":60},\"width\":700},\"name\":\"31\"},{\"data\":[{\"name\":\"32\",\"source\":\"data:image/png;base64,iVBORw0KGgoAAAANSUhEUgAAAAgAAAAzCAAAAACP2RY5AAAA+ElEQVR4Xk3PPyjEARQH8M/vOo4jiztJKXU6q1LceBFGpE5nkCyGGyxWMRhFWW0mZrEr4y2YLZLFYpWrZ/j9XPeW9/r+7SF2Ke5RCNlkxwFx7kT+WiSUYeWfDuRgY5SoKnLUJSYf6yVMfxPc0Eojh85irKb9n0E8qWHfRAbkl9dj7Wv19hRcpmioSmABIccskUxZ8LktDbsPLCESZiCmx6Et3MGg6B+Bi9RSyZy980H8HmrQlPaWhTlXFccYILzbia1eU0IkhqKJFuIlL5J6aTyBeO4KH0RPZcXiMNHIvSn34ZVCbHfF2aedHgDO0xWIUeRzfmwy3/kDhplTaYrDup4AAAAASUVORK5CYII=\",\"type\":\"image\"}],\"layout\":{\"height\":700,\"margin\":{\"t\":60},\"width\":700},\"name\":\"32\"},{\"data\":[{\"name\":\"33\",\"source\":\"data:image/png;base64,iVBORw0KGgoAAAANSUhEUgAAAAgAAAAzCAAAAACP2RY5AAAA/klEQVR4Xl3OvyuFARTG8c/7drmF0hUlyeDmR0LhTmy6i0GRhcWPUqIMBslik0lGCqNsisFikFL8B1b8FzIcw33fLp7pOef5nqeDaKejl2LIlJl1ompZeiGSqs56lOZkykmZqFoirpBEwmHT3SNG54hnZ5wG3XZajmNwrFDv8bGgHMzmi7bC9mWsfE6+7dU2E2pwn8IRyvnldah0wUpgCe+BQ0TCEMRIO9JXZl6gUTSUkN5KvrdrRYGCPwqtzlnN0h5hht38YzYsxn3OQsoNRZHyxFdsGmD/oJZGJWOS0nC9BGXTW1nFfCcxlSrerJH0/4IEHv7NuW1GidcYZ84P9p9Q2fGyErAAAAAASUVORK5CYII=\",\"type\":\"image\"}],\"layout\":{\"height\":700,\"margin\":{\"t\":60},\"width\":700},\"name\":\"33\"},{\"data\":[{\"name\":\"34\",\"source\":\"data:image/png;base64,iVBORw0KGgoAAAANSUhEUgAAAAgAAAAzCAAAAACP2RY5AAAA+ElEQVR4Xk3RsSvEARjG8c/9HNdJXWTASDcJJ2WQogxnMTmDRYfJeiF/A1mskslgPJPLbDSwySyD1aKuXsPv97vzTk/P+33ennoR84zVKIVsMrFBzFpjSKx8OuyvkhQogQliwS7RzonO7RZEi9+F5FohCaXX4od4265+/fTuiI6Zc05MZkbRTRy8177PWOxhoaq4hCpCQjOM17Ide3jO28cI0yOIzTLce4o7KIjiKANJQ6G7QzdL17IglIgrpmiaFGjghcgbX2o7iq9/GQiGQQtx6njZYF6+3qPW8yNgzmqd2MeFtEr6gscMCElqP2RGavZlGRVEhcQf9AtRL6Kq8bAAAAAASUVORK5CYII=\",\"type\":\"image\"}],\"layout\":{\"height\":700,\"margin\":{\"t\":60},\"width\":700},\"name\":\"34\"},{\"data\":[{\"name\":\"35\",\"source\":\"data:image/png;base64,iVBORw0KGgoAAAANSUhEUgAAAAgAAAAzCAAAAACP2RY5AAABA0lEQVR4Xl3NvUuVARiG8d85J/EL8QsspEGHVNT8gCM1HcjNIVyEcFAMxEFEBMFNxCFBEHFwa3JOSNwbor+gKXBpCScd/APkbnhfBb2HZ3ju6+JG5nj9ieYoE/ziHRlXHzYg9C4/1OgQtPTAJFlyyt+gkgoLU7+/IVvsf3TPSfBi0U3v2+p8TTGB7Bk55qvmcLhCtesojfOx0TPCekl5owP6EVU+RHsfZLpAXAbbSCdLncjnGqq3NK6gIi+74Q9SwqX9kCbyj++slO08fhLBD6asWc31E4vQBnY3C21L/X0MIl2P1OyTvQmzd2QDXxDGW6NelAfFpzgXpfEseYUdMzLHkP8Fp0+OvWVrDQAAAABJRU5ErkJggg==\",\"type\":\"image\"}],\"layout\":{\"height\":700,\"margin\":{\"t\":60},\"width\":700},\"name\":\"35\"},{\"data\":[{\"name\":\"36\",\"source\":\"data:image/png;base64,iVBORw0KGgoAAAANSUhEUgAAAAgAAAAzCAAAAACP2RY5AAAA90lEQVR4Xl3QvyvuARTH8df3QVwhMZiebpRnUYpHIgbLrSuFiYWySGYZDVbEZrPwDxjvYnSz2IUum+WuFoOP4flV3tP58TmnzznIKKUJOqNOPSiTsom1emW70UavoAuyR/urA56CIm2fzh6eb3CK6zjiKrDo3FRtWdDN/z8qVeJXsET7/XqW/71XJ2uSLRCjfsAYosRGhn5OQ35DQcdHYWcA6We5H5kfhguPeWFTIQZQmlSYbdmY0WKeLLHfeAG7CG+CG5RW7WWoOVEjdPfB4Rxh7M64WEB6mqqKVJqJspW/5FbNxiu6Aic4Vr90pDXwnYzgUocMwhc7D0/Izk7eEwAAAABJRU5ErkJggg==\",\"type\":\"image\"}],\"layout\":{\"height\":700,\"margin\":{\"t\":60},\"width\":700},\"name\":\"36\"},{\"data\":[{\"name\":\"37\",\"source\":\"data:image/png;base64,iVBORw0KGgoAAAANSUhEUgAAAAgAAAAzCAAAAACP2RY5AAAA50lEQVR4XkXOvyrFcQAF8A+J6yJumDC4wxURKSIrZZGSUkqyqPsW/gz+LBYiiwdQPALlQbyA1XwMvy/Odv52kDG6tujJrApBmxbZ1jpARsyMFlcYEPRDxrEinLyhI81PD99fF7jGZOywHGhoD01V86mm6rGKe/NFYDebNvsPq8gZ+kRTL8z9Nl/DOuSu1BbDI6TBUQNZW4Jz73nnBVFD54YOg/839ssC1Crp8vcfC6LNjTeV1/XkqvVXKAj1bjidIUycaoph1Z+CYzn+I+q2F8lzoUEtcIupogg+SuT/VcUmcOtQ9qbxA5uMTCbUnTGhAAAAAElFTkSuQmCC\",\"type\":\"image\"}],\"layout\":{\"height\":700,\"margin\":{\"t\":60},\"width\":700},\"name\":\"37\"},{\"data\":[{\"name\":\"38\",\"source\":\"data:image/png;base64,iVBORw0KGgoAAAANSUhEUgAAAAgAAAAzCAAAAACP2RY5AAAA6klEQVR4Xk3OL0uDcRTF8c+GougGTlQcK/7BsDkRQVcmCgOLTRBEs8E1m8HkS1jUZjGsWjT4IkS7xWDTZjBcw+95tl24cL/ncs+5iFUcMhFwhwC2iCObLURda2ED5bQuCoxDr0RUfdELFN6bxGv/D32ch22nS5lllOepJY8kaONRfOAWjqNtfWZ5TLUgCn5MCytKUM8vP4NuLRmgiN9sDvSZFRc7cOAhuqTVJHRySr2fMK/AzRDrdp0N/xX2XN0PcKCaAj1Ew+V1sTm8yasjsmxoOEE8ZRgszo3EUMmHtxF1xDTW8OxbvFDxD/IvTFGo2VqWAAAAAElFTkSuQmCC\",\"type\":\"image\"}],\"layout\":{\"height\":700,\"margin\":{\"t\":60},\"width\":700},\"name\":\"38\"},{\"data\":[{\"name\":\"39\",\"source\":\"data:image/png;base64,iVBORw0KGgoAAAANSUhEUgAAAAgAAAAzCAAAAACP2RY5AAAA6UlEQVR4Xl3OPS+DYRiG4eN900RbQlKRMKnFIixopNGNmakGIUw+piZU0hgtJp0lBpP4DQZ/xOoPVFfJbXj6gWc7r/O5ct2IKvYVigElBFAjmuodRJvSHN6GOrapZgPqcaq8sy5kkfH0+fWABcRmvqGxFrI+3ZeYP2I8sRdmcGFlEHAZdas3a2k+RYGsiZMBiHd2C0MnT//u5URGj5K4wrE70T9LPhSR12QmUjNQTxIspuh1nKyraI0ugY7HuB0jCMqgm6D9PTn7u5NeQzTGNO1gqSzOcYhgqjKqPCPkf4b/gVhGy7WPLcEP93BJk6tshH8AAAAASUVORK5CYII=\",\"type\":\"image\"}],\"layout\":{\"height\":700,\"margin\":{\"t\":60},\"width\":700},\"name\":\"39\"}]);\n",
       "                        }).then(function(){\n",
       "                            \n",
       "var gd = document.getElementById('54063125-8013-472a-9a9b-8c6e95aee9b3');\n",
       "var x = new MutationObserver(function (mutations, observer) {{\n",
       "        var display = window.getComputedStyle(gd).display;\n",
       "        if (!display || display === 'none') {{\n",
       "            console.log([gd, 'removed!']);\n",
       "            Plotly.purge(gd);\n",
       "            observer.disconnect();\n",
       "        }}\n",
       "}});\n",
       "\n",
       "// Listen for the removal of the full notebook cells\n",
       "var notebookContainer = gd.closest('#notebook-container');\n",
       "if (notebookContainer) {{\n",
       "    x.observe(notebookContainer, {childList: true});\n",
       "}}\n",
       "\n",
       "// Listen for the clearing of the current output cell\n",
       "var outputEl = gd.closest('.output');\n",
       "if (outputEl) {{\n",
       "    x.observe(outputEl, {childList: true});\n",
       "}}\n",
       "\n",
       "                        })                };                });            </script>        </div>"
      ]
     },
     "metadata": {},
     "output_type": "display_data"
    }
   ],
   "source": [
    "# The current settings seem appropriate at one-half of the daily exposure limits\n",
    "# threshold fraction at 0.5 (frane 30)\n",
    "# most columns except the column 2 (PM2.5) seem very noisy as the threshold fraction is changed\n",
    "# especially at the lower values of the threshold fraction\n",
    "\n",
    "fig = px.imshow(mi_animation_arr,\n",
    "                width = 700,\n",
    "                height=700,\n",
    "                animation_frame=0,\n",
    "                binary_string=True,\n",
    "                labels=dict(animation_frame=\"Threshold fraction\"))\n",
    "fig.show()"
   ]
  },
  {
   "cell_type": "code",
   "execution_count": 57,
   "metadata": {},
   "outputs": [
    {
     "data": {
      "application/vnd.plotly.v1+json": {
       "config": {
        "plotlyServerURL": "https://plot.ly"
       },
       "data": [
        {
         "coloraxis": "coloraxis",
         "hovertemplate": "x: %{x}<br>y: %{y}<br>color: %{z}<extra></extra>",
         "name": "0",
         "type": "heatmap",
         "xaxis": "x",
         "yaxis": "y",
         "z": [
          [
           0.2893930686980562,
           0.01776393598937354,
           0.7809733277531281,
           1,
           0.2572076255812275,
           0.016758430178655248,
           0.029837593160865705,
           0.11264325299802848
          ],
          [
           0.19652461054976939,
           0,
           1,
           0.5858734925569922,
           0,
           0.37229798625045063,
           0,
           0.3256344681226435
          ],
          [
           0,
           0,
           1,
           0,
           0,
           0,
           0,
           0
          ],
          [
           0.36730821601284874,
           1,
           0,
           0.47876223778263766,
           0.24301505513909846,
           0.4986985769238671,
           0.7318495674865803,
           0
          ],
          [
           0.45846816879665925,
           0,
           0.7562553286477867,
           0.4779074927597655,
           0.5148461088851741,
           0,
           0.42494061160136143,
           1
          ],
          [
           0,
           0.005442304855373334,
           0.7770292480954958,
           0.8941833624123471,
           0,
           0,
           0.49525251836485107,
           1
          ],
          [
           0,
           0.31895162270673055,
           1,
           0.6371164942148438,
           0.2011506886130104,
           0.9472311865493279,
           0,
           0.26763649843919624
          ],
          [
           0.2557679451553653,
           0,
           0,
           0,
           0.21578797832836427,
           0,
           1,
           0
          ],
          [
           0.8214592614454022,
           0.17201532609577272,
           0.4992762988914234,
           0,
           1,
           0.29076805522527455,
           0.26059225254921203,
           0.24603285794700555
          ],
          [
           0.5931303364850479,
           0,
           0,
           0.19391281348739392,
           0.9521845219646672,
           1,
           0.2873427859021082,
           0
          ],
          [
           0.9534445402781909,
           0.3244111303131139,
           0.09041144450202458,
           0,
           0.13889831627636892,
           0.3812858359942146,
           1,
           0.6594125902434083
          ],
          [
           0.6466160440408332,
           1,
           0,
           0,
           0,
           0,
           0,
           0
          ],
          [
           0.16033036940727743,
           1,
           0.4779246262323165,
           0.5810128209376032,
           0,
           0.6737443239082104,
           0,
           0.22571200758296459
          ],
          [
           0.3352885552172411,
           0,
           0.44063105317255863,
           1,
           0,
           0,
           0,
           0
          ],
          [
           0,
           0.37243705202427274,
           0,
           0,
           1,
           0.18874594704787268,
           0,
           0.13294556894329707
          ],
          [
           0.018335516896310126,
           1,
           0,
           0,
           0.2116690409778847,
           0,
           0,
           0.10556619312946769
          ],
          [
           0.20667842182641202,
           0,
           0.7231221901763765,
           1,
           0.17496991035161824,
           0.022017281711015857,
           0.1815243062376463,
           0.4907825891532764
          ],
          [
           0,
           0.11150022858933627,
           0,
           0,
           1,
           0,
           0,
           0
          ],
          [
           0,
           0,
           1,
           0.33423252072342646,
           0,
           0,
           0,
           0.19133912245385468
          ],
          [
           0,
           0.1272983920319504,
           0.12640848950411782,
           0.6441558211212495,
           0.09189533970563626,
           0,
           0.5298837863064582,
           1
          ],
          [
           0.31985103537530296,
           0,
           0.9430623974782922,
           0,
           0.7131721984561822,
           0.1140678090732829,
           0,
           1
          ],
          [
           0,
           0.09317587965568123,
           1,
           0,
           0,
           0,
           0,
           0
          ],
          [
           0.06135730137895766,
           0.001071346275833981,
           0.22037652997474064,
           1,
           0,
           0,
           0.040466649192337105,
           0
          ],
          [
           0.30745131846350227,
           0,
           1,
           0.35805058101603343,
           0.14536316814127592,
           0,
           0.8876533198220683,
           0.7323393768565821
          ],
          [
           0.2904539156725858,
           0.4373786897078607,
           0.8704242541436846,
           1,
           0.20270813862447248,
           0.30549801376598057,
           0,
           0.45809231842763654
          ],
          [
           1,
           0.006525168499094702,
           0.6420128685186555,
           0,
           0.09757478139757618,
           0,
           0,
           0
          ],
          [
           0,
           0,
           1,
           0,
           0.03200111438709717,
           0,
           0,
           0
          ],
          [
           0,
           0.008119440759222296,
           0,
           0.055933685266767744,
           0.11708994133061344,
           1,
           0,
           0.1453973533931173
          ],
          [
           0.3523742785348077,
           0.08701193907696965,
           0,
           0.38956841866192077,
           1,
           0.08701193907697591,
           0,
           0
          ],
          [
           1,
           0,
           0,
           0,
           1,
           0,
           0,
           0
          ],
          [
           0.25961107367737085,
           0,
           0,
           0.21213108153960925,
           1,
           0.03978842425902352,
           0,
           0.15878901368785878
          ],
          [
           0.08208140684223944,
           0,
           0,
           0,
           1,
           0,
           0,
           0
          ],
          [
           1,
           0,
           0,
           0.6287122659994744,
           0,
           0.17655900054874032,
           0,
           0.899791227479823
          ],
          [
           0,
           0,
           0,
           0,
           0,
           1,
           0,
           0
          ],
          [
           0.4711727513561598,
           1,
           0.3027130398446445,
           0.6601247197297877,
           0,
           0.4794949700377664,
           0,
           0.32185594047167954
          ],
          [
           0,
           0,
           0,
           0,
           0,
           0,
           0,
           0
          ],
          [
           0,
           0,
           1,
           0.2988753756059481,
           0.386688833512621,
           0.09559504289944143,
           0.04664637666211021,
           0.38880543411179697
          ],
          [
           0.4585688197266475,
           0.7339012557667396,
           0.3347303044099252,
           0,
           0,
           1,
           0.6578993478418607,
           0.9810653812770904
          ],
          [
           0,
           0.33725118447182456,
           1,
           0.8076785914154502,
           0.1278495704784161,
           0.5527280928891654,
           0,
           0.341075375264401
          ],
          [
           0.0573592511398093,
           0,
           0,
           0,
           0,
           0,
           0,
           1
          ],
          [
           0,
           0.45779024861316137,
           0,
           0,
           0,
           0.09119040442000033,
           0.13834835447339552,
           1
          ],
          [
           0,
           0.37844190057994387,
           0,
           0,
           0,
           1,
           0,
           0.5618122085936984
          ],
          [
           0.009026108717349138,
           0,
           0.18710802955980535,
           0.6060016879821393,
           0.06247447108133204,
           0.9684157561983694,
           0.9905246838580021,
           1
          ],
          [
           0.36189844012660877,
           0.5411972327776501,
           0.4908614237261972,
           1,
           0,
           0,
           0.7218511916823803,
           0
          ],
          [
           0.020159479640832412,
           0,
           1,
           0.23581787267922225,
           0.28244412150231024,
           0.4493066584973345,
           0,
           0
          ],
          [
           0.4564689299461145,
           0,
           0,
           1,
           0,
           0,
           0.25581543662760053,
           0.0816636108180097
          ],
          [
           0.0006411642321413831,
           0,
           1,
           0,
           0,
           0.0349922239754097,
           0.11156492478868729,
           0
          ],
          [
           0,
           0,
           1,
           0,
           0,
           0,
           0.2896117717058264,
           0
          ],
          [
           1,
           0.2910974127489432,
           0,
           0,
           0.3110213131064387,
           0,
           0,
           0
          ],
          [
           0.18428433407632125,
           0.32850380078593044,
           0,
           1,
           0.05334973975398245,
           0.3909555475999128,
           0,
           0
          ],
          [
           0.4354326623545137,
           0,
           0.5282205659809299,
           0,
           1,
           0,
           0,
           0
          ]
         ]
        }
       ],
       "layout": {
        "coloraxis": {
         "colorscale": [
          [
           0,
           "#0d0887"
          ],
          [
           0.1111111111111111,
           "#46039f"
          ],
          [
           0.2222222222222222,
           "#7201a8"
          ],
          [
           0.3333333333333333,
           "#9c179e"
          ],
          [
           0.4444444444444444,
           "#bd3786"
          ],
          [
           0.5555555555555556,
           "#d8576b"
          ],
          [
           0.6666666666666666,
           "#ed7953"
          ],
          [
           0.7777777777777778,
           "#fb9f3a"
          ],
          [
           0.8888888888888888,
           "#fdca26"
          ],
          [
           1,
           "#f0f921"
          ]
         ]
        },
        "margin": {
         "t": 60
        },
        "template": {
         "data": {
          "bar": [
           {
            "error_x": {
             "color": "#2a3f5f"
            },
            "error_y": {
             "color": "#2a3f5f"
            },
            "marker": {
             "line": {
              "color": "#E5ECF6",
              "width": 0.5
             },
             "pattern": {
              "fillmode": "overlay",
              "size": 10,
              "solidity": 0.2
             }
            },
            "type": "bar"
           }
          ],
          "barpolar": [
           {
            "marker": {
             "line": {
              "color": "#E5ECF6",
              "width": 0.5
             },
             "pattern": {
              "fillmode": "overlay",
              "size": 10,
              "solidity": 0.2
             }
            },
            "type": "barpolar"
           }
          ],
          "carpet": [
           {
            "aaxis": {
             "endlinecolor": "#2a3f5f",
             "gridcolor": "white",
             "linecolor": "white",
             "minorgridcolor": "white",
             "startlinecolor": "#2a3f5f"
            },
            "baxis": {
             "endlinecolor": "#2a3f5f",
             "gridcolor": "white",
             "linecolor": "white",
             "minorgridcolor": "white",
             "startlinecolor": "#2a3f5f"
            },
            "type": "carpet"
           }
          ],
          "choropleth": [
           {
            "colorbar": {
             "outlinewidth": 0,
             "ticks": ""
            },
            "type": "choropleth"
           }
          ],
          "contour": [
           {
            "colorbar": {
             "outlinewidth": 0,
             "ticks": ""
            },
            "colorscale": [
             [
              0,
              "#0d0887"
             ],
             [
              0.1111111111111111,
              "#46039f"
             ],
             [
              0.2222222222222222,
              "#7201a8"
             ],
             [
              0.3333333333333333,
              "#9c179e"
             ],
             [
              0.4444444444444444,
              "#bd3786"
             ],
             [
              0.5555555555555556,
              "#d8576b"
             ],
             [
              0.6666666666666666,
              "#ed7953"
             ],
             [
              0.7777777777777778,
              "#fb9f3a"
             ],
             [
              0.8888888888888888,
              "#fdca26"
             ],
             [
              1,
              "#f0f921"
             ]
            ],
            "type": "contour"
           }
          ],
          "contourcarpet": [
           {
            "colorbar": {
             "outlinewidth": 0,
             "ticks": ""
            },
            "type": "contourcarpet"
           }
          ],
          "heatmap": [
           {
            "colorbar": {
             "outlinewidth": 0,
             "ticks": ""
            },
            "colorscale": [
             [
              0,
              "#0d0887"
             ],
             [
              0.1111111111111111,
              "#46039f"
             ],
             [
              0.2222222222222222,
              "#7201a8"
             ],
             [
              0.3333333333333333,
              "#9c179e"
             ],
             [
              0.4444444444444444,
              "#bd3786"
             ],
             [
              0.5555555555555556,
              "#d8576b"
             ],
             [
              0.6666666666666666,
              "#ed7953"
             ],
             [
              0.7777777777777778,
              "#fb9f3a"
             ],
             [
              0.8888888888888888,
              "#fdca26"
             ],
             [
              1,
              "#f0f921"
             ]
            ],
            "type": "heatmap"
           }
          ],
          "heatmapgl": [
           {
            "colorbar": {
             "outlinewidth": 0,
             "ticks": ""
            },
            "colorscale": [
             [
              0,
              "#0d0887"
             ],
             [
              0.1111111111111111,
              "#46039f"
             ],
             [
              0.2222222222222222,
              "#7201a8"
             ],
             [
              0.3333333333333333,
              "#9c179e"
             ],
             [
              0.4444444444444444,
              "#bd3786"
             ],
             [
              0.5555555555555556,
              "#d8576b"
             ],
             [
              0.6666666666666666,
              "#ed7953"
             ],
             [
              0.7777777777777778,
              "#fb9f3a"
             ],
             [
              0.8888888888888888,
              "#fdca26"
             ],
             [
              1,
              "#f0f921"
             ]
            ],
            "type": "heatmapgl"
           }
          ],
          "histogram": [
           {
            "marker": {
             "pattern": {
              "fillmode": "overlay",
              "size": 10,
              "solidity": 0.2
             }
            },
            "type": "histogram"
           }
          ],
          "histogram2d": [
           {
            "colorbar": {
             "outlinewidth": 0,
             "ticks": ""
            },
            "colorscale": [
             [
              0,
              "#0d0887"
             ],
             [
              0.1111111111111111,
              "#46039f"
             ],
             [
              0.2222222222222222,
              "#7201a8"
             ],
             [
              0.3333333333333333,
              "#9c179e"
             ],
             [
              0.4444444444444444,
              "#bd3786"
             ],
             [
              0.5555555555555556,
              "#d8576b"
             ],
             [
              0.6666666666666666,
              "#ed7953"
             ],
             [
              0.7777777777777778,
              "#fb9f3a"
             ],
             [
              0.8888888888888888,
              "#fdca26"
             ],
             [
              1,
              "#f0f921"
             ]
            ],
            "type": "histogram2d"
           }
          ],
          "histogram2dcontour": [
           {
            "colorbar": {
             "outlinewidth": 0,
             "ticks": ""
            },
            "colorscale": [
             [
              0,
              "#0d0887"
             ],
             [
              0.1111111111111111,
              "#46039f"
             ],
             [
              0.2222222222222222,
              "#7201a8"
             ],
             [
              0.3333333333333333,
              "#9c179e"
             ],
             [
              0.4444444444444444,
              "#bd3786"
             ],
             [
              0.5555555555555556,
              "#d8576b"
             ],
             [
              0.6666666666666666,
              "#ed7953"
             ],
             [
              0.7777777777777778,
              "#fb9f3a"
             ],
             [
              0.8888888888888888,
              "#fdca26"
             ],
             [
              1,
              "#f0f921"
             ]
            ],
            "type": "histogram2dcontour"
           }
          ],
          "mesh3d": [
           {
            "colorbar": {
             "outlinewidth": 0,
             "ticks": ""
            },
            "type": "mesh3d"
           }
          ],
          "parcoords": [
           {
            "line": {
             "colorbar": {
              "outlinewidth": 0,
              "ticks": ""
             }
            },
            "type": "parcoords"
           }
          ],
          "pie": [
           {
            "automargin": true,
            "type": "pie"
           }
          ],
          "scatter": [
           {
            "fillpattern": {
             "fillmode": "overlay",
             "size": 10,
             "solidity": 0.2
            },
            "type": "scatter"
           }
          ],
          "scatter3d": [
           {
            "line": {
             "colorbar": {
              "outlinewidth": 0,
              "ticks": ""
             }
            },
            "marker": {
             "colorbar": {
              "outlinewidth": 0,
              "ticks": ""
             }
            },
            "type": "scatter3d"
           }
          ],
          "scattercarpet": [
           {
            "marker": {
             "colorbar": {
              "outlinewidth": 0,
              "ticks": ""
             }
            },
            "type": "scattercarpet"
           }
          ],
          "scattergeo": [
           {
            "marker": {
             "colorbar": {
              "outlinewidth": 0,
              "ticks": ""
             }
            },
            "type": "scattergeo"
           }
          ],
          "scattergl": [
           {
            "marker": {
             "colorbar": {
              "outlinewidth": 0,
              "ticks": ""
             }
            },
            "type": "scattergl"
           }
          ],
          "scattermapbox": [
           {
            "marker": {
             "colorbar": {
              "outlinewidth": 0,
              "ticks": ""
             }
            },
            "type": "scattermapbox"
           }
          ],
          "scatterpolar": [
           {
            "marker": {
             "colorbar": {
              "outlinewidth": 0,
              "ticks": ""
             }
            },
            "type": "scatterpolar"
           }
          ],
          "scatterpolargl": [
           {
            "marker": {
             "colorbar": {
              "outlinewidth": 0,
              "ticks": ""
             }
            },
            "type": "scatterpolargl"
           }
          ],
          "scatterternary": [
           {
            "marker": {
             "colorbar": {
              "outlinewidth": 0,
              "ticks": ""
             }
            },
            "type": "scatterternary"
           }
          ],
          "surface": [
           {
            "colorbar": {
             "outlinewidth": 0,
             "ticks": ""
            },
            "colorscale": [
             [
              0,
              "#0d0887"
             ],
             [
              0.1111111111111111,
              "#46039f"
             ],
             [
              0.2222222222222222,
              "#7201a8"
             ],
             [
              0.3333333333333333,
              "#9c179e"
             ],
             [
              0.4444444444444444,
              "#bd3786"
             ],
             [
              0.5555555555555556,
              "#d8576b"
             ],
             [
              0.6666666666666666,
              "#ed7953"
             ],
             [
              0.7777777777777778,
              "#fb9f3a"
             ],
             [
              0.8888888888888888,
              "#fdca26"
             ],
             [
              1,
              "#f0f921"
             ]
            ],
            "type": "surface"
           }
          ],
          "table": [
           {
            "cells": {
             "fill": {
              "color": "#EBF0F8"
             },
             "line": {
              "color": "white"
             }
            },
            "header": {
             "fill": {
              "color": "#C8D4E3"
             },
             "line": {
              "color": "white"
             }
            },
            "type": "table"
           }
          ]
         },
         "layout": {
          "annotationdefaults": {
           "arrowcolor": "#2a3f5f",
           "arrowhead": 0,
           "arrowwidth": 1
          },
          "autotypenumbers": "strict",
          "coloraxis": {
           "colorbar": {
            "outlinewidth": 0,
            "ticks": ""
           }
          },
          "colorscale": {
           "diverging": [
            [
             0,
             "#8e0152"
            ],
            [
             0.1,
             "#c51b7d"
            ],
            [
             0.2,
             "#de77ae"
            ],
            [
             0.3,
             "#f1b6da"
            ],
            [
             0.4,
             "#fde0ef"
            ],
            [
             0.5,
             "#f7f7f7"
            ],
            [
             0.6,
             "#e6f5d0"
            ],
            [
             0.7,
             "#b8e186"
            ],
            [
             0.8,
             "#7fbc41"
            ],
            [
             0.9,
             "#4d9221"
            ],
            [
             1,
             "#276419"
            ]
           ],
           "sequential": [
            [
             0,
             "#0d0887"
            ],
            [
             0.1111111111111111,
             "#46039f"
            ],
            [
             0.2222222222222222,
             "#7201a8"
            ],
            [
             0.3333333333333333,
             "#9c179e"
            ],
            [
             0.4444444444444444,
             "#bd3786"
            ],
            [
             0.5555555555555556,
             "#d8576b"
            ],
            [
             0.6666666666666666,
             "#ed7953"
            ],
            [
             0.7777777777777778,
             "#fb9f3a"
            ],
            [
             0.8888888888888888,
             "#fdca26"
            ],
            [
             1,
             "#f0f921"
            ]
           ],
           "sequentialminus": [
            [
             0,
             "#0d0887"
            ],
            [
             0.1111111111111111,
             "#46039f"
            ],
            [
             0.2222222222222222,
             "#7201a8"
            ],
            [
             0.3333333333333333,
             "#9c179e"
            ],
            [
             0.4444444444444444,
             "#bd3786"
            ],
            [
             0.5555555555555556,
             "#d8576b"
            ],
            [
             0.6666666666666666,
             "#ed7953"
            ],
            [
             0.7777777777777778,
             "#fb9f3a"
            ],
            [
             0.8888888888888888,
             "#fdca26"
            ],
            [
             1,
             "#f0f921"
            ]
           ]
          },
          "colorway": [
           "#636efa",
           "#EF553B",
           "#00cc96",
           "#ab63fa",
           "#FFA15A",
           "#19d3f3",
           "#FF6692",
           "#B6E880",
           "#FF97FF",
           "#FECB52"
          ],
          "font": {
           "color": "#2a3f5f"
          },
          "geo": {
           "bgcolor": "white",
           "lakecolor": "white",
           "landcolor": "#E5ECF6",
           "showlakes": true,
           "showland": true,
           "subunitcolor": "white"
          },
          "hoverlabel": {
           "align": "left"
          },
          "hovermode": "closest",
          "mapbox": {
           "style": "light"
          },
          "paper_bgcolor": "white",
          "plot_bgcolor": "#E5ECF6",
          "polar": {
           "angularaxis": {
            "gridcolor": "white",
            "linecolor": "white",
            "ticks": ""
           },
           "bgcolor": "#E5ECF6",
           "radialaxis": {
            "gridcolor": "white",
            "linecolor": "white",
            "ticks": ""
           }
          },
          "scene": {
           "xaxis": {
            "backgroundcolor": "#E5ECF6",
            "gridcolor": "white",
            "gridwidth": 2,
            "linecolor": "white",
            "showbackground": true,
            "ticks": "",
            "zerolinecolor": "white"
           },
           "yaxis": {
            "backgroundcolor": "#E5ECF6",
            "gridcolor": "white",
            "gridwidth": 2,
            "linecolor": "white",
            "showbackground": true,
            "ticks": "",
            "zerolinecolor": "white"
           },
           "zaxis": {
            "backgroundcolor": "#E5ECF6",
            "gridcolor": "white",
            "gridwidth": 2,
            "linecolor": "white",
            "showbackground": true,
            "ticks": "",
            "zerolinecolor": "white"
           }
          },
          "shapedefaults": {
           "line": {
            "color": "#2a3f5f"
           }
          },
          "ternary": {
           "aaxis": {
            "gridcolor": "white",
            "linecolor": "white",
            "ticks": ""
           },
           "baxis": {
            "gridcolor": "white",
            "linecolor": "white",
            "ticks": ""
           },
           "bgcolor": "#E5ECF6",
           "caxis": {
            "gridcolor": "white",
            "linecolor": "white",
            "ticks": ""
           }
          },
          "title": {
           "x": 0.05
          },
          "xaxis": {
           "automargin": true,
           "gridcolor": "white",
           "linecolor": "white",
           "ticks": "",
           "title": {
            "standoff": 15
           },
           "zerolinecolor": "white",
           "zerolinewidth": 2
          },
          "yaxis": {
           "automargin": true,
           "gridcolor": "white",
           "linecolor": "white",
           "ticks": "",
           "title": {
            "standoff": 15
           },
           "zerolinecolor": "white",
           "zerolinewidth": 2
          }
         }
        },
        "xaxis": {
         "anchor": "y",
         "domain": [
          0,
          1
         ]
        },
        "yaxis": {
         "anchor": "x",
         "autorange": "reversed",
         "domain": [
          0,
          1
         ]
        }
       }
      },
      "text/html": [
       "<div>                            <div id=\"ef15b9e9-1544-4c80-a275-2f426f1d1526\" class=\"plotly-graph-div\" style=\"height:525px; width:100%;\"></div>            <script type=\"text/javascript\">                require([\"plotly\"], function(Plotly) {                    window.PLOTLYENV=window.PLOTLYENV || {};                                    if (document.getElementById(\"ef15b9e9-1544-4c80-a275-2f426f1d1526\")) {                    Plotly.newPlot(                        \"ef15b9e9-1544-4c80-a275-2f426f1d1526\",                        [{\"coloraxis\":\"coloraxis\",\"name\":\"0\",\"z\":[[0.2893930686980562,0.01776393598937354,0.7809733277531281,1.0,0.2572076255812275,0.016758430178655248,0.029837593160865705,0.11264325299802848],[0.19652461054976939,0.0,1.0,0.5858734925569922,0.0,0.37229798625045063,0.0,0.3256344681226435],[0.0,0.0,1.0,0.0,0.0,0.0,0.0,0.0],[0.36730821601284874,1.0,0.0,0.47876223778263766,0.24301505513909846,0.4986985769238671,0.7318495674865803,0.0],[0.45846816879665925,0.0,0.7562553286477867,0.4779074927597655,0.5148461088851741,0.0,0.42494061160136143,1.0],[0.0,0.005442304855373334,0.7770292480954958,0.8941833624123471,0.0,0.0,0.49525251836485107,1.0],[0.0,0.31895162270673055,1.0,0.6371164942148438,0.2011506886130104,0.9472311865493279,0.0,0.26763649843919624],[0.2557679451553653,0.0,0.0,0.0,0.21578797832836427,0.0,1.0,0.0],[0.8214592614454022,0.17201532609577272,0.4992762988914234,0.0,1.0,0.29076805522527455,0.26059225254921203,0.24603285794700555],[0.5931303364850479,0.0,0.0,0.19391281348739392,0.9521845219646672,1.0,0.2873427859021082,0.0],[0.9534445402781909,0.3244111303131139,0.09041144450202458,0.0,0.13889831627636892,0.3812858359942146,1.0,0.6594125902434083],[0.6466160440408332,1.0,0.0,0.0,0.0,0.0,0.0,0.0],[0.16033036940727743,1.0,0.4779246262323165,0.5810128209376032,0.0,0.6737443239082104,0.0,0.22571200758296459],[0.3352885552172411,0.0,0.44063105317255863,1.0,0.0,0.0,0.0,0.0],[0.0,0.37243705202427274,0.0,0.0,1.0,0.18874594704787268,0.0,0.13294556894329707],[0.018335516896310126,1.0,0.0,0.0,0.2116690409778847,0.0,0.0,0.10556619312946769],[0.20667842182641202,0.0,0.7231221901763765,1.0,0.17496991035161824,0.022017281711015857,0.1815243062376463,0.4907825891532764],[0.0,0.11150022858933627,0.0,0.0,1.0,0.0,0.0,0.0],[0.0,0.0,1.0,0.33423252072342646,0.0,0.0,0.0,0.19133912245385468],[0.0,0.1272983920319504,0.12640848950411782,0.6441558211212495,0.09189533970563626,0.0,0.5298837863064582,1.0],[0.31985103537530296,0.0,0.9430623974782922,0.0,0.7131721984561822,0.1140678090732829,0.0,1.0],[0.0,0.09317587965568123,1.0,0.0,0.0,0.0,0.0,0.0],[0.06135730137895766,0.001071346275833981,0.22037652997474064,1.0,0.0,0.0,0.040466649192337105,0.0],[0.30745131846350227,0.0,1.0,0.35805058101603343,0.14536316814127592,0.0,0.8876533198220683,0.7323393768565821],[0.2904539156725858,0.4373786897078607,0.8704242541436846,1.0,0.20270813862447248,0.30549801376598057,0.0,0.45809231842763654],[1.0,0.006525168499094702,0.6420128685186555,0.0,0.09757478139757618,0.0,0.0,0.0],[0.0,0.0,1.0,0.0,0.03200111438709717,0.0,0.0,0.0],[0.0,0.008119440759222296,0.0,0.055933685266767744,0.11708994133061344,1.0,0.0,0.1453973533931173],[0.3523742785348077,0.08701193907696965,0.0,0.38956841866192077,1.0,0.08701193907697591,0.0,0.0],[1.0,0.0,0.0,0.0,1.0,0.0,0.0,0.0],[0.25961107367737085,0.0,0.0,0.21213108153960925,1.0,0.03978842425902352,0.0,0.15878901368785878],[0.08208140684223944,0.0,0.0,0.0,1.0,0.0,0.0,0.0],[1.0,0.0,0.0,0.6287122659994744,0.0,0.17655900054874032,0.0,0.899791227479823],[0.0,0.0,0.0,0.0,0.0,1.0,0.0,0.0],[0.4711727513561598,1.0,0.3027130398446445,0.6601247197297877,0.0,0.4794949700377664,0.0,0.32185594047167954],[0.0,0.0,0.0,0.0,0.0,0.0,0.0,0.0],[0.0,0.0,1.0,0.2988753756059481,0.386688833512621,0.09559504289944143,0.04664637666211021,0.38880543411179697],[0.4585688197266475,0.7339012557667396,0.3347303044099252,0.0,0.0,1.0,0.6578993478418607,0.9810653812770904],[0.0,0.33725118447182456,1.0,0.8076785914154502,0.1278495704784161,0.5527280928891654,0.0,0.341075375264401],[0.0573592511398093,0.0,0.0,0.0,0.0,0.0,0.0,1.0],[0.0,0.45779024861316137,0.0,0.0,0.0,0.09119040442000033,0.13834835447339552,1.0],[0.0,0.37844190057994387,0.0,0.0,0.0,1.0,0.0,0.5618122085936984],[0.009026108717349138,0.0,0.18710802955980535,0.6060016879821393,0.06247447108133204,0.9684157561983694,0.9905246838580021,1.0],[0.36189844012660877,0.5411972327776501,0.4908614237261972,1.0,0.0,0.0,0.7218511916823803,0.0],[0.020159479640832412,0.0,1.0,0.23581787267922225,0.28244412150231024,0.4493066584973345,0.0,0.0],[0.4564689299461145,0.0,0.0,1.0,0.0,0.0,0.25581543662760053,0.0816636108180097],[0.0006411642321413831,0.0,1.0,0.0,0.0,0.0349922239754097,0.11156492478868729,0.0],[0.0,0.0,1.0,0.0,0.0,0.0,0.2896117717058264,0.0],[1.0,0.2910974127489432,0.0,0.0,0.3110213131064387,0.0,0.0,0.0],[0.18428433407632125,0.32850380078593044,0.0,1.0,0.05334973975398245,0.3909555475999128,0.0,0.0],[0.4354326623545137,0.0,0.5282205659809299,0.0,1.0,0.0,0.0,0.0]],\"type\":\"heatmap\",\"xaxis\":\"x\",\"yaxis\":\"y\",\"hovertemplate\":\"x: %{x}<br>y: %{y}<br>color: %{z}<extra></extra>\"}],                        {\"template\":{\"data\":{\"histogram2dcontour\":[{\"type\":\"histogram2dcontour\",\"colorbar\":{\"outlinewidth\":0,\"ticks\":\"\"},\"colorscale\":[[0.0,\"#0d0887\"],[0.1111111111111111,\"#46039f\"],[0.2222222222222222,\"#7201a8\"],[0.3333333333333333,\"#9c179e\"],[0.4444444444444444,\"#bd3786\"],[0.5555555555555556,\"#d8576b\"],[0.6666666666666666,\"#ed7953\"],[0.7777777777777778,\"#fb9f3a\"],[0.8888888888888888,\"#fdca26\"],[1.0,\"#f0f921\"]]}],\"choropleth\":[{\"type\":\"choropleth\",\"colorbar\":{\"outlinewidth\":0,\"ticks\":\"\"}}],\"histogram2d\":[{\"type\":\"histogram2d\",\"colorbar\":{\"outlinewidth\":0,\"ticks\":\"\"},\"colorscale\":[[0.0,\"#0d0887\"],[0.1111111111111111,\"#46039f\"],[0.2222222222222222,\"#7201a8\"],[0.3333333333333333,\"#9c179e\"],[0.4444444444444444,\"#bd3786\"],[0.5555555555555556,\"#d8576b\"],[0.6666666666666666,\"#ed7953\"],[0.7777777777777778,\"#fb9f3a\"],[0.8888888888888888,\"#fdca26\"],[1.0,\"#f0f921\"]]}],\"heatmap\":[{\"type\":\"heatmap\",\"colorbar\":{\"outlinewidth\":0,\"ticks\":\"\"},\"colorscale\":[[0.0,\"#0d0887\"],[0.1111111111111111,\"#46039f\"],[0.2222222222222222,\"#7201a8\"],[0.3333333333333333,\"#9c179e\"],[0.4444444444444444,\"#bd3786\"],[0.5555555555555556,\"#d8576b\"],[0.6666666666666666,\"#ed7953\"],[0.7777777777777778,\"#fb9f3a\"],[0.8888888888888888,\"#fdca26\"],[1.0,\"#f0f921\"]]}],\"heatmapgl\":[{\"type\":\"heatmapgl\",\"colorbar\":{\"outlinewidth\":0,\"ticks\":\"\"},\"colorscale\":[[0.0,\"#0d0887\"],[0.1111111111111111,\"#46039f\"],[0.2222222222222222,\"#7201a8\"],[0.3333333333333333,\"#9c179e\"],[0.4444444444444444,\"#bd3786\"],[0.5555555555555556,\"#d8576b\"],[0.6666666666666666,\"#ed7953\"],[0.7777777777777778,\"#fb9f3a\"],[0.8888888888888888,\"#fdca26\"],[1.0,\"#f0f921\"]]}],\"contourcarpet\":[{\"type\":\"contourcarpet\",\"colorbar\":{\"outlinewidth\":0,\"ticks\":\"\"}}],\"contour\":[{\"type\":\"contour\",\"colorbar\":{\"outlinewidth\":0,\"ticks\":\"\"},\"colorscale\":[[0.0,\"#0d0887\"],[0.1111111111111111,\"#46039f\"],[0.2222222222222222,\"#7201a8\"],[0.3333333333333333,\"#9c179e\"],[0.4444444444444444,\"#bd3786\"],[0.5555555555555556,\"#d8576b\"],[0.6666666666666666,\"#ed7953\"],[0.7777777777777778,\"#fb9f3a\"],[0.8888888888888888,\"#fdca26\"],[1.0,\"#f0f921\"]]}],\"surface\":[{\"type\":\"surface\",\"colorbar\":{\"outlinewidth\":0,\"ticks\":\"\"},\"colorscale\":[[0.0,\"#0d0887\"],[0.1111111111111111,\"#46039f\"],[0.2222222222222222,\"#7201a8\"],[0.3333333333333333,\"#9c179e\"],[0.4444444444444444,\"#bd3786\"],[0.5555555555555556,\"#d8576b\"],[0.6666666666666666,\"#ed7953\"],[0.7777777777777778,\"#fb9f3a\"],[0.8888888888888888,\"#fdca26\"],[1.0,\"#f0f921\"]]}],\"mesh3d\":[{\"type\":\"mesh3d\",\"colorbar\":{\"outlinewidth\":0,\"ticks\":\"\"}}],\"scatter\":[{\"fillpattern\":{\"fillmode\":\"overlay\",\"size\":10,\"solidity\":0.2},\"type\":\"scatter\"}],\"parcoords\":[{\"type\":\"parcoords\",\"line\":{\"colorbar\":{\"outlinewidth\":0,\"ticks\":\"\"}}}],\"scatterpolargl\":[{\"type\":\"scatterpolargl\",\"marker\":{\"colorbar\":{\"outlinewidth\":0,\"ticks\":\"\"}}}],\"bar\":[{\"error_x\":{\"color\":\"#2a3f5f\"},\"error_y\":{\"color\":\"#2a3f5f\"},\"marker\":{\"line\":{\"color\":\"#E5ECF6\",\"width\":0.5},\"pattern\":{\"fillmode\":\"overlay\",\"size\":10,\"solidity\":0.2}},\"type\":\"bar\"}],\"scattergeo\":[{\"type\":\"scattergeo\",\"marker\":{\"colorbar\":{\"outlinewidth\":0,\"ticks\":\"\"}}}],\"scatterpolar\":[{\"type\":\"scatterpolar\",\"marker\":{\"colorbar\":{\"outlinewidth\":0,\"ticks\":\"\"}}}],\"histogram\":[{\"marker\":{\"pattern\":{\"fillmode\":\"overlay\",\"size\":10,\"solidity\":0.2}},\"type\":\"histogram\"}],\"scattergl\":[{\"type\":\"scattergl\",\"marker\":{\"colorbar\":{\"outlinewidth\":0,\"ticks\":\"\"}}}],\"scatter3d\":[{\"type\":\"scatter3d\",\"line\":{\"colorbar\":{\"outlinewidth\":0,\"ticks\":\"\"}},\"marker\":{\"colorbar\":{\"outlinewidth\":0,\"ticks\":\"\"}}}],\"scattermapbox\":[{\"type\":\"scattermapbox\",\"marker\":{\"colorbar\":{\"outlinewidth\":0,\"ticks\":\"\"}}}],\"scatterternary\":[{\"type\":\"scatterternary\",\"marker\":{\"colorbar\":{\"outlinewidth\":0,\"ticks\":\"\"}}}],\"scattercarpet\":[{\"type\":\"scattercarpet\",\"marker\":{\"colorbar\":{\"outlinewidth\":0,\"ticks\":\"\"}}}],\"carpet\":[{\"aaxis\":{\"endlinecolor\":\"#2a3f5f\",\"gridcolor\":\"white\",\"linecolor\":\"white\",\"minorgridcolor\":\"white\",\"startlinecolor\":\"#2a3f5f\"},\"baxis\":{\"endlinecolor\":\"#2a3f5f\",\"gridcolor\":\"white\",\"linecolor\":\"white\",\"minorgridcolor\":\"white\",\"startlinecolor\":\"#2a3f5f\"},\"type\":\"carpet\"}],\"table\":[{\"cells\":{\"fill\":{\"color\":\"#EBF0F8\"},\"line\":{\"color\":\"white\"}},\"header\":{\"fill\":{\"color\":\"#C8D4E3\"},\"line\":{\"color\":\"white\"}},\"type\":\"table\"}],\"barpolar\":[{\"marker\":{\"line\":{\"color\":\"#E5ECF6\",\"width\":0.5},\"pattern\":{\"fillmode\":\"overlay\",\"size\":10,\"solidity\":0.2}},\"type\":\"barpolar\"}],\"pie\":[{\"automargin\":true,\"type\":\"pie\"}]},\"layout\":{\"autotypenumbers\":\"strict\",\"colorway\":[\"#636efa\",\"#EF553B\",\"#00cc96\",\"#ab63fa\",\"#FFA15A\",\"#19d3f3\",\"#FF6692\",\"#B6E880\",\"#FF97FF\",\"#FECB52\"],\"font\":{\"color\":\"#2a3f5f\"},\"hovermode\":\"closest\",\"hoverlabel\":{\"align\":\"left\"},\"paper_bgcolor\":\"white\",\"plot_bgcolor\":\"#E5ECF6\",\"polar\":{\"bgcolor\":\"#E5ECF6\",\"angularaxis\":{\"gridcolor\":\"white\",\"linecolor\":\"white\",\"ticks\":\"\"},\"radialaxis\":{\"gridcolor\":\"white\",\"linecolor\":\"white\",\"ticks\":\"\"}},\"ternary\":{\"bgcolor\":\"#E5ECF6\",\"aaxis\":{\"gridcolor\":\"white\",\"linecolor\":\"white\",\"ticks\":\"\"},\"baxis\":{\"gridcolor\":\"white\",\"linecolor\":\"white\",\"ticks\":\"\"},\"caxis\":{\"gridcolor\":\"white\",\"linecolor\":\"white\",\"ticks\":\"\"}},\"coloraxis\":{\"colorbar\":{\"outlinewidth\":0,\"ticks\":\"\"}},\"colorscale\":{\"sequential\":[[0.0,\"#0d0887\"],[0.1111111111111111,\"#46039f\"],[0.2222222222222222,\"#7201a8\"],[0.3333333333333333,\"#9c179e\"],[0.4444444444444444,\"#bd3786\"],[0.5555555555555556,\"#d8576b\"],[0.6666666666666666,\"#ed7953\"],[0.7777777777777778,\"#fb9f3a\"],[0.8888888888888888,\"#fdca26\"],[1.0,\"#f0f921\"]],\"sequentialminus\":[[0.0,\"#0d0887\"],[0.1111111111111111,\"#46039f\"],[0.2222222222222222,\"#7201a8\"],[0.3333333333333333,\"#9c179e\"],[0.4444444444444444,\"#bd3786\"],[0.5555555555555556,\"#d8576b\"],[0.6666666666666666,\"#ed7953\"],[0.7777777777777778,\"#fb9f3a\"],[0.8888888888888888,\"#fdca26\"],[1.0,\"#f0f921\"]],\"diverging\":[[0,\"#8e0152\"],[0.1,\"#c51b7d\"],[0.2,\"#de77ae\"],[0.3,\"#f1b6da\"],[0.4,\"#fde0ef\"],[0.5,\"#f7f7f7\"],[0.6,\"#e6f5d0\"],[0.7,\"#b8e186\"],[0.8,\"#7fbc41\"],[0.9,\"#4d9221\"],[1,\"#276419\"]]},\"xaxis\":{\"gridcolor\":\"white\",\"linecolor\":\"white\",\"ticks\":\"\",\"title\":{\"standoff\":15},\"zerolinecolor\":\"white\",\"automargin\":true,\"zerolinewidth\":2},\"yaxis\":{\"gridcolor\":\"white\",\"linecolor\":\"white\",\"ticks\":\"\",\"title\":{\"standoff\":15},\"zerolinecolor\":\"white\",\"automargin\":true,\"zerolinewidth\":2},\"scene\":{\"xaxis\":{\"backgroundcolor\":\"#E5ECF6\",\"gridcolor\":\"white\",\"linecolor\":\"white\",\"showbackground\":true,\"ticks\":\"\",\"zerolinecolor\":\"white\",\"gridwidth\":2},\"yaxis\":{\"backgroundcolor\":\"#E5ECF6\",\"gridcolor\":\"white\",\"linecolor\":\"white\",\"showbackground\":true,\"ticks\":\"\",\"zerolinecolor\":\"white\",\"gridwidth\":2},\"zaxis\":{\"backgroundcolor\":\"#E5ECF6\",\"gridcolor\":\"white\",\"linecolor\":\"white\",\"showbackground\":true,\"ticks\":\"\",\"zerolinecolor\":\"white\",\"gridwidth\":2}},\"shapedefaults\":{\"line\":{\"color\":\"#2a3f5f\"}},\"annotationdefaults\":{\"arrowcolor\":\"#2a3f5f\",\"arrowhead\":0,\"arrowwidth\":1},\"geo\":{\"bgcolor\":\"white\",\"landcolor\":\"#E5ECF6\",\"subunitcolor\":\"white\",\"showland\":true,\"showlakes\":true,\"lakecolor\":\"white\"},\"title\":{\"x\":0.05},\"mapbox\":{\"style\":\"light\"}}},\"xaxis\":{\"anchor\":\"y\",\"domain\":[0.0,1.0]},\"yaxis\":{\"anchor\":\"x\",\"domain\":[0.0,1.0],\"autorange\":\"reversed\"},\"coloraxis\":{\"colorscale\":[[0.0,\"#0d0887\"],[0.1111111111111111,\"#46039f\"],[0.2222222222222222,\"#7201a8\"],[0.3333333333333333,\"#9c179e\"],[0.4444444444444444,\"#bd3786\"],[0.5555555555555556,\"#d8576b\"],[0.6666666666666666,\"#ed7953\"],[0.7777777777777778,\"#fb9f3a\"],[0.8888888888888888,\"#fdca26\"],[1.0,\"#f0f921\"]]},\"margin\":{\"t\":60}},                        {\"responsive\": true}                    ).then(function(){\n",
       "                            \n",
       "var gd = document.getElementById('ef15b9e9-1544-4c80-a275-2f426f1d1526');\n",
       "var x = new MutationObserver(function (mutations, observer) {{\n",
       "        var display = window.getComputedStyle(gd).display;\n",
       "        if (!display || display === 'none') {{\n",
       "            console.log([gd, 'removed!']);\n",
       "            Plotly.purge(gd);\n",
       "            observer.disconnect();\n",
       "        }}\n",
       "}});\n",
       "\n",
       "// Listen for the removal of the full notebook cells\n",
       "var notebookContainer = gd.closest('#notebook-container');\n",
       "if (notebookContainer) {{\n",
       "    x.observe(notebookContainer, {childList: true});\n",
       "}}\n",
       "\n",
       "// Listen for the clearing of the current output cell\n",
       "var outputEl = gd.closest('.output');\n",
       "if (outputEl) {{\n",
       "    x.observe(outputEl, {childList: true});\n",
       "}}\n",
       "\n",
       "                        })                };                });            </script>        </div>"
      ]
     },
     "metadata": {},
     "output_type": "display_data"
    }
   ],
   "source": [
    "# 0.2 threshold fraction\n",
    "fig = px.imshow(mi_animation_arr[0], aspect='auto')\n",
    "fig.show()"
   ]
  },
  {
   "cell_type": "code",
   "execution_count": 58,
   "metadata": {},
   "outputs": [
    {
     "data": {
      "application/vnd.plotly.v1+json": {
       "config": {
        "plotlyServerURL": "https://plot.ly"
       },
       "data": [
        {
         "coloraxis": "coloraxis",
         "hovertemplate": "x: %{x}<br>y: %{y}<br>color: %{z}<extra></extra>",
         "name": "0",
         "type": "heatmap",
         "xaxis": "x",
         "yaxis": "y",
         "z": [
          [
           0,
           0,
           1,
           0.3466716699017379,
           0,
           0,
           0.0884542897116177,
           0.16530444450280038
          ],
          [
           0,
           0,
           1,
           0,
           0,
           0,
           0,
           0
          ],
          [
           0,
           0,
           1,
           0,
           0,
           0,
           0.3532966412212811,
           0
          ],
          [
           0.48064661938217207,
           0,
           0,
           0,
           1,
           0,
           0.481382406013216,
           0
          ],
          [
           0.12591455099876733,
           0,
           1,
           0.7964774412424163,
           0,
           0.49256117976919783,
           0.5165332779654599,
           0
          ],
          [
           0,
           0,
           0,
           0,
           0,
           0,
           1,
           0
          ],
          [
           0.00237291860570579,
           0,
           1,
           0,
           0,
           0,
           0.02915782981095619,
           0
          ],
          [
           0,
           0,
           0.13100260835992023,
           0.22555736566854206,
           0,
           0,
           1,
           0.1058943015291607
          ],
          [
           0.03490545450720523,
           0,
           0,
           0.8858154819530256,
           1,
           0,
           0,
           0
          ],
          [
           0.2220483190232509,
           0,
           0,
           0,
           0.6405047581580475,
           0.4849196660351869,
           0.2835021699699761,
           1
          ],
          [
           0,
           0,
           0.0957969677889393,
           0.455360438716536,
           0,
           0,
           1,
           0
          ],
          [
           0.9072454837751676,
           0.09062422362690332,
           0,
           0,
           1,
           0.14106600847583842,
           0,
           0
          ],
          [
           0,
           0.4808185158523006,
           1,
           0.13817213641356502,
           0,
           0.5819059197418783,
           0.020976640490294025,
           0
          ],
          [
           0,
           0,
           1,
           0,
           0,
           0,
           0,
           0
          ],
          [
           0.8471792480482797,
           1,
           0,
           0,
           0,
           0,
           0,
           0.9525955613982532
          ],
          [
           0.1709727554929101,
           1,
           0,
           0,
           0,
           0,
           0,
           0
          ],
          [
           0.28156979511646213,
           0.3021375338680827,
           1,
           0.3329153721156801,
           0.15225296822713602,
           0.48852798120259466,
           0.28146328929130865,
           0.5611391639277689
          ],
          [
           0,
           0,
           0,
           0,
           0,
           0,
           0,
           0
          ],
          [
           0.16285424212709,
           3.5160430453094107e-15,
           1,
           0,
           0.20684898351719963,
           0,
           0.036523539165259154,
           0
          ],
          [
           0,
           0,
           0.2116004276502161,
           0,
           0,
           0,
           1,
           0.32347590756158484
          ],
          [
           0,
           0,
           0.7511982785476081,
           0,
           0,
           1,
           0.1409351625687087,
           0.820088860078027
          ],
          [
           0,
           0,
           0,
           0,
           0,
           0,
           0,
           1
          ],
          [
           0,
           0,
           0.9263506428761926,
           1,
           0,
           0,
           0,
           0.31556516093380194
          ],
          [
           0,
           0,
           1,
           0.1370132226200342,
           0,
           0,
           0.31577960471887484,
           0
          ],
          [
           0,
           0,
           1,
           0.2812287210649846,
           0.020100521069001523,
           0,
           0,
           0
          ],
          [
           0.5807290508018812,
           0,
           1,
           0,
           0.825357407317293,
           0,
           0,
           0
          ],
          [
           0.06388424251549245,
           0,
           1,
           0.01534347967874278,
           0.12055205851477187,
           0,
           0,
           0.04676333015992103
          ],
          [
           0,
           0,
           0,
           0,
           0,
           0,
           0,
           0
          ],
          [
           0,
           0,
           1,
           0,
           0,
           0,
           0.36367244804675525,
           0
          ],
          [
           0,
           0,
           0,
           0,
           0,
           0,
           0,
           0
          ],
          [
           0.5659837607046935,
           0,
           0,
           1,
           0.11398454891174332,
           0.7062627660854045,
           0,
           0.4151634150488586
          ],
          [
           5.9888269576154814e-15,
           0.46349265449310145,
           0,
           0,
           0,
           1,
           0,
           0.13073954405775307
          ],
          [
           0,
           0,
           1,
           0.2577519575794374,
           0,
           0,
           0,
           0.5243386061019704
          ],
          [
           1,
           0,
           0,
           0,
           0.8953099687187117,
           0,
           0,
           0
          ],
          [
           0.6508278193009377,
           0,
           0.30284131707938067,
           1,
           0.08034860348482864,
           0,
           0,
           0
          ],
          [
           0,
           0,
           0,
           0,
           0,
           0,
           0,
           0
          ],
          [
           0,
           3.4813361047655156e-15,
           1,
           0,
           0,
           0.04565147910602997,
           0.021069347461589148,
           0
          ],
          [
           0.11653134936761844,
           0,
           0.3756361942355339,
           0.4510901346305057,
           0,
           0,
           1,
           0
          ],
          [
           0.21870026068616855,
           0.26486656139649517,
           0,
           1,
           0,
           0.2544377664013529,
           0,
           0.12210872874605437
          ],
          [
           0.31597391029206207,
           0,
           0,
           0.14295951328934406,
           0,
           0,
           0,
           1
          ],
          [
           5.1142283260135985e-15,
           0,
           0,
           1,
           0.10014880502105589,
           0,
           0.41620181879014684,
           0.03433668606063547
          ],
          [
           0,
           0,
           0,
           0,
           0,
           0,
           0,
           0
          ],
          [
           0.09245434669811509,
           0,
           0.24046122500657743,
           0.4100613806267237,
           0,
           0,
           1,
           0.07402113514205892
          ],
          [
           0,
           0,
           0,
           0.40926640926642427,
           0,
           0,
           0,
           1
          ],
          [
           0,
           0.02812884784079875,
           1,
           0,
           0,
           0,
           0,
           0.5192548814046404
          ],
          [
           0,
           0,
           0,
           0,
           0,
           0,
           1,
           0
          ],
          [
           0,
           0,
           1,
           0,
           0,
           0,
           0.8517245775240452,
           0
          ],
          [
           0,
           0,
           0,
           0,
           0,
           0,
           0,
           0
          ],
          [
           0,
           0,
           0,
           0,
           1,
           0,
           0,
           0
          ],
          [
           0,
           0,
           0.6807773213032083,
           0.08065820674087394,
           0,
           0,
           0,
           1
          ],
          [
           0,
           0,
           0.6384354336073675,
           0,
           1,
           0,
           0.5836703646673094,
           0
          ]
         ]
        }
       ],
       "layout": {
        "coloraxis": {
         "colorscale": [
          [
           0,
           "#0d0887"
          ],
          [
           0.1111111111111111,
           "#46039f"
          ],
          [
           0.2222222222222222,
           "#7201a8"
          ],
          [
           0.3333333333333333,
           "#9c179e"
          ],
          [
           0.4444444444444444,
           "#bd3786"
          ],
          [
           0.5555555555555556,
           "#d8576b"
          ],
          [
           0.6666666666666666,
           "#ed7953"
          ],
          [
           0.7777777777777778,
           "#fb9f3a"
          ],
          [
           0.8888888888888888,
           "#fdca26"
          ],
          [
           1,
           "#f0f921"
          ]
         ]
        },
        "margin": {
         "t": 60
        },
        "template": {
         "data": {
          "bar": [
           {
            "error_x": {
             "color": "#2a3f5f"
            },
            "error_y": {
             "color": "#2a3f5f"
            },
            "marker": {
             "line": {
              "color": "#E5ECF6",
              "width": 0.5
             },
             "pattern": {
              "fillmode": "overlay",
              "size": 10,
              "solidity": 0.2
             }
            },
            "type": "bar"
           }
          ],
          "barpolar": [
           {
            "marker": {
             "line": {
              "color": "#E5ECF6",
              "width": 0.5
             },
             "pattern": {
              "fillmode": "overlay",
              "size": 10,
              "solidity": 0.2
             }
            },
            "type": "barpolar"
           }
          ],
          "carpet": [
           {
            "aaxis": {
             "endlinecolor": "#2a3f5f",
             "gridcolor": "white",
             "linecolor": "white",
             "minorgridcolor": "white",
             "startlinecolor": "#2a3f5f"
            },
            "baxis": {
             "endlinecolor": "#2a3f5f",
             "gridcolor": "white",
             "linecolor": "white",
             "minorgridcolor": "white",
             "startlinecolor": "#2a3f5f"
            },
            "type": "carpet"
           }
          ],
          "choropleth": [
           {
            "colorbar": {
             "outlinewidth": 0,
             "ticks": ""
            },
            "type": "choropleth"
           }
          ],
          "contour": [
           {
            "colorbar": {
             "outlinewidth": 0,
             "ticks": ""
            },
            "colorscale": [
             [
              0,
              "#0d0887"
             ],
             [
              0.1111111111111111,
              "#46039f"
             ],
             [
              0.2222222222222222,
              "#7201a8"
             ],
             [
              0.3333333333333333,
              "#9c179e"
             ],
             [
              0.4444444444444444,
              "#bd3786"
             ],
             [
              0.5555555555555556,
              "#d8576b"
             ],
             [
              0.6666666666666666,
              "#ed7953"
             ],
             [
              0.7777777777777778,
              "#fb9f3a"
             ],
             [
              0.8888888888888888,
              "#fdca26"
             ],
             [
              1,
              "#f0f921"
             ]
            ],
            "type": "contour"
           }
          ],
          "contourcarpet": [
           {
            "colorbar": {
             "outlinewidth": 0,
             "ticks": ""
            },
            "type": "contourcarpet"
           }
          ],
          "heatmap": [
           {
            "colorbar": {
             "outlinewidth": 0,
             "ticks": ""
            },
            "colorscale": [
             [
              0,
              "#0d0887"
             ],
             [
              0.1111111111111111,
              "#46039f"
             ],
             [
              0.2222222222222222,
              "#7201a8"
             ],
             [
              0.3333333333333333,
              "#9c179e"
             ],
             [
              0.4444444444444444,
              "#bd3786"
             ],
             [
              0.5555555555555556,
              "#d8576b"
             ],
             [
              0.6666666666666666,
              "#ed7953"
             ],
             [
              0.7777777777777778,
              "#fb9f3a"
             ],
             [
              0.8888888888888888,
              "#fdca26"
             ],
             [
              1,
              "#f0f921"
             ]
            ],
            "type": "heatmap"
           }
          ],
          "heatmapgl": [
           {
            "colorbar": {
             "outlinewidth": 0,
             "ticks": ""
            },
            "colorscale": [
             [
              0,
              "#0d0887"
             ],
             [
              0.1111111111111111,
              "#46039f"
             ],
             [
              0.2222222222222222,
              "#7201a8"
             ],
             [
              0.3333333333333333,
              "#9c179e"
             ],
             [
              0.4444444444444444,
              "#bd3786"
             ],
             [
              0.5555555555555556,
              "#d8576b"
             ],
             [
              0.6666666666666666,
              "#ed7953"
             ],
             [
              0.7777777777777778,
              "#fb9f3a"
             ],
             [
              0.8888888888888888,
              "#fdca26"
             ],
             [
              1,
              "#f0f921"
             ]
            ],
            "type": "heatmapgl"
           }
          ],
          "histogram": [
           {
            "marker": {
             "pattern": {
              "fillmode": "overlay",
              "size": 10,
              "solidity": 0.2
             }
            },
            "type": "histogram"
           }
          ],
          "histogram2d": [
           {
            "colorbar": {
             "outlinewidth": 0,
             "ticks": ""
            },
            "colorscale": [
             [
              0,
              "#0d0887"
             ],
             [
              0.1111111111111111,
              "#46039f"
             ],
             [
              0.2222222222222222,
              "#7201a8"
             ],
             [
              0.3333333333333333,
              "#9c179e"
             ],
             [
              0.4444444444444444,
              "#bd3786"
             ],
             [
              0.5555555555555556,
              "#d8576b"
             ],
             [
              0.6666666666666666,
              "#ed7953"
             ],
             [
              0.7777777777777778,
              "#fb9f3a"
             ],
             [
              0.8888888888888888,
              "#fdca26"
             ],
             [
              1,
              "#f0f921"
             ]
            ],
            "type": "histogram2d"
           }
          ],
          "histogram2dcontour": [
           {
            "colorbar": {
             "outlinewidth": 0,
             "ticks": ""
            },
            "colorscale": [
             [
              0,
              "#0d0887"
             ],
             [
              0.1111111111111111,
              "#46039f"
             ],
             [
              0.2222222222222222,
              "#7201a8"
             ],
             [
              0.3333333333333333,
              "#9c179e"
             ],
             [
              0.4444444444444444,
              "#bd3786"
             ],
             [
              0.5555555555555556,
              "#d8576b"
             ],
             [
              0.6666666666666666,
              "#ed7953"
             ],
             [
              0.7777777777777778,
              "#fb9f3a"
             ],
             [
              0.8888888888888888,
              "#fdca26"
             ],
             [
              1,
              "#f0f921"
             ]
            ],
            "type": "histogram2dcontour"
           }
          ],
          "mesh3d": [
           {
            "colorbar": {
             "outlinewidth": 0,
             "ticks": ""
            },
            "type": "mesh3d"
           }
          ],
          "parcoords": [
           {
            "line": {
             "colorbar": {
              "outlinewidth": 0,
              "ticks": ""
             }
            },
            "type": "parcoords"
           }
          ],
          "pie": [
           {
            "automargin": true,
            "type": "pie"
           }
          ],
          "scatter": [
           {
            "fillpattern": {
             "fillmode": "overlay",
             "size": 10,
             "solidity": 0.2
            },
            "type": "scatter"
           }
          ],
          "scatter3d": [
           {
            "line": {
             "colorbar": {
              "outlinewidth": 0,
              "ticks": ""
             }
            },
            "marker": {
             "colorbar": {
              "outlinewidth": 0,
              "ticks": ""
             }
            },
            "type": "scatter3d"
           }
          ],
          "scattercarpet": [
           {
            "marker": {
             "colorbar": {
              "outlinewidth": 0,
              "ticks": ""
             }
            },
            "type": "scattercarpet"
           }
          ],
          "scattergeo": [
           {
            "marker": {
             "colorbar": {
              "outlinewidth": 0,
              "ticks": ""
             }
            },
            "type": "scattergeo"
           }
          ],
          "scattergl": [
           {
            "marker": {
             "colorbar": {
              "outlinewidth": 0,
              "ticks": ""
             }
            },
            "type": "scattergl"
           }
          ],
          "scattermapbox": [
           {
            "marker": {
             "colorbar": {
              "outlinewidth": 0,
              "ticks": ""
             }
            },
            "type": "scattermapbox"
           }
          ],
          "scatterpolar": [
           {
            "marker": {
             "colorbar": {
              "outlinewidth": 0,
              "ticks": ""
             }
            },
            "type": "scatterpolar"
           }
          ],
          "scatterpolargl": [
           {
            "marker": {
             "colorbar": {
              "outlinewidth": 0,
              "ticks": ""
             }
            },
            "type": "scatterpolargl"
           }
          ],
          "scatterternary": [
           {
            "marker": {
             "colorbar": {
              "outlinewidth": 0,
              "ticks": ""
             }
            },
            "type": "scatterternary"
           }
          ],
          "surface": [
           {
            "colorbar": {
             "outlinewidth": 0,
             "ticks": ""
            },
            "colorscale": [
             [
              0,
              "#0d0887"
             ],
             [
              0.1111111111111111,
              "#46039f"
             ],
             [
              0.2222222222222222,
              "#7201a8"
             ],
             [
              0.3333333333333333,
              "#9c179e"
             ],
             [
              0.4444444444444444,
              "#bd3786"
             ],
             [
              0.5555555555555556,
              "#d8576b"
             ],
             [
              0.6666666666666666,
              "#ed7953"
             ],
             [
              0.7777777777777778,
              "#fb9f3a"
             ],
             [
              0.8888888888888888,
              "#fdca26"
             ],
             [
              1,
              "#f0f921"
             ]
            ],
            "type": "surface"
           }
          ],
          "table": [
           {
            "cells": {
             "fill": {
              "color": "#EBF0F8"
             },
             "line": {
              "color": "white"
             }
            },
            "header": {
             "fill": {
              "color": "#C8D4E3"
             },
             "line": {
              "color": "white"
             }
            },
            "type": "table"
           }
          ]
         },
         "layout": {
          "annotationdefaults": {
           "arrowcolor": "#2a3f5f",
           "arrowhead": 0,
           "arrowwidth": 1
          },
          "autotypenumbers": "strict",
          "coloraxis": {
           "colorbar": {
            "outlinewidth": 0,
            "ticks": ""
           }
          },
          "colorscale": {
           "diverging": [
            [
             0,
             "#8e0152"
            ],
            [
             0.1,
             "#c51b7d"
            ],
            [
             0.2,
             "#de77ae"
            ],
            [
             0.3,
             "#f1b6da"
            ],
            [
             0.4,
             "#fde0ef"
            ],
            [
             0.5,
             "#f7f7f7"
            ],
            [
             0.6,
             "#e6f5d0"
            ],
            [
             0.7,
             "#b8e186"
            ],
            [
             0.8,
             "#7fbc41"
            ],
            [
             0.9,
             "#4d9221"
            ],
            [
             1,
             "#276419"
            ]
           ],
           "sequential": [
            [
             0,
             "#0d0887"
            ],
            [
             0.1111111111111111,
             "#46039f"
            ],
            [
             0.2222222222222222,
             "#7201a8"
            ],
            [
             0.3333333333333333,
             "#9c179e"
            ],
            [
             0.4444444444444444,
             "#bd3786"
            ],
            [
             0.5555555555555556,
             "#d8576b"
            ],
            [
             0.6666666666666666,
             "#ed7953"
            ],
            [
             0.7777777777777778,
             "#fb9f3a"
            ],
            [
             0.8888888888888888,
             "#fdca26"
            ],
            [
             1,
             "#f0f921"
            ]
           ],
           "sequentialminus": [
            [
             0,
             "#0d0887"
            ],
            [
             0.1111111111111111,
             "#46039f"
            ],
            [
             0.2222222222222222,
             "#7201a8"
            ],
            [
             0.3333333333333333,
             "#9c179e"
            ],
            [
             0.4444444444444444,
             "#bd3786"
            ],
            [
             0.5555555555555556,
             "#d8576b"
            ],
            [
             0.6666666666666666,
             "#ed7953"
            ],
            [
             0.7777777777777778,
             "#fb9f3a"
            ],
            [
             0.8888888888888888,
             "#fdca26"
            ],
            [
             1,
             "#f0f921"
            ]
           ]
          },
          "colorway": [
           "#636efa",
           "#EF553B",
           "#00cc96",
           "#ab63fa",
           "#FFA15A",
           "#19d3f3",
           "#FF6692",
           "#B6E880",
           "#FF97FF",
           "#FECB52"
          ],
          "font": {
           "color": "#2a3f5f"
          },
          "geo": {
           "bgcolor": "white",
           "lakecolor": "white",
           "landcolor": "#E5ECF6",
           "showlakes": true,
           "showland": true,
           "subunitcolor": "white"
          },
          "hoverlabel": {
           "align": "left"
          },
          "hovermode": "closest",
          "mapbox": {
           "style": "light"
          },
          "paper_bgcolor": "white",
          "plot_bgcolor": "#E5ECF6",
          "polar": {
           "angularaxis": {
            "gridcolor": "white",
            "linecolor": "white",
            "ticks": ""
           },
           "bgcolor": "#E5ECF6",
           "radialaxis": {
            "gridcolor": "white",
            "linecolor": "white",
            "ticks": ""
           }
          },
          "scene": {
           "xaxis": {
            "backgroundcolor": "#E5ECF6",
            "gridcolor": "white",
            "gridwidth": 2,
            "linecolor": "white",
            "showbackground": true,
            "ticks": "",
            "zerolinecolor": "white"
           },
           "yaxis": {
            "backgroundcolor": "#E5ECF6",
            "gridcolor": "white",
            "gridwidth": 2,
            "linecolor": "white",
            "showbackground": true,
            "ticks": "",
            "zerolinecolor": "white"
           },
           "zaxis": {
            "backgroundcolor": "#E5ECF6",
            "gridcolor": "white",
            "gridwidth": 2,
            "linecolor": "white",
            "showbackground": true,
            "ticks": "",
            "zerolinecolor": "white"
           }
          },
          "shapedefaults": {
           "line": {
            "color": "#2a3f5f"
           }
          },
          "ternary": {
           "aaxis": {
            "gridcolor": "white",
            "linecolor": "white",
            "ticks": ""
           },
           "baxis": {
            "gridcolor": "white",
            "linecolor": "white",
            "ticks": ""
           },
           "bgcolor": "#E5ECF6",
           "caxis": {
            "gridcolor": "white",
            "linecolor": "white",
            "ticks": ""
           }
          },
          "title": {
           "x": 0.05
          },
          "xaxis": {
           "automargin": true,
           "gridcolor": "white",
           "linecolor": "white",
           "ticks": "",
           "title": {
            "standoff": 15
           },
           "zerolinecolor": "white",
           "zerolinewidth": 2
          },
          "yaxis": {
           "automargin": true,
           "gridcolor": "white",
           "linecolor": "white",
           "ticks": "",
           "title": {
            "standoff": 15
           },
           "zerolinecolor": "white",
           "zerolinewidth": 2
          }
         }
        },
        "xaxis": {
         "anchor": "y",
         "domain": [
          0,
          1
         ]
        },
        "yaxis": {
         "anchor": "x",
         "autorange": "reversed",
         "domain": [
          0,
          1
         ]
        }
       }
      },
      "text/html": [
       "<div>                            <div id=\"51abc85e-5058-449e-bb67-6acbb44fc9de\" class=\"plotly-graph-div\" style=\"height:525px; width:100%;\"></div>            <script type=\"text/javascript\">                require([\"plotly\"], function(Plotly) {                    window.PLOTLYENV=window.PLOTLYENV || {};                                    if (document.getElementById(\"51abc85e-5058-449e-bb67-6acbb44fc9de\")) {                    Plotly.newPlot(                        \"51abc85e-5058-449e-bb67-6acbb44fc9de\",                        [{\"coloraxis\":\"coloraxis\",\"name\":\"0\",\"z\":[[0.0,0.0,1.0,0.3466716699017379,0.0,0.0,0.0884542897116177,0.16530444450280038],[0.0,0.0,1.0,0.0,0.0,0.0,0.0,0.0],[0.0,0.0,1.0,0.0,0.0,0.0,0.3532966412212811,0.0],[0.48064661938217207,0.0,0.0,0.0,1.0,0.0,0.481382406013216,0.0],[0.12591455099876733,0.0,1.0,0.7964774412424163,0.0,0.49256117976919783,0.5165332779654599,0.0],[0.0,0.0,0.0,0.0,0.0,0.0,1.0,0.0],[0.00237291860570579,0.0,1.0,0.0,0.0,0.0,0.02915782981095619,0.0],[0.0,0.0,0.13100260835992023,0.22555736566854206,0.0,0.0,1.0,0.1058943015291607],[0.03490545450720523,0.0,0.0,0.8858154819530256,1.0,0.0,0.0,0.0],[0.2220483190232509,0.0,0.0,0.0,0.6405047581580475,0.4849196660351869,0.2835021699699761,1.0],[0.0,0.0,0.0957969677889393,0.455360438716536,0.0,0.0,1.0,0.0],[0.9072454837751676,0.09062422362690332,0.0,0.0,1.0,0.14106600847583842,0.0,0.0],[0.0,0.4808185158523006,1.0,0.13817213641356502,0.0,0.5819059197418783,0.020976640490294025,0.0],[0.0,0.0,1.0,0.0,0.0,0.0,0.0,0.0],[0.8471792480482797,1.0,0.0,0.0,0.0,0.0,0.0,0.9525955613982532],[0.1709727554929101,1.0,0.0,0.0,0.0,0.0,0.0,0.0],[0.28156979511646213,0.3021375338680827,1.0,0.3329153721156801,0.15225296822713602,0.48852798120259466,0.28146328929130865,0.5611391639277689],[0.0,0.0,0.0,0.0,0.0,0.0,0.0,0.0],[0.16285424212709,3.5160430453094107e-15,1.0,0.0,0.20684898351719963,0.0,0.036523539165259154,0.0],[0.0,0.0,0.2116004276502161,0.0,0.0,0.0,1.0,0.32347590756158484],[0.0,0.0,0.7511982785476081,0.0,0.0,1.0,0.1409351625687087,0.820088860078027],[0.0,0.0,0.0,0.0,0.0,0.0,0.0,1.0],[0.0,0.0,0.9263506428761926,1.0,0.0,0.0,0.0,0.31556516093380194],[0.0,0.0,1.0,0.1370132226200342,0.0,0.0,0.31577960471887484,0.0],[0.0,0.0,1.0,0.2812287210649846,0.020100521069001523,0.0,0.0,0.0],[0.5807290508018812,0.0,1.0,0.0,0.825357407317293,0.0,0.0,0.0],[0.06388424251549245,0.0,1.0,0.01534347967874278,0.12055205851477187,0.0,0.0,0.04676333015992103],[0.0,0.0,0.0,0.0,0.0,0.0,0.0,0.0],[0.0,0.0,1.0,0.0,0.0,0.0,0.36367244804675525,0.0],[0.0,0.0,0.0,0.0,0.0,0.0,0.0,0.0],[0.5659837607046935,0.0,0.0,1.0,0.11398454891174332,0.7062627660854045,0.0,0.4151634150488586],[5.9888269576154814e-15,0.46349265449310145,0.0,0.0,0.0,1.0,0.0,0.13073954405775307],[0.0,0.0,1.0,0.2577519575794374,0.0,0.0,0.0,0.5243386061019704],[1.0,0.0,0.0,0.0,0.8953099687187117,0.0,0.0,0.0],[0.6508278193009377,0.0,0.30284131707938067,1.0,0.08034860348482864,0.0,0.0,0.0],[0.0,0.0,0.0,0.0,0.0,0.0,0.0,0.0],[0.0,3.4813361047655156e-15,1.0,0.0,0.0,0.04565147910602997,0.021069347461589148,0.0],[0.11653134936761844,0.0,0.3756361942355339,0.4510901346305057,0.0,0.0,1.0,0.0],[0.21870026068616855,0.26486656139649517,0.0,1.0,0.0,0.2544377664013529,0.0,0.12210872874605437],[0.31597391029206207,0.0,0.0,0.14295951328934406,0.0,0.0,0.0,1.0],[5.1142283260135985e-15,0.0,0.0,1.0,0.10014880502105589,0.0,0.41620181879014684,0.03433668606063547],[0.0,0.0,0.0,0.0,0.0,0.0,0.0,0.0],[0.09245434669811509,0.0,0.24046122500657743,0.4100613806267237,0.0,0.0,1.0,0.07402113514205892],[0.0,0.0,0.0,0.40926640926642427,0.0,0.0,0.0,1.0],[0.0,0.02812884784079875,1.0,0.0,0.0,0.0,0.0,0.5192548814046404],[0.0,0.0,0.0,0.0,0.0,0.0,1.0,0.0],[0.0,0.0,1.0,0.0,0.0,0.0,0.8517245775240452,0.0],[0.0,0.0,0.0,0.0,0.0,0.0,0.0,0.0],[0.0,0.0,0.0,0.0,1.0,0.0,0.0,0.0],[0.0,0.0,0.6807773213032083,0.08065820674087394,0.0,0.0,0.0,1.0],[0.0,0.0,0.6384354336073675,0.0,1.0,0.0,0.5836703646673094,0.0]],\"type\":\"heatmap\",\"xaxis\":\"x\",\"yaxis\":\"y\",\"hovertemplate\":\"x: %{x}<br>y: %{y}<br>color: %{z}<extra></extra>\"}],                        {\"template\":{\"data\":{\"histogram2dcontour\":[{\"type\":\"histogram2dcontour\",\"colorbar\":{\"outlinewidth\":0,\"ticks\":\"\"},\"colorscale\":[[0.0,\"#0d0887\"],[0.1111111111111111,\"#46039f\"],[0.2222222222222222,\"#7201a8\"],[0.3333333333333333,\"#9c179e\"],[0.4444444444444444,\"#bd3786\"],[0.5555555555555556,\"#d8576b\"],[0.6666666666666666,\"#ed7953\"],[0.7777777777777778,\"#fb9f3a\"],[0.8888888888888888,\"#fdca26\"],[1.0,\"#f0f921\"]]}],\"choropleth\":[{\"type\":\"choropleth\",\"colorbar\":{\"outlinewidth\":0,\"ticks\":\"\"}}],\"histogram2d\":[{\"type\":\"histogram2d\",\"colorbar\":{\"outlinewidth\":0,\"ticks\":\"\"},\"colorscale\":[[0.0,\"#0d0887\"],[0.1111111111111111,\"#46039f\"],[0.2222222222222222,\"#7201a8\"],[0.3333333333333333,\"#9c179e\"],[0.4444444444444444,\"#bd3786\"],[0.5555555555555556,\"#d8576b\"],[0.6666666666666666,\"#ed7953\"],[0.7777777777777778,\"#fb9f3a\"],[0.8888888888888888,\"#fdca26\"],[1.0,\"#f0f921\"]]}],\"heatmap\":[{\"type\":\"heatmap\",\"colorbar\":{\"outlinewidth\":0,\"ticks\":\"\"},\"colorscale\":[[0.0,\"#0d0887\"],[0.1111111111111111,\"#46039f\"],[0.2222222222222222,\"#7201a8\"],[0.3333333333333333,\"#9c179e\"],[0.4444444444444444,\"#bd3786\"],[0.5555555555555556,\"#d8576b\"],[0.6666666666666666,\"#ed7953\"],[0.7777777777777778,\"#fb9f3a\"],[0.8888888888888888,\"#fdca26\"],[1.0,\"#f0f921\"]]}],\"heatmapgl\":[{\"type\":\"heatmapgl\",\"colorbar\":{\"outlinewidth\":0,\"ticks\":\"\"},\"colorscale\":[[0.0,\"#0d0887\"],[0.1111111111111111,\"#46039f\"],[0.2222222222222222,\"#7201a8\"],[0.3333333333333333,\"#9c179e\"],[0.4444444444444444,\"#bd3786\"],[0.5555555555555556,\"#d8576b\"],[0.6666666666666666,\"#ed7953\"],[0.7777777777777778,\"#fb9f3a\"],[0.8888888888888888,\"#fdca26\"],[1.0,\"#f0f921\"]]}],\"contourcarpet\":[{\"type\":\"contourcarpet\",\"colorbar\":{\"outlinewidth\":0,\"ticks\":\"\"}}],\"contour\":[{\"type\":\"contour\",\"colorbar\":{\"outlinewidth\":0,\"ticks\":\"\"},\"colorscale\":[[0.0,\"#0d0887\"],[0.1111111111111111,\"#46039f\"],[0.2222222222222222,\"#7201a8\"],[0.3333333333333333,\"#9c179e\"],[0.4444444444444444,\"#bd3786\"],[0.5555555555555556,\"#d8576b\"],[0.6666666666666666,\"#ed7953\"],[0.7777777777777778,\"#fb9f3a\"],[0.8888888888888888,\"#fdca26\"],[1.0,\"#f0f921\"]]}],\"surface\":[{\"type\":\"surface\",\"colorbar\":{\"outlinewidth\":0,\"ticks\":\"\"},\"colorscale\":[[0.0,\"#0d0887\"],[0.1111111111111111,\"#46039f\"],[0.2222222222222222,\"#7201a8\"],[0.3333333333333333,\"#9c179e\"],[0.4444444444444444,\"#bd3786\"],[0.5555555555555556,\"#d8576b\"],[0.6666666666666666,\"#ed7953\"],[0.7777777777777778,\"#fb9f3a\"],[0.8888888888888888,\"#fdca26\"],[1.0,\"#f0f921\"]]}],\"mesh3d\":[{\"type\":\"mesh3d\",\"colorbar\":{\"outlinewidth\":0,\"ticks\":\"\"}}],\"scatter\":[{\"fillpattern\":{\"fillmode\":\"overlay\",\"size\":10,\"solidity\":0.2},\"type\":\"scatter\"}],\"parcoords\":[{\"type\":\"parcoords\",\"line\":{\"colorbar\":{\"outlinewidth\":0,\"ticks\":\"\"}}}],\"scatterpolargl\":[{\"type\":\"scatterpolargl\",\"marker\":{\"colorbar\":{\"outlinewidth\":0,\"ticks\":\"\"}}}],\"bar\":[{\"error_x\":{\"color\":\"#2a3f5f\"},\"error_y\":{\"color\":\"#2a3f5f\"},\"marker\":{\"line\":{\"color\":\"#E5ECF6\",\"width\":0.5},\"pattern\":{\"fillmode\":\"overlay\",\"size\":10,\"solidity\":0.2}},\"type\":\"bar\"}],\"scattergeo\":[{\"type\":\"scattergeo\",\"marker\":{\"colorbar\":{\"outlinewidth\":0,\"ticks\":\"\"}}}],\"scatterpolar\":[{\"type\":\"scatterpolar\",\"marker\":{\"colorbar\":{\"outlinewidth\":0,\"ticks\":\"\"}}}],\"histogram\":[{\"marker\":{\"pattern\":{\"fillmode\":\"overlay\",\"size\":10,\"solidity\":0.2}},\"type\":\"histogram\"}],\"scattergl\":[{\"type\":\"scattergl\",\"marker\":{\"colorbar\":{\"outlinewidth\":0,\"ticks\":\"\"}}}],\"scatter3d\":[{\"type\":\"scatter3d\",\"line\":{\"colorbar\":{\"outlinewidth\":0,\"ticks\":\"\"}},\"marker\":{\"colorbar\":{\"outlinewidth\":0,\"ticks\":\"\"}}}],\"scattermapbox\":[{\"type\":\"scattermapbox\",\"marker\":{\"colorbar\":{\"outlinewidth\":0,\"ticks\":\"\"}}}],\"scatterternary\":[{\"type\":\"scatterternary\",\"marker\":{\"colorbar\":{\"outlinewidth\":0,\"ticks\":\"\"}}}],\"scattercarpet\":[{\"type\":\"scattercarpet\",\"marker\":{\"colorbar\":{\"outlinewidth\":0,\"ticks\":\"\"}}}],\"carpet\":[{\"aaxis\":{\"endlinecolor\":\"#2a3f5f\",\"gridcolor\":\"white\",\"linecolor\":\"white\",\"minorgridcolor\":\"white\",\"startlinecolor\":\"#2a3f5f\"},\"baxis\":{\"endlinecolor\":\"#2a3f5f\",\"gridcolor\":\"white\",\"linecolor\":\"white\",\"minorgridcolor\":\"white\",\"startlinecolor\":\"#2a3f5f\"},\"type\":\"carpet\"}],\"table\":[{\"cells\":{\"fill\":{\"color\":\"#EBF0F8\"},\"line\":{\"color\":\"white\"}},\"header\":{\"fill\":{\"color\":\"#C8D4E3\"},\"line\":{\"color\":\"white\"}},\"type\":\"table\"}],\"barpolar\":[{\"marker\":{\"line\":{\"color\":\"#E5ECF6\",\"width\":0.5},\"pattern\":{\"fillmode\":\"overlay\",\"size\":10,\"solidity\":0.2}},\"type\":\"barpolar\"}],\"pie\":[{\"automargin\":true,\"type\":\"pie\"}]},\"layout\":{\"autotypenumbers\":\"strict\",\"colorway\":[\"#636efa\",\"#EF553B\",\"#00cc96\",\"#ab63fa\",\"#FFA15A\",\"#19d3f3\",\"#FF6692\",\"#B6E880\",\"#FF97FF\",\"#FECB52\"],\"font\":{\"color\":\"#2a3f5f\"},\"hovermode\":\"closest\",\"hoverlabel\":{\"align\":\"left\"},\"paper_bgcolor\":\"white\",\"plot_bgcolor\":\"#E5ECF6\",\"polar\":{\"bgcolor\":\"#E5ECF6\",\"angularaxis\":{\"gridcolor\":\"white\",\"linecolor\":\"white\",\"ticks\":\"\"},\"radialaxis\":{\"gridcolor\":\"white\",\"linecolor\":\"white\",\"ticks\":\"\"}},\"ternary\":{\"bgcolor\":\"#E5ECF6\",\"aaxis\":{\"gridcolor\":\"white\",\"linecolor\":\"white\",\"ticks\":\"\"},\"baxis\":{\"gridcolor\":\"white\",\"linecolor\":\"white\",\"ticks\":\"\"},\"caxis\":{\"gridcolor\":\"white\",\"linecolor\":\"white\",\"ticks\":\"\"}},\"coloraxis\":{\"colorbar\":{\"outlinewidth\":0,\"ticks\":\"\"}},\"colorscale\":{\"sequential\":[[0.0,\"#0d0887\"],[0.1111111111111111,\"#46039f\"],[0.2222222222222222,\"#7201a8\"],[0.3333333333333333,\"#9c179e\"],[0.4444444444444444,\"#bd3786\"],[0.5555555555555556,\"#d8576b\"],[0.6666666666666666,\"#ed7953\"],[0.7777777777777778,\"#fb9f3a\"],[0.8888888888888888,\"#fdca26\"],[1.0,\"#f0f921\"]],\"sequentialminus\":[[0.0,\"#0d0887\"],[0.1111111111111111,\"#46039f\"],[0.2222222222222222,\"#7201a8\"],[0.3333333333333333,\"#9c179e\"],[0.4444444444444444,\"#bd3786\"],[0.5555555555555556,\"#d8576b\"],[0.6666666666666666,\"#ed7953\"],[0.7777777777777778,\"#fb9f3a\"],[0.8888888888888888,\"#fdca26\"],[1.0,\"#f0f921\"]],\"diverging\":[[0,\"#8e0152\"],[0.1,\"#c51b7d\"],[0.2,\"#de77ae\"],[0.3,\"#f1b6da\"],[0.4,\"#fde0ef\"],[0.5,\"#f7f7f7\"],[0.6,\"#e6f5d0\"],[0.7,\"#b8e186\"],[0.8,\"#7fbc41\"],[0.9,\"#4d9221\"],[1,\"#276419\"]]},\"xaxis\":{\"gridcolor\":\"white\",\"linecolor\":\"white\",\"ticks\":\"\",\"title\":{\"standoff\":15},\"zerolinecolor\":\"white\",\"automargin\":true,\"zerolinewidth\":2},\"yaxis\":{\"gridcolor\":\"white\",\"linecolor\":\"white\",\"ticks\":\"\",\"title\":{\"standoff\":15},\"zerolinecolor\":\"white\",\"automargin\":true,\"zerolinewidth\":2},\"scene\":{\"xaxis\":{\"backgroundcolor\":\"#E5ECF6\",\"gridcolor\":\"white\",\"linecolor\":\"white\",\"showbackground\":true,\"ticks\":\"\",\"zerolinecolor\":\"white\",\"gridwidth\":2},\"yaxis\":{\"backgroundcolor\":\"#E5ECF6\",\"gridcolor\":\"white\",\"linecolor\":\"white\",\"showbackground\":true,\"ticks\":\"\",\"zerolinecolor\":\"white\",\"gridwidth\":2},\"zaxis\":{\"backgroundcolor\":\"#E5ECF6\",\"gridcolor\":\"white\",\"linecolor\":\"white\",\"showbackground\":true,\"ticks\":\"\",\"zerolinecolor\":\"white\",\"gridwidth\":2}},\"shapedefaults\":{\"line\":{\"color\":\"#2a3f5f\"}},\"annotationdefaults\":{\"arrowcolor\":\"#2a3f5f\",\"arrowhead\":0,\"arrowwidth\":1},\"geo\":{\"bgcolor\":\"white\",\"landcolor\":\"#E5ECF6\",\"subunitcolor\":\"white\",\"showland\":true,\"showlakes\":true,\"lakecolor\":\"white\"},\"title\":{\"x\":0.05},\"mapbox\":{\"style\":\"light\"}}},\"xaxis\":{\"anchor\":\"y\",\"domain\":[0.0,1.0]},\"yaxis\":{\"anchor\":\"x\",\"domain\":[0.0,1.0],\"autorange\":\"reversed\"},\"coloraxis\":{\"colorscale\":[[0.0,\"#0d0887\"],[0.1111111111111111,\"#46039f\"],[0.2222222222222222,\"#7201a8\"],[0.3333333333333333,\"#9c179e\"],[0.4444444444444444,\"#bd3786\"],[0.5555555555555556,\"#d8576b\"],[0.6666666666666666,\"#ed7953\"],[0.7777777777777778,\"#fb9f3a\"],[0.8888888888888888,\"#fdca26\"],[1.0,\"#f0f921\"]]},\"margin\":{\"t\":60}},                        {\"responsive\": true}                    ).then(function(){\n",
       "                            \n",
       "var gd = document.getElementById('51abc85e-5058-449e-bb67-6acbb44fc9de');\n",
       "var x = new MutationObserver(function (mutations, observer) {{\n",
       "        var display = window.getComputedStyle(gd).display;\n",
       "        if (!display || display === 'none') {{\n",
       "            console.log([gd, 'removed!']);\n",
       "            Plotly.purge(gd);\n",
       "            observer.disconnect();\n",
       "        }}\n",
       "}});\n",
       "\n",
       "// Listen for the removal of the full notebook cells\n",
       "var notebookContainer = gd.closest('#notebook-container');\n",
       "if (notebookContainer) {{\n",
       "    x.observe(notebookContainer, {childList: true});\n",
       "}}\n",
       "\n",
       "// Listen for the clearing of the current output cell\n",
       "var outputEl = gd.closest('.output');\n",
       "if (outputEl) {{\n",
       "    x.observe(outputEl, {childList: true});\n",
       "}}\n",
       "\n",
       "                        })                };                });            </script>        </div>"
      ]
     },
     "metadata": {},
     "output_type": "display_data"
    }
   ],
   "source": [
    "# 0.5 threshold fraction\n",
    "fig = px.imshow(mi_animation_arr[30], aspect='auto')\n",
    "fig.show()"
   ]
  },
  {
   "cell_type": "code",
   "execution_count": 60,
   "metadata": {},
   "outputs": [
    {
     "data": {
      "application/vnd.plotly.v1+json": {
       "config": {
        "plotlyServerURL": "https://plot.ly"
       },
       "data": [
        {
         "coloraxis": "coloraxis",
         "hovertemplate": "x: %{x}<br>y: %{y}<br>color: %{z}<extra></extra>",
         "name": "0",
         "type": "heatmap",
         "xaxis": "x",
         "yaxis": "y",
         "z": [
          [
           0,
           0,
           1,
           0.1271622791519466,
           0,
           0,
           0,
           0.3140218038613958
          ],
          [
           0.018399659645808464,
           0.03175774990341062,
           1,
           0,
           0,
           0,
           0,
           0.03771784778312768
          ],
          [
           0,
           0,
           1,
           0,
           0,
           0,
           0,
           0
          ],
          [
           0.21396201830243736,
           0,
           0,
           1,
           0.34044930477594104,
           0,
           0.22890837540787304,
           0.4756210295403892
          ],
          [
           0,
           0,
           1,
           0.46007162520102945,
           0,
           0,
           0.03801974732283432,
           0.08540978612220661
          ],
          [
           0,
           0,
           0.7298780723740428,
           0,
           0,
           0,
           1,
           0
          ],
          [
           0,
           0,
           1,
           0.2373691285620194,
           0,
           0,
           0.12675002013621062,
           0.004573624127921834
          ],
          [
           0,
           0,
           1,
           0,
           0,
           0,
           0.9454924321720507,
           0
          ],
          [
           0.38078073515536043,
           0,
           0.041836268761473866,
           0.2685026610587611,
           0.20012498629250794,
           0,
           1,
           0
          ],
          [
           1,
           0,
           0,
           0,
           0.612172627019756,
           0.5037420249028591,
           0.4489976158967287,
           0
          ],
          [
           0,
           0,
           0.09979442174274564,
           0,
           0,
           0,
           1,
           0.2092130676959673
          ],
          [
           0.20514324655701774,
           0,
           0.34077362652046894,
           0.18191252539003905,
           1,
           0,
           0,
           0.1589829701072075
          ],
          [
           0,
           0.5612451978840257,
           0.6545192758352134,
           1,
           0.09650695577881675,
           0.3651059517213505,
           0,
           0
          ],
          [
           0,
           0,
           1,
           0,
           0,
           0,
           0,
           0
          ],
          [
           0.3136264142964392,
           1,
           0,
           0.061797431855650044,
           0,
           0,
           0,
           0.4132955147041117
          ],
          [
           0.16927382639726812,
           1,
           0,
           0,
           0,
           0,
           0,
           0
          ],
          [
           0,
           0.41762074500491664,
           1,
           0.2298635302562701,
           0,
           0.17931607097752264,
           0.46505524948819477,
           0.1829611233038098
          ],
          [
           0,
           0.2144921652243812,
           0,
           0,
           1,
           0,
           0,
           0
          ],
          [
           0,
           0,
           1,
           0,
           0,
           0,
           0.0049928944652380515,
           0.33752994346597603
          ],
          [
           0,
           0,
           0.3782621352388448,
           0,
           0,
           0,
           1,
           0
          ],
          [
           0,
           0,
           1,
           0.745854385665877,
           0,
           0,
           0.27074999077470113,
           0.016238449321498358
          ],
          [
           0,
           0,
           0,
           1,
           0,
           0,
           0,
           0
          ],
          [
           0,
           0,
           0,
           1,
           0,
           0,
           0.5360233341800561,
           0
          ],
          [
           0,
           0,
           1,
           0,
           0,
           0,
           0.47726332604462385,
           0
          ],
          [
           0.03768631490788342,
           0,
           1,
           0.45400931144881795,
           0,
           0,
           0,
           0.3708118352946384
          ],
          [
           0.5165245941518474,
           0,
           1,
           0.956203969113206,
           0.4051687048172579,
           0,
           0,
           0
          ],
          [
           0,
           0,
           1,
           0,
           0.032953039759057015,
           0,
           0,
           0
          ],
          [
           0.21257138367760686,
           0,
           0,
           0,
           0.05947935842507857,
           0,
           0,
           1
          ],
          [
           0,
           0,
           1,
           0,
           0,
           0,
           0.2293190016865506,
           0
          ],
          [
           0,
           0,
           0,
           0,
           0,
           0,
           0,
           0
          ],
          [
           0.12413159405505024,
           0,
           0,
           1,
           0,
           0,
           0,
           0.6593551804325758
          ],
          [
           0,
           0,
           0,
           0,
           0,
           0,
           0,
           0
          ],
          [
           0.2035993804061171,
           0,
           0.07256181529213736,
           0,
           0.4429156510086427,
           0,
           0,
           1
          ],
          [
           0,
           0,
           0,
           0,
           0,
           0,
           0,
           0
          ],
          [
           0.4752919508094611,
           0,
           0.6002094290526675,
           1,
           0.48336189246559136,
           0,
           0,
           0
          ],
          [
           0,
           0,
           0,
           0,
           0,
           0,
           0,
           0
          ],
          [
           0,
           3.0960320790402197e-15,
           1,
           0,
           0,
           0.040598907865985245,
           0,
           0
          ],
          [
           0,
           0,
           0.562877970506559,
           0,
           0,
           0,
           1,
           0
          ],
          [
           0.46117656705915466,
           0.9884588356958509,
           0.044027446997902495,
           0.07599018339027032,
           0,
           1,
           0,
           0
          ],
          [
           0,
           0,
           0,
           0,
           0,
           0,
           0,
           0
          ],
          [
           1.2285984682093907e-14,
           0,
           0,
           1.2285984682093907e-14,
           0.24058892289969114,
           0,
           1,
           0.24058892289969114
          ],
          [
           0,
           0,
           0,
           0,
           0,
           0,
           0,
           0
          ],
          [
           0.05558973559112909,
           0,
           0.3436830363875259,
           0.13225512856887586,
           0.042791587971802554,
           0,
           1,
           0.41169628784532153
          ],
          [
           0,
           0,
           0.36074159493481495,
           0,
           0,
           0,
           1,
           0
          ],
          [
           0.049417415141120496,
           0.07258620159393073,
           1,
           0,
           0,
           0,
           0,
           0
          ],
          [
           0,
           0,
           0.6312468153198277,
           0,
           0,
           0,
           1,
           0
          ],
          [
           0,
           0,
           0.6267836292460697,
           0,
           0,
           0,
           1,
           0
          ],
          [
           0,
           0,
           0,
           0,
           0,
           0,
           1,
           0
          ],
          [
           0,
           0,
           0,
           0,
           0,
           0,
           0,
           0
          ],
          [
           0,
           0,
           1,
           0.15164607291286444,
           0,
           0,
           0,
           0.4426993492049067
          ],
          [
           0.4575341416231051,
           0,
           0.8618948580870999,
           0.2227563104817447,
           0,
           1,
           0,
           0
          ]
         ]
        }
       ],
       "layout": {
        "coloraxis": {
         "colorscale": [
          [
           0,
           "#0d0887"
          ],
          [
           0.1111111111111111,
           "#46039f"
          ],
          [
           0.2222222222222222,
           "#7201a8"
          ],
          [
           0.3333333333333333,
           "#9c179e"
          ],
          [
           0.4444444444444444,
           "#bd3786"
          ],
          [
           0.5555555555555556,
           "#d8576b"
          ],
          [
           0.6666666666666666,
           "#ed7953"
          ],
          [
           0.7777777777777778,
           "#fb9f3a"
          ],
          [
           0.8888888888888888,
           "#fdca26"
          ],
          [
           1,
           "#f0f921"
          ]
         ]
        },
        "margin": {
         "t": 60
        },
        "template": {
         "data": {
          "bar": [
           {
            "error_x": {
             "color": "#2a3f5f"
            },
            "error_y": {
             "color": "#2a3f5f"
            },
            "marker": {
             "line": {
              "color": "#E5ECF6",
              "width": 0.5
             },
             "pattern": {
              "fillmode": "overlay",
              "size": 10,
              "solidity": 0.2
             }
            },
            "type": "bar"
           }
          ],
          "barpolar": [
           {
            "marker": {
             "line": {
              "color": "#E5ECF6",
              "width": 0.5
             },
             "pattern": {
              "fillmode": "overlay",
              "size": 10,
              "solidity": 0.2
             }
            },
            "type": "barpolar"
           }
          ],
          "carpet": [
           {
            "aaxis": {
             "endlinecolor": "#2a3f5f",
             "gridcolor": "white",
             "linecolor": "white",
             "minorgridcolor": "white",
             "startlinecolor": "#2a3f5f"
            },
            "baxis": {
             "endlinecolor": "#2a3f5f",
             "gridcolor": "white",
             "linecolor": "white",
             "minorgridcolor": "white",
             "startlinecolor": "#2a3f5f"
            },
            "type": "carpet"
           }
          ],
          "choropleth": [
           {
            "colorbar": {
             "outlinewidth": 0,
             "ticks": ""
            },
            "type": "choropleth"
           }
          ],
          "contour": [
           {
            "colorbar": {
             "outlinewidth": 0,
             "ticks": ""
            },
            "colorscale": [
             [
              0,
              "#0d0887"
             ],
             [
              0.1111111111111111,
              "#46039f"
             ],
             [
              0.2222222222222222,
              "#7201a8"
             ],
             [
              0.3333333333333333,
              "#9c179e"
             ],
             [
              0.4444444444444444,
              "#bd3786"
             ],
             [
              0.5555555555555556,
              "#d8576b"
             ],
             [
              0.6666666666666666,
              "#ed7953"
             ],
             [
              0.7777777777777778,
              "#fb9f3a"
             ],
             [
              0.8888888888888888,
              "#fdca26"
             ],
             [
              1,
              "#f0f921"
             ]
            ],
            "type": "contour"
           }
          ],
          "contourcarpet": [
           {
            "colorbar": {
             "outlinewidth": 0,
             "ticks": ""
            },
            "type": "contourcarpet"
           }
          ],
          "heatmap": [
           {
            "colorbar": {
             "outlinewidth": 0,
             "ticks": ""
            },
            "colorscale": [
             [
              0,
              "#0d0887"
             ],
             [
              0.1111111111111111,
              "#46039f"
             ],
             [
              0.2222222222222222,
              "#7201a8"
             ],
             [
              0.3333333333333333,
              "#9c179e"
             ],
             [
              0.4444444444444444,
              "#bd3786"
             ],
             [
              0.5555555555555556,
              "#d8576b"
             ],
             [
              0.6666666666666666,
              "#ed7953"
             ],
             [
              0.7777777777777778,
              "#fb9f3a"
             ],
             [
              0.8888888888888888,
              "#fdca26"
             ],
             [
              1,
              "#f0f921"
             ]
            ],
            "type": "heatmap"
           }
          ],
          "heatmapgl": [
           {
            "colorbar": {
             "outlinewidth": 0,
             "ticks": ""
            },
            "colorscale": [
             [
              0,
              "#0d0887"
             ],
             [
              0.1111111111111111,
              "#46039f"
             ],
             [
              0.2222222222222222,
              "#7201a8"
             ],
             [
              0.3333333333333333,
              "#9c179e"
             ],
             [
              0.4444444444444444,
              "#bd3786"
             ],
             [
              0.5555555555555556,
              "#d8576b"
             ],
             [
              0.6666666666666666,
              "#ed7953"
             ],
             [
              0.7777777777777778,
              "#fb9f3a"
             ],
             [
              0.8888888888888888,
              "#fdca26"
             ],
             [
              1,
              "#f0f921"
             ]
            ],
            "type": "heatmapgl"
           }
          ],
          "histogram": [
           {
            "marker": {
             "pattern": {
              "fillmode": "overlay",
              "size": 10,
              "solidity": 0.2
             }
            },
            "type": "histogram"
           }
          ],
          "histogram2d": [
           {
            "colorbar": {
             "outlinewidth": 0,
             "ticks": ""
            },
            "colorscale": [
             [
              0,
              "#0d0887"
             ],
             [
              0.1111111111111111,
              "#46039f"
             ],
             [
              0.2222222222222222,
              "#7201a8"
             ],
             [
              0.3333333333333333,
              "#9c179e"
             ],
             [
              0.4444444444444444,
              "#bd3786"
             ],
             [
              0.5555555555555556,
              "#d8576b"
             ],
             [
              0.6666666666666666,
              "#ed7953"
             ],
             [
              0.7777777777777778,
              "#fb9f3a"
             ],
             [
              0.8888888888888888,
              "#fdca26"
             ],
             [
              1,
              "#f0f921"
             ]
            ],
            "type": "histogram2d"
           }
          ],
          "histogram2dcontour": [
           {
            "colorbar": {
             "outlinewidth": 0,
             "ticks": ""
            },
            "colorscale": [
             [
              0,
              "#0d0887"
             ],
             [
              0.1111111111111111,
              "#46039f"
             ],
             [
              0.2222222222222222,
              "#7201a8"
             ],
             [
              0.3333333333333333,
              "#9c179e"
             ],
             [
              0.4444444444444444,
              "#bd3786"
             ],
             [
              0.5555555555555556,
              "#d8576b"
             ],
             [
              0.6666666666666666,
              "#ed7953"
             ],
             [
              0.7777777777777778,
              "#fb9f3a"
             ],
             [
              0.8888888888888888,
              "#fdca26"
             ],
             [
              1,
              "#f0f921"
             ]
            ],
            "type": "histogram2dcontour"
           }
          ],
          "mesh3d": [
           {
            "colorbar": {
             "outlinewidth": 0,
             "ticks": ""
            },
            "type": "mesh3d"
           }
          ],
          "parcoords": [
           {
            "line": {
             "colorbar": {
              "outlinewidth": 0,
              "ticks": ""
             }
            },
            "type": "parcoords"
           }
          ],
          "pie": [
           {
            "automargin": true,
            "type": "pie"
           }
          ],
          "scatter": [
           {
            "fillpattern": {
             "fillmode": "overlay",
             "size": 10,
             "solidity": 0.2
            },
            "type": "scatter"
           }
          ],
          "scatter3d": [
           {
            "line": {
             "colorbar": {
              "outlinewidth": 0,
              "ticks": ""
             }
            },
            "marker": {
             "colorbar": {
              "outlinewidth": 0,
              "ticks": ""
             }
            },
            "type": "scatter3d"
           }
          ],
          "scattercarpet": [
           {
            "marker": {
             "colorbar": {
              "outlinewidth": 0,
              "ticks": ""
             }
            },
            "type": "scattercarpet"
           }
          ],
          "scattergeo": [
           {
            "marker": {
             "colorbar": {
              "outlinewidth": 0,
              "ticks": ""
             }
            },
            "type": "scattergeo"
           }
          ],
          "scattergl": [
           {
            "marker": {
             "colorbar": {
              "outlinewidth": 0,
              "ticks": ""
             }
            },
            "type": "scattergl"
           }
          ],
          "scattermapbox": [
           {
            "marker": {
             "colorbar": {
              "outlinewidth": 0,
              "ticks": ""
             }
            },
            "type": "scattermapbox"
           }
          ],
          "scatterpolar": [
           {
            "marker": {
             "colorbar": {
              "outlinewidth": 0,
              "ticks": ""
             }
            },
            "type": "scatterpolar"
           }
          ],
          "scatterpolargl": [
           {
            "marker": {
             "colorbar": {
              "outlinewidth": 0,
              "ticks": ""
             }
            },
            "type": "scatterpolargl"
           }
          ],
          "scatterternary": [
           {
            "marker": {
             "colorbar": {
              "outlinewidth": 0,
              "ticks": ""
             }
            },
            "type": "scatterternary"
           }
          ],
          "surface": [
           {
            "colorbar": {
             "outlinewidth": 0,
             "ticks": ""
            },
            "colorscale": [
             [
              0,
              "#0d0887"
             ],
             [
              0.1111111111111111,
              "#46039f"
             ],
             [
              0.2222222222222222,
              "#7201a8"
             ],
             [
              0.3333333333333333,
              "#9c179e"
             ],
             [
              0.4444444444444444,
              "#bd3786"
             ],
             [
              0.5555555555555556,
              "#d8576b"
             ],
             [
              0.6666666666666666,
              "#ed7953"
             ],
             [
              0.7777777777777778,
              "#fb9f3a"
             ],
             [
              0.8888888888888888,
              "#fdca26"
             ],
             [
              1,
              "#f0f921"
             ]
            ],
            "type": "surface"
           }
          ],
          "table": [
           {
            "cells": {
             "fill": {
              "color": "#EBF0F8"
             },
             "line": {
              "color": "white"
             }
            },
            "header": {
             "fill": {
              "color": "#C8D4E3"
             },
             "line": {
              "color": "white"
             }
            },
            "type": "table"
           }
          ]
         },
         "layout": {
          "annotationdefaults": {
           "arrowcolor": "#2a3f5f",
           "arrowhead": 0,
           "arrowwidth": 1
          },
          "autotypenumbers": "strict",
          "coloraxis": {
           "colorbar": {
            "outlinewidth": 0,
            "ticks": ""
           }
          },
          "colorscale": {
           "diverging": [
            [
             0,
             "#8e0152"
            ],
            [
             0.1,
             "#c51b7d"
            ],
            [
             0.2,
             "#de77ae"
            ],
            [
             0.3,
             "#f1b6da"
            ],
            [
             0.4,
             "#fde0ef"
            ],
            [
             0.5,
             "#f7f7f7"
            ],
            [
             0.6,
             "#e6f5d0"
            ],
            [
             0.7,
             "#b8e186"
            ],
            [
             0.8,
             "#7fbc41"
            ],
            [
             0.9,
             "#4d9221"
            ],
            [
             1,
             "#276419"
            ]
           ],
           "sequential": [
            [
             0,
             "#0d0887"
            ],
            [
             0.1111111111111111,
             "#46039f"
            ],
            [
             0.2222222222222222,
             "#7201a8"
            ],
            [
             0.3333333333333333,
             "#9c179e"
            ],
            [
             0.4444444444444444,
             "#bd3786"
            ],
            [
             0.5555555555555556,
             "#d8576b"
            ],
            [
             0.6666666666666666,
             "#ed7953"
            ],
            [
             0.7777777777777778,
             "#fb9f3a"
            ],
            [
             0.8888888888888888,
             "#fdca26"
            ],
            [
             1,
             "#f0f921"
            ]
           ],
           "sequentialminus": [
            [
             0,
             "#0d0887"
            ],
            [
             0.1111111111111111,
             "#46039f"
            ],
            [
             0.2222222222222222,
             "#7201a8"
            ],
            [
             0.3333333333333333,
             "#9c179e"
            ],
            [
             0.4444444444444444,
             "#bd3786"
            ],
            [
             0.5555555555555556,
             "#d8576b"
            ],
            [
             0.6666666666666666,
             "#ed7953"
            ],
            [
             0.7777777777777778,
             "#fb9f3a"
            ],
            [
             0.8888888888888888,
             "#fdca26"
            ],
            [
             1,
             "#f0f921"
            ]
           ]
          },
          "colorway": [
           "#636efa",
           "#EF553B",
           "#00cc96",
           "#ab63fa",
           "#FFA15A",
           "#19d3f3",
           "#FF6692",
           "#B6E880",
           "#FF97FF",
           "#FECB52"
          ],
          "font": {
           "color": "#2a3f5f"
          },
          "geo": {
           "bgcolor": "white",
           "lakecolor": "white",
           "landcolor": "#E5ECF6",
           "showlakes": true,
           "showland": true,
           "subunitcolor": "white"
          },
          "hoverlabel": {
           "align": "left"
          },
          "hovermode": "closest",
          "mapbox": {
           "style": "light"
          },
          "paper_bgcolor": "white",
          "plot_bgcolor": "#E5ECF6",
          "polar": {
           "angularaxis": {
            "gridcolor": "white",
            "linecolor": "white",
            "ticks": ""
           },
           "bgcolor": "#E5ECF6",
           "radialaxis": {
            "gridcolor": "white",
            "linecolor": "white",
            "ticks": ""
           }
          },
          "scene": {
           "xaxis": {
            "backgroundcolor": "#E5ECF6",
            "gridcolor": "white",
            "gridwidth": 2,
            "linecolor": "white",
            "showbackground": true,
            "ticks": "",
            "zerolinecolor": "white"
           },
           "yaxis": {
            "backgroundcolor": "#E5ECF6",
            "gridcolor": "white",
            "gridwidth": 2,
            "linecolor": "white",
            "showbackground": true,
            "ticks": "",
            "zerolinecolor": "white"
           },
           "zaxis": {
            "backgroundcolor": "#E5ECF6",
            "gridcolor": "white",
            "gridwidth": 2,
            "linecolor": "white",
            "showbackground": true,
            "ticks": "",
            "zerolinecolor": "white"
           }
          },
          "shapedefaults": {
           "line": {
            "color": "#2a3f5f"
           }
          },
          "ternary": {
           "aaxis": {
            "gridcolor": "white",
            "linecolor": "white",
            "ticks": ""
           },
           "baxis": {
            "gridcolor": "white",
            "linecolor": "white",
            "ticks": ""
           },
           "bgcolor": "#E5ECF6",
           "caxis": {
            "gridcolor": "white",
            "linecolor": "white",
            "ticks": ""
           }
          },
          "title": {
           "x": 0.05
          },
          "xaxis": {
           "automargin": true,
           "gridcolor": "white",
           "linecolor": "white",
           "ticks": "",
           "title": {
            "standoff": 15
           },
           "zerolinecolor": "white",
           "zerolinewidth": 2
          },
          "yaxis": {
           "automargin": true,
           "gridcolor": "white",
           "linecolor": "white",
           "ticks": "",
           "title": {
            "standoff": 15
           },
           "zerolinecolor": "white",
           "zerolinewidth": 2
          }
         }
        },
        "xaxis": {
         "anchor": "y",
         "domain": [
          0,
          1
         ]
        },
        "yaxis": {
         "anchor": "x",
         "autorange": "reversed",
         "domain": [
          0,
          1
         ]
        }
       }
      },
      "text/html": [
       "<div>                            <div id=\"2e796118-dfc2-44e0-ac88-d72848deaaea\" class=\"plotly-graph-div\" style=\"height:525px; width:100%;\"></div>            <script type=\"text/javascript\">                require([\"plotly\"], function(Plotly) {                    window.PLOTLYENV=window.PLOTLYENV || {};                                    if (document.getElementById(\"2e796118-dfc2-44e0-ac88-d72848deaaea\")) {                    Plotly.newPlot(                        \"2e796118-dfc2-44e0-ac88-d72848deaaea\",                        [{\"coloraxis\":\"coloraxis\",\"name\":\"0\",\"z\":[[0.0,0.0,1.0,0.1271622791519466,0.0,0.0,0.0,0.3140218038613958],[0.018399659645808464,0.03175774990341062,1.0,0.0,0.0,0.0,0.0,0.03771784778312768],[0.0,0.0,1.0,0.0,0.0,0.0,0.0,0.0],[0.21396201830243736,0.0,0.0,1.0,0.34044930477594104,0.0,0.22890837540787304,0.4756210295403892],[0.0,0.0,1.0,0.46007162520102945,0.0,0.0,0.03801974732283432,0.08540978612220661],[0.0,0.0,0.7298780723740428,0.0,0.0,0.0,1.0,0.0],[0.0,0.0,1.0,0.2373691285620194,0.0,0.0,0.12675002013621062,0.004573624127921834],[0.0,0.0,1.0,0.0,0.0,0.0,0.9454924321720507,0.0],[0.38078073515536043,0.0,0.041836268761473866,0.2685026610587611,0.20012498629250794,0.0,1.0,0.0],[1.0,0.0,0.0,0.0,0.612172627019756,0.5037420249028591,0.4489976158967287,0.0],[0.0,0.0,0.09979442174274564,0.0,0.0,0.0,1.0,0.2092130676959673],[0.20514324655701774,0.0,0.34077362652046894,0.18191252539003905,1.0,0.0,0.0,0.1589829701072075],[0.0,0.5612451978840257,0.6545192758352134,1.0,0.09650695577881675,0.3651059517213505,0.0,0.0],[0.0,0.0,1.0,0.0,0.0,0.0,0.0,0.0],[0.3136264142964392,1.0,0.0,0.061797431855650044,0.0,0.0,0.0,0.4132955147041117],[0.16927382639726812,1.0,0.0,0.0,0.0,0.0,0.0,0.0],[0.0,0.41762074500491664,1.0,0.2298635302562701,0.0,0.17931607097752264,0.46505524948819477,0.1829611233038098],[0.0,0.2144921652243812,0.0,0.0,1.0,0.0,0.0,0.0],[0.0,0.0,1.0,0.0,0.0,0.0,0.0049928944652380515,0.33752994346597603],[0.0,0.0,0.3782621352388448,0.0,0.0,0.0,1.0,0.0],[0.0,0.0,1.0,0.745854385665877,0.0,0.0,0.27074999077470113,0.016238449321498358],[0.0,0.0,0.0,1.0,0.0,0.0,0.0,0.0],[0.0,0.0,0.0,1.0,0.0,0.0,0.5360233341800561,0.0],[0.0,0.0,1.0,0.0,0.0,0.0,0.47726332604462385,0.0],[0.03768631490788342,0.0,1.0,0.45400931144881795,0.0,0.0,0.0,0.3708118352946384],[0.5165245941518474,0.0,1.0,0.956203969113206,0.4051687048172579,0.0,0.0,0.0],[0.0,0.0,1.0,0.0,0.032953039759057015,0.0,0.0,0.0],[0.21257138367760686,0.0,0.0,0.0,0.05947935842507857,0.0,0.0,1.0],[0.0,0.0,1.0,0.0,0.0,0.0,0.2293190016865506,0.0],[0.0,0.0,0.0,0.0,0.0,0.0,0.0,0.0],[0.12413159405505024,0.0,0.0,1.0,0.0,0.0,0.0,0.6593551804325758],[0.0,0.0,0.0,0.0,0.0,0.0,0.0,0.0],[0.2035993804061171,0.0,0.07256181529213736,0.0,0.4429156510086427,0.0,0.0,1.0],[0.0,0.0,0.0,0.0,0.0,0.0,0.0,0.0],[0.4752919508094611,0.0,0.6002094290526675,1.0,0.48336189246559136,0.0,0.0,0.0],[0.0,0.0,0.0,0.0,0.0,0.0,0.0,0.0],[0.0,3.0960320790402197e-15,1.0,0.0,0.0,0.040598907865985245,0.0,0.0],[0.0,0.0,0.562877970506559,0.0,0.0,0.0,1.0,0.0],[0.46117656705915466,0.9884588356958509,0.044027446997902495,0.07599018339027032,0.0,1.0,0.0,0.0],[0.0,0.0,0.0,0.0,0.0,0.0,0.0,0.0],[1.2285984682093907e-14,0.0,0.0,1.2285984682093907e-14,0.24058892289969114,0.0,1.0,0.24058892289969114],[0.0,0.0,0.0,0.0,0.0,0.0,0.0,0.0],[0.05558973559112909,0.0,0.3436830363875259,0.13225512856887586,0.042791587971802554,0.0,1.0,0.41169628784532153],[0.0,0.0,0.36074159493481495,0.0,0.0,0.0,1.0,0.0],[0.049417415141120496,0.07258620159393073,1.0,0.0,0.0,0.0,0.0,0.0],[0.0,0.0,0.6312468153198277,0.0,0.0,0.0,1.0,0.0],[0.0,0.0,0.6267836292460697,0.0,0.0,0.0,1.0,0.0],[0.0,0.0,0.0,0.0,0.0,0.0,1.0,0.0],[0.0,0.0,0.0,0.0,0.0,0.0,0.0,0.0],[0.0,0.0,1.0,0.15164607291286444,0.0,0.0,0.0,0.4426993492049067],[0.4575341416231051,0.0,0.8618948580870999,0.2227563104817447,0.0,1.0,0.0,0.0]],\"type\":\"heatmap\",\"xaxis\":\"x\",\"yaxis\":\"y\",\"hovertemplate\":\"x: %{x}<br>y: %{y}<br>color: %{z}<extra></extra>\"}],                        {\"template\":{\"data\":{\"histogram2dcontour\":[{\"type\":\"histogram2dcontour\",\"colorbar\":{\"outlinewidth\":0,\"ticks\":\"\"},\"colorscale\":[[0.0,\"#0d0887\"],[0.1111111111111111,\"#46039f\"],[0.2222222222222222,\"#7201a8\"],[0.3333333333333333,\"#9c179e\"],[0.4444444444444444,\"#bd3786\"],[0.5555555555555556,\"#d8576b\"],[0.6666666666666666,\"#ed7953\"],[0.7777777777777778,\"#fb9f3a\"],[0.8888888888888888,\"#fdca26\"],[1.0,\"#f0f921\"]]}],\"choropleth\":[{\"type\":\"choropleth\",\"colorbar\":{\"outlinewidth\":0,\"ticks\":\"\"}}],\"histogram2d\":[{\"type\":\"histogram2d\",\"colorbar\":{\"outlinewidth\":0,\"ticks\":\"\"},\"colorscale\":[[0.0,\"#0d0887\"],[0.1111111111111111,\"#46039f\"],[0.2222222222222222,\"#7201a8\"],[0.3333333333333333,\"#9c179e\"],[0.4444444444444444,\"#bd3786\"],[0.5555555555555556,\"#d8576b\"],[0.6666666666666666,\"#ed7953\"],[0.7777777777777778,\"#fb9f3a\"],[0.8888888888888888,\"#fdca26\"],[1.0,\"#f0f921\"]]}],\"heatmap\":[{\"type\":\"heatmap\",\"colorbar\":{\"outlinewidth\":0,\"ticks\":\"\"},\"colorscale\":[[0.0,\"#0d0887\"],[0.1111111111111111,\"#46039f\"],[0.2222222222222222,\"#7201a8\"],[0.3333333333333333,\"#9c179e\"],[0.4444444444444444,\"#bd3786\"],[0.5555555555555556,\"#d8576b\"],[0.6666666666666666,\"#ed7953\"],[0.7777777777777778,\"#fb9f3a\"],[0.8888888888888888,\"#fdca26\"],[1.0,\"#f0f921\"]]}],\"heatmapgl\":[{\"type\":\"heatmapgl\",\"colorbar\":{\"outlinewidth\":0,\"ticks\":\"\"},\"colorscale\":[[0.0,\"#0d0887\"],[0.1111111111111111,\"#46039f\"],[0.2222222222222222,\"#7201a8\"],[0.3333333333333333,\"#9c179e\"],[0.4444444444444444,\"#bd3786\"],[0.5555555555555556,\"#d8576b\"],[0.6666666666666666,\"#ed7953\"],[0.7777777777777778,\"#fb9f3a\"],[0.8888888888888888,\"#fdca26\"],[1.0,\"#f0f921\"]]}],\"contourcarpet\":[{\"type\":\"contourcarpet\",\"colorbar\":{\"outlinewidth\":0,\"ticks\":\"\"}}],\"contour\":[{\"type\":\"contour\",\"colorbar\":{\"outlinewidth\":0,\"ticks\":\"\"},\"colorscale\":[[0.0,\"#0d0887\"],[0.1111111111111111,\"#46039f\"],[0.2222222222222222,\"#7201a8\"],[0.3333333333333333,\"#9c179e\"],[0.4444444444444444,\"#bd3786\"],[0.5555555555555556,\"#d8576b\"],[0.6666666666666666,\"#ed7953\"],[0.7777777777777778,\"#fb9f3a\"],[0.8888888888888888,\"#fdca26\"],[1.0,\"#f0f921\"]]}],\"surface\":[{\"type\":\"surface\",\"colorbar\":{\"outlinewidth\":0,\"ticks\":\"\"},\"colorscale\":[[0.0,\"#0d0887\"],[0.1111111111111111,\"#46039f\"],[0.2222222222222222,\"#7201a8\"],[0.3333333333333333,\"#9c179e\"],[0.4444444444444444,\"#bd3786\"],[0.5555555555555556,\"#d8576b\"],[0.6666666666666666,\"#ed7953\"],[0.7777777777777778,\"#fb9f3a\"],[0.8888888888888888,\"#fdca26\"],[1.0,\"#f0f921\"]]}],\"mesh3d\":[{\"type\":\"mesh3d\",\"colorbar\":{\"outlinewidth\":0,\"ticks\":\"\"}}],\"scatter\":[{\"fillpattern\":{\"fillmode\":\"overlay\",\"size\":10,\"solidity\":0.2},\"type\":\"scatter\"}],\"parcoords\":[{\"type\":\"parcoords\",\"line\":{\"colorbar\":{\"outlinewidth\":0,\"ticks\":\"\"}}}],\"scatterpolargl\":[{\"type\":\"scatterpolargl\",\"marker\":{\"colorbar\":{\"outlinewidth\":0,\"ticks\":\"\"}}}],\"bar\":[{\"error_x\":{\"color\":\"#2a3f5f\"},\"error_y\":{\"color\":\"#2a3f5f\"},\"marker\":{\"line\":{\"color\":\"#E5ECF6\",\"width\":0.5},\"pattern\":{\"fillmode\":\"overlay\",\"size\":10,\"solidity\":0.2}},\"type\":\"bar\"}],\"scattergeo\":[{\"type\":\"scattergeo\",\"marker\":{\"colorbar\":{\"outlinewidth\":0,\"ticks\":\"\"}}}],\"scatterpolar\":[{\"type\":\"scatterpolar\",\"marker\":{\"colorbar\":{\"outlinewidth\":0,\"ticks\":\"\"}}}],\"histogram\":[{\"marker\":{\"pattern\":{\"fillmode\":\"overlay\",\"size\":10,\"solidity\":0.2}},\"type\":\"histogram\"}],\"scattergl\":[{\"type\":\"scattergl\",\"marker\":{\"colorbar\":{\"outlinewidth\":0,\"ticks\":\"\"}}}],\"scatter3d\":[{\"type\":\"scatter3d\",\"line\":{\"colorbar\":{\"outlinewidth\":0,\"ticks\":\"\"}},\"marker\":{\"colorbar\":{\"outlinewidth\":0,\"ticks\":\"\"}}}],\"scattermapbox\":[{\"type\":\"scattermapbox\",\"marker\":{\"colorbar\":{\"outlinewidth\":0,\"ticks\":\"\"}}}],\"scatterternary\":[{\"type\":\"scatterternary\",\"marker\":{\"colorbar\":{\"outlinewidth\":0,\"ticks\":\"\"}}}],\"scattercarpet\":[{\"type\":\"scattercarpet\",\"marker\":{\"colorbar\":{\"outlinewidth\":0,\"ticks\":\"\"}}}],\"carpet\":[{\"aaxis\":{\"endlinecolor\":\"#2a3f5f\",\"gridcolor\":\"white\",\"linecolor\":\"white\",\"minorgridcolor\":\"white\",\"startlinecolor\":\"#2a3f5f\"},\"baxis\":{\"endlinecolor\":\"#2a3f5f\",\"gridcolor\":\"white\",\"linecolor\":\"white\",\"minorgridcolor\":\"white\",\"startlinecolor\":\"#2a3f5f\"},\"type\":\"carpet\"}],\"table\":[{\"cells\":{\"fill\":{\"color\":\"#EBF0F8\"},\"line\":{\"color\":\"white\"}},\"header\":{\"fill\":{\"color\":\"#C8D4E3\"},\"line\":{\"color\":\"white\"}},\"type\":\"table\"}],\"barpolar\":[{\"marker\":{\"line\":{\"color\":\"#E5ECF6\",\"width\":0.5},\"pattern\":{\"fillmode\":\"overlay\",\"size\":10,\"solidity\":0.2}},\"type\":\"barpolar\"}],\"pie\":[{\"automargin\":true,\"type\":\"pie\"}]},\"layout\":{\"autotypenumbers\":\"strict\",\"colorway\":[\"#636efa\",\"#EF553B\",\"#00cc96\",\"#ab63fa\",\"#FFA15A\",\"#19d3f3\",\"#FF6692\",\"#B6E880\",\"#FF97FF\",\"#FECB52\"],\"font\":{\"color\":\"#2a3f5f\"},\"hovermode\":\"closest\",\"hoverlabel\":{\"align\":\"left\"},\"paper_bgcolor\":\"white\",\"plot_bgcolor\":\"#E5ECF6\",\"polar\":{\"bgcolor\":\"#E5ECF6\",\"angularaxis\":{\"gridcolor\":\"white\",\"linecolor\":\"white\",\"ticks\":\"\"},\"radialaxis\":{\"gridcolor\":\"white\",\"linecolor\":\"white\",\"ticks\":\"\"}},\"ternary\":{\"bgcolor\":\"#E5ECF6\",\"aaxis\":{\"gridcolor\":\"white\",\"linecolor\":\"white\",\"ticks\":\"\"},\"baxis\":{\"gridcolor\":\"white\",\"linecolor\":\"white\",\"ticks\":\"\"},\"caxis\":{\"gridcolor\":\"white\",\"linecolor\":\"white\",\"ticks\":\"\"}},\"coloraxis\":{\"colorbar\":{\"outlinewidth\":0,\"ticks\":\"\"}},\"colorscale\":{\"sequential\":[[0.0,\"#0d0887\"],[0.1111111111111111,\"#46039f\"],[0.2222222222222222,\"#7201a8\"],[0.3333333333333333,\"#9c179e\"],[0.4444444444444444,\"#bd3786\"],[0.5555555555555556,\"#d8576b\"],[0.6666666666666666,\"#ed7953\"],[0.7777777777777778,\"#fb9f3a\"],[0.8888888888888888,\"#fdca26\"],[1.0,\"#f0f921\"]],\"sequentialminus\":[[0.0,\"#0d0887\"],[0.1111111111111111,\"#46039f\"],[0.2222222222222222,\"#7201a8\"],[0.3333333333333333,\"#9c179e\"],[0.4444444444444444,\"#bd3786\"],[0.5555555555555556,\"#d8576b\"],[0.6666666666666666,\"#ed7953\"],[0.7777777777777778,\"#fb9f3a\"],[0.8888888888888888,\"#fdca26\"],[1.0,\"#f0f921\"]],\"diverging\":[[0,\"#8e0152\"],[0.1,\"#c51b7d\"],[0.2,\"#de77ae\"],[0.3,\"#f1b6da\"],[0.4,\"#fde0ef\"],[0.5,\"#f7f7f7\"],[0.6,\"#e6f5d0\"],[0.7,\"#b8e186\"],[0.8,\"#7fbc41\"],[0.9,\"#4d9221\"],[1,\"#276419\"]]},\"xaxis\":{\"gridcolor\":\"white\",\"linecolor\":\"white\",\"ticks\":\"\",\"title\":{\"standoff\":15},\"zerolinecolor\":\"white\",\"automargin\":true,\"zerolinewidth\":2},\"yaxis\":{\"gridcolor\":\"white\",\"linecolor\":\"white\",\"ticks\":\"\",\"title\":{\"standoff\":15},\"zerolinecolor\":\"white\",\"automargin\":true,\"zerolinewidth\":2},\"scene\":{\"xaxis\":{\"backgroundcolor\":\"#E5ECF6\",\"gridcolor\":\"white\",\"linecolor\":\"white\",\"showbackground\":true,\"ticks\":\"\",\"zerolinecolor\":\"white\",\"gridwidth\":2},\"yaxis\":{\"backgroundcolor\":\"#E5ECF6\",\"gridcolor\":\"white\",\"linecolor\":\"white\",\"showbackground\":true,\"ticks\":\"\",\"zerolinecolor\":\"white\",\"gridwidth\":2},\"zaxis\":{\"backgroundcolor\":\"#E5ECF6\",\"gridcolor\":\"white\",\"linecolor\":\"white\",\"showbackground\":true,\"ticks\":\"\",\"zerolinecolor\":\"white\",\"gridwidth\":2}},\"shapedefaults\":{\"line\":{\"color\":\"#2a3f5f\"}},\"annotationdefaults\":{\"arrowcolor\":\"#2a3f5f\",\"arrowhead\":0,\"arrowwidth\":1},\"geo\":{\"bgcolor\":\"white\",\"landcolor\":\"#E5ECF6\",\"subunitcolor\":\"white\",\"showland\":true,\"showlakes\":true,\"lakecolor\":\"white\"},\"title\":{\"x\":0.05},\"mapbox\":{\"style\":\"light\"}}},\"xaxis\":{\"anchor\":\"y\",\"domain\":[0.0,1.0]},\"yaxis\":{\"anchor\":\"x\",\"domain\":[0.0,1.0],\"autorange\":\"reversed\"},\"coloraxis\":{\"colorscale\":[[0.0,\"#0d0887\"],[0.1111111111111111,\"#46039f\"],[0.2222222222222222,\"#7201a8\"],[0.3333333333333333,\"#9c179e\"],[0.4444444444444444,\"#bd3786\"],[0.5555555555555556,\"#d8576b\"],[0.6666666666666666,\"#ed7953\"],[0.7777777777777778,\"#fb9f3a\"],[0.8888888888888888,\"#fdca26\"],[1.0,\"#f0f921\"]]},\"margin\":{\"t\":60}},                        {\"responsive\": true}                    ).then(function(){\n",
       "                            \n",
       "var gd = document.getElementById('2e796118-dfc2-44e0-ac88-d72848deaaea');\n",
       "var x = new MutationObserver(function (mutations, observer) {{\n",
       "        var display = window.getComputedStyle(gd).display;\n",
       "        if (!display || display === 'none') {{\n",
       "            console.log([gd, 'removed!']);\n",
       "            Plotly.purge(gd);\n",
       "            observer.disconnect();\n",
       "        }}\n",
       "}});\n",
       "\n",
       "// Listen for the removal of the full notebook cells\n",
       "var notebookContainer = gd.closest('#notebook-container');\n",
       "if (notebookContainer) {{\n",
       "    x.observe(notebookContainer, {childList: true});\n",
       "}}\n",
       "\n",
       "// Listen for the clearing of the current output cell\n",
       "var outputEl = gd.closest('.output');\n",
       "if (outputEl) {{\n",
       "    x.observe(outputEl, {childList: true});\n",
       "}}\n",
       "\n",
       "                        })                };                });            </script>        </div>"
      ]
     },
     "metadata": {},
     "output_type": "display_data"
    }
   ],
   "source": [
    "# 0.59 threshold fraction\n",
    "# the appearance has not qualitatively change much from 0.5\n",
    "# significantly different than 0.2, however\n",
    "fig = px.imshow(mi_animation_arr[39], aspect='auto')\n",
    "fig.show()"
   ]
  },
  {
   "cell_type": "code",
   "execution_count": null,
   "metadata": {},
   "outputs": [],
   "source": []
  }
 ],
 "metadata": {
  "kernelspec": {
   "display_name": "Python 3",
   "language": "python",
   "name": "python3"
  },
  "language_info": {
   "codemirror_mode": {
    "name": "ipython",
    "version": 3
   },
   "file_extension": ".py",
   "mimetype": "text/x-python",
   "name": "python",
   "nbconvert_exporter": "python",
   "pygments_lexer": "ipython3",
   "version": "3.8.5"
  }
 },
 "nbformat": 4,
 "nbformat_minor": 4
}
