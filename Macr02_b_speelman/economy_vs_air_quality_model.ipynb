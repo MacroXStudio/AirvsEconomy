{
 "cells": [
  {
   "cell_type": "code",
   "execution_count": 1,
   "metadata": {},
   "outputs": [],
   "source": [
    "import pandas as pd\n",
    "import numpy as np\n",
    "import os\n",
    "\n",
    "import matplotlib.pyplot as plt\n",
    "\n",
    "from sklearn.preprocessing import scale\n",
    "from sklearn.linear_model import enet_path\n",
    "from sklearn.ensemble import RandomForestRegressor"
   ]
  },
  {
   "cell_type": "code",
   "execution_count": 2,
   "metadata": {},
   "outputs": [],
   "source": [
    "# load data for NO2, SO2, PM2.5 and CO (January 2018 to July 2022) that has had\n",
    "# January 2018 to November 2020 Openweathermap.org data backfilled and output as csv's\n",
    "# using jupyter notebook code from mx3.ipynb\n",
    "df_no2 = pd.read_csv('no2_api_backfill.csv')\n",
    "df_so2 = pd.read_csv('so2_api_backfill.csv')\n",
    "df_pm = pd.read_csv('pm_api_backfill.csv')\n",
    "df_co = pd.read_csv('co_api_backfill.csv')"
   ]
  },
  {
   "cell_type": "code",
   "execution_count": 3,
   "metadata": {},
   "outputs": [],
   "source": [
    "# resolve different name in economic data csv file\n",
    "df_no2 = df_no2.rename(columns={'NO2_Vijaywada': 'NO2_Vijayawada'})\n",
    "df_so2 = df_so2.rename(columns={'SO2_Vijaywada': 'SO2_Vijayawada'})\n",
    "df_pm = df_pm.rename(columns={'PM2_5_Vijaywada': 'PM2_5_Vijayawada'})\n",
    "df_co = df_co.rename(columns={'CO_Vijaywada': 'CO_Vijayawada'})"
   ]
  },
  {
   "cell_type": "code",
   "execution_count": 4,
   "metadata": {},
   "outputs": [],
   "source": [
    "# function to help make list of all 54 city names\n",
    "def pull_out_city_name_after_(city):\n",
    "    i = city.find('_')\n",
    "    return city[i+1:]"
   ]
  },
  {
   "cell_type": "code",
   "execution_count": 5,
   "metadata": {},
   "outputs": [],
   "source": [
    "# make list of cities using columns of one of the dataframes\n",
    "city_list = [pull_out_city_name_after_(city) for city in list(df_no2.columns)[1:]]"
   ]
  },
  {
   "cell_type": "code",
   "execution_count": 6,
   "metadata": {},
   "outputs": [],
   "source": [
    "# load economic (unemployment rate) data for one city\n",
    "# note: there is no data for 12-31-17 (although this isn't part of the 2018-22 data needed)\n",
    "df_agartala = pd.read_csv('air_quality_macrox/unemployment_IN/unemployment_IN_Agartala.csv')"
   ]
  },
  {
   "cell_type": "code",
   "execution_count": 7,
   "metadata": {},
   "outputs": [],
   "source": [
    "# change type of 'date' column to datetime\n",
    "df_agartala['Date'] = pd.to_datetime(df_agartala['Date'])"
   ]
  },
  {
   "cell_type": "code",
   "execution_count": 8,
   "metadata": {},
   "outputs": [],
   "source": [
    "# extract out Date series\n",
    "date_series = df_agartala['Date'][df_agartala['Date'] >= '2018-01-01']"
   ]
  },
  {
   "cell_type": "code",
   "execution_count": 9,
   "metadata": {},
   "outputs": [],
   "source": [
    "# define path to Indian economic data directories\n",
    "# assumption: initial current working directory has \"air_quality_macrox\" in it\n",
    "path = \"air_quality_macrox/unemployment_IN\"\n",
    "# make working directory \"unemployment_IN\"\n",
    "os.chdir(path)"
   ]
  },
  {
   "cell_type": "code",
   "execution_count": 10,
   "metadata": {},
   "outputs": [
    {
     "name": "stdout",
     "output_type": "stream",
     "text": [
      "df shape: (54, 6) and city: Dehradun\n",
      "df shape: (38, 6) and city: Gangtok\n",
      "df shape: (54, 6) and city: Srinagar\n"
     ]
    }
   ],
   "source": [
    "# find cities with missing unemployment rate data\n",
    "for city in city_list:\n",
    "    df = pd.read_csv(f'unemployment_IN_{city}.csv')\n",
    "    # change type of 'Date' column to datetime\n",
    "    df['Date'] = pd.to_datetime(df['Date'])\n",
    "    # keep data only 2018 and after\n",
    "    df = df[df['Date'] >= '2018-01-01']\n",
    "    if(df.shape[0] < 55):\n",
    "        print(f'df shape: {df.shape} and city: {city}')"
   ]
  },
  {
   "cell_type": "code",
   "execution_count": 11,
   "metadata": {},
   "outputs": [],
   "source": [
    "# remove the cities that have incomplete economic data\n",
    "# note: Dehradun data will be used to test the model derived from a nearby city\n",
    "# since this data will not be used for modeling initially\n",
    "# Gangtok and Sringer are located away from the other cities with distinct geographic characteristics\n",
    "if 'Dehradun' in city_list: city_list.remove('Dehradun')\n",
    "if 'Gangtok' in city_list: city_list.remove('Gangtok')\n",
    "if 'Srinagar' in city_list: city_list.remove('Srinagar')"
   ]
  },
  {
   "cell_type": "code",
   "execution_count": 12,
   "metadata": {},
   "outputs": [],
   "source": [
    "# make a list of series containing unemployment rates for each of the 54 cities\n",
    "city_series_list = []\n",
    "for city in city_list:\n",
    "    df = pd.read_csv(f'unemployment_IN_{city}.csv')\n",
    "    # change type of 'Date' column to datetime\n",
    "    df['Date'] = pd.to_datetime(df['Date'])\n",
    "    # keep data only 2018 and after\n",
    "    df = df[df['Date'] >= '2018-01-01']\n",
    "    # pull out \"Unemployment\" column as series and rename with the city\n",
    "    unemployment_series = df.filter(like='Unemployment', axis=1).iloc[:,0].rename(f'rate_{city}')\n",
    "    city_series_list.append(unemployment_series.reset_index(drop=True))\n",
    "# create dataframes, concatenating all the individual pandas series\n",
    "df_unempl_rate = pd.concat(city_series_list, axis=1)"
   ]
  },
  {
   "cell_type": "code",
   "execution_count": 13,
   "metadata": {},
   "outputs": [],
   "source": [
    "# export df_unemployment rate for possible further analysis\n",
    "df_unempl_rate.to_csv('city_unemployment_rates.csv', encoding='utf-8', index=False)"
   ]
  },
  {
   "cell_type": "code",
   "execution_count": 14,
   "metadata": {},
   "outputs": [],
   "source": [
    "pollutant_dates = pd.to_datetime(df_no2['date'])"
   ]
  },
  {
   "cell_type": "code",
   "execution_count": 15,
   "metadata": {},
   "outputs": [],
   "source": [
    "# Note: the optimal value of hyperparameters as a function of the number of iterations could \n",
    "# be plotted to show convergence of average values.\n",
    "\n",
    "def rf_hyperparam_grid_search(X, y, md_list, msl_list, number_of_iterations=20):\n",
    "    \"\"\" \n",
    "        finds the optimal hyperparameter values for:\n",
    "        md_list: the maximum depth of the tree - list of int\n",
    "        msl_list: minimum samples in a leaf - list of int\n",
    "        Note:\n",
    "        X: data matrix, columns as features\n",
    "        y: 1 dimensional array of response values\n",
    "        If the sample size is low, the optimal hyperparameters will be very\n",
    "        sensitive to the random selection of data points\n",
    "        during the boot strap sampling step. Averaging over many iteration\n",
    "        will lead to a more accurate selection\n",
    "    \"\"\"\n",
    "    optimal_param_arr = np.zeros((number_of_iterations, 2))\n",
    "    for ii, rand_seed in enumerate(range(number_of_iterations)):\n",
    "        oob_arr = np.zeros((len(md_list), len(msl_list)))\n",
    "        for jj, md in enumerate(md_list):\n",
    "            for kk, msl in enumerate(msl_list):\n",
    "                rf = RandomForestRegressor(max_depth=md,\n",
    "                                           random_state=rand_seed,\n",
    "                                           max_features='sqrt',\n",
    "                                           min_samples_leaf=msl,\n",
    "                                           oob_score=True).fit(X, y)\n",
    "                oob_arr[jj,kk] = rf.oob_score_\n",
    "        # find indices of maximum oob_score (# a large oob score is better)\n",
    "        i,j = np.unravel_index(oob_arr.argmax(), oob_arr.shape)\n",
    "        # save these two optimal parameter values\n",
    "        optimal_param_arr[ii] = np.array([md_list[i], msl_list[j]])\n",
    "    # select the mean value of hyperparameter and return as int (after rounding)\n",
    "    md  = np.rint(np.mean(optimal_param_arr[:,0])).astype(int)\n",
    "    msl = np.rint(np.mean(optimal_param_arr[:,1])).astype(int)\n",
    "    return (md, msl)"
   ]
  },
  {
   "cell_type": "code",
   "execution_count": 16,
   "metadata": {},
   "outputs": [],
   "source": [
    "# define thresholds for pollutants\n",
    "threshold_no2 = 40\n",
    "threshold_so2 = 40\n",
    "threshold_pm = 30\n",
    "threshold_co = 1000\n",
    "# initialize list to store sparcity information after applying a threshold to the data\n",
    "percent_nonzero_after_threshold = []\n",
    "\n",
    "# initialize list of models for each of the 51 cities\n",
    "hyperparameter_arr = np.zeros((len(city_list), 2))\n",
    "city_model_list = []\n",
    "\n",
    "for ii, city in enumerate(city_list):\n",
    "    # create X (feature matrix)\n",
    "    X = np.hstack((df_no2.filter(like=city, axis=1).to_numpy(),\n",
    "                   df_so2.filter(like=city, axis=1).to_numpy(),\n",
    "                   df_pm.filter(like= city, axis=1).to_numpy(),\n",
    "                   df_co.filter(like= city, axis=1).to_numpy()))\n",
    "    # apply thresholds to each column of feature matrix X\n",
    "    X[:,0][X[:,0] < threshold_no2] = 0.0\n",
    "    X[:,1][X[:,1] < threshold_so2] = 0.0\n",
    "    X[:,2][X[:,2] < threshold_pm] = 0.0\n",
    "    X[:,3][X[:,3] < threshold_co] = 0.0\n",
    "    # scale all elements to units of corresponding thresholds\n",
    "    # therefore divide each column by its threshold\n",
    "    # note: zero elements should remain zero\n",
    "    X[:,0] = X[:,0] / threshold_no2\n",
    "    X[:,1] = X[:,1] / threshold_so2\n",
    "    X[:,2] = X[:,2] / threshold_pm\n",
    "    X[:,3] = X[:,3] / threshold_co\n",
    "    # record proportion of non-zero entries after applying threshold\n",
    "    percent_nonzero_after_threshold.append(np.count_nonzero(X)/(X.shape[0] * X.shape[1]))\n",
    "    # Make X into dataframe so that pandas groupby can be used\n",
    "    df_X = pd.DataFrame(X)\n",
    "    # insert the date so that it can be a key used for Grouper\n",
    "    df_X.insert(0,'date',pollutant_dates)\n",
    "    # for each month, sum up the over threshold days scaled by\n",
    "    # the thresholds themselves. If the threshold is 80 and an entry\n",
    "    # is 120, that days entry will be 1.5\n",
    "    df_X = df_X.groupby(pd.Grouper(key='date', freq='1M')).sum()\n",
    "    # create new feature matrix X with monthly data points\n",
    "    X = df_X.to_numpy()\n",
    "    assert X.shape == (55,4), f'for {city} matrix shape: {X.shape} not equal to (55,4)'\n",
    "    # Add new features: the one month change in the pollutant concentration\n",
    "    # This will result in one less row for the overall feature data matrix\n",
    "    X_delta = X[1:,:] - X[:54,:]\n",
    "    # combine new difference features with original features\n",
    "    X_e = np.hstack((X[1:,:], X_delta))\n",
    "    assert X_e.shape == (54,8), f'for {city} matrix shape: {X_e.shape} not equal to (54,8)'\n",
    "    # create response, y - monthly unemployment data\n",
    "    y = df_unempl_rate.filter(like=city, axis=1).to_numpy().flatten()\n",
    "    # remove 1st data point of y to be compatible with X_e containing the difference features\n",
    "    y_e = y[1:]\n",
    "    # Set up hyperparameter optimization using mse from predictions for validation set\n",
    "    # max_depth (maximum depth of the tree) values\n",
    "    md_list = [5,6,7,8,9]\n",
    "    # min_samples_leaf (the minimum number of samples to be a leaf node) values\n",
    "    msl_list = [1,2,3,4,5]\n",
    "    # find optimal hyperparameter for random forest with grid search\n",
    "    md, msl = rf_hyperparam_grid_search(X=X_e,\n",
    "                                        y=y_e,\n",
    "                                        md_list=[5,6,7,8,9],\n",
    "                                        msl_list=[1,2,3,4,5],\n",
    "                                        number_of_iterations=20)\n",
    "    hyperparameter_arr[ii] = np.array([md, msl])\n",
    "    # create 10 random forest models for the city (since sample size is small)\n",
    "    # and store them in a list (\"city_model_list\")\n",
    "    rf_list = []\n",
    "    for random_number in range(10):\n",
    "        rf = RandomForestRegressor(max_depth=md,\n",
    "                                   random_state=random_number,\n",
    "                                   max_features='sqrt',\n",
    "                                   min_samples_leaf=msl,\n",
    "                                   oob_score=True).fit(X_e, y_e)\n",
    "        rf_list.append(rf)\n",
    "\n",
    "    city_model_list.append(rf_list)"
   ]
  },
  {
   "cell_type": "code",
   "execution_count": 17,
   "metadata": {},
   "outputs": [],
   "source": [
    "os.chdir('..')\n",
    "os.chdir('..')"
   ]
  },
  {
   "cell_type": "code",
   "execution_count": 18,
   "metadata": {},
   "outputs": [],
   "source": [
    "city_series = pd.Series(city_list, name='city')"
   ]
  },
  {
   "cell_type": "code",
   "execution_count": 19,
   "metadata": {},
   "outputs": [],
   "source": [
    "# export the percent of nonzero values in data matrix after applying rectifier function for each city's data\n",
    "df_percentage = pd.DataFrame(pd.Series(percent_nonzero_after_threshold, name='percentage'))\n",
    "df_percentage.insert(loc=0, column='city', value=city_series)\n",
    "df_percentage.to_csv('percent_nonzero_after_rectifier.csv', encoding='utf-8', index=False)"
   ]
  },
  {
   "cell_type": "code",
   "execution_count": 20,
   "metadata": {},
   "outputs": [],
   "source": [
    "# export the random forest optimal hyperparameter used for the models for each city\n",
    "df_hyper = pd.DataFrame(hyperparameter_arr, columns=['max_depth', 'min_samples_leaf'])\n",
    "df_hyper.insert(loc=0, column='city', value=city_series)\n",
    "df_hyper.to_csv('random_forest_hyperparameters.csv', encoding='utf-8', index=False)"
   ]
  },
  {
   "cell_type": "code",
   "execution_count": 21,
   "metadata": {},
   "outputs": [],
   "source": [
    "# export oob score for each city, 10 models per city\n",
    "oob_score_array = np.zeros((51,10))\n",
    "for ii, city_model in enumerate(city_model_list):\n",
    "    for jj, rf_model in enumerate(city_model):\n",
    "        oob_score_array[ii,jj] = rf_model.oob_score_\n",
    "        \n",
    "df_oob = pd.DataFrame(oob_score_array)\n",
    "df_oob.insert(loc=0, column='city', value=city_series)\n",
    "df_oob.to_csv('random_forest_oob_scores.csv', encoding='utf-8', index=False)"
   ]
  },
  {
   "cell_type": "code",
   "execution_count": 22,
   "metadata": {},
   "outputs": [],
   "source": [
    "def consolidate_feature_importance(rf_model_list):\n",
    "    \"\"\"\n",
    "       rf_model_list: a list of random forest models\n",
    "       returns the percentage importance of the features averaged\n",
    "       over 10 runs with different random number seeds and returns the standard\n",
    "       deviation of the feature importances\n",
    "    \"\"\"\n",
    "    importance_matrix = np.zeros((10,8))\n",
    "    for ii, model in enumerate(rf_model_list):\n",
    "        importance_matrix[ii] = (model.feature_importances_ / np.max(model.feature_importances_))*100\n",
    "    return (np.mean(importance_matrix, axis=0), np.std(importance_matrix, axis=0))"
   ]
  },
  {
   "cell_type": "code",
   "execution_count": 23,
   "metadata": {},
   "outputs": [],
   "source": [
    "# create an array with all the averaged feature importances for each city\n",
    "# and and array with all the standard deviations of the feature importances for city\n",
    "importance_arr = np.zeros((len(city_list), 8))\n",
    "importance_std_dev_arr = np.zeros((len(city_list), 8))\n",
    "for ii, city_models in enumerate(city_model_list):\n",
    "    importance_arr[[ii]] = consolidate_feature_importance(city_models)[0]\n",
    "    importance_std_dev_arr[ii] = consolidate_feature_importance(city_models)[1]"
   ]
  },
  {
   "cell_type": "code",
   "execution_count": 24,
   "metadata": {},
   "outputs": [],
   "source": [
    "# create dataframes for importance arrays and export\n",
    "df_importance = pd.DataFrame(importance_arr,\n",
    "                             columns=['NO2','SO2','PM2_5','CO','delta_NO2','delta_SO2','delta_PM2_5','delta_CO'])\n",
    "df_importance.insert(loc=0, column='city', value=city_series)\n",
    "\n",
    "df_importance_std_dev = pd.DataFrame(importance_std_dev_arr,\n",
    "                             columns=['NO2','SO2','PM2_5','CO','delta_NO2','delta_SO2','delta_PM2_5','delta_CO'])\n",
    "df_importance_std_dev.insert(loc=0, column='city', value=city_series)\n",
    "\n",
    "df_importance.to_csv('random_forest_importance.csv', encoding='utf-8', index=False)\n",
    "df_importance_std_dev.to_csv('random_forest_std_dev_importance.csv', encoding='utf-8', index=False)"
   ]
  },
  {
   "cell_type": "code",
   "execution_count": 25,
   "metadata": {},
   "outputs": [],
   "source": [
    "# investigate Dehradun as a city to test the model from Chandigarh\n",
    "df = pd.read_csv('air_quality_macrox/unemployment_IN/unemployment_IN_Dehradun.csv')\n",
    "# change type of 'Date' column to datetime\n",
    "df['Date'] = pd.to_datetime(df['Date'])\n",
    "# keep data only 2018 and after\n",
    "df = df[df['Date'] >= '2018-01-01']\n",
    "# pull out \"Unemployment\" column as series and rename with the city\n",
    "unemployment_series = df.filter(like='Unemployment', axis=1).iloc[:,0].rename(f'rate_Dehradun')\n",
    "y_dehradun = np.array(unemployment_series)"
   ]
  },
  {
   "cell_type": "code",
   "execution_count": 26,
   "metadata": {},
   "outputs": [
    {
     "name": "stdout",
     "output_type": "stream",
     "text": [
      "nonzero entry proportion: 0.22524009603841535\n",
      "(54, 8)\n",
      "(53, 8)\n"
     ]
    }
   ],
   "source": [
    "# process Dehradun data the same way as other cities to create feature matrix\n",
    "# create X (feature matrix)\n",
    "X = np.hstack((df_no2.filter(like='Dehradun', axis=1).to_numpy(),\n",
    "               df_so2.filter(like='Dehradun', axis=1).to_numpy(),\n",
    "               df_pm.filter(like= 'Dehradun', axis=1).to_numpy(),\n",
    "               df_co.filter(like= 'Dehradun', axis=1).to_numpy()))\n",
    "# apply thresholds to each column of feature matrix X\n",
    "X[:,0][X[:,0] < threshold_no2] = 0.0\n",
    "X[:,1][X[:,1] < threshold_so2] = 0.0\n",
    "X[:,2][X[:,2] < threshold_pm] = 0.0\n",
    "X[:,3][X[:,3] < threshold_co] = 0.0\n",
    "# scale all elements to units of corresponding thresholds\n",
    "# therefore divide each column by its threshold\n",
    "# note: zero elements should remain zero\n",
    "X[:,0] = X[:,0] / threshold_no2\n",
    "X[:,1] = X[:,1] / threshold_so2\n",
    "X[:,2] = X[:,2] / threshold_pm\n",
    "X[:,3] = X[:,3] / threshold_co\n",
    "# record proportion of non-zero entries after applying threshold\n",
    "print(f'nonzero entry proportion: {np.count_nonzero(X)/(X.shape[0] * X.shape[1])}')\n",
    "# Make X into dataframe so that pandas groupby can be used\n",
    "df_X = pd.DataFrame(X)\n",
    "# insert the date so that it can be a key used for Grouper\n",
    "df_X.insert(0,'date',pollutant_dates)\n",
    "# for each month, sum up the over threshold days scaled by\n",
    "# the thresholds themselves. If the threshold is 80 and an entry\n",
    "# is 120, that days entry will be 1.5\n",
    "df_X = df_X.groupby(pd.Grouper(key='date', freq='1M')).sum()\n",
    "# create new feature matrix X with monthly data points\n",
    "X = df_X.to_numpy()\n",
    "assert X.shape == (55,4), f'for Dehradun matrix shape: {X.shape} not equal to (55,4)'\n",
    "# Add new features: the one month change in the pollutant concentration\n",
    "# This will result in one less row for the overall feature data matrix\n",
    "X_delta = X[1:,:] - X[:54,:]\n",
    "# combine new difference features with original features\n",
    "X_e = np.hstack((X[1:,:], X_delta))\n",
    "print(X_e.shape)\n",
    "# remove last row to be compatable with Dehradun missing July 2022 data point\n",
    "X_e = X_e[:-1]\n",
    "print(X_e.shape)"
   ]
  },
  {
   "cell_type": "code",
   "execution_count": 27,
   "metadata": {},
   "outputs": [
    {
     "data": {
      "text/plain": [
       "'Chandigarh'"
      ]
     },
     "execution_count": 27,
     "metadata": {},
     "output_type": "execute_result"
    }
   ],
   "source": [
    "city_list[11]"
   ]
  },
  {
   "cell_type": "code",
   "execution_count": 28,
   "metadata": {},
   "outputs": [
    {
     "data": {
      "text/plain": [
       "RandomForestRegressor(max_depth=6, max_features='sqrt', min_samples_leaf=2,\n",
       "                      oob_score=True, random_state=0)"
      ]
     },
     "execution_count": 28,
     "metadata": {},
     "output_type": "execute_result"
    }
   ],
   "source": [
    "city_model_list[11][0]"
   ]
  },
  {
   "cell_type": "code",
   "execution_count": 29,
   "metadata": {},
   "outputs": [
    {
     "data": {
      "text/plain": [
       "array([ 7.97676095,  8.99600466,  8.44769097,  8.97013077,  8.92983711,\n",
       "        8.73833327,  8.97221703,  8.93306109,  9.94555004,  7.89414515,\n",
       "        9.0671894 ,  9.05469485,  7.81772398,  9.9395387 ,  8.30150197,\n",
       "        9.05940806,  8.51540404,  8.72733668,  9.09332034,  8.7975227 ,\n",
       "        9.06123806,  8.91056534,  9.098849  ,  9.05469485,  7.82720044,\n",
       "        9.06123806,  8.50936654,  8.93886452,  8.73833327,  8.80521309,\n",
       "        8.87497799,  8.83354772,  9.095921  ,  7.73819925,  9.62302842,\n",
       "        8.56022654,  9.53920644,  7.54921087,  7.40560849,  9.27860503,\n",
       "        9.63049331,  7.40560849,  9.12652307,  7.72659489,  9.29173279,\n",
       "        9.59160137,  7.47507869, 10.94736574,  8.5459429 , 10.07856358,\n",
       "        7.47123388,  9.95557922,  7.86648765])"
      ]
     },
     "execution_count": 29,
     "metadata": {},
     "output_type": "execute_result"
    }
   ],
   "source": [
    "# make predictions for unemployment rate for Dehradun using 10 models trained on\n",
    "# Chandigarh data\n",
    "Deh_predictions_arr = np.zeros((10,53))\n",
    "for ii, model in enumerate(city_model_list[11]):\n",
    "    Deh_predictions_arr[ii] = model.predict(X_e)\n",
    "np.mean(Deh_predictions_arr, axis=0)"
   ]
  },
  {
   "cell_type": "code",
   "execution_count": 30,
   "metadata": {},
   "outputs": [],
   "source": [
    "series_Deh = pd.Series(y_dehradun[1:], name='rate')\n",
    "series_Deh_pred = pd.Series(np.mean(Deh_predictions_arr, axis=0), name='predicted_rate')\n",
    "date_Deh = df['Date'].iloc[1:].reset_index(drop=True)"
   ]
  },
  {
   "cell_type": "code",
   "execution_count": 31,
   "metadata": {},
   "outputs": [],
   "source": [
    "df_Deh_pred = pd.concat([date_Deh, series_Deh, series_Deh_pred], axis=1)"
   ]
  },
  {
   "cell_type": "code",
   "execution_count": 32,
   "metadata": {},
   "outputs": [],
   "source": [
    "df_Deh_pred.to_csv('Dehradun_rate_predictions.csv', encoding='utf-8', index=False)"
   ]
  },
  {
   "cell_type": "code",
   "execution_count": 33,
   "metadata": {},
   "outputs": [
    {
     "data": {
      "image/png": "[encoded data removed]",
      "text/plain": [
       "<Figure size 432x288 with 1 Axes>"
      ]
     },
     "metadata": {
      "needs_background": "light"
     },
     "output_type": "display_data"
    }
   ],
   "source": [
    "df_Deh_pred.set_index('Date').plot();"
   ]
  },
  {
   "cell_type": "code",
   "execution_count": 34,
   "metadata": {},
   "outputs": [
    {
     "data": {
      "text/plain": [
       "array([0.31216082, 0.32793324, 0.3231877 , 0.31231714, 0.26876222,\n",
       "       0.3046192 , 0.31632739, 0.29417863, 0.30728015, 0.24506836])"
      ]
     },
     "execution_count": 34,
     "metadata": {},
     "output_type": "execute_result"
    }
   ],
   "source": [
    "df_oob.iloc[:,1:].to_numpy().max(axis=0)"
   ]
  },
  {
   "cell_type": "code",
   "execution_count": null,
   "metadata": {},
   "outputs": [],
   "source": []
  }
 ],
 "metadata": {
  "kernelspec": {
   "display_name": "Python 3",
   "language": "python",
   "name": "python3"
  },
  "language_info": {
   "codemirror_mode": {
    "name": "ipython",
    "version": 3
   },
   "file_extension": ".py",
   "mimetype": "text/x-python",
   "name": "python",
   "nbconvert_exporter": "python",
   "pygments_lexer": "ipython3",
   "version": "3.8.5"
  }
 },
 "nbformat": 4,
 "nbformat_minor": 4
}
